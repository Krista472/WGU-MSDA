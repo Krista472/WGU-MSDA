{
 "cells": [
  {
   "cell_type": "markdown",
   "id": "48a87510-4f36-41d1-b172-6eab70efa187",
   "metadata": {},
   "source": [
    "D209 - Data Mining - Task 1 By Krista Moik"
   ]
  },
  {
   "cell_type": "code",
   "execution_count": 222,
   "id": "44fdb320-6071-48de-b0fb-13a221fb707a",
   "metadata": {},
   "outputs": [],
   "source": [
    "#import packages\n",
    "import pandas as pd\n",
    "import numpy as np\n",
    "import matplotlib.pyplot as plt\n",
    "import seaborn as sns\n",
    "from sklearn.feature_selection import SelectKBest, f_regression, f_classif\n",
    "from sklearn.model_selection import train_test_split\n",
    "from sklearn.model_selection import GridSearchCV\n",
    "from statsmodels.stats.outliers_influence import variance_inflation_factor\n",
    "from sklearn.metrics import confusion_matrix\n",
    "from sklearn.preprocessing import OneHotEncoder\n",
    "from sklearn.metrics import roc_auc_score\n",
    "from sklearn.metrics import roc_curve\n",
    "from sklearn.metrics import classification_report\n",
    "from sklearn import preprocessing\n",
    "from sklearn.neighbors import KNeighborsClassifier\n",
    "from sklearn.linear_model import LogisticRegression"
   ]
  },
  {
   "cell_type": "code",
   "execution_count": 223,
   "id": "0962faf9-3f1a-4b6e-8f8c-eb51da80392e",
   "metadata": {},
   "outputs": [],
   "source": [
    "#Load medical_clean CSV\n",
    "df_209=pd.read_csv('C:/Users/Kmoik WGU/Desktop/D209/medical_clean.csv')"
   ]
  },
  {
   "cell_type": "code",
   "execution_count": 224,
   "id": "1656c8d2-2903-473d-b177-a844d827ebd6",
   "metadata": {},
   "outputs": [
    {
     "data": {
      "text/html": [
       "<div>\n",
       "<style scoped>\n",
       "    .dataframe tbody tr th:only-of-type {\n",
       "        vertical-align: middle;\n",
       "    }\n",
       "\n",
       "    .dataframe tbody tr th {\n",
       "        vertical-align: top;\n",
       "    }\n",
       "\n",
       "    .dataframe thead th {\n",
       "        text-align: right;\n",
       "    }\n",
       "</style>\n",
       "<table border=\"1\" class=\"dataframe\">\n",
       "  <thead>\n",
       "    <tr style=\"text-align: right;\">\n",
       "      <th></th>\n",
       "      <th>CaseOrder</th>\n",
       "      <th>Customer_id</th>\n",
       "      <th>Interaction</th>\n",
       "      <th>UID</th>\n",
       "      <th>City</th>\n",
       "      <th>State</th>\n",
       "      <th>County</th>\n",
       "      <th>Zip</th>\n",
       "      <th>Lat</th>\n",
       "      <th>Lng</th>\n",
       "      <th>...</th>\n",
       "      <th>TotalCharge</th>\n",
       "      <th>Additional_charges</th>\n",
       "      <th>Item1</th>\n",
       "      <th>Item2</th>\n",
       "      <th>Item3</th>\n",
       "      <th>Item4</th>\n",
       "      <th>Item5</th>\n",
       "      <th>Item6</th>\n",
       "      <th>Item7</th>\n",
       "      <th>Item8</th>\n",
       "    </tr>\n",
       "  </thead>\n",
       "  <tbody>\n",
       "    <tr>\n",
       "      <th>0</th>\n",
       "      <td>1</td>\n",
       "      <td>C412403</td>\n",
       "      <td>8cd49b13-f45a-4b47-a2bd-173ffa932c2f</td>\n",
       "      <td>3a83ddb66e2ae73798bdf1d705dc0932</td>\n",
       "      <td>Eva</td>\n",
       "      <td>AL</td>\n",
       "      <td>Morgan</td>\n",
       "      <td>35621</td>\n",
       "      <td>34.34960</td>\n",
       "      <td>-86.72508</td>\n",
       "      <td>...</td>\n",
       "      <td>3726.702860</td>\n",
       "      <td>17939.403420</td>\n",
       "      <td>3</td>\n",
       "      <td>3</td>\n",
       "      <td>2</td>\n",
       "      <td>2</td>\n",
       "      <td>4</td>\n",
       "      <td>3</td>\n",
       "      <td>3</td>\n",
       "      <td>4</td>\n",
       "    </tr>\n",
       "    <tr>\n",
       "      <th>1</th>\n",
       "      <td>2</td>\n",
       "      <td>Z919181</td>\n",
       "      <td>d2450b70-0337-4406-bdbb-bc1037f1734c</td>\n",
       "      <td>176354c5eef714957d486009feabf195</td>\n",
       "      <td>Marianna</td>\n",
       "      <td>FL</td>\n",
       "      <td>Jackson</td>\n",
       "      <td>32446</td>\n",
       "      <td>30.84513</td>\n",
       "      <td>-85.22907</td>\n",
       "      <td>...</td>\n",
       "      <td>4193.190458</td>\n",
       "      <td>17612.998120</td>\n",
       "      <td>3</td>\n",
       "      <td>4</td>\n",
       "      <td>3</td>\n",
       "      <td>4</td>\n",
       "      <td>4</td>\n",
       "      <td>4</td>\n",
       "      <td>3</td>\n",
       "      <td>3</td>\n",
       "    </tr>\n",
       "    <tr>\n",
       "      <th>2</th>\n",
       "      <td>3</td>\n",
       "      <td>F995323</td>\n",
       "      <td>a2057123-abf5-4a2c-abad-8ffe33512562</td>\n",
       "      <td>e19a0fa00aeda885b8a436757e889bc9</td>\n",
       "      <td>Sioux Falls</td>\n",
       "      <td>SD</td>\n",
       "      <td>Minnehaha</td>\n",
       "      <td>57110</td>\n",
       "      <td>43.54321</td>\n",
       "      <td>-96.63772</td>\n",
       "      <td>...</td>\n",
       "      <td>2434.234222</td>\n",
       "      <td>17505.192460</td>\n",
       "      <td>2</td>\n",
       "      <td>4</td>\n",
       "      <td>4</td>\n",
       "      <td>4</td>\n",
       "      <td>3</td>\n",
       "      <td>4</td>\n",
       "      <td>3</td>\n",
       "      <td>3</td>\n",
       "    </tr>\n",
       "    <tr>\n",
       "      <th>3</th>\n",
       "      <td>4</td>\n",
       "      <td>A879973</td>\n",
       "      <td>1dec528d-eb34-4079-adce-0d7a40e82205</td>\n",
       "      <td>cd17d7b6d152cb6f23957346d11c3f07</td>\n",
       "      <td>New Richland</td>\n",
       "      <td>MN</td>\n",
       "      <td>Waseca</td>\n",
       "      <td>56072</td>\n",
       "      <td>43.89744</td>\n",
       "      <td>-93.51479</td>\n",
       "      <td>...</td>\n",
       "      <td>2127.830423</td>\n",
       "      <td>12993.437350</td>\n",
       "      <td>3</td>\n",
       "      <td>5</td>\n",
       "      <td>5</td>\n",
       "      <td>3</td>\n",
       "      <td>4</td>\n",
       "      <td>5</td>\n",
       "      <td>5</td>\n",
       "      <td>5</td>\n",
       "    </tr>\n",
       "    <tr>\n",
       "      <th>4</th>\n",
       "      <td>5</td>\n",
       "      <td>C544523</td>\n",
       "      <td>5885f56b-d6da-43a3-8760-83583af94266</td>\n",
       "      <td>d2f0425877b10ed6bb381f3e2579424a</td>\n",
       "      <td>West Point</td>\n",
       "      <td>VA</td>\n",
       "      <td>King William</td>\n",
       "      <td>23181</td>\n",
       "      <td>37.59894</td>\n",
       "      <td>-76.88958</td>\n",
       "      <td>...</td>\n",
       "      <td>2113.073274</td>\n",
       "      <td>3716.525786</td>\n",
       "      <td>2</td>\n",
       "      <td>1</td>\n",
       "      <td>3</td>\n",
       "      <td>3</td>\n",
       "      <td>5</td>\n",
       "      <td>3</td>\n",
       "      <td>4</td>\n",
       "      <td>3</td>\n",
       "    </tr>\n",
       "  </tbody>\n",
       "</table>\n",
       "<p>5 rows × 50 columns</p>\n",
       "</div>"
      ],
      "text/plain": [
       "   CaseOrder Customer_id                           Interaction  \\\n",
       "0          1     C412403  8cd49b13-f45a-4b47-a2bd-173ffa932c2f   \n",
       "1          2     Z919181  d2450b70-0337-4406-bdbb-bc1037f1734c   \n",
       "2          3     F995323  a2057123-abf5-4a2c-abad-8ffe33512562   \n",
       "3          4     A879973  1dec528d-eb34-4079-adce-0d7a40e82205   \n",
       "4          5     C544523  5885f56b-d6da-43a3-8760-83583af94266   \n",
       "\n",
       "                                UID          City State        County    Zip  \\\n",
       "0  3a83ddb66e2ae73798bdf1d705dc0932           Eva    AL        Morgan  35621   \n",
       "1  176354c5eef714957d486009feabf195      Marianna    FL       Jackson  32446   \n",
       "2  e19a0fa00aeda885b8a436757e889bc9   Sioux Falls    SD     Minnehaha  57110   \n",
       "3  cd17d7b6d152cb6f23957346d11c3f07  New Richland    MN        Waseca  56072   \n",
       "4  d2f0425877b10ed6bb381f3e2579424a    West Point    VA  King William  23181   \n",
       "\n",
       "        Lat       Lng  ...  TotalCharge Additional_charges Item1 Item2  Item3  \\\n",
       "0  34.34960 -86.72508  ...  3726.702860       17939.403420     3     3      2   \n",
       "1  30.84513 -85.22907  ...  4193.190458       17612.998120     3     4      3   \n",
       "2  43.54321 -96.63772  ...  2434.234222       17505.192460     2     4      4   \n",
       "3  43.89744 -93.51479  ...  2127.830423       12993.437350     3     5      5   \n",
       "4  37.59894 -76.88958  ...  2113.073274        3716.525786     2     1      3   \n",
       "\n",
       "   Item4  Item5 Item6 Item7 Item8  \n",
       "0      2      4     3     3     4  \n",
       "1      4      4     4     3     3  \n",
       "2      4      3     4     3     3  \n",
       "3      3      4     5     5     5  \n",
       "4      3      5     3     4     3  \n",
       "\n",
       "[5 rows x 50 columns]"
      ]
     },
     "execution_count": 224,
     "metadata": {},
     "output_type": "execute_result"
    }
   ],
   "source": [
    "#view head\n",
    "df_209.head()"
   ]
  },
  {
   "cell_type": "code",
   "execution_count": 225,
   "id": "67188688-03e1-415e-a2bd-c7599305c42b",
   "metadata": {},
   "outputs": [
    {
     "name": "stdout",
     "output_type": "stream",
     "text": [
      "<class 'pandas.core.frame.DataFrame'>\n",
      "RangeIndex: 10000 entries, 0 to 9999\n",
      "Data columns (total 50 columns):\n",
      " #   Column              Non-Null Count  Dtype  \n",
      "---  ------              --------------  -----  \n",
      " 0   CaseOrder           10000 non-null  int64  \n",
      " 1   Customer_id         10000 non-null  object \n",
      " 2   Interaction         10000 non-null  object \n",
      " 3   UID                 10000 non-null  object \n",
      " 4   City                10000 non-null  object \n",
      " 5   State               10000 non-null  object \n",
      " 6   County              10000 non-null  object \n",
      " 7   Zip                 10000 non-null  int64  \n",
      " 8   Lat                 10000 non-null  float64\n",
      " 9   Lng                 10000 non-null  float64\n",
      " 10  Population          10000 non-null  int64  \n",
      " 11  Area                10000 non-null  object \n",
      " 12  TimeZone            10000 non-null  object \n",
      " 13  Job                 10000 non-null  object \n",
      " 14  Children            10000 non-null  int64  \n",
      " 15  Age                 10000 non-null  int64  \n",
      " 16  Income              10000 non-null  float64\n",
      " 17  Marital             10000 non-null  object \n",
      " 18  Gender              10000 non-null  object \n",
      " 19  ReAdmis             10000 non-null  object \n",
      " 20  VitD_levels         10000 non-null  float64\n",
      " 21  Doc_visits          10000 non-null  int64  \n",
      " 22  Full_meals_eaten    10000 non-null  int64  \n",
      " 23  vitD_supp           10000 non-null  int64  \n",
      " 24  Soft_drink          10000 non-null  object \n",
      " 25  Initial_admin       10000 non-null  object \n",
      " 26  HighBlood           10000 non-null  object \n",
      " 27  Stroke              10000 non-null  object \n",
      " 28  Complication_risk   10000 non-null  object \n",
      " 29  Overweight          10000 non-null  object \n",
      " 30  Arthritis           10000 non-null  object \n",
      " 31  Diabetes            10000 non-null  object \n",
      " 32  Hyperlipidemia      10000 non-null  object \n",
      " 33  BackPain            10000 non-null  object \n",
      " 34  Anxiety             10000 non-null  object \n",
      " 35  Allergic_rhinitis   10000 non-null  object \n",
      " 36  Reflux_esophagitis  10000 non-null  object \n",
      " 37  Asthma              10000 non-null  object \n",
      " 38  Services            10000 non-null  object \n",
      " 39  Initial_days        10000 non-null  float64\n",
      " 40  TotalCharge         10000 non-null  float64\n",
      " 41  Additional_charges  10000 non-null  float64\n",
      " 42  Item1               10000 non-null  int64  \n",
      " 43  Item2               10000 non-null  int64  \n",
      " 44  Item3               10000 non-null  int64  \n",
      " 45  Item4               10000 non-null  int64  \n",
      " 46  Item5               10000 non-null  int64  \n",
      " 47  Item6               10000 non-null  int64  \n",
      " 48  Item7               10000 non-null  int64  \n",
      " 49  Item8               10000 non-null  int64  \n",
      "dtypes: float64(7), int64(16), object(27)\n",
      "memory usage: 3.8+ MB\n"
     ]
    }
   ],
   "source": [
    "#View data set\n",
    "df_209.info()"
   ]
  },
  {
   "cell_type": "markdown",
   "id": "72aa377a-270f-4bb2-a009-8af6d0ddbf1f",
   "metadata": {},
   "source": [
    "Cleaning the data"
   ]
  },
  {
   "cell_type": "code",
   "execution_count": 226,
   "id": "90bfb092-80d4-4b63-ac6f-e225d8cdf5cb",
   "metadata": {},
   "outputs": [
    {
     "name": "stdout",
     "output_type": "stream",
     "text": [
      "False    10000\n",
      "Name: count, dtype: int64\n"
     ]
    }
   ],
   "source": [
    "#check for duplicates\n",
    "print(df_209.duplicated().value_counts())"
   ]
  },
  {
   "cell_type": "markdown",
   "id": "29492acb-20a0-47cb-b7a7-e264e95d760e",
   "metadata": {},
   "source": [
    "Confirmed no duplicates"
   ]
  },
  {
   "cell_type": "code",
   "execution_count": 227,
   "id": "5f49374f-9845-4845-92da-9642c3d65629",
   "metadata": {},
   "outputs": [
    {
     "data": {
      "text/plain": [
       "CaseOrder             0\n",
       "Customer_id           0\n",
       "Interaction           0\n",
       "UID                   0\n",
       "City                  0\n",
       "State                 0\n",
       "County                0\n",
       "Zip                   0\n",
       "Lat                   0\n",
       "Lng                   0\n",
       "Population            0\n",
       "Area                  0\n",
       "TimeZone              0\n",
       "Job                   0\n",
       "Children              0\n",
       "Age                   0\n",
       "Income                0\n",
       "Marital               0\n",
       "Gender                0\n",
       "ReAdmis               0\n",
       "VitD_levels           0\n",
       "Doc_visits            0\n",
       "Full_meals_eaten      0\n",
       "vitD_supp             0\n",
       "Soft_drink            0\n",
       "Initial_admin         0\n",
       "HighBlood             0\n",
       "Stroke                0\n",
       "Complication_risk     0\n",
       "Overweight            0\n",
       "Arthritis             0\n",
       "Diabetes              0\n",
       "Hyperlipidemia        0\n",
       "BackPain              0\n",
       "Anxiety               0\n",
       "Allergic_rhinitis     0\n",
       "Reflux_esophagitis    0\n",
       "Asthma                0\n",
       "Services              0\n",
       "Initial_days          0\n",
       "TotalCharge           0\n",
       "Additional_charges    0\n",
       "Item1                 0\n",
       "Item2                 0\n",
       "Item3                 0\n",
       "Item4                 0\n",
       "Item5                 0\n",
       "Item6                 0\n",
       "Item7                 0\n",
       "Item8                 0\n",
       "dtype: int64"
      ]
     },
     "execution_count": 227,
     "metadata": {},
     "output_type": "execute_result"
    }
   ],
   "source": [
    "#check for null values - even though view of data indicates no nulls\n",
    "df_209.isnull().sum()"
   ]
  },
  {
   "cell_type": "markdown",
   "id": "6ed1768b-f007-4f62-9400-c3a40230eb07",
   "metadata": {},
   "source": [
    "confirmed no nulls"
   ]
  },
  {
   "cell_type": "code",
   "execution_count": 228,
   "id": "3533893b-d9ca-4c45-920f-392934ffe840",
   "metadata": {},
   "outputs": [],
   "source": [
    "df_209.drop(columns=['CaseOrder', 'Customer_id', 'Interaction', 'UID', 'City', 'State', 'County', 'Zip', 'TimeZone', 'Lat', 'Lng', 'Population', 'Item1', 'Item2', 'Item3', 'Item4', 'Item5', 'Item6', 'Item7', 'Item8', 'Job'], axis=1, inplace=True)"
   ]
  },
  {
   "cell_type": "code",
   "execution_count": 229,
   "id": "12435b1d-c4cc-433c-b899-6485b490d2d2",
   "metadata": {},
   "outputs": [
    {
     "name": "stdout",
     "output_type": "stream",
     "text": [
      "<class 'pandas.core.frame.DataFrame'>\n",
      "RangeIndex: 10000 entries, 0 to 9999\n",
      "Data columns (total 29 columns):\n",
      " #   Column              Non-Null Count  Dtype  \n",
      "---  ------              --------------  -----  \n",
      " 0   Area                10000 non-null  object \n",
      " 1   Children            10000 non-null  int64  \n",
      " 2   Age                 10000 non-null  int64  \n",
      " 3   Income              10000 non-null  float64\n",
      " 4   Marital             10000 non-null  object \n",
      " 5   Gender              10000 non-null  object \n",
      " 6   ReAdmis             10000 non-null  object \n",
      " 7   VitD_levels         10000 non-null  float64\n",
      " 8   Doc_visits          10000 non-null  int64  \n",
      " 9   Full_meals_eaten    10000 non-null  int64  \n",
      " 10  vitD_supp           10000 non-null  int64  \n",
      " 11  Soft_drink          10000 non-null  object \n",
      " 12  Initial_admin       10000 non-null  object \n",
      " 13  HighBlood           10000 non-null  object \n",
      " 14  Stroke              10000 non-null  object \n",
      " 15  Complication_risk   10000 non-null  object \n",
      " 16  Overweight          10000 non-null  object \n",
      " 17  Arthritis           10000 non-null  object \n",
      " 18  Diabetes            10000 non-null  object \n",
      " 19  Hyperlipidemia      10000 non-null  object \n",
      " 20  BackPain            10000 non-null  object \n",
      " 21  Anxiety             10000 non-null  object \n",
      " 22  Allergic_rhinitis   10000 non-null  object \n",
      " 23  Reflux_esophagitis  10000 non-null  object \n",
      " 24  Asthma              10000 non-null  object \n",
      " 25  Services            10000 non-null  object \n",
      " 26  Initial_days        10000 non-null  float64\n",
      " 27  TotalCharge         10000 non-null  float64\n",
      " 28  Additional_charges  10000 non-null  float64\n",
      "dtypes: float64(5), int64(5), object(19)\n",
      "memory usage: 2.2+ MB\n"
     ]
    }
   ],
   "source": [
    "df_209.info()"
   ]
  },
  {
   "cell_type": "markdown",
   "id": "f60ffee3-9b7b-427a-8406-8f65a5721060",
   "metadata": {},
   "source": [
    "Will view statistics of dependent variable ReAdmis and plot numeric variables"
   ]
  },
  {
   "cell_type": "code",
   "execution_count": 230,
   "id": "377e8b00-f98e-457a-8c01-f0a814722b46",
   "metadata": {},
   "outputs": [
    {
     "data": {
      "text/plain": [
       "ReAdmis\n",
       "No     6331\n",
       "Yes    3669\n",
       "Name: count, dtype: int64"
      ]
     },
     "execution_count": 230,
     "metadata": {},
     "output_type": "execute_result"
    }
   ],
   "source": [
    "df_209.ReAdmis.value_counts()"
   ]
  },
  {
   "cell_type": "code",
   "execution_count": 231,
   "id": "464be48c-2a66-488d-8396-5c04d56f08a3",
   "metadata": {},
   "outputs": [
    {
     "data": {
      "text/plain": [
       "<Axes: xlabel='Children'>"
      ]
     },
     "execution_count": 231,
     "metadata": {},
     "output_type": "execute_result"
    },
    {
     "data": {
      "image/png": "[encoded data removed]",
      "text/plain": [
       "<Figure size 640x480 with 1 Axes>"
      ]
     },
     "metadata": {},
     "output_type": "display_data"
    }
   ],
   "source": [
    "sns.boxplot(df_209, x='Children')"
   ]
  },
  {
   "cell_type": "code",
   "execution_count": 232,
   "id": "5eff37a3-6f66-4a6b-a44e-9c537928c2ab",
   "metadata": {},
   "outputs": [
    {
     "data": {
      "text/plain": [
       "count    10000.000000\n",
       "mean         2.097200\n",
       "std          2.163659\n",
       "min          0.000000\n",
       "25%          0.000000\n",
       "50%          1.000000\n",
       "75%          3.000000\n",
       "max         10.000000\n",
       "Name: Children, dtype: float64"
      ]
     },
     "execution_count": 232,
     "metadata": {},
     "output_type": "execute_result"
    }
   ],
   "source": [
    "df_209.Children.describe()"
   ]
  },
  {
   "cell_type": "code",
   "execution_count": 233,
   "id": "32ce36fb-07d4-433c-a4e8-e57f15be2684",
   "metadata": {},
   "outputs": [
    {
     "data": {
      "text/plain": [
       "<Axes: xlabel='Age'>"
      ]
     },
     "execution_count": 233,
     "metadata": {},
     "output_type": "execute_result"
    },
    {
     "data": {
      "image/png": "[encoded data removed]",
      "text/plain": [
       "<Figure size 640x480 with 1 Axes>"
      ]
     },
     "metadata": {},
     "output_type": "display_data"
    }
   ],
   "source": [
    "sns.boxplot(df_209, x='Age')"
   ]
  },
  {
   "cell_type": "code",
   "execution_count": 234,
   "id": "14e3814d-4530-4dcc-90ed-53694547e269",
   "metadata": {},
   "outputs": [
    {
     "data": {
      "text/plain": [
       "<Axes: xlabel='Income'>"
      ]
     },
     "execution_count": 234,
     "metadata": {},
     "output_type": "execute_result"
    },
    {
     "data": {
      "image/png": "[encoded data removed]",
      "text/plain": [
       "<Figure size 640x480 with 1 Axes>"
      ]
     },
     "metadata": {},
     "output_type": "display_data"
    }
   ],
   "source": [
    "sns.boxplot(df_209, x='Income')"
   ]
  },
  {
   "cell_type": "code",
   "execution_count": 235,
   "id": "afba41d3-0024-4b25-9c15-b07e4b813c77",
   "metadata": {},
   "outputs": [
    {
     "data": {
      "text/plain": [
       "count     10000.000000\n",
       "mean      40490.495160\n",
       "std       28521.153293\n",
       "min         154.080000\n",
       "25%       19598.775000\n",
       "50%       33768.420000\n",
       "75%       54296.402500\n",
       "max      207249.100000\n",
       "Name: Income, dtype: float64"
      ]
     },
     "execution_count": 235,
     "metadata": {},
     "output_type": "execute_result"
    }
   ],
   "source": [
    "df_209.Income.describe()"
   ]
  },
  {
   "cell_type": "code",
   "execution_count": 236,
   "id": "38ad9325-8d4a-4b2c-b792-00fbb0609015",
   "metadata": {},
   "outputs": [
    {
     "data": {
      "text/plain": [
       "<Axes: xlabel='VitD_levels'>"
      ]
     },
     "execution_count": 236,
     "metadata": {},
     "output_type": "execute_result"
    },
    {
     "data": {
      "image/png": "[encoded data removed]",
      "text/plain": [
       "<Figure size 640x480 with 1 Axes>"
      ]
     },
     "metadata": {},
     "output_type": "display_data"
    }
   ],
   "source": [
    "sns.boxplot(df_209, x='VitD_levels')"
   ]
  },
  {
   "cell_type": "code",
   "execution_count": 237,
   "id": "d61bb1ba-7881-4bb4-9db5-d45414c0299b",
   "metadata": {},
   "outputs": [
    {
     "data": {
      "text/plain": [
       "count    10000.000000\n",
       "mean        17.964262\n",
       "std          2.017231\n",
       "min          9.806483\n",
       "25%         16.626439\n",
       "50%         17.951122\n",
       "75%         19.347963\n",
       "max         26.394449\n",
       "Name: VitD_levels, dtype: float64"
      ]
     },
     "execution_count": 237,
     "metadata": {},
     "output_type": "execute_result"
    }
   ],
   "source": [
    "df_209.VitD_levels.describe()"
   ]
  },
  {
   "cell_type": "code",
   "execution_count": 238,
   "id": "25d16102-febe-4809-8dd9-842dd23020c9",
   "metadata": {},
   "outputs": [
    {
     "data": {
      "text/plain": [
       "<Axes: xlabel='Doc_visits'>"
      ]
     },
     "execution_count": 238,
     "metadata": {},
     "output_type": "execute_result"
    },
    {
     "data": {
      "image/png": "[encoded data removed]",
      "text/plain": [
       "<Figure size 640x480 with 1 Axes>"
      ]
     },
     "metadata": {},
     "output_type": "display_data"
    }
   ],
   "source": [
    "sns.boxplot(df_209, x='Doc_visits')"
   ]
  },
  {
   "cell_type": "code",
   "execution_count": 239,
   "id": "69abfc75-e2b6-42f5-8760-bc38b90815dd",
   "metadata": {},
   "outputs": [
    {
     "data": {
      "text/plain": [
       "<Axes: xlabel='Full_meals_eaten'>"
      ]
     },
     "execution_count": 239,
     "metadata": {},
     "output_type": "execute_result"
    },
    {
     "data": {
      "image/png": "[encoded data removed]",
      "text/plain": [
       "<Figure size 640x480 with 1 Axes>"
      ]
     },
     "metadata": {},
     "output_type": "display_data"
    }
   ],
   "source": [
    "sns.boxplot(df_209, x='Full_meals_eaten')"
   ]
  },
  {
   "cell_type": "code",
   "execution_count": 240,
   "id": "d577debb-13ec-417e-ba73-376ce82615f7",
   "metadata": {},
   "outputs": [
    {
     "data": {
      "text/plain": [
       "count    10000.000000\n",
       "mean         1.001400\n",
       "std          1.008117\n",
       "min          0.000000\n",
       "25%          0.000000\n",
       "50%          1.000000\n",
       "75%          2.000000\n",
       "max          7.000000\n",
       "Name: Full_meals_eaten, dtype: float64"
      ]
     },
     "execution_count": 240,
     "metadata": {},
     "output_type": "execute_result"
    }
   ],
   "source": [
    "df_209.Full_meals_eaten.describe()"
   ]
  },
  {
   "cell_type": "code",
   "execution_count": 241,
   "id": "f59597e6-b840-4465-b16d-9c51384d6daf",
   "metadata": {},
   "outputs": [
    {
     "data": {
      "text/plain": [
       "<Axes: xlabel='vitD_supp'>"
      ]
     },
     "execution_count": 241,
     "metadata": {},
     "output_type": "execute_result"
    },
    {
     "data": {
      "image/png": "[encoded data removed]",
      "text/plain": [
       "<Figure size 640x480 with 1 Axes>"
      ]
     },
     "metadata": {},
     "output_type": "display_data"
    }
   ],
   "source": [
    "sns.boxplot(df_209, x='vitD_supp')"
   ]
  },
  {
   "cell_type": "code",
   "execution_count": 242,
   "id": "9c8c18e7-9b6e-4a9a-9014-f63fe3d75204",
   "metadata": {},
   "outputs": [
    {
     "data": {
      "text/plain": [
       "count    10000.000000\n",
       "mean         0.398900\n",
       "std          0.628505\n",
       "min          0.000000\n",
       "25%          0.000000\n",
       "50%          0.000000\n",
       "75%          1.000000\n",
       "max          5.000000\n",
       "Name: vitD_supp, dtype: float64"
      ]
     },
     "execution_count": 242,
     "metadata": {},
     "output_type": "execute_result"
    }
   ],
   "source": [
    "df_209.vitD_supp.describe()"
   ]
  },
  {
   "cell_type": "code",
   "execution_count": 243,
   "id": "79e53b87-3aa6-4d32-a8f4-8cde3568a6ca",
   "metadata": {},
   "outputs": [
    {
     "data": {
      "text/plain": [
       "<Axes: xlabel='Initial_days'>"
      ]
     },
     "execution_count": 243,
     "metadata": {},
     "output_type": "execute_result"
    },
    {
     "data": {
      "image/png": "[encoded data removed]",
      "text/plain": [
       "<Figure size 640x480 with 1 Axes>"
      ]
     },
     "metadata": {},
     "output_type": "display_data"
    }
   ],
   "source": [
    "sns.boxplot(df_209, x='Initial_days')"
   ]
  },
  {
   "cell_type": "code",
   "execution_count": 244,
   "id": "20743017-819a-4621-92c3-e5da9a91c1d0",
   "metadata": {},
   "outputs": [
    {
     "data": {
      "text/plain": [
       "<Axes: xlabel='TotalCharge'>"
      ]
     },
     "execution_count": 244,
     "metadata": {},
     "output_type": "execute_result"
    },
    {
     "data": {
      "image/png": "[encoded data removed]",
      "text/plain": [
       "<Figure size 640x480 with 1 Axes>"
      ]
     },
     "metadata": {},
     "output_type": "display_data"
    }
   ],
   "source": [
    "sns.boxplot(df_209, x='TotalCharge')"
   ]
  },
  {
   "cell_type": "code",
   "execution_count": 245,
   "id": "99c01140-36b2-45f8-ae1d-9cf6f45a69c3",
   "metadata": {},
   "outputs": [
    {
     "data": {
      "text/plain": [
       "<Axes: xlabel='Additional_charges'>"
      ]
     },
     "execution_count": 245,
     "metadata": {},
     "output_type": "execute_result"
    },
    {
     "data": {
      "image/png": "[encoded data removed]",
      "text/plain": [
       "<Figure size 640x480 with 1 Axes>"
      ]
     },
     "metadata": {},
     "output_type": "display_data"
    }
   ],
   "source": [
    "sns.boxplot(df_209, x='Additional_charges')"
   ]
  },
  {
   "cell_type": "code",
   "execution_count": 246,
   "id": "acfc9031-58bc-4d6a-8195-f310abc83ba3",
   "metadata": {},
   "outputs": [
    {
     "data": {
      "text/plain": [
       "count    10000.000000\n",
       "mean     12934.528587\n",
       "std       6542.601544\n",
       "min       3125.703000\n",
       "25%       7986.487755\n",
       "50%      11573.977735\n",
       "75%      15626.490000\n",
       "max      30566.070000\n",
       "Name: Additional_charges, dtype: float64"
      ]
     },
     "execution_count": 246,
     "metadata": {},
     "output_type": "execute_result"
    }
   ],
   "source": [
    "df_209.Additional_charges.describe()"
   ]
  },
  {
   "cell_type": "markdown",
   "id": "ffbedcb5-f851-47fd-a48d-f333cc703014",
   "metadata": {},
   "source": [
    "Once again, I am opting to retain outliers as they appear to be reasonable and justified and will maintain the diversity and integrity of the dataset"
   ]
  },
  {
   "cell_type": "markdown",
   "id": "488aab32-f933-484e-a194-30da8009b246",
   "metadata": {},
   "source": [
    "I will now re-express my Yes/No variables to 1/0"
   ]
  },
  {
   "cell_type": "code",
   "execution_count": 247,
   "id": "dccaa502-7d86-442e-9d17-9495de45688f",
   "metadata": {},
   "outputs": [],
   "source": [
    "#re-expressing ReAdmis\n",
    "df_209['ReAdmis_numeric']=df_209['ReAdmis']"
   ]
  },
  {
   "cell_type": "code",
   "execution_count": 248,
   "id": "72136e21-151d-4128-ac59-f02941edced9",
   "metadata": {},
   "outputs": [],
   "source": [
    "#set up dictionary\n",
    "dict_readmis={'ReAdmis_numeric' : {'No':0, 'Yes':1}}"
   ]
  },
  {
   "cell_type": "code",
   "execution_count": 249,
   "id": "82b405ca-80d8-49e5-a499-350cbdfd5d19",
   "metadata": {},
   "outputs": [],
   "source": [
    "#replace variable's values\n",
    "df_209.replace(dict_readmis, inplace=True)"
   ]
  },
  {
   "cell_type": "code",
   "execution_count": 250,
   "id": "796258cb-b537-4c73-a28b-d079d796b9a3",
   "metadata": {},
   "outputs": [],
   "source": [
    "#re-expressing Soft_drink\n",
    "df_209['Soft_drink_numeric']=df_209['Soft_drink']"
   ]
  },
  {
   "cell_type": "code",
   "execution_count": 251,
   "id": "4dfd7947-dd99-44da-9138-d7f71dace3ae",
   "metadata": {},
   "outputs": [],
   "source": [
    "#set up dictionary\n",
    "dict_soft={'Soft_drink_numeric' : {'No':0, 'Yes':1}}"
   ]
  },
  {
   "cell_type": "code",
   "execution_count": 252,
   "id": "5ba355e9-ce12-4c95-887d-bce88fcd421d",
   "metadata": {},
   "outputs": [],
   "source": [
    "#replace variable's values\n",
    "df_209.replace(dict_soft, inplace=True)"
   ]
  },
  {
   "cell_type": "code",
   "execution_count": 253,
   "id": "d254a201-8df2-4c1e-ae97-04e3cf17363b",
   "metadata": {},
   "outputs": [],
   "source": [
    "#re-expressing HighBlood\n",
    "df_209['HighBlood_numeric']=df_209['HighBlood']"
   ]
  },
  {
   "cell_type": "code",
   "execution_count": 254,
   "id": "fe3edbbb-3a05-43e3-8ce1-5603ea25c694",
   "metadata": {},
   "outputs": [],
   "source": [
    "#set up dictionary\n",
    "dict_blood={'HighBlood_numeric' : {'No':0, 'Yes':1}}"
   ]
  },
  {
   "cell_type": "code",
   "execution_count": 255,
   "id": "17d2580e-4384-411b-92aa-4ce9a035afaf",
   "metadata": {},
   "outputs": [],
   "source": [
    "#replace variable's values\n",
    "df_209.replace(dict_blood, inplace=True)"
   ]
  },
  {
   "cell_type": "code",
   "execution_count": 256,
   "id": "9a66f3b6-1010-4755-ae32-a62987bf9166",
   "metadata": {},
   "outputs": [],
   "source": [
    "#re-expressing Stroke\n",
    "df_209['Stroke_numeric']=df_209['Stroke']"
   ]
  },
  {
   "cell_type": "code",
   "execution_count": 257,
   "id": "1daa0045-56c0-4c0c-9442-58ebd56f9367",
   "metadata": {},
   "outputs": [],
   "source": [
    "#set up dictionary\n",
    "dict_stroke={'Stroke_numeric' : {'No':0, 'Yes':1}}"
   ]
  },
  {
   "cell_type": "code",
   "execution_count": 258,
   "id": "452765d4-0737-4e3e-b2a4-ffa4c417aef9",
   "metadata": {},
   "outputs": [],
   "source": [
    "#replace variable's values\n",
    "df_209.replace(dict_stroke, inplace=True)"
   ]
  },
  {
   "cell_type": "code",
   "execution_count": 259,
   "id": "691aa35b-3964-446d-999f-693ef6a0376b",
   "metadata": {},
   "outputs": [],
   "source": [
    "#re-expressing Overweight\n",
    "df_209['Overweight_numeric']=df_209['Overweight']"
   ]
  },
  {
   "cell_type": "code",
   "execution_count": 260,
   "id": "6b953e09-cc16-40e2-8474-3c9791944b01",
   "metadata": {},
   "outputs": [],
   "source": [
    "#set up dictionary\n",
    "dict_weight={'Overweight_numeric' : {'No':0, 'Yes':1}}"
   ]
  },
  {
   "cell_type": "code",
   "execution_count": 261,
   "id": "95340c12-2d81-4126-9cec-647c97137518",
   "metadata": {},
   "outputs": [],
   "source": [
    "#replace variable's values\n",
    "df_209.replace(dict_weight, inplace=True)"
   ]
  },
  {
   "cell_type": "code",
   "execution_count": 262,
   "id": "84105fe4-3132-4c6e-8ef9-f666a1e1238c",
   "metadata": {},
   "outputs": [],
   "source": [
    "#re-expressing Arthritis\n",
    "df_209['Arthritis_numeric']=df_209['Arthritis']"
   ]
  },
  {
   "cell_type": "code",
   "execution_count": 263,
   "id": "30472fa6-a5ed-4a3e-91af-b620196165d2",
   "metadata": {},
   "outputs": [],
   "source": [
    "#set up dictionary\n",
    "dict_arthritis={'Arthritis_numeric' : {'No':0, 'Yes':1}}"
   ]
  },
  {
   "cell_type": "code",
   "execution_count": 264,
   "id": "c6b21265-7c53-456b-bbe4-ca1fb42dfe92",
   "metadata": {},
   "outputs": [],
   "source": [
    "#replace variable's values\n",
    "df_209.replace(dict_arthritis, inplace=True)"
   ]
  },
  {
   "cell_type": "code",
   "execution_count": 265,
   "id": "02ebd176-04b7-49da-87a4-7e1be3c2d2f5",
   "metadata": {},
   "outputs": [],
   "source": [
    "#re-expressing Diabetes\n",
    "df_209['Diabetes_numeric']=df_209['Diabetes']"
   ]
  },
  {
   "cell_type": "code",
   "execution_count": 266,
   "id": "6c016f8b-053a-40bc-adbd-fb73aec6a98f",
   "metadata": {},
   "outputs": [],
   "source": [
    "#set up dictionary\n",
    "dict_diab={'Diabetes_numeric' : {'No':0, 'Yes':1}}"
   ]
  },
  {
   "cell_type": "code",
   "execution_count": 267,
   "id": "b049a712-79bb-4909-a947-b1ea480b2865",
   "metadata": {},
   "outputs": [],
   "source": [
    "#replace variable's values\n",
    "df_209.replace(dict_diab, inplace=True)"
   ]
  },
  {
   "cell_type": "code",
   "execution_count": 268,
   "id": "3dca4b15-30ab-4ad3-994f-5b54abb5d0a9",
   "metadata": {},
   "outputs": [],
   "source": [
    "#re-expressing Hyperlipidemia\n",
    "df_209['Hyperlipidemia_numeric']=df_209['Hyperlipidemia']"
   ]
  },
  {
   "cell_type": "code",
   "execution_count": 269,
   "id": "4c11339a-ea97-4b6b-97c4-a7d7b52cc04d",
   "metadata": {},
   "outputs": [],
   "source": [
    "#set up dictionary\n",
    "dict_lip={'Hyperlipidemia_numeric' : {'No':0, 'Yes':1}}"
   ]
  },
  {
   "cell_type": "code",
   "execution_count": 270,
   "id": "f467b683-f975-418a-b9ce-100107ed557a",
   "metadata": {},
   "outputs": [],
   "source": [
    "#replace variable's values\n",
    "df_209.replace(dict_lip, inplace=True)"
   ]
  },
  {
   "cell_type": "code",
   "execution_count": 271,
   "id": "beb65679-0bf1-4043-ae8f-44997f887f6f",
   "metadata": {},
   "outputs": [],
   "source": [
    "#re-expressing BackPain\n",
    "df_209['BackPain_numeric']=df_209['BackPain']"
   ]
  },
  {
   "cell_type": "code",
   "execution_count": 272,
   "id": "cedc3e2c-9740-4686-8929-f7740c5978ef",
   "metadata": {},
   "outputs": [],
   "source": [
    "#set up dictionary\n",
    "dict_back={'BackPain_numeric' : {'No':0, 'Yes':1}}"
   ]
  },
  {
   "cell_type": "code",
   "execution_count": 273,
   "id": "b73e71bd-208f-4a3b-802f-72d132684c3e",
   "metadata": {},
   "outputs": [],
   "source": [
    "#replace variable's values\n",
    "df_209.replace(dict_back, inplace=True)"
   ]
  },
  {
   "cell_type": "code",
   "execution_count": 274,
   "id": "bf2a64b9-7c79-47db-8fa9-35d8b9518216",
   "metadata": {},
   "outputs": [],
   "source": [
    "#re-expressing Anxiety\n",
    "df_209['Anxiety_numeric']=df_209['Anxiety']"
   ]
  },
  {
   "cell_type": "code",
   "execution_count": 275,
   "id": "7a182535-48df-41c9-9b2b-8b9ac23e0def",
   "metadata": {},
   "outputs": [],
   "source": [
    "#set up dictionary\n",
    "dict_anx={'Anxiety_numeric' : {'No':0, 'Yes':1}}"
   ]
  },
  {
   "cell_type": "code",
   "execution_count": 276,
   "id": "6bbf2a81-4158-4acf-8455-65d4cd7d2af2",
   "metadata": {},
   "outputs": [],
   "source": [
    "#replace variable's values\n",
    "df_209.replace(dict_anx, inplace=True)"
   ]
  },
  {
   "cell_type": "code",
   "execution_count": 277,
   "id": "6eb4f8d0-86b5-4882-960e-9009ae04bd0b",
   "metadata": {},
   "outputs": [],
   "source": [
    "#re-expressing Allergic_rhinitis\n",
    "df_209['Allergic_rhinitis_numeric']=df_209['Allergic_rhinitis']"
   ]
  },
  {
   "cell_type": "code",
   "execution_count": 278,
   "id": "7d43312e-2a2a-46ea-8e02-310c3374f249",
   "metadata": {},
   "outputs": [],
   "source": [
    "#set up dictionary\n",
    "dict_alle={'Allergic_rhinitis_numeric' : {'No':0, 'Yes':1}}"
   ]
  },
  {
   "cell_type": "code",
   "execution_count": 279,
   "id": "9e90aa56-5622-45df-a99e-66cb7f0e6b20",
   "metadata": {},
   "outputs": [],
   "source": [
    "#replace variable's values\n",
    "df_209.replace(dict_alle, inplace=True)"
   ]
  },
  {
   "cell_type": "code",
   "execution_count": 280,
   "id": "244f664c-bf63-4206-968c-94b12ecac1cc",
   "metadata": {},
   "outputs": [],
   "source": [
    "#re-expressing Reflux_esophagitis\n",
    "df_209['Reflux_esophagitis_numeric']=df_209['Reflux_esophagitis']"
   ]
  },
  {
   "cell_type": "code",
   "execution_count": 281,
   "id": "fb61d124-5942-4fb1-9e44-a7ad5cafe29e",
   "metadata": {},
   "outputs": [],
   "source": [
    "#set up dictionary\n",
    "dict_refl={'Reflux_esophagitis_numeric' : {'No':0, 'Yes':1}}"
   ]
  },
  {
   "cell_type": "code",
   "execution_count": 282,
   "id": "167a5b63-b148-4c7a-9fa4-e7d186e3e465",
   "metadata": {},
   "outputs": [],
   "source": [
    "#replace variable's values\n",
    "df_209.replace(dict_refl, inplace=True)"
   ]
  },
  {
   "cell_type": "code",
   "execution_count": 283,
   "id": "abcfcd4d-f4ba-430a-b56e-7ce95658153c",
   "metadata": {},
   "outputs": [],
   "source": [
    "#re-expressing Asthma\n",
    "df_209['Asthma_numeric']=df_209['Asthma']"
   ]
  },
  {
   "cell_type": "code",
   "execution_count": 284,
   "id": "8bf77f98-c95a-4643-8b17-18bdd95a46e5",
   "metadata": {},
   "outputs": [],
   "source": [
    "#set up dictionary\n",
    "dict_asth={'Asthma_numeric' : {'No':0, 'Yes':1}}"
   ]
  },
  {
   "cell_type": "code",
   "execution_count": 285,
   "id": "5f684d72-da9f-4da9-a10a-8103bd46ddda",
   "metadata": {},
   "outputs": [],
   "source": [
    "#replace variable's values\n",
    "df_209.replace(dict_asth, inplace=True)"
   ]
  },
  {
   "cell_type": "code",
   "execution_count": 286,
   "id": "7f8b9444-6c96-46d7-8acc-72fd0a2fff39",
   "metadata": {},
   "outputs": [],
   "source": [
    "#drop original columns\n",
    "df_209.drop(['Asthma', 'Reflux_esophagitis', 'Allergic_rhinitis', 'ReAdmis', 'Soft_drink', 'HighBlood', 'Stroke', 'Overweight', 'Arthritis', 'Diabetes', 'BackPain', 'Anxiety', 'Hyperlipidemia'], axis=1, inplace=True)"
   ]
  },
  {
   "cell_type": "code",
   "execution_count": 287,
   "id": "d26a8777-d690-4df6-9506-ee44d12ce69f",
   "metadata": {},
   "outputs": [
    {
     "name": "stdout",
     "output_type": "stream",
     "text": [
      "<class 'pandas.core.frame.DataFrame'>\n",
      "RangeIndex: 10000 entries, 0 to 9999\n",
      "Data columns (total 29 columns):\n",
      " #   Column                      Non-Null Count  Dtype  \n",
      "---  ------                      --------------  -----  \n",
      " 0   Area                        10000 non-null  object \n",
      " 1   Children                    10000 non-null  int64  \n",
      " 2   Age                         10000 non-null  int64  \n",
      " 3   Income                      10000 non-null  float64\n",
      " 4   Marital                     10000 non-null  object \n",
      " 5   Gender                      10000 non-null  object \n",
      " 6   VitD_levels                 10000 non-null  float64\n",
      " 7   Doc_visits                  10000 non-null  int64  \n",
      " 8   Full_meals_eaten            10000 non-null  int64  \n",
      " 9   vitD_supp                   10000 non-null  int64  \n",
      " 10  Initial_admin               10000 non-null  object \n",
      " 11  Complication_risk           10000 non-null  object \n",
      " 12  Services                    10000 non-null  object \n",
      " 13  Initial_days                10000 non-null  float64\n",
      " 14  TotalCharge                 10000 non-null  float64\n",
      " 15  Additional_charges          10000 non-null  float64\n",
      " 16  ReAdmis_numeric             10000 non-null  int64  \n",
      " 17  Soft_drink_numeric          10000 non-null  int64  \n",
      " 18  HighBlood_numeric           10000 non-null  int64  \n",
      " 19  Stroke_numeric              10000 non-null  int64  \n",
      " 20  Overweight_numeric          10000 non-null  int64  \n",
      " 21  Arthritis_numeric           10000 non-null  int64  \n",
      " 22  Diabetes_numeric            10000 non-null  int64  \n",
      " 23  Hyperlipidemia_numeric      10000 non-null  int64  \n",
      " 24  BackPain_numeric            10000 non-null  int64  \n",
      " 25  Anxiety_numeric             10000 non-null  int64  \n",
      " 26  Allergic_rhinitis_numeric   10000 non-null  int64  \n",
      " 27  Reflux_esophagitis_numeric  10000 non-null  int64  \n",
      " 28  Asthma_numeric              10000 non-null  int64  \n",
      "dtypes: float64(5), int64(18), object(6)\n",
      "memory usage: 2.2+ MB\n"
     ]
    }
   ],
   "source": [
    "df_209.info()"
   ]
  },
  {
   "cell_type": "code",
   "execution_count": 288,
   "id": "0d90be95-8881-4947-99c4-a3df6183001b",
   "metadata": {},
   "outputs": [],
   "source": [
    "#re-express variables with more than 2 response types\n",
    "onehot_encoder = OneHotEncoder(sparse=False)"
   ]
  },
  {
   "cell_type": "code",
   "execution_count": 289,
   "id": "09f014ec-6631-49c7-8282-cde5c8de49a6",
   "metadata": {},
   "outputs": [
    {
     "name": "stderr",
     "output_type": "stream",
     "text": [
      "C:\\Users\\Kmoik WGU\\anaconda3\\Lib\\site-packages\\sklearn\\preprocessing\\_encoders.py:868: FutureWarning: `sparse` was renamed to `sparse_output` in version 1.2 and will be removed in 1.4. `sparse_output` is ignored unless you leave `sparse` to its default value.\n",
      "  warnings.warn(\n"
     ]
    }
   ],
   "source": [
    "onehot_encoded=onehot_encoder.fit_transform(df_209[['Gender', 'Marital', 'Complication_risk', 'Initial_admin', 'Area', 'Services']])"
   ]
  },
  {
   "cell_type": "code",
   "execution_count": 290,
   "id": "86df3f37-3765-4489-a3f7-068677b20a08",
   "metadata": {},
   "outputs": [],
   "source": [
    "df_209encoded=pd.DataFrame(onehot_encoded, columns=onehot_encoder.get_feature_names_out(['Gender', 'Marital', 'Complication_risk', 'Initial_admin', 'Area', 'Services']))"
   ]
  },
  {
   "cell_type": "code",
   "execution_count": 291,
   "id": "19dc98ba-6f11-42ef-8435-29625bc9fdab",
   "metadata": {},
   "outputs": [],
   "source": [
    "df_209encoded=df_209encoded.astype('int64')"
   ]
  },
  {
   "cell_type": "code",
   "execution_count": 292,
   "id": "a6a7996e-6f16-4049-a659-0dd2bd03823f",
   "metadata": {},
   "outputs": [],
   "source": [
    "#merging encoded columns to df\n",
    "df_209=pd.concat([df_209, df_209encoded], axis=1)"
   ]
  },
  {
   "cell_type": "code",
   "execution_count": 293,
   "id": "790074a7-86c2-4166-9f90-4ccbbe59d1dd",
   "metadata": {},
   "outputs": [],
   "source": [
    "#drop original columns\n",
    "df_209.drop(['Gender', 'Marital', 'Complication_risk', 'Initial_admin', 'Area', 'Services'], axis=1, inplace=True)"
   ]
  },
  {
   "cell_type": "code",
   "execution_count": 294,
   "id": "7e298a21-1f2e-4629-b73a-a9ebbb78178e",
   "metadata": {},
   "outputs": [
    {
     "name": "stdout",
     "output_type": "stream",
     "text": [
      "<class 'pandas.core.frame.DataFrame'>\n",
      "RangeIndex: 10000 entries, 0 to 9999\n",
      "Data columns (total 44 columns):\n",
      " #   Column                               Non-Null Count  Dtype  \n",
      "---  ------                               --------------  -----  \n",
      " 0   Children                             10000 non-null  int64  \n",
      " 1   Age                                  10000 non-null  int64  \n",
      " 2   Income                               10000 non-null  float64\n",
      " 3   VitD_levels                          10000 non-null  float64\n",
      " 4   Doc_visits                           10000 non-null  int64  \n",
      " 5   Full_meals_eaten                     10000 non-null  int64  \n",
      " 6   vitD_supp                            10000 non-null  int64  \n",
      " 7   Initial_days                         10000 non-null  float64\n",
      " 8   TotalCharge                          10000 non-null  float64\n",
      " 9   Additional_charges                   10000 non-null  float64\n",
      " 10  ReAdmis_numeric                      10000 non-null  int64  \n",
      " 11  Soft_drink_numeric                   10000 non-null  int64  \n",
      " 12  HighBlood_numeric                    10000 non-null  int64  \n",
      " 13  Stroke_numeric                       10000 non-null  int64  \n",
      " 14  Overweight_numeric                   10000 non-null  int64  \n",
      " 15  Arthritis_numeric                    10000 non-null  int64  \n",
      " 16  Diabetes_numeric                     10000 non-null  int64  \n",
      " 17  Hyperlipidemia_numeric               10000 non-null  int64  \n",
      " 18  BackPain_numeric                     10000 non-null  int64  \n",
      " 19  Anxiety_numeric                      10000 non-null  int64  \n",
      " 20  Allergic_rhinitis_numeric            10000 non-null  int64  \n",
      " 21  Reflux_esophagitis_numeric           10000 non-null  int64  \n",
      " 22  Asthma_numeric                       10000 non-null  int64  \n",
      " 23  Gender_Female                        10000 non-null  int64  \n",
      " 24  Gender_Male                          10000 non-null  int64  \n",
      " 25  Gender_Nonbinary                     10000 non-null  int64  \n",
      " 26  Marital_Divorced                     10000 non-null  int64  \n",
      " 27  Marital_Married                      10000 non-null  int64  \n",
      " 28  Marital_Never Married                10000 non-null  int64  \n",
      " 29  Marital_Separated                    10000 non-null  int64  \n",
      " 30  Marital_Widowed                      10000 non-null  int64  \n",
      " 31  Complication_risk_High               10000 non-null  int64  \n",
      " 32  Complication_risk_Low                10000 non-null  int64  \n",
      " 33  Complication_risk_Medium             10000 non-null  int64  \n",
      " 34  Initial_admin_Elective Admission     10000 non-null  int64  \n",
      " 35  Initial_admin_Emergency Admission    10000 non-null  int64  \n",
      " 36  Initial_admin_Observation Admission  10000 non-null  int64  \n",
      " 37  Area_Rural                           10000 non-null  int64  \n",
      " 38  Area_Suburban                        10000 non-null  int64  \n",
      " 39  Area_Urban                           10000 non-null  int64  \n",
      " 40  Services_Blood Work                  10000 non-null  int64  \n",
      " 41  Services_CT Scan                     10000 non-null  int64  \n",
      " 42  Services_Intravenous                 10000 non-null  int64  \n",
      " 43  Services_MRI                         10000 non-null  int64  \n",
      "dtypes: float64(5), int64(39)\n",
      "memory usage: 3.4 MB\n"
     ]
    }
   ],
   "source": [
    "df_209.info()"
   ]
  },
  {
   "cell_type": "markdown",
   "id": "696b44c6-26a8-4bcb-8fa2-14b2a3602d31",
   "metadata": {},
   "source": [
    "Next I will find the best variables for the model using SelectKBest and p-values"
   ]
  },
  {
   "cell_type": "code",
   "execution_count": 295,
   "id": "07d78b8d-2bab-45fb-9e38-c2c280b6b689",
   "metadata": {},
   "outputs": [],
   "source": [
    "# Assign values to X for all predictor features\n",
    "X = df_209.drop('ReAdmis_numeric', axis=1)\n",
    "# Assign values to y for the dependent variable\n",
    "y = df_209['ReAdmis_numeric']"
   ]
  },
  {
   "cell_type": "code",
   "execution_count": 296,
   "id": "969ff72d-f056-4c41-befe-0b78df53ff4d",
   "metadata": {},
   "outputs": [
    {
     "data": {
      "text/html": [
       "<div>\n",
       "<style scoped>\n",
       "    .dataframe tbody tr th:only-of-type {\n",
       "        vertical-align: middle;\n",
       "    }\n",
       "\n",
       "    .dataframe tbody tr th {\n",
       "        vertical-align: top;\n",
       "    }\n",
       "\n",
       "    .dataframe thead th {\n",
       "        text-align: right;\n",
       "    }\n",
       "</style>\n",
       "<table border=\"1\" class=\"dataframe\">\n",
       "  <thead>\n",
       "    <tr style=\"text-align: right;\">\n",
       "      <th></th>\n",
       "      <th>Children</th>\n",
       "      <th>Age</th>\n",
       "      <th>Income</th>\n",
       "      <th>VitD_levels</th>\n",
       "      <th>Doc_visits</th>\n",
       "      <th>Full_meals_eaten</th>\n",
       "      <th>vitD_supp</th>\n",
       "      <th>Initial_days</th>\n",
       "      <th>TotalCharge</th>\n",
       "      <th>Additional_charges</th>\n",
       "      <th>...</th>\n",
       "      <th>Initial_admin_Elective Admission</th>\n",
       "      <th>Initial_admin_Emergency Admission</th>\n",
       "      <th>Initial_admin_Observation Admission</th>\n",
       "      <th>Area_Rural</th>\n",
       "      <th>Area_Suburban</th>\n",
       "      <th>Area_Urban</th>\n",
       "      <th>Services_Blood Work</th>\n",
       "      <th>Services_CT Scan</th>\n",
       "      <th>Services_Intravenous</th>\n",
       "      <th>Services_MRI</th>\n",
       "    </tr>\n",
       "  </thead>\n",
       "  <tbody>\n",
       "    <tr>\n",
       "      <th>0</th>\n",
       "      <td>0.1</td>\n",
       "      <td>0.492958</td>\n",
       "      <td>0.417305</td>\n",
       "      <td>0.562756</td>\n",
       "      <td>0.625</td>\n",
       "      <td>0.000000</td>\n",
       "      <td>0.0</td>\n",
       "      <td>0.135022</td>\n",
       "      <td>0.246933</td>\n",
       "      <td>0.539851</td>\n",
       "      <td>...</td>\n",
       "      <td>0.0</td>\n",
       "      <td>1.0</td>\n",
       "      <td>0.0</td>\n",
       "      <td>0.0</td>\n",
       "      <td>1.0</td>\n",
       "      <td>0.0</td>\n",
       "      <td>1.0</td>\n",
       "      <td>0.0</td>\n",
       "      <td>0.0</td>\n",
       "      <td>0.0</td>\n",
       "    </tr>\n",
       "    <tr>\n",
       "      <th>1</th>\n",
       "      <td>0.3</td>\n",
       "      <td>0.464789</td>\n",
       "      <td>0.225268</td>\n",
       "      <td>0.550632</td>\n",
       "      <td>0.375</td>\n",
       "      <td>0.285714</td>\n",
       "      <td>0.2</td>\n",
       "      <td>0.199037</td>\n",
       "      <td>0.311343</td>\n",
       "      <td>0.527956</td>\n",
       "      <td>...</td>\n",
       "      <td>0.0</td>\n",
       "      <td>1.0</td>\n",
       "      <td>0.0</td>\n",
       "      <td>0.0</td>\n",
       "      <td>0.0</td>\n",
       "      <td>1.0</td>\n",
       "      <td>0.0</td>\n",
       "      <td>0.0</td>\n",
       "      <td>1.0</td>\n",
       "      <td>0.0</td>\n",
       "    </tr>\n",
       "    <tr>\n",
       "      <th>2</th>\n",
       "      <td>0.3</td>\n",
       "      <td>0.492958</td>\n",
       "      <td>0.068645</td>\n",
       "      <td>0.497410</td>\n",
       "      <td>0.375</td>\n",
       "      <td>0.142857</td>\n",
       "      <td>0.0</td>\n",
       "      <td>0.053117</td>\n",
       "      <td>0.068475</td>\n",
       "      <td>0.524027</td>\n",
       "      <td>...</td>\n",
       "      <td>1.0</td>\n",
       "      <td>0.0</td>\n",
       "      <td>0.0</td>\n",
       "      <td>0.0</td>\n",
       "      <td>1.0</td>\n",
       "      <td>0.0</td>\n",
       "      <td>1.0</td>\n",
       "      <td>0.0</td>\n",
       "      <td>0.0</td>\n",
       "      <td>0.0</td>\n",
       "    </tr>\n",
       "    <tr>\n",
       "      <th>3</th>\n",
       "      <td>0.0</td>\n",
       "      <td>0.845070</td>\n",
       "      <td>0.191156</td>\n",
       "      <td>0.408150</td>\n",
       "      <td>0.375</td>\n",
       "      <td>0.142857</td>\n",
       "      <td>0.0</td>\n",
       "      <td>0.010044</td>\n",
       "      <td>0.026168</td>\n",
       "      <td>0.359607</td>\n",
       "      <td>...</td>\n",
       "      <td>1.0</td>\n",
       "      <td>0.0</td>\n",
       "      <td>0.0</td>\n",
       "      <td>0.0</td>\n",
       "      <td>1.0</td>\n",
       "      <td>0.0</td>\n",
       "      <td>1.0</td>\n",
       "      <td>0.0</td>\n",
       "      <td>0.0</td>\n",
       "      <td>0.0</td>\n",
       "    </tr>\n",
       "    <tr>\n",
       "      <th>4</th>\n",
       "      <td>0.1</td>\n",
       "      <td>0.056338</td>\n",
       "      <td>0.005097</td>\n",
       "      <td>0.460128</td>\n",
       "      <td>0.500</td>\n",
       "      <td>0.000000</td>\n",
       "      <td>0.4</td>\n",
       "      <td>0.003562</td>\n",
       "      <td>0.024130</td>\n",
       "      <td>0.021531</td>\n",
       "      <td>...</td>\n",
       "      <td>1.0</td>\n",
       "      <td>0.0</td>\n",
       "      <td>0.0</td>\n",
       "      <td>1.0</td>\n",
       "      <td>0.0</td>\n",
       "      <td>0.0</td>\n",
       "      <td>0.0</td>\n",
       "      <td>1.0</td>\n",
       "      <td>0.0</td>\n",
       "      <td>0.0</td>\n",
       "    </tr>\n",
       "    <tr>\n",
       "      <th>...</th>\n",
       "      <td>...</td>\n",
       "      <td>...</td>\n",
       "      <td>...</td>\n",
       "      <td>...</td>\n",
       "      <td>...</td>\n",
       "      <td>...</td>\n",
       "      <td>...</td>\n",
       "      <td>...</td>\n",
       "      <td>...</td>\n",
       "      <td>...</td>\n",
       "      <td>...</td>\n",
       "      <td>...</td>\n",
       "      <td>...</td>\n",
       "      <td>...</td>\n",
       "      <td>...</td>\n",
       "      <td>...</td>\n",
       "      <td>...</td>\n",
       "      <td>...</td>\n",
       "      <td>...</td>\n",
       "      <td>...</td>\n",
       "      <td>...</td>\n",
       "    </tr>\n",
       "    <tr>\n",
       "      <th>9995</th>\n",
       "      <td>0.2</td>\n",
       "      <td>0.098592</td>\n",
       "      <td>0.221220</td>\n",
       "      <td>0.432505</td>\n",
       "      <td>0.375</td>\n",
       "      <td>0.285714</td>\n",
       "      <td>0.2</td>\n",
       "      <td>0.712308</td>\n",
       "      <td>0.678314</td>\n",
       "      <td>0.211438</td>\n",
       "      <td>...</td>\n",
       "      <td>0.0</td>\n",
       "      <td>1.0</td>\n",
       "      <td>0.0</td>\n",
       "      <td>0.0</td>\n",
       "      <td>0.0</td>\n",
       "      <td>1.0</td>\n",
       "      <td>0.0</td>\n",
       "      <td>0.0</td>\n",
       "      <td>1.0</td>\n",
       "      <td>0.0</td>\n",
       "    </tr>\n",
       "    <tr>\n",
       "      <th>9996</th>\n",
       "      <td>0.4</td>\n",
       "      <td>0.971831</td>\n",
       "      <td>0.071605</td>\n",
       "      <td>0.504615</td>\n",
       "      <td>0.500</td>\n",
       "      <td>0.000000</td>\n",
       "      <td>0.0</td>\n",
       "      <td>0.953321</td>\n",
       "      <td>0.801304</td>\n",
       "      <td>0.924967</td>\n",
       "      <td>...</td>\n",
       "      <td>1.0</td>\n",
       "      <td>0.0</td>\n",
       "      <td>0.0</td>\n",
       "      <td>0.0</td>\n",
       "      <td>0.0</td>\n",
       "      <td>1.0</td>\n",
       "      <td>0.0</td>\n",
       "      <td>1.0</td>\n",
       "      <td>0.0</td>\n",
       "      <td>0.0</td>\n",
       "    </tr>\n",
       "    <tr>\n",
       "      <th>9997</th>\n",
       "      <td>0.3</td>\n",
       "      <td>0.380282</td>\n",
       "      <td>0.317553</td>\n",
       "      <td>0.441440</td>\n",
       "      <td>0.375</td>\n",
       "      <td>0.285714</td>\n",
       "      <td>0.0</td>\n",
       "      <td>0.974256</td>\n",
       "      <td>0.875146</td>\n",
       "      <td>0.442979</td>\n",
       "      <td>...</td>\n",
       "      <td>1.0</td>\n",
       "      <td>0.0</td>\n",
       "      <td>0.0</td>\n",
       "      <td>1.0</td>\n",
       "      <td>0.0</td>\n",
       "      <td>0.0</td>\n",
       "      <td>0.0</td>\n",
       "      <td>0.0</td>\n",
       "      <td>1.0</td>\n",
       "      <td>0.0</td>\n",
       "    </tr>\n",
       "    <tr>\n",
       "      <th>9998</th>\n",
       "      <td>0.3</td>\n",
       "      <td>0.352113</td>\n",
       "      <td>0.142680</td>\n",
       "      <td>0.609113</td>\n",
       "      <td>0.500</td>\n",
       "      <td>0.285714</td>\n",
       "      <td>0.2</td>\n",
       "      <td>0.878492</td>\n",
       "      <td>0.787882</td>\n",
       "      <td>0.169676</td>\n",
       "      <td>...</td>\n",
       "      <td>0.0</td>\n",
       "      <td>1.0</td>\n",
       "      <td>0.0</td>\n",
       "      <td>1.0</td>\n",
       "      <td>0.0</td>\n",
       "      <td>0.0</td>\n",
       "      <td>1.0</td>\n",
       "      <td>0.0</td>\n",
       "      <td>0.0</td>\n",
       "      <td>0.0</td>\n",
       "    </tr>\n",
       "    <tr>\n",
       "      <th>9999</th>\n",
       "      <td>0.8</td>\n",
       "      <td>0.732394</td>\n",
       "      <td>0.301932</td>\n",
       "      <td>0.517371</td>\n",
       "      <td>0.500</td>\n",
       "      <td>0.000000</td>\n",
       "      <td>0.2</td>\n",
       "      <td>0.984067</td>\n",
       "      <td>0.821444</td>\n",
       "      <td>0.310400</td>\n",
       "      <td>...</td>\n",
       "      <td>0.0</td>\n",
       "      <td>0.0</td>\n",
       "      <td>1.0</td>\n",
       "      <td>0.0</td>\n",
       "      <td>0.0</td>\n",
       "      <td>1.0</td>\n",
       "      <td>1.0</td>\n",
       "      <td>0.0</td>\n",
       "      <td>0.0</td>\n",
       "      <td>0.0</td>\n",
       "    </tr>\n",
       "  </tbody>\n",
       "</table>\n",
       "<p>10000 rows × 44 columns</p>\n",
       "</div>"
      ],
      "text/plain": [
       "      Children       Age    Income  VitD_levels  Doc_visits  Full_meals_eaten  \\\n",
       "0          0.1  0.492958  0.417305     0.562756       0.625          0.000000   \n",
       "1          0.3  0.464789  0.225268     0.550632       0.375          0.285714   \n",
       "2          0.3  0.492958  0.068645     0.497410       0.375          0.142857   \n",
       "3          0.0  0.845070  0.191156     0.408150       0.375          0.142857   \n",
       "4          0.1  0.056338  0.005097     0.460128       0.500          0.000000   \n",
       "...        ...       ...       ...          ...         ...               ...   \n",
       "9995       0.2  0.098592  0.221220     0.432505       0.375          0.285714   \n",
       "9996       0.4  0.971831  0.071605     0.504615       0.500          0.000000   \n",
       "9997       0.3  0.380282  0.317553     0.441440       0.375          0.285714   \n",
       "9998       0.3  0.352113  0.142680     0.609113       0.500          0.285714   \n",
       "9999       0.8  0.732394  0.301932     0.517371       0.500          0.000000   \n",
       "\n",
       "      vitD_supp  Initial_days  TotalCharge  Additional_charges  ...  \\\n",
       "0           0.0      0.135022     0.246933            0.539851  ...   \n",
       "1           0.2      0.199037     0.311343            0.527956  ...   \n",
       "2           0.0      0.053117     0.068475            0.524027  ...   \n",
       "3           0.0      0.010044     0.026168            0.359607  ...   \n",
       "4           0.4      0.003562     0.024130            0.021531  ...   \n",
       "...         ...           ...          ...                 ...  ...   \n",
       "9995        0.2      0.712308     0.678314            0.211438  ...   \n",
       "9996        0.0      0.953321     0.801304            0.924967  ...   \n",
       "9997        0.0      0.974256     0.875146            0.442979  ...   \n",
       "9998        0.2      0.878492     0.787882            0.169676  ...   \n",
       "9999        0.2      0.984067     0.821444            0.310400  ...   \n",
       "\n",
       "      Initial_admin_Elective Admission  Initial_admin_Emergency Admission  \\\n",
       "0                                  0.0                                1.0   \n",
       "1                                  0.0                                1.0   \n",
       "2                                  1.0                                0.0   \n",
       "3                                  1.0                                0.0   \n",
       "4                                  1.0                                0.0   \n",
       "...                                ...                                ...   \n",
       "9995                               0.0                                1.0   \n",
       "9996                               1.0                                0.0   \n",
       "9997                               1.0                                0.0   \n",
       "9998                               0.0                                1.0   \n",
       "9999                               0.0                                0.0   \n",
       "\n",
       "      Initial_admin_Observation Admission  Area_Rural  Area_Suburban  \\\n",
       "0                                     0.0         0.0            1.0   \n",
       "1                                     0.0         0.0            0.0   \n",
       "2                                     0.0         0.0            1.0   \n",
       "3                                     0.0         0.0            1.0   \n",
       "4                                     0.0         1.0            0.0   \n",
       "...                                   ...         ...            ...   \n",
       "9995                                  0.0         0.0            0.0   \n",
       "9996                                  0.0         0.0            0.0   \n",
       "9997                                  0.0         1.0            0.0   \n",
       "9998                                  0.0         1.0            0.0   \n",
       "9999                                  1.0         0.0            0.0   \n",
       "\n",
       "      Area_Urban  Services_Blood Work  Services_CT Scan  Services_Intravenous  \\\n",
       "0            0.0                  1.0               0.0                   0.0   \n",
       "1            1.0                  0.0               0.0                   1.0   \n",
       "2            0.0                  1.0               0.0                   0.0   \n",
       "3            0.0                  1.0               0.0                   0.0   \n",
       "4            0.0                  0.0               1.0                   0.0   \n",
       "...          ...                  ...               ...                   ...   \n",
       "9995         1.0                  0.0               0.0                   1.0   \n",
       "9996         1.0                  0.0               1.0                   0.0   \n",
       "9997         0.0                  0.0               0.0                   1.0   \n",
       "9998         0.0                  1.0               0.0                   0.0   \n",
       "9999         1.0                  1.0               0.0                   0.0   \n",
       "\n",
       "      Services_MRI  \n",
       "0              0.0  \n",
       "1              0.0  \n",
       "2              0.0  \n",
       "3              0.0  \n",
       "4              0.0  \n",
       "...            ...  \n",
       "9995           0.0  \n",
       "9996           0.0  \n",
       "9997           0.0  \n",
       "9998           0.0  \n",
       "9999           0.0  \n",
       "\n",
       "[10000 rows x 44 columns]"
      ]
     },
     "execution_count": 296,
     "metadata": {},
     "output_type": "execute_result"
    }
   ],
   "source": [
    "# Standardize the X variables (explanatory) to put all on the same scale for KNN to measure distance\n",
    "df_209 = pd.DataFrame(preprocessing.MinMaxScaler().fit_transform(df_209), columns=df_209.columns)\n",
    "df_209"
   ]
  },
  {
   "cell_type": "code",
   "execution_count": 297,
   "id": "3851fe92-6b2a-4287-8b93-7f1fbd6d58e8",
   "metadata": {},
   "outputs": [
    {
     "name": "stdout",
     "output_type": "stream",
     "text": [
      "Index(['Children', 'Age', 'Income', 'VitD_levels', 'Doc_visits',\n",
      "       'Full_meals_eaten', 'vitD_supp', 'Initial_days', 'TotalCharge',\n",
      "       'Additional_charges', 'Soft_drink_numeric', 'HighBlood_numeric',\n",
      "       'Stroke_numeric', 'Overweight_numeric', 'Arthritis_numeric',\n",
      "       'Diabetes_numeric', 'Hyperlipidemia_numeric', 'BackPain_numeric',\n",
      "       'Anxiety_numeric', 'Allergic_rhinitis_numeric',\n",
      "       'Reflux_esophagitis_numeric', 'Asthma_numeric', 'Gender_Female',\n",
      "       'Gender_Male', 'Gender_Nonbinary', 'Marital_Divorced',\n",
      "       'Marital_Married', 'Marital_Never Married', 'Marital_Separated',\n",
      "       'Marital_Widowed', 'Complication_risk_High', 'Complication_risk_Low',\n",
      "       'Complication_risk_Medium', 'Initial_admin_Elective Admission',\n",
      "       'Initial_admin_Emergency Admission',\n",
      "       'Initial_admin_Observation Admission', 'Area_Rural', 'Area_Suburban',\n",
      "       'Area_Urban', 'Services_Blood Work', 'Services_CT Scan',\n",
      "       'Services_Intravenous', 'Services_MRI'],\n",
      "      dtype='object')\n"
     ]
    }
   ],
   "source": [
    "#print features - confirm all other columns present\n",
    "feature_names = X.columns\n",
    "print(feature_names)"
   ]
  },
  {
   "cell_type": "code",
   "execution_count": 298,
   "id": "7d01e2e5-fc07-41f5-833a-286d3fc76203",
   "metadata": {},
   "outputs": [],
   "source": [
    "#k=features \n",
    "k_best = SelectKBest(score_func = f_classif, k='all')"
   ]
  },
  {
   "cell_type": "code",
   "execution_count": 299,
   "id": "5bfcc3e3-804a-4d28-9287-f49f41f522b0",
   "metadata": {},
   "outputs": [],
   "source": [
    "X_new = k_best.fit_transform(X, y)"
   ]
  },
  {
   "cell_type": "code",
   "execution_count": 300,
   "id": "d8e1c34a-6fdf-44af-a884-8b5a8ef909b8",
   "metadata": {},
   "outputs": [],
   "source": [
    "selected_features_indices=k_best.get_support(indices=True)"
   ]
  },
  {
   "cell_type": "code",
   "execution_count": 301,
   "id": "254cf2aa-c238-471c-af19-81d18d51616b",
   "metadata": {},
   "outputs": [],
   "source": [
    "selected_features_names=X.columns[selected_features_indices]"
   ]
  },
  {
   "cell_type": "code",
   "execution_count": 302,
   "id": "2fb5b77a-4e15-4b00-b9c9-394c54713df2",
   "metadata": {},
   "outputs": [],
   "source": [
    "#find p values \n",
    "p_values = pd.DataFrame({'Feature': X.columns, 'p_value':k_best.pvalues_}).sort_values('p_value')\n",
    "features_to_keep = p_values['Feature'][p_values['p_value'] < .05]"
   ]
  },
  {
   "cell_type": "code",
   "execution_count": 303,
   "id": "9b96d566-d5da-4c53-99c4-5b9147d3bb43",
   "metadata": {},
   "outputs": [
    {
     "name": "stdout",
     "output_type": "stream",
     "text": [
      "                                Feature   p_value\n",
      "8                           TotalCharge  0.000000\n",
      "7                          Initial_days  0.000000\n",
      "40                     Services_CT Scan  0.014707\n",
      "0                              Children  0.018613\n",
      "25                     Marital_Divorced  0.030143\n",
      "41                 Services_Intravenous  0.042233\n",
      "34    Initial_admin_Emergency Admission  0.048766\n",
      "21                       Asthma_numeric  0.086677\n",
      "1                                   Age  0.113891\n",
      "9                    Additional_charges  0.173237\n",
      "17                     BackPain_numeric  0.183133\n",
      "5                      Full_meals_eaten  0.223574\n",
      "35  Initial_admin_Observation Admission  0.231263\n",
      "22                        Gender_Female  0.243554\n",
      "2                                Income  0.250029\n",
      "6                             vitD_supp  0.269697\n",
      "33     Initial_admin_Elective Admission  0.276650\n",
      "23                          Gender_Male  0.326515\n",
      "42                         Services_MRI  0.351962\n",
      "13                   Overweight_numeric  0.390612\n",
      "29                      Marital_Widowed  0.390638\n",
      "10                   Soft_drink_numeric  0.441195\n",
      "14                    Arthritis_numeric  0.443546\n",
      "36                           Area_Rural  0.453272\n",
      "38                           Area_Urban  0.476787\n",
      "27                Marital_Never Married  0.496533\n",
      "26                      Marital_Married  0.509864\n",
      "24                     Gender_Nonbinary  0.520390\n",
      "20           Reflux_esophagitis_numeric  0.587736\n",
      "19            Allergic_rhinitis_numeric  0.641923\n",
      "16               Hyperlipidemia_numeric  0.666731\n",
      "3                           VitD_levels  0.683120\n",
      "30               Complication_risk_High  0.690952\n",
      "15                     Diabetes_numeric  0.759776\n",
      "32             Complication_risk_Medium  0.779605\n",
      "18                      Anxiety_numeric  0.809868\n",
      "11                    HighBlood_numeric  0.820441\n",
      "31                Complication_risk_Low  0.905636\n",
      "12                       Stroke_numeric  0.926830\n",
      "39                  Services_Blood Work  0.942745\n",
      "28                    Marital_Separated  0.957280\n",
      "37                        Area_Suburban  0.966399\n",
      "4                            Doc_visits  0.980401\n"
     ]
    }
   ],
   "source": [
    "print(p_values)"
   ]
  },
  {
   "cell_type": "code",
   "execution_count": 304,
   "id": "3301f9aa-5de8-4537-805e-487c29409b7f",
   "metadata": {},
   "outputs": [],
   "source": [
    "#obtained 7 most significant variables with p values less than 0.05: TotalCharge, Initial_days, Sevices_CT Scan, Children, Marital_divorced, Services_Intravenous, and Initial_Admin_Emergency Admission"
   ]
  },
  {
   "cell_type": "code",
   "execution_count": 305,
   "id": "6fa60d59-f7f8-4d97-baf9-579720dd8ff3",
   "metadata": {},
   "outputs": [],
   "source": [
    "#check for multicollinearity using VIF\n",
    "#set independent variable for VIF\n",
    "X=df_209[['TotalCharge', 'Initial_days', 'Children', 'Marital_Divorced', 'Initial_admin_Emergency Admission', 'Services_CT Scan', 'Services_Intravenous']]"
   ]
  },
  {
   "cell_type": "code",
   "execution_count": 306,
   "id": "cc4da747-4a2c-4f92-86c7-e83940f9fdc3",
   "metadata": {},
   "outputs": [],
   "source": [
    "#VIF dataframe\n",
    "vif_df_209=pd.DataFrame()\n",
    "vif_df_209[\"feature\"]=X.columns"
   ]
  },
  {
   "cell_type": "code",
   "execution_count": 307,
   "id": "7ee2e53e-d320-4f77-ad9d-b50b5688559c",
   "metadata": {},
   "outputs": [],
   "source": [
    "#calculate VIF for all independent variables\n",
    "vif_df_209[\"VIF\"]=[variance_inflation_factor(X.values, i) for i in range(len(X.columns))]"
   ]
  },
  {
   "cell_type": "code",
   "execution_count": 308,
   "id": "3826c420-11b3-4edf-8ccd-51fb11304d71",
   "metadata": {},
   "outputs": [
    {
     "name": "stdout",
     "output_type": "stream",
     "text": [
      "                             feature         VIF\n",
      "0                        TotalCharge  215.896697\n",
      "1                       Initial_days  177.701826\n",
      "2                           Children    1.751354\n",
      "3                   Marital_Divorced    1.204073\n",
      "4  Initial_admin_Emergency Admission    4.510178\n",
      "5                   Services_CT Scan    1.179536\n",
      "6               Services_Intravenous    1.433406\n"
     ]
    }
   ],
   "source": [
    "print(vif_df_209)"
   ]
  },
  {
   "cell_type": "code",
   "execution_count": 309,
   "id": "ee769af0-2029-4952-b1e3-dcc53647e8d5",
   "metadata": {},
   "outputs": [],
   "source": [
    "#removing totalcharge due to high multicollinearity\n",
    "#set independent variable for VIF\n",
    "X=df_209[['Initial_days', 'Children', 'Marital_Divorced', 'Initial_admin_Emergency Admission', 'Services_CT Scan', 'Services_Intravenous']]"
   ]
  },
  {
   "cell_type": "code",
   "execution_count": 310,
   "id": "d6f63428-9d97-4cf8-9224-d67e6e55ed4d",
   "metadata": {},
   "outputs": [],
   "source": [
    "#VIF dataframe\n",
    "vif_df_209=pd.DataFrame()\n",
    "vif_df_209[\"feature\"]=X.columns"
   ]
  },
  {
   "cell_type": "code",
   "execution_count": 311,
   "id": "c7fc7fdb-5b5c-4a1a-9f1c-28ff0438d95a",
   "metadata": {},
   "outputs": [],
   "source": [
    "#calculate VIF for all independent variables\n",
    "vif_df_209[\"VIF\"]=[variance_inflation_factor(X.values, i) for i in range(len(X.columns))]"
   ]
  },
  {
   "cell_type": "code",
   "execution_count": 312,
   "id": "e8c1fb6f-a3c7-4d63-a1b4-b959b210165d",
   "metadata": {},
   "outputs": [
    {
     "name": "stdout",
     "output_type": "stream",
     "text": [
      "                             feature       VIF\n",
      "0                       Initial_days  1.847057\n",
      "1                           Children  1.650881\n",
      "2                   Marital_Divorced  1.186747\n",
      "3  Initial_admin_Emergency Admission  1.647724\n",
      "4                   Services_CT Scan  1.153524\n",
      "5               Services_Intravenous  1.374259\n"
     ]
    }
   ],
   "source": [
    "print(vif_df_209)"
   ]
  },
  {
   "cell_type": "code",
   "execution_count": 313,
   "id": "def50533-ab63-4b69-ab5b-0df63068491b",
   "metadata": {},
   "outputs": [],
   "source": [
    "#all multicolinearity has been resolved - all are under 10"
   ]
  },
  {
   "cell_type": "code",
   "execution_count": 314,
   "id": "fdec9502-3e90-4773-9de7-1c56de71b057",
   "metadata": {},
   "outputs": [],
   "source": [
    "#renaming statistically significant columns without spaces\n",
    "df_209.rename(columns={'Initial_admin_Emergency Admission' : 'Initial_admin_Emergency', 'Services_CT Scan' : 'Services_CTscan'}, inplace=True)"
   ]
  },
  {
   "cell_type": "markdown",
   "id": "a819f252-cccb-40dd-9800-9aa64aa93aa8",
   "metadata": {},
   "source": [
    "View columns to be used in KNN model"
   ]
  },
  {
   "cell_type": "code",
   "execution_count": 315,
   "id": "52f7e0bd-b067-496d-b2e3-596c3a2fb5f7",
   "metadata": {},
   "outputs": [
    {
     "data": {
      "text/plain": [
       "count    10000.000000\n",
       "mean         0.471310\n",
       "std          0.370661\n",
       "min          0.000000\n",
       "25%          0.097130\n",
       "50%          0.490765\n",
       "75%          0.847555\n",
       "max          1.000000\n",
       "Name: Initial_days, dtype: float64"
      ]
     },
     "execution_count": 315,
     "metadata": {},
     "output_type": "execute_result"
    }
   ],
   "source": [
    "df_209.Initial_days.describe()"
   ]
  },
  {
   "cell_type": "code",
   "execution_count": 316,
   "id": "53b6978b-8502-4b0d-94af-d79de404e62e",
   "metadata": {},
   "outputs": [
    {
     "data": {
      "text/plain": [
       "count    10000.000000\n",
       "mean         0.209720\n",
       "std          0.216366\n",
       "min          0.000000\n",
       "25%          0.000000\n",
       "50%          0.100000\n",
       "75%          0.300000\n",
       "max          1.000000\n",
       "Name: Children, dtype: float64"
      ]
     },
     "execution_count": 316,
     "metadata": {},
     "output_type": "execute_result"
    }
   ],
   "source": [
    "df_209.Children.describe()"
   ]
  },
  {
   "cell_type": "code",
   "execution_count": 317,
   "id": "97f0b720-1095-4c25-a636-9c10215500f4",
   "metadata": {},
   "outputs": [
    {
     "data": {
      "text/plain": [
       "count    10000.000000\n",
       "mean         0.196100\n",
       "std          0.397065\n",
       "min          0.000000\n",
       "25%          0.000000\n",
       "50%          0.000000\n",
       "75%          0.000000\n",
       "max          1.000000\n",
       "Name: Marital_Divorced, dtype: float64"
      ]
     },
     "execution_count": 317,
     "metadata": {},
     "output_type": "execute_result"
    }
   ],
   "source": [
    "df_209.Marital_Divorced.describe()"
   ]
  },
  {
   "cell_type": "code",
   "execution_count": 318,
   "id": "fd513391-912e-464f-9821-6d5d7445b81d",
   "metadata": {},
   "outputs": [
    {
     "data": {
      "text/plain": [
       "count    10000.000000\n",
       "mean         0.506000\n",
       "std          0.499989\n",
       "min          0.000000\n",
       "25%          0.000000\n",
       "50%          1.000000\n",
       "75%          1.000000\n",
       "max          1.000000\n",
       "Name: Initial_admin_Emergency, dtype: float64"
      ]
     },
     "execution_count": 318,
     "metadata": {},
     "output_type": "execute_result"
    }
   ],
   "source": [
    "df_209.Initial_admin_Emergency.describe()"
   ]
  },
  {
   "cell_type": "code",
   "execution_count": 319,
   "id": "3c112be0-25ff-4097-8b9e-c4328f7a9ed8",
   "metadata": {},
   "outputs": [
    {
     "data": {
      "text/plain": [
       "count    10000.000000\n",
       "mean         0.122500\n",
       "std          0.327879\n",
       "min          0.000000\n",
       "25%          0.000000\n",
       "50%          0.000000\n",
       "75%          0.000000\n",
       "max          1.000000\n",
       "Name: Services_CTscan, dtype: float64"
      ]
     },
     "execution_count": 319,
     "metadata": {},
     "output_type": "execute_result"
    }
   ],
   "source": [
    "df_209.Services_CTscan.describe()"
   ]
  },
  {
   "cell_type": "code",
   "execution_count": 320,
   "id": "481ca529-c437-4e06-a22c-32be5f829887",
   "metadata": {},
   "outputs": [
    {
     "data": {
      "text/plain": [
       "count    10000.000000\n",
       "mean         0.313000\n",
       "std          0.463738\n",
       "min          0.000000\n",
       "25%          0.000000\n",
       "50%          0.000000\n",
       "75%          1.000000\n",
       "max          1.000000\n",
       "Name: Services_Intravenous, dtype: float64"
      ]
     },
     "execution_count": 320,
     "metadata": {},
     "output_type": "execute_result"
    }
   ],
   "source": [
    "df_209.Services_Intravenous.describe()"
   ]
  },
  {
   "cell_type": "code",
   "execution_count": 321,
   "id": "7be7647e-0feb-4e5e-a079-2b4fd80c9735",
   "metadata": {},
   "outputs": [],
   "source": [
    "#save cleaned data set\n",
    "clean_df_209=df_209.copy(deep=True)"
   ]
  },
  {
   "cell_type": "code",
   "execution_count": 322,
   "id": "297b4a68-143d-4ab5-b543-ca0a3679b7b1",
   "metadata": {},
   "outputs": [],
   "source": [
    "clean_df_209.to_csv('C:/Users/Kmoik WGU/Desktop/KMoikD209_medical.csv')"
   ]
  },
  {
   "cell_type": "code",
   "execution_count": 323,
   "id": "d7d0bcbe-4978-44e1-b714-c0f01b50cab8",
   "metadata": {},
   "outputs": [],
   "source": [
    "#KNN model"
   ]
  },
  {
   "cell_type": "code",
   "execution_count": 324,
   "id": "5b12c553-e37d-4f43-aa18-e03d4685bfce",
   "metadata": {},
   "outputs": [],
   "source": [
    "#Split the data set with an 70/30 split\n",
    "X_train, X_test, y_train, y_test = train_test_split(X, y, train_size = 0.7, test_size = 0.3, random_state = 25)"
   ]
  },
  {
   "cell_type": "code",
   "execution_count": 325,
   "id": "02b0970d-0639-4c5f-b9c9-3e6099eec111",
   "metadata": {},
   "outputs": [],
   "source": [
    "#Save the training and testing sets as csv files\n",
    "pd.DataFrame(X_train).to_csv('C:/Users/Kmoik WGU/Desktop/X_train.csv')\n",
    "pd.DataFrame(X_test).to_csv('C:/Users/Kmoik WGU/Desktop/X_test.csv')\n",
    "pd.DataFrame(y_train).to_csv('C:/Users/Kmoik WGU/Desktop/y_train.csv')\n",
    "pd.DataFrame(y_test).to_csv('C:/Users/Kmoik WGU/Desktop/y_test.csv')"
   ]
  },
  {
   "cell_type": "code",
   "execution_count": 326,
   "id": "6cbf9903-f92c-4e07-a332-c3200d7b6ec6",
   "metadata": {},
   "outputs": [
    {
     "data": {
      "text/html": [
       "<style>#sk-container-id-2 {color: black;background-color: white;}#sk-container-id-2 pre{padding: 0;}#sk-container-id-2 div.sk-toggleable {background-color: white;}#sk-container-id-2 label.sk-toggleable__label {cursor: pointer;display: block;width: 100%;margin-bottom: 0;padding: 0.3em;box-sizing: border-box;text-align: center;}#sk-container-id-2 label.sk-toggleable__label-arrow:before {content: \"▸\";float: left;margin-right: 0.25em;color: #696969;}#sk-container-id-2 label.sk-toggleable__label-arrow:hover:before {color: black;}#sk-container-id-2 div.sk-estimator:hover label.sk-toggleable__label-arrow:before {color: black;}#sk-container-id-2 div.sk-toggleable__content {max-height: 0;max-width: 0;overflow: hidden;text-align: left;background-color: #f0f8ff;}#sk-container-id-2 div.sk-toggleable__content pre {margin: 0.2em;color: black;border-radius: 0.25em;background-color: #f0f8ff;}#sk-container-id-2 input.sk-toggleable__control:checked~div.sk-toggleable__content {max-height: 200px;max-width: 100%;overflow: auto;}#sk-container-id-2 input.sk-toggleable__control:checked~label.sk-toggleable__label-arrow:before {content: \"▾\";}#sk-container-id-2 div.sk-estimator input.sk-toggleable__control:checked~label.sk-toggleable__label {background-color: #d4ebff;}#sk-container-id-2 div.sk-label input.sk-toggleable__control:checked~label.sk-toggleable__label {background-color: #d4ebff;}#sk-container-id-2 input.sk-hidden--visually {border: 0;clip: rect(1px 1px 1px 1px);clip: rect(1px, 1px, 1px, 1px);height: 1px;margin: -1px;overflow: hidden;padding: 0;position: absolute;width: 1px;}#sk-container-id-2 div.sk-estimator {font-family: monospace;background-color: #f0f8ff;border: 1px dotted black;border-radius: 0.25em;box-sizing: border-box;margin-bottom: 0.5em;}#sk-container-id-2 div.sk-estimator:hover {background-color: #d4ebff;}#sk-container-id-2 div.sk-parallel-item::after {content: \"\";width: 100%;border-bottom: 1px solid gray;flex-grow: 1;}#sk-container-id-2 div.sk-label:hover label.sk-toggleable__label {background-color: #d4ebff;}#sk-container-id-2 div.sk-serial::before {content: \"\";position: absolute;border-left: 1px solid gray;box-sizing: border-box;top: 0;bottom: 0;left: 50%;z-index: 0;}#sk-container-id-2 div.sk-serial {display: flex;flex-direction: column;align-items: center;background-color: white;padding-right: 0.2em;padding-left: 0.2em;position: relative;}#sk-container-id-2 div.sk-item {position: relative;z-index: 1;}#sk-container-id-2 div.sk-parallel {display: flex;align-items: stretch;justify-content: center;background-color: white;position: relative;}#sk-container-id-2 div.sk-item::before, #sk-container-id-2 div.sk-parallel-item::before {content: \"\";position: absolute;border-left: 1px solid gray;box-sizing: border-box;top: 0;bottom: 0;left: 50%;z-index: -1;}#sk-container-id-2 div.sk-parallel-item {display: flex;flex-direction: column;z-index: 1;position: relative;background-color: white;}#sk-container-id-2 div.sk-parallel-item:first-child::after {align-self: flex-end;width: 50%;}#sk-container-id-2 div.sk-parallel-item:last-child::after {align-self: flex-start;width: 50%;}#sk-container-id-2 div.sk-parallel-item:only-child::after {width: 0;}#sk-container-id-2 div.sk-dashed-wrapped {border: 1px dashed gray;margin: 0 0.4em 0.5em 0.4em;box-sizing: border-box;padding-bottom: 0.4em;background-color: white;}#sk-container-id-2 div.sk-label label {font-family: monospace;font-weight: bold;display: inline-block;line-height: 1.2em;}#sk-container-id-2 div.sk-label-container {text-align: center;}#sk-container-id-2 div.sk-container {/* jupyter's `normalize.less` sets `[hidden] { display: none; }` but bootstrap.min.css set `[hidden] { display: none !important; }` so we also need the `!important` here to be able to override the default hidden behavior on the sphinx rendered scikit-learn.org. See: https://github.com/scikit-learn/scikit-learn/issues/21755 */display: inline-block !important;position: relative;}#sk-container-id-2 div.sk-text-repr-fallback {display: none;}</style><div id=\"sk-container-id-2\" class=\"sk-top-container\"><div class=\"sk-text-repr-fallback\"><pre>GridSearchCV(cv=5, estimator=KNeighborsClassifier(),\n",
       "             param_grid={&#x27;n_neighbors&#x27;: array([ 1,  2,  3,  4,  5,  6,  7,  8,  9, 10, 11, 12, 13, 14, 15, 16, 17,\n",
       "       18, 19, 20, 21, 22, 23, 24, 25, 26, 27, 28, 29, 30, 31, 32, 33, 34,\n",
       "       35, 36, 37, 38, 39, 40, 41, 42, 43, 44, 45, 46, 47, 48, 49])})</pre><b>In a Jupyter environment, please rerun this cell to show the HTML representation or trust the notebook. <br />On GitHub, the HTML representation is unable to render, please try loading this page with nbviewer.org.</b></div><div class=\"sk-container\" hidden><div class=\"sk-item sk-dashed-wrapped\"><div class=\"sk-label-container\"><div class=\"sk-label sk-toggleable\"><input class=\"sk-toggleable__control sk-hidden--visually\" id=\"sk-estimator-id-4\" type=\"checkbox\" ><label for=\"sk-estimator-id-4\" class=\"sk-toggleable__label sk-toggleable__label-arrow\">GridSearchCV</label><div class=\"sk-toggleable__content\"><pre>GridSearchCV(cv=5, estimator=KNeighborsClassifier(),\n",
       "             param_grid={&#x27;n_neighbors&#x27;: array([ 1,  2,  3,  4,  5,  6,  7,  8,  9, 10, 11, 12, 13, 14, 15, 16, 17,\n",
       "       18, 19, 20, 21, 22, 23, 24, 25, 26, 27, 28, 29, 30, 31, 32, 33, 34,\n",
       "       35, 36, 37, 38, 39, 40, 41, 42, 43, 44, 45, 46, 47, 48, 49])})</pre></div></div></div><div class=\"sk-parallel\"><div class=\"sk-parallel-item\"><div class=\"sk-item\"><div class=\"sk-label-container\"><div class=\"sk-label sk-toggleable\"><input class=\"sk-toggleable__control sk-hidden--visually\" id=\"sk-estimator-id-5\" type=\"checkbox\" ><label for=\"sk-estimator-id-5\" class=\"sk-toggleable__label sk-toggleable__label-arrow\">estimator: KNeighborsClassifier</label><div class=\"sk-toggleable__content\"><pre>KNeighborsClassifier()</pre></div></div></div><div class=\"sk-serial\"><div class=\"sk-item\"><div class=\"sk-estimator sk-toggleable\"><input class=\"sk-toggleable__control sk-hidden--visually\" id=\"sk-estimator-id-6\" type=\"checkbox\" ><label for=\"sk-estimator-id-6\" class=\"sk-toggleable__label sk-toggleable__label-arrow\">KNeighborsClassifier</label><div class=\"sk-toggleable__content\"><pre>KNeighborsClassifier()</pre></div></div></div></div></div></div></div></div></div></div>"
      ],
      "text/plain": [
       "GridSearchCV(cv=5, estimator=KNeighborsClassifier(),\n",
       "             param_grid={'n_neighbors': array([ 1,  2,  3,  4,  5,  6,  7,  8,  9, 10, 11, 12, 13, 14, 15, 16, 17,\n",
       "       18, 19, 20, 21, 22, 23, 24, 25, 26, 27, 28, 29, 30, 31, 32, 33, 34,\n",
       "       35, 36, 37, 38, 39, 40, 41, 42, 43, 44, 45, 46, 47, 48, 49])})"
      ]
     },
     "execution_count": 326,
     "metadata": {},
     "output_type": "execute_result"
    }
   ],
   "source": [
    "#hyperparameter tuning\n",
    "param_grid={'n_neighbors': np.arange(1,50)}\n",
    "knn=KNeighborsClassifier()\n",
    "knn_cv=GridSearchCV(knn, param_grid, cv=5)\n",
    "knn_cv.fit(X_train, y_train)"
   ]
  },
  {
   "cell_type": "code",
   "execution_count": 327,
   "id": "f982970c-63e7-471a-8285-022a00f4d94e",
   "metadata": {},
   "outputs": [
    {
     "data": {
      "text/plain": [
       "{'n_neighbors': 7}"
      ]
     },
     "execution_count": 327,
     "metadata": {},
     "output_type": "execute_result"
    }
   ],
   "source": [
    "# Find best parameter from GridSearch\n",
    "knn_cv.best_params_"
   ]
  },
  {
   "cell_type": "code",
   "execution_count": 328,
   "id": "1b00ead1-9b27-4fe1-8755-357906aecbc6",
   "metadata": {},
   "outputs": [
    {
     "data": {
      "text/plain": [
       "0.9728571428571428"
      ]
     },
     "execution_count": 328,
     "metadata": {},
     "output_type": "execute_result"
    }
   ],
   "source": [
    "# Find score of best parameter from GridSearchCV\n",
    "knn_cv.best_score_"
   ]
  },
  {
   "cell_type": "code",
   "execution_count": 329,
   "id": "19cf15ca-e097-47ad-bf41-a82603fa1795",
   "metadata": {},
   "outputs": [
    {
     "name": "stdout",
     "output_type": "stream",
     "text": [
      "              precision    recall  f1-score   support\n",
      "\n",
      "           0       0.99      0.97      0.98      1900\n",
      "           1       0.95      0.98      0.97      1100\n",
      "\n",
      "    accuracy                           0.97      3000\n",
      "   macro avg       0.97      0.98      0.97      3000\n",
      "weighted avg       0.97      0.97      0.97      3000\n",
      "\n"
     ]
    }
   ],
   "source": [
    "# Perform KNN using the value of k=7 from the above grid search and create classification report\n",
    "knn = KNeighborsClassifier(n_neighbors = 7)\n",
    "knn.fit(X_train, y_train)\n",
    "y_pred=knn.predict(X_test)\n",
    "y_pred_prob=knn.predict_proba(X_test)[:,1]\n",
    "print(classification_report(y_test, y_pred))"
   ]
  },
  {
   "cell_type": "code",
   "execution_count": 330,
   "id": "db8ea809-7784-4973-b9b7-6ce86059a0eb",
   "metadata": {},
   "outputs": [
    {
     "name": "stdout",
     "output_type": "stream",
     "text": [
      "The Accuracy Score of the KNN model:\n",
      "0.9743333333333334\n",
      "The Confusion Matrix for the KNN Model:\n",
      "[[1840   60]\n",
      " [  17 1083]]\n",
      "The Area Under the Curve (AUC) for the KNN Model:\n",
      "0.9959787081339713\n"
     ]
    }
   ],
   "source": [
    "#Accuracy Score, Confusion Matrix, AUC\n",
    "# Fit to the training data\n",
    "knn.fit(X_train, y_train)\n",
    "print(\"The Accuracy Score of the KNN model:\")\n",
    "print(knn.score(X_test, y_test))\n",
    "y_predicted=knn.predict(X_test)\n",
    "print(\"The Confusion Matrix for the KNN Model:\")\n",
    "print(confusion_matrix(y_test, y_predicted))\n",
    "y_predicted_probability = knn.predict_proba(X_test)[:,1]\n",
    "print(\"The Area Under the Curve (AUC) for the KNN Model:\")\n",
    "print(roc_auc_score(y_test, y_predicted_probability))"
   ]
  },
  {
   "cell_type": "code",
   "execution_count": 331,
   "id": "7a0c49f8-5154-4ddf-979f-7dd1fc6439a1",
   "metadata": {},
   "outputs": [],
   "source": [
    "#Model Complexity Curve\n",
    "neighbors = np.arange(1,25)\n",
    "train_accuracy = np.empty(len(neighbors))\n",
    "test_accuracy = np.empty(len(neighbors))        "
   ]
  },
  {
   "cell_type": "code",
   "execution_count": 332,
   "id": "95d8f213-c553-4e67-9471-552f779deb0f",
   "metadata": {},
   "outputs": [
    {
     "name": "stdout",
     "output_type": "stream",
     "text": [
      "K:  23 Train Score: 0.9715714285714285 Test Score: 0.966\n"
     ]
    }
   ],
   "source": [
    "# Loop over different values of k\n",
    "for i, k in enumerate (neighbors):\n",
    "    knn = KNeighborsClassifier (n_neighbors=k)\n",
    "    knn.fit (X_train,y_train)\n",
    "    train_accuracy[i] = knn.score (X_train, y_train)\n",
    "    test_accuracy[i] = knn.score (X_test, y_test)\n",
    "print(\"K: \", i, \"Train Score:\", train_accuracy[i], \"Test Score:\", test_accuracy[i])"
   ]
  },
  {
   "cell_type": "code",
   "execution_count": 333,
   "id": "3d1d7a27-8e47-4755-8dae-ef25842a940c",
   "metadata": {},
   "outputs": [
    {
     "data": {
      "image/png": "[encoded data removed]",
      "text/plain": [
       "<Figure size 640x480 with 1 Axes>"
      ]
     },
     "metadata": {},
     "output_type": "display_data"
    }
   ],
   "source": [
    "#Generate plot\n",
    "plt.title('KNN')\n",
    "plt.plot(neighbors, test_accuracy, label='Testing Accuracy')\n",
    "plt.plot(neighbors, train_accuracy, label='Training Accuracy')\n",
    "plt.legend()\n",
    "plt.xlabel('Number of Neighbors')\n",
    "plt.ylabel('Accuracy')\n",
    "plt.show()"
   ]
  }
 ],
 "metadata": {
  "kernelspec": {
   "display_name": "Python 3 (ipykernel)",
   "language": "python",
   "name": "python3"
  },
  "language_info": {
   "codemirror_mode": {
    "name": "ipython",
    "version": 3
   },
   "file_extension": ".py",
   "mimetype": "text/x-python",
   "name": "python",
   "nbconvert_exporter": "python",
   "pygments_lexer": "ipython3",
   "version": "3.11.5"
  }
 },
 "nbformat": 4,
 "nbformat_minor": 5
}
