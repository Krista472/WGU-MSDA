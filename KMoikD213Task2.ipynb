{
 "cells": [
  {
   "cell_type": "markdown",
   "id": "6cde3d8a-8407-4338-b72d-15ae573d37eb",
   "metadata": {},
   "source": [
    "# D213 - Advanced Data Analytics - Task 2\n",
    "By Krista Moik"
   ]
  },
  {
   "cell_type": "markdown",
   "id": "78aa19ad-c9c6-4087-9cfa-dbc509ffc59c",
   "metadata": {},
   "source": [
    "## Table of Contents\n",
    "\n",
    "### Part I. Research Question\n",
    "    - A1. Research Question\n",
    "    - A2. Objectives or Goals\n",
    "    - A3. Prescribed Network\n",
    "\n",
    "### Part II. Data Preparation\n",
    "    - B1. Data Exploration\n",
    "    - B2. Tokenization\n",
    "    - B3. Padding Process\n",
    "    - B4. Categories of Sentiment\n",
    "    - B5. Steps to Prepare the Data\n",
    "    - B6. Prepared Data Set\n",
    "\n",
    "### Part III. Network Architecture\n",
    "    - C1. Model Summary\n",
    "    - C2. Network Architecture\n",
    "    - C3. Hyperparameters\n",
    "\n",
    "### Part IV. Model Evaluation\n",
    "    - D1. Stopping Criteria\n",
    "    - D2. Fitness\n",
    "    - D3. Training Process\n",
    "    - D4. Predictive Accuracy\n",
    "\n",
    "### Part V. Summary and Recommendations\n",
    "    - E. Code\n",
    "    - F. Functionality\n",
    "    - G. Recommendations\n",
    "\n",
    "### Part VI. Reporting\n",
    "    - H. Reporting\n",
    "    - I. Sources for Third-Party Code\n",
    "    - J. Sources\n",
    "    - K. Professional Communication\n"
   ]
  },
  {
   "cell_type": "markdown",
   "id": "3623dc61-de57-4f7a-b823-0c403afd7964",
   "metadata": {},
   "source": [
    "## Part I. Research Question\n",
    "\n",
    "### A1. Research Question\n",
    "\n",
    "Using the provided data sets from UCI, my research question is: **Can I perform sentiment analysis by creating a Recurrent Neural Network (RNN) with Long Short-Term Memory (LSTM) to determine and predict if customer reviews are positive or negative?**\n",
    "\n",
    "\n",
    "### A2. Objectives or Goals\n",
    "\n",
    "My goal is to create an RNN model with LSTM to use Natural Language Processing (NLP) techniques to perform sentiment analysis on the reviews provided in the UCI data sets in order to create a model that can determine positive or negative reviews of products.  It is important for businesses to be able to quickly determine whether the language in reviews is favorable or not and can provide insights to the business as to what they are doing well and what can be improved.\n",
    "\n",
    "### A3. Prescribed Network\n",
    "\n",
    "I am choosing to use an RNN model due to its strengths in processing sequential data including text. An RNN model is somewhat unique in that it has the capability to loop back on itself, which helps the model to remember previous inputs in the sequence. The RNN is made up of multiple layers and embeddings that allow it to understand and retain relationships between words. LSTM assists in this process as it contains memory cells that can actually remember information over long sequences and helps control the flow of information (Luay, 2023)."
   ]
  },
  {
   "cell_type": "markdown",
   "id": "938c551d-badf-4d50-b6bc-0568258d4e29",
   "metadata": {},
   "source": [
    "## Part II. Data Preparation"
   ]
  },
  {
   "cell_type": "markdown",
   "id": "ccf8bd4a-8ffa-4b48-9c1e-9b231a7213b5",
   "metadata": {},
   "source": [
    "#### Import Libraries/Packages"
   ]
  },
  {
   "cell_type": "code",
   "execution_count": 1,
   "id": "ab9f9940-7541-4f18-b29c-d985d74b636c",
   "metadata": {},
   "outputs": [
    {
     "name": "stderr",
     "output_type": "stream",
     "text": [
      "[nltk_data] Downloading package punkt to C:\\Users\\Kmoik\n",
      "[nltk_data]     WGU\\AppData\\Roaming\\nltk_data...\n",
      "[nltk_data]   Package punkt is already up-to-date!\n",
      "[nltk_data] Downloading package wordnet to C:\\Users\\Kmoik\n",
      "[nltk_data]     WGU\\AppData\\Roaming\\nltk_data...\n",
      "[nltk_data]   Package wordnet is already up-to-date!\n",
      "[nltk_data] Downloading package stopwords to C:\\Users\\Kmoik\n",
      "[nltk_data]     WGU\\AppData\\Roaming\\nltk_data...\n",
      "[nltk_data]   Package stopwords is already up-to-date!\n"
     ]
    }
   ],
   "source": [
    "#import libraries/packages\n",
    "import pandas as pd\n",
    "import numpy as np\n",
    "import matplotlib.pyplot as plt\n",
    "import seaborn as sns\n",
    "import os\n",
    "import warnings\n",
    "warnings.filterwarnings('ignore')\n",
    "import joblib\n",
    "\n",
    "import sklearn\n",
    "from sklearn import preprocessing\n",
    "from sklearn import model_selection\n",
    "from sklearn.model_selection import train_test_split\n",
    "from sklearn.feature_extraction.text import CountVectorizer\n",
    "import re\n",
    "import random\n",
    "import tensorflow as tf\n",
    "from tensorflow import keras\n",
    "from keras import preprocessing\n",
    "\n",
    "from tensorflow.keras.preprocessing.text import Tokenizer\n",
    "from tensorflow.keras.callbacks import EarlyStopping\n",
    "from tensorflow.keras.models import load_model, Sequential\n",
    "from tensorflow.keras.layers import Dense, Embedding, LSTM, Dropout, GlobalAveragePooling1D, Flatten\n",
    "from tensorflow.keras.preprocessing.sequence import pad_sequences\n",
    "\n",
    "import nltk\n",
    "from nltk.tokenize import word_tokenize\n",
    "from nltk.corpus import stopwords\n",
    "from nltk.stem import PorterStemmer\n",
    "nltk.download('punkt')\n",
    "nltk.download('wordnet')\n",
    "nltk.download('stopwords')\n",
    "\n",
    "from cleantext import clean\n",
    "import emoji"
   ]
  },
  {
   "cell_type": "code",
   "execution_count": 2,
   "id": "8183319e-babe-4d3c-b1f0-1faf09a2b572",
   "metadata": {},
   "outputs": [
    {
     "data": {
      "text/plain": [
       "'2.16.1'"
      ]
     },
     "execution_count": 2,
     "metadata": {},
     "output_type": "execute_result"
    }
   ],
   "source": [
    "#tensor flow version\n",
    "tf.__version__"
   ]
  },
  {
   "cell_type": "code",
   "execution_count": 3,
   "id": "08f2ca98-3d1c-4f88-9abd-22b7786c5f46",
   "metadata": {},
   "outputs": [
    {
     "data": {
      "text/plain": [
       "('Python version used for this analysis is: ', '3.11.5')"
      ]
     },
     "execution_count": 3,
     "metadata": {},
     "output_type": "execute_result"
    }
   ],
   "source": [
    "from platform import python_version\n",
    "('Python version used for this analysis is: ', python_version())"
   ]
  },
  {
   "cell_type": "markdown",
   "id": "0fcf7565-5085-4bd0-8274-5027d2574b9b",
   "metadata": {},
   "source": [
    "#### Import Data Sets"
   ]
  },
  {
   "cell_type": "code",
   "execution_count": 4,
   "id": "a1aa07a2-2d22-4bde-abc0-7740acbf0e77",
   "metadata": {},
   "outputs": [
    {
     "data": {
      "text/html": [
       "<div>\n",
       "<style scoped>\n",
       "    .dataframe tbody tr th:only-of-type {\n",
       "        vertical-align: middle;\n",
       "    }\n",
       "\n",
       "    .dataframe tbody tr th {\n",
       "        vertical-align: top;\n",
       "    }\n",
       "\n",
       "    .dataframe thead th {\n",
       "        text-align: right;\n",
       "    }\n",
       "</style>\n",
       "<table border=\"1\" class=\"dataframe\">\n",
       "  <thead>\n",
       "    <tr style=\"text-align: right;\">\n",
       "      <th></th>\n",
       "      <th>review</th>\n",
       "      <th>rating</th>\n",
       "    </tr>\n",
       "  </thead>\n",
       "  <tbody>\n",
       "    <tr>\n",
       "      <th>0</th>\n",
       "      <td>So there is no way for me to plug it in here i...</td>\n",
       "      <td>0</td>\n",
       "    </tr>\n",
       "    <tr>\n",
       "      <th>1</th>\n",
       "      <td>Good case, Excellent value.</td>\n",
       "      <td>1</td>\n",
       "    </tr>\n",
       "    <tr>\n",
       "      <th>2</th>\n",
       "      <td>Great for the jawbone.</td>\n",
       "      <td>1</td>\n",
       "    </tr>\n",
       "    <tr>\n",
       "      <th>3</th>\n",
       "      <td>Tied to charger for conversations lasting more...</td>\n",
       "      <td>0</td>\n",
       "    </tr>\n",
       "    <tr>\n",
       "      <th>4</th>\n",
       "      <td>The mic is great.</td>\n",
       "      <td>1</td>\n",
       "    </tr>\n",
       "  </tbody>\n",
       "</table>\n",
       "</div>"
      ],
      "text/plain": [
       "                                              review  rating\n",
       "0  So there is no way for me to plug it in here i...       0\n",
       "1                        Good case, Excellent value.       1\n",
       "2                             Great for the jawbone.       1\n",
       "3  Tied to charger for conversations lasting more...       0\n",
       "4                                  The mic is great.       1"
      ]
     },
     "execution_count": 4,
     "metadata": {},
     "output_type": "execute_result"
    }
   ],
   "source": [
    "#import Amazon data set\n",
    "file_path=('C:/Users/Kmoik WGU/Desktop/D213/amazon_cells_labelled.txt')\n",
    "amz=pd.read_csv(file_path, delimiter='\\t', header=None, names=['review', 'rating'])\n",
    "amz.head()"
   ]
  },
  {
   "cell_type": "code",
   "execution_count": 5,
   "id": "3a6ff479-0685-4b81-81b2-eb57b60162b4",
   "metadata": {},
   "outputs": [
    {
     "data": {
      "text/html": [
       "<div>\n",
       "<style scoped>\n",
       "    .dataframe tbody tr th:only-of-type {\n",
       "        vertical-align: middle;\n",
       "    }\n",
       "\n",
       "    .dataframe tbody tr th {\n",
       "        vertical-align: top;\n",
       "    }\n",
       "\n",
       "    .dataframe thead th {\n",
       "        text-align: right;\n",
       "    }\n",
       "</style>\n",
       "<table border=\"1\" class=\"dataframe\">\n",
       "  <thead>\n",
       "    <tr style=\"text-align: right;\">\n",
       "      <th></th>\n",
       "      <th>review</th>\n",
       "      <th>rating</th>\n",
       "    </tr>\n",
       "  </thead>\n",
       "  <tbody>\n",
       "    <tr>\n",
       "      <th>0</th>\n",
       "      <td>A very, very, very slow-moving, aimless movie ...</td>\n",
       "      <td>0</td>\n",
       "    </tr>\n",
       "    <tr>\n",
       "      <th>1</th>\n",
       "      <td>Not sure who was more lost - the flat characte...</td>\n",
       "      <td>0</td>\n",
       "    </tr>\n",
       "    <tr>\n",
       "      <th>2</th>\n",
       "      <td>Attempting artiness with black &amp; white and cle...</td>\n",
       "      <td>0</td>\n",
       "    </tr>\n",
       "    <tr>\n",
       "      <th>3</th>\n",
       "      <td>Very little music or anything to speak of.</td>\n",
       "      <td>0</td>\n",
       "    </tr>\n",
       "    <tr>\n",
       "      <th>4</th>\n",
       "      <td>The best scene in the movie was when Gerardo i...</td>\n",
       "      <td>1</td>\n",
       "    </tr>\n",
       "  </tbody>\n",
       "</table>\n",
       "</div>"
      ],
      "text/plain": [
       "                                              review  rating\n",
       "0  A very, very, very slow-moving, aimless movie ...       0\n",
       "1  Not sure who was more lost - the flat characte...       0\n",
       "2  Attempting artiness with black & white and cle...       0\n",
       "3       Very little music or anything to speak of.         0\n",
       "4  The best scene in the movie was when Gerardo i...       1"
      ]
     },
     "execution_count": 5,
     "metadata": {},
     "output_type": "execute_result"
    }
   ],
   "source": [
    "#import IMDB data set\n",
    "file_path=('C:/Users/Kmoik WGU/Desktop/D213/imdb_labelled.txt')\n",
    "imdb=pd.read_csv(file_path, delimiter='\\t', header=None, names=['review', 'rating'])\n",
    "imdb.head()"
   ]
  },
  {
   "cell_type": "code",
   "execution_count": 6,
   "id": "f3deff07-db98-40b1-9ea0-b177c702d4f4",
   "metadata": {},
   "outputs": [
    {
     "data": {
      "text/html": [
       "<div>\n",
       "<style scoped>\n",
       "    .dataframe tbody tr th:only-of-type {\n",
       "        vertical-align: middle;\n",
       "    }\n",
       "\n",
       "    .dataframe tbody tr th {\n",
       "        vertical-align: top;\n",
       "    }\n",
       "\n",
       "    .dataframe thead th {\n",
       "        text-align: right;\n",
       "    }\n",
       "</style>\n",
       "<table border=\"1\" class=\"dataframe\">\n",
       "  <thead>\n",
       "    <tr style=\"text-align: right;\">\n",
       "      <th></th>\n",
       "      <th>review</th>\n",
       "      <th>rating</th>\n",
       "    </tr>\n",
       "  </thead>\n",
       "  <tbody>\n",
       "    <tr>\n",
       "      <th>0</th>\n",
       "      <td>Wow... Loved this place.</td>\n",
       "      <td>1</td>\n",
       "    </tr>\n",
       "    <tr>\n",
       "      <th>1</th>\n",
       "      <td>Crust is not good.</td>\n",
       "      <td>0</td>\n",
       "    </tr>\n",
       "    <tr>\n",
       "      <th>2</th>\n",
       "      <td>Not tasty and the texture was just nasty.</td>\n",
       "      <td>0</td>\n",
       "    </tr>\n",
       "    <tr>\n",
       "      <th>3</th>\n",
       "      <td>Stopped by during the late May bank holiday of...</td>\n",
       "      <td>1</td>\n",
       "    </tr>\n",
       "    <tr>\n",
       "      <th>4</th>\n",
       "      <td>The selection on the menu was great and so wer...</td>\n",
       "      <td>1</td>\n",
       "    </tr>\n",
       "  </tbody>\n",
       "</table>\n",
       "</div>"
      ],
      "text/plain": [
       "                                              review  rating\n",
       "0                           Wow... Loved this place.       1\n",
       "1                                 Crust is not good.       0\n",
       "2          Not tasty and the texture was just nasty.       0\n",
       "3  Stopped by during the late May bank holiday of...       1\n",
       "4  The selection on the menu was great and so wer...       1"
      ]
     },
     "execution_count": 6,
     "metadata": {},
     "output_type": "execute_result"
    }
   ],
   "source": [
    "#import yelp data set\n",
    "file_path=('C:/Users/Kmoik WGU/Desktop/D213/yelp_labelled.txt')\n",
    "yelp=pd.read_csv(file_path, delimiter='\\t', header=None, names=['review', 'rating'])\n",
    "yelp.head()"
   ]
  },
  {
   "cell_type": "markdown",
   "id": "3551aadb-9f0c-44db-8cf4-da668a3f488c",
   "metadata": {},
   "source": [
    "All 3 data sets have an index column, review column, and rating column.  The review column is text, the rating column is 1s and 0s where, per the data set information, 1 is positive, and 0 represents a negative review (UC Irvine, 2015).  Since the files are all similarly structured, I can move forward with joining them."
   ]
  },
  {
   "cell_type": "code",
   "execution_count": 7,
   "id": "3e6369fc-7610-47d5-bd23-67547839d360",
   "metadata": {},
   "outputs": [],
   "source": [
    "#concat into 1 df\n",
    "df=pd.concat([amz, imdb, yelp])\n",
    "df.reset_index(inplace=True)"
   ]
  },
  {
   "cell_type": "code",
   "execution_count": 8,
   "id": "5e73bfe8-c782-4d66-802e-e71536809b5d",
   "metadata": {},
   "outputs": [],
   "source": [
    "#renaming rating to sentiment\n",
    "df.rename(columns={'rating': 'sentiment'}, inplace=True)"
   ]
  },
  {
   "cell_type": "code",
   "execution_count": 9,
   "id": "eab01747-e1c3-4b60-ac22-5f78bdbe8978",
   "metadata": {},
   "outputs": [],
   "source": [
    "df.to_csv('C:/Users/Kmoik WGU/Desktop/D213/combined.csv')"
   ]
  },
  {
   "cell_type": "markdown",
   "id": "6101fb3d-5e33-45e8-99f3-10092a706b41",
   "metadata": {},
   "source": [
    "#### View df"
   ]
  },
  {
   "cell_type": "code",
   "execution_count": 10,
   "id": "203486a2-51ce-4f7f-baf3-e8b6a73f9961",
   "metadata": {},
   "outputs": [
    {
     "data": {
      "text/plain": [
       "(2748, 3)"
      ]
     },
     "execution_count": 10,
     "metadata": {},
     "output_type": "execute_result"
    }
   ],
   "source": [
    "df.shape"
   ]
  },
  {
   "cell_type": "code",
   "execution_count": 11,
   "id": "264e3cea-d083-4e19-a4a4-3beee5a696d3",
   "metadata": {},
   "outputs": [
    {
     "data": {
      "text/html": [
       "<div>\n",
       "<style scoped>\n",
       "    .dataframe tbody tr th:only-of-type {\n",
       "        vertical-align: middle;\n",
       "    }\n",
       "\n",
       "    .dataframe tbody tr th {\n",
       "        vertical-align: top;\n",
       "    }\n",
       "\n",
       "    .dataframe thead th {\n",
       "        text-align: right;\n",
       "    }\n",
       "</style>\n",
       "<table border=\"1\" class=\"dataframe\">\n",
       "  <thead>\n",
       "    <tr style=\"text-align: right;\">\n",
       "      <th></th>\n",
       "      <th>index</th>\n",
       "      <th>review</th>\n",
       "      <th>sentiment</th>\n",
       "    </tr>\n",
       "  </thead>\n",
       "  <tbody>\n",
       "    <tr>\n",
       "      <th>0</th>\n",
       "      <td>0</td>\n",
       "      <td>So there is no way for me to plug it in here i...</td>\n",
       "      <td>0</td>\n",
       "    </tr>\n",
       "    <tr>\n",
       "      <th>1</th>\n",
       "      <td>1</td>\n",
       "      <td>Good case, Excellent value.</td>\n",
       "      <td>1</td>\n",
       "    </tr>\n",
       "    <tr>\n",
       "      <th>2</th>\n",
       "      <td>2</td>\n",
       "      <td>Great for the jawbone.</td>\n",
       "      <td>1</td>\n",
       "    </tr>\n",
       "    <tr>\n",
       "      <th>3</th>\n",
       "      <td>3</td>\n",
       "      <td>Tied to charger for conversations lasting more...</td>\n",
       "      <td>0</td>\n",
       "    </tr>\n",
       "    <tr>\n",
       "      <th>4</th>\n",
       "      <td>4</td>\n",
       "      <td>The mic is great.</td>\n",
       "      <td>1</td>\n",
       "    </tr>\n",
       "  </tbody>\n",
       "</table>\n",
       "</div>"
      ],
      "text/plain": [
       "   index                                             review  sentiment\n",
       "0      0  So there is no way for me to plug it in here i...          0\n",
       "1      1                        Good case, Excellent value.          1\n",
       "2      2                             Great for the jawbone.          1\n",
       "3      3  Tied to charger for conversations lasting more...          0\n",
       "4      4                                  The mic is great.          1"
      ]
     },
     "execution_count": 11,
     "metadata": {},
     "output_type": "execute_result"
    }
   ],
   "source": [
    "df.head()"
   ]
  },
  {
   "cell_type": "code",
   "execution_count": 12,
   "id": "52295f49-e81f-4ae4-8b18-aa2ab39ca6b0",
   "metadata": {},
   "outputs": [
    {
     "name": "stdout",
     "output_type": "stream",
     "text": [
      "<class 'pandas.core.frame.DataFrame'>\n",
      "RangeIndex: 2748 entries, 0 to 2747\n",
      "Data columns (total 3 columns):\n",
      " #   Column     Non-Null Count  Dtype \n",
      "---  ------     --------------  ----- \n",
      " 0   index      2748 non-null   int64 \n",
      " 1   review     2748 non-null   object\n",
      " 2   sentiment  2748 non-null   int64 \n",
      "dtypes: int64(2), object(1)\n",
      "memory usage: 64.5+ KB\n"
     ]
    }
   ],
   "source": [
    "df.info()"
   ]
  },
  {
   "cell_type": "code",
   "execution_count": 13,
   "id": "2f1c3f54-bfbe-490d-ad72-cbc501f6425b",
   "metadata": {},
   "outputs": [
    {
     "data": {
      "text/html": [
       "<div>\n",
       "<style scoped>\n",
       "    .dataframe tbody tr th:only-of-type {\n",
       "        vertical-align: middle;\n",
       "    }\n",
       "\n",
       "    .dataframe tbody tr th {\n",
       "        vertical-align: top;\n",
       "    }\n",
       "\n",
       "    .dataframe thead th {\n",
       "        text-align: right;\n",
       "    }\n",
       "</style>\n",
       "<table border=\"1\" class=\"dataframe\">\n",
       "  <thead>\n",
       "    <tr style=\"text-align: right;\">\n",
       "      <th></th>\n",
       "      <th>index</th>\n",
       "      <th>sentiment</th>\n",
       "    </tr>\n",
       "  </thead>\n",
       "  <tbody>\n",
       "    <tr>\n",
       "      <th>count</th>\n",
       "      <td>2748.000000</td>\n",
       "      <td>2748.000000</td>\n",
       "    </tr>\n",
       "    <tr>\n",
       "      <th>mean</th>\n",
       "      <td>465.203057</td>\n",
       "      <td>0.504367</td>\n",
       "    </tr>\n",
       "    <tr>\n",
       "      <th>std</th>\n",
       "      <td>276.612338</td>\n",
       "      <td>0.500072</td>\n",
       "    </tr>\n",
       "    <tr>\n",
       "      <th>min</th>\n",
       "      <td>0.000000</td>\n",
       "      <td>0.000000</td>\n",
       "    </tr>\n",
       "    <tr>\n",
       "      <th>25%</th>\n",
       "      <td>228.750000</td>\n",
       "      <td>0.000000</td>\n",
       "    </tr>\n",
       "    <tr>\n",
       "      <th>50%</th>\n",
       "      <td>457.500000</td>\n",
       "      <td>1.000000</td>\n",
       "    </tr>\n",
       "    <tr>\n",
       "      <th>75%</th>\n",
       "      <td>686.250000</td>\n",
       "      <td>1.000000</td>\n",
       "    </tr>\n",
       "    <tr>\n",
       "      <th>max</th>\n",
       "      <td>999.000000</td>\n",
       "      <td>1.000000</td>\n",
       "    </tr>\n",
       "  </tbody>\n",
       "</table>\n",
       "</div>"
      ],
      "text/plain": [
       "             index    sentiment\n",
       "count  2748.000000  2748.000000\n",
       "mean    465.203057     0.504367\n",
       "std     276.612338     0.500072\n",
       "min       0.000000     0.000000\n",
       "25%     228.750000     0.000000\n",
       "50%     457.500000     1.000000\n",
       "75%     686.250000     1.000000\n",
       "max     999.000000     1.000000"
      ]
     },
     "execution_count": 13,
     "metadata": {},
     "output_type": "execute_result"
    }
   ],
   "source": [
    "df.describe()"
   ]
  },
  {
   "cell_type": "code",
   "execution_count": 14,
   "id": "4ca3c14c-3179-470f-97d4-c4ffeb206aa3",
   "metadata": {},
   "outputs": [
    {
     "data": {
      "text/plain": [
       "sentiment\n",
       "1    1386\n",
       "0    1362\n",
       "Name: count, dtype: int64"
      ]
     },
     "execution_count": 14,
     "metadata": {},
     "output_type": "execute_result"
    }
   ],
   "source": [
    "df['sentiment'].value_counts()"
   ]
  },
  {
   "cell_type": "code",
   "execution_count": 15,
   "id": "f1d30a57-84fb-46a1-bd7f-19c36cabb76c",
   "metadata": {},
   "outputs": [
    {
     "data": {
      "text/plain": [
       "<bound method DataFrame.info of       index                                             review  sentiment\n",
       "0         0  So there is no way for me to plug it in here i...          0\n",
       "1         1                        Good case, Excellent value.          1\n",
       "2         2                             Great for the jawbone.          1\n",
       "3         3  Tied to charger for conversations lasting more...          0\n",
       "4         4                                  The mic is great.          1\n",
       "...     ...                                                ...        ...\n",
       "2743    995  I think food should have flavor and texture an...          0\n",
       "2744    996                           Appetite instantly gone.          0\n",
       "2745    997  Overall I was not impressed and would not go b...          0\n",
       "2746    998  The whole experience was underwhelming, and I ...          0\n",
       "2747    999  Then, as if I hadn't wasted enough of my life ...          0\n",
       "\n",
       "[2748 rows x 3 columns]>"
      ]
     },
     "execution_count": 15,
     "metadata": {},
     "output_type": "execute_result"
    }
   ],
   "source": [
    "df.info"
   ]
  },
  {
   "cell_type": "code",
   "execution_count": 16,
   "id": "77323946-1e1a-4a9c-9cc9-ab1f0d540c5b",
   "metadata": {},
   "outputs": [
    {
     "data": {
      "text/plain": [
       "review\n",
       "If you like a loud buzzing to override all your conversations, then this phone is for you!                                                2\n",
       "Works great!.                                                                                                                             2\n",
       "Does not fit.                                                                                                                             2\n",
       "The food was terrible.                                                                                                                    2\n",
       "I won't be back.                                                                                                                          2\n",
       "                                                                                                                                         ..\n",
       "but it is great, i would really recommend it                                                                                              1\n",
       "Makes it easier to keep up with my bluetooth when I'm not wearing it.                                                                     1\n",
       "As I said above....PRETTY USELESS!                                                                                                        1\n",
       "Never got it!!!!!                                                                                                                         1\n",
       "Then, as if I hadn't wasted enough of my life there, they poured salt in the wound by drawing out the time it took to bring the check.    1\n",
       "Name: count, Length: 2731, dtype: int64"
      ]
     },
     "execution_count": 16,
     "metadata": {},
     "output_type": "execute_result"
    }
   ],
   "source": [
    "df['review'].value_counts()"
   ]
  },
  {
   "cell_type": "markdown",
   "id": "21b20989-3fce-436b-b60b-662070d30334",
   "metadata": {},
   "source": [
    "## B1. Data Exploration"
   ]
  },
  {
   "cell_type": "code",
   "execution_count": 17,
   "id": "8f0dedfb-ed95-4824-a72d-aec5500c66ad",
   "metadata": {},
   "outputs": [
    {
     "data": {
      "text/plain": [
       "0"
      ]
     },
     "execution_count": 17,
     "metadata": {},
     "output_type": "execute_result"
    }
   ],
   "source": [
    "#check for duplicates\n",
    "df.duplicated().sum()"
   ]
  },
  {
   "cell_type": "code",
   "execution_count": 18,
   "id": "b3bbe217-adef-403e-b854-761a5940073c",
   "metadata": {},
   "outputs": [
    {
     "data": {
      "text/plain": [
       "index        0\n",
       "review       0\n",
       "sentiment    0\n",
       "dtype: int64"
      ]
     },
     "execution_count": 18,
     "metadata": {},
     "output_type": "execute_result"
    }
   ],
   "source": [
    "#check for nulls\n",
    "df.isnull().sum()"
   ]
  },
  {
   "cell_type": "code",
   "execution_count": 19,
   "id": "7c33fbc3-172a-4eab-b707-43a44a639f3e",
   "metadata": {},
   "outputs": [
    {
     "data": {
      "text/plain": [
       "index        0\n",
       "review       0\n",
       "sentiment    0\n",
       "dtype: int64"
      ]
     },
     "execution_count": 19,
     "metadata": {},
     "output_type": "execute_result"
    }
   ],
   "source": [
    "#check for nan\n",
    "df.isna().sum()"
   ]
  },
  {
   "cell_type": "code",
   "execution_count": 20,
   "id": "a757ee22-bc2b-4e38-b746-31633a784cce",
   "metadata": {},
   "outputs": [
    {
     "data": {
      "text/html": [
       "<div>\n",
       "<style scoped>\n",
       "    .dataframe tbody tr th:only-of-type {\n",
       "        vertical-align: middle;\n",
       "    }\n",
       "\n",
       "    .dataframe tbody tr th {\n",
       "        vertical-align: top;\n",
       "    }\n",
       "\n",
       "    .dataframe thead th {\n",
       "        text-align: right;\n",
       "    }\n",
       "</style>\n",
       "<table border=\"1\" class=\"dataframe\">\n",
       "  <thead>\n",
       "    <tr style=\"text-align: right;\">\n",
       "      <th></th>\n",
       "      <th>index</th>\n",
       "      <th>review</th>\n",
       "      <th>sentiment</th>\n",
       "    </tr>\n",
       "  </thead>\n",
       "  <tbody>\n",
       "    <tr>\n",
       "      <th>0</th>\n",
       "      <td>0</td>\n",
       "      <td>So there is no way for me to plug it in here i...</td>\n",
       "      <td>0</td>\n",
       "    </tr>\n",
       "    <tr>\n",
       "      <th>1</th>\n",
       "      <td>1</td>\n",
       "      <td>Good case, Excellent value.</td>\n",
       "      <td>1</td>\n",
       "    </tr>\n",
       "    <tr>\n",
       "      <th>2</th>\n",
       "      <td>2</td>\n",
       "      <td>Great for the jawbone.</td>\n",
       "      <td>1</td>\n",
       "    </tr>\n",
       "    <tr>\n",
       "      <th>3</th>\n",
       "      <td>3</td>\n",
       "      <td>Tied to charger for conversations lasting more...</td>\n",
       "      <td>0</td>\n",
       "    </tr>\n",
       "    <tr>\n",
       "      <th>4</th>\n",
       "      <td>4</td>\n",
       "      <td>The mic is great.</td>\n",
       "      <td>1</td>\n",
       "    </tr>\n",
       "    <tr>\n",
       "      <th>...</th>\n",
       "      <td>...</td>\n",
       "      <td>...</td>\n",
       "      <td>...</td>\n",
       "    </tr>\n",
       "    <tr>\n",
       "      <th>2743</th>\n",
       "      <td>995</td>\n",
       "      <td>I think food should have flavor and texture an...</td>\n",
       "      <td>0</td>\n",
       "    </tr>\n",
       "    <tr>\n",
       "      <th>2744</th>\n",
       "      <td>996</td>\n",
       "      <td>Appetite instantly gone.</td>\n",
       "      <td>0</td>\n",
       "    </tr>\n",
       "    <tr>\n",
       "      <th>2745</th>\n",
       "      <td>997</td>\n",
       "      <td>Overall I was not impressed and would not go b...</td>\n",
       "      <td>0</td>\n",
       "    </tr>\n",
       "    <tr>\n",
       "      <th>2746</th>\n",
       "      <td>998</td>\n",
       "      <td>The whole experience was underwhelming, and I ...</td>\n",
       "      <td>0</td>\n",
       "    </tr>\n",
       "    <tr>\n",
       "      <th>2747</th>\n",
       "      <td>999</td>\n",
       "      <td>Then, as if I hadn't wasted enough of my life ...</td>\n",
       "      <td>0</td>\n",
       "    </tr>\n",
       "  </tbody>\n",
       "</table>\n",
       "<p>2748 rows × 3 columns</p>\n",
       "</div>"
      ],
      "text/plain": [
       "      index                                             review  sentiment\n",
       "0         0  So there is no way for me to plug it in here i...          0\n",
       "1         1                        Good case, Excellent value.          1\n",
       "2         2                             Great for the jawbone.          1\n",
       "3         3  Tied to charger for conversations lasting more...          0\n",
       "4         4                                  The mic is great.          1\n",
       "...     ...                                                ...        ...\n",
       "2743    995  I think food should have flavor and texture an...          0\n",
       "2744    996                           Appetite instantly gone.          0\n",
       "2745    997  Overall I was not impressed and would not go b...          0\n",
       "2746    998  The whole experience was underwhelming, and I ...          0\n",
       "2747    999  Then, as if I hadn't wasted enough of my life ...          0\n",
       "\n",
       "[2748 rows x 3 columns]"
      ]
     },
     "execution_count": 20,
     "metadata": {},
     "output_type": "execute_result"
    }
   ],
   "source": [
    "#drop any nan\n",
    "df.dropna()"
   ]
  },
  {
   "cell_type": "code",
   "execution_count": 21,
   "id": "63adfd04-301c-4147-922b-dee1fde57e40",
   "metadata": {},
   "outputs": [
    {
     "name": "stdout",
     "output_type": "stream",
     "text": [
      "Min Length:  7\n",
      "Max Length:  7944\n"
     ]
    }
   ],
   "source": [
    "#minimum and maximum review character length original data\n",
    "print(\"Min Length: \" , min(df['review'].str.len()))\n",
    "print(\"Max Length: \" , max(df['review'].str.len()))"
   ]
  },
  {
   "cell_type": "markdown",
   "id": "49fea9ae-2ff4-4f9c-bb51-aa036ae9d555",
   "metadata": {},
   "source": [
    "#### Reviewing text in review"
   ]
  },
  {
   "cell_type": "code",
   "execution_count": 22,
   "id": "69f5dbdd-90a6-4602-a081-afd3e424ee28",
   "metadata": {
    "scrolled": true
   },
   "outputs": [
    {
     "name": "stdout",
     "output_type": "stream",
     "text": [
      "['So there is no way for me to plug it in here in the US unless I go by a converter.', 'Good case, Excellent value.', 'Great for the jawbone.', 'Tied to charger for conversations lasting more than 45 minutes.MAJOR PROBLEMS!!', 'The mic is great.', 'I have to jiggle the plug to get it to line up right to get decent volume.', 'If you have several dozen or several hundred contacts, then imagine the fun of sending each of them one by one.', 'If you are Razr owner...you must have this!', 'Needless to say, I wasted my money.', 'What a waste of money and time!.', 'And the sound quality is great.', 'He was very impressed when going from the original battery to the extended battery.', 'If the two were seperated by a mere 5+ ft I started to notice excessive static and garbled sound from the headset.', 'Very good quality though', 'The design is very odd, as the ear \"clip\" is not very comfortable at all.', 'Highly recommend for any one who has a blue tooth phone.', 'I advise EVERYONE DO NOT BE FOOLED!', 'So Far So Good!.', 'Works great!.', 'It clicks into place in a way that makes you wonder how long that mechanism would last.', \"I went on Motorola's website and followed all directions, but could not get it to pair again.\", 'I bought this to use with my Kindle Fire and absolutely loved it!', 'The commercials are the most misleading.', \"I have yet to run this new battery below two bars and that's three days without charging.\", 'I bought it for my mother and she had a problem with the battery.', 'Great Pocket PC / phone combination.', \"I've owned this phone for 7 months now and can say that it's the best mobile phone I've had.\", \"I didn't think that the instructions provided were helpful to me.\", 'People couldnt hear me talk and I had to pull out the earphone and talk on the phone.', \"Doesn't hold charge.\", 'This is a simple little phone to use, but the breakage is unacceptible.', 'This product is ideal for people like me whose ears are very sensitive.', 'It is unusable in a moving car at freeway speed.', 'I have two more years left in this contract and I hate this phone.', 'Car charger as well as AC charger are included to make sure you never run out of juice.Highy recommended', 'You need at least 3 mins to get to your phone book from the time you first turn on the phone.Battery life is short.', 'It has kept up very well.', 'Poor Talk Time Performance.', 'The case is great and works fine with the 680.', 'worthless product.', 'It has a great camera thats 2MP, and the pics are nice and clear with great picture quality.', 'I was not impressed by this product.', 'Nice headset priced right.', 'I only hear garbage for audio.', 'Excellent bluetooth headset.', 'It has all the features I want', 'Who in their right mind is gonna buy this battery?.', 'AFTER ARGUING WITH VERIZON REGARDING THE DROPPED CALLS WE RETURNED THE PHONES AFTER TWO DAYS.', 'This case seems well made.', 'Disappointed with battery.', \"Not loud enough and doesn't turn on like it should.\", 'good protection and does not make phone too bulky.', 'A usable keyboard actually turns a PDA into a real-world useful machine instead of just a neat gadget.', \"This phone is pretty sturdy and I've never had any large problems with it.\", 'I love this thing!', 'Everything about it is fine and reasonable for the price i.e.', 'VERY DISAPPOINTED.', 'I even dropped this phone into a stream and it was submerged for 15 seconds and it still works great!', 'I have been very happy with the 510 and have had NO complaints from any one regarding my sound quality on their end.', 'The buttons for on and off are bad.', \"Essentially you can forget Microsoft's tech support.\", 'I really recommend this faceplates since it looks very nice, elegant and cool.', \"These headphones were a great find - and I think they are perhaps the best purchase I've made in the last several years - seriously.\", 'Buy a different phone - but not this.', 'You have to hold the phone at a particular angle for the other party to hear you clearly.', \"The one big drawback of the MP3 player is that the buttons on the phone's front cover that let you pause and skip songs lock out after a few seconds.\", 'A week later after I activated it, it suddenly died.', 'It feels more comfortable than most headsets because I wear glasses and that gets in the way sometimes.', 'Great for iPODs too.', 'This device is great in several situations:1.)', \"Mic Doesn't work.\", 'Even in my BMW 3 series which is fairly quiet, I have trouble hearing what the other person is saying.', 'Great choice!', 'Nice docking station for home or work.', 'This is a beautiful phone.', 'Love this product.', 'Do Not Buy for D807...wrongly advertised for D807.', 'This is a great little item.', 'I love this phone , It is very handy and has a lot of features .', 'I purchased this and within 2 days it was no longer working!!!!!!!!!', 'I wear it everyday and it holds up very well.', 'Not a good bargain.', 'Well packaged, arrived on time, and works as intended.', 'The battery runs down quickly.', 'This item worked great, but it broke after 6 months of use.', 'The headsets are easy to use and everyone loves them.', 'This phone works great.', 'The construction of the headsets is poor.', 'Product was excellent and works better than the verizon one and Boy was it cheaper!', 'The phone loads super!', 'For a product that costs as much as this one does, I expect it to work far better and with greater ease than this thing does.', 'Made very sturdy.', 'Worked great!.', 'The ear buds only play music in one ear.', 'Dont waste your money...', 'Will order from them again!', 'If you plan to use this in a car forget about it.', 'I found this product to be waaay too big.', \"Best I've found so far .... I've tried 2 other bluetooths and this one has the best quality (for both me and the listener) as well as ease of using.\", \"I'm very disappointed with my decision.\", 'Integrated seamlessly with the Motorola RAZR phone.', 'Buyer Beware, you could flush money right down the toilet.', 'Definitely a bargain.', 'The price was very good and with the free shipping and all it was a good purchase.', 'I received my supposedly new motorola 375 and apparently there was not a match between the phone and the charger.', 'Pros:-Good camera - very nice pictures , also has cool styles like black and white, and more.', \"That's a huge design flaw (unless I'm not using it correctly, which I don't think is the case).\", 'I love my 350 headset.. My Jabra350 bluetooth headset is great, the reception is very good and the ear piece is a comfortable fit.', 'The camera, although rated at an impressive 1.3 megapixels, renders images that fall well below expectations of such a relatively high resolution.', 'I purcashed this for the car charger and it does not work.', 'Sound quality on both end is excellent, I use headset to call my wife and ask my wife to use headset to call me !2.', 'This phone is slim and light and the display is beautiful.', 'its a little geeky but i think thats its sex on toast and it rocks and oozes sex right down to its battery embedded sleek stylish leather case.', 'Great product, fast shipping!.', 'Absolutely great.', 'The keyboard is a nice compromise between a full QWERTY and the basic cell phone number keypad.', \"i got this phone around the end of may and i'm completely unhappy with it.\", 'It is very comfortable on the ear.', 'It has been a winner for us.', \")Setup couldn't have been simpler.\", \"I've tried several different earpieces for my cell phone and this Jabra one is the first one I've found that fits my ear comfortably.\", 'Could not get strong enough signal.', 'Iam very pleased with my purchase.', 'Bad Quality.', 'Gets the job done.', 'Great audio!.', 'Basically the service was very bad.', 'it did not work in my cell phone plug i am very up set with the charger!.', \"I've only had my bluetooth for a few weeks, but I really like it.\", 'The BT headset was such a disapoinment.', \"It is so small and you don't even realize that it is there after a while of getting used to it.\", 'The accompanied software is almost brilliant.', 'Headset works great & was packaged nicely to avoid any damage.', '!I definitly recommend!!', 'Buyer--Be Very Careful!!!!!.', 'The majority of the Logitech earbud headsets failed.', 'Very good stuff for the price.', 'My headset works just peachy-keen.', 'In my house I was getting dropped coverage upstairs and no coverage in my basement.', 'Voice recognition is tremendous!', 'What a waste.', 'During several different 2 minute calls, I experienced 5 drops and it was in an area that had 5 bars.', 'I was not happy with this item.', 'very disappointed.', 'The phone takes FOREVER to charge like 2 to 5 hours literally.', \"I got this phone on reccomendation from a relative and I'm glad I did.\", 'What a waste of time!', 'Its reception is very very poor.', 'Items stated as included from the description ARE NOT INCLUDED.', 'After 3 months, screen just went black all of a sudden.', 'I Was Hoping for More.', 'Audio Quality is poor, very poor.', 'I had absolutely no problem with this headset linking to my 8530 Blackberry Curve!', \"I know that sounds funny, but to me it seemed like sketchy technology that wouldn't work well.Well, this one works great.\", \"I've bought $5 wired headphones that sound better than these.\", 'This phone is very fast with sending any kind of messages and web browsing is significantly faster than previous phones i have used.', 'Nice quality build, unlike some cheap s*** out there.', 'This item is fantastic and works perfectly!', 'And I just love the colors!', 'W810i is just SUPERB.', 'All I can do is whine on the Internet, so here it goes.The more I use the thing the less I like it.', 'Great charger.', 'This is essentially a communications tool that does not communicate.', 'Works like a charm; it work the same as the one I got with the phone.', \"I still maintain that monkeys shouldn't make headphones, we just obviously don't share enough DNA to copy the design over to humans.\", 'Great Value.', \"Doesn't work at all.. I bougth it for my L7c and its not working.\", 'The look of it is very sharp and the screen is nice and clear, with great graphics.', \"doesn't last long.\", 'One thing I hate is the mode set button at the side.', 'EXCELLENT SERVICE!!!!!!!!.', 'Thank you for wasting my money.', 'How can that be?The audio quality is poor.', 'The iGo chargers and tips are really great.', 'The file browser offers all the options that one needs.Handsfree is great.', 'Superb Phone on a Great Network.', \"I connected my wife's bluetooth,(Motorola HS850) to my phone and it worked like a charm whether the phone was in my pocket or the case.\", 'I put the latest OS on it (v1.15g), and it now likes to slow to a crawl and lock up every once in a while.', 'It only recognizes the Phone as its storage device.', 'If you like a loud buzzing to override all your conversations, then this phone is for you!', \"Don't buy this product.\", \"I've had this bluetoooth headset for some time now and still not comfortable with the way it fits on the ear.\", 'The sound quality is good and functionality is awesome.', 'I have this phone and it is a thorn in my side, I really abhor it.', 'I recently had problems where I could not stay connected for more than 10 minutes before being disconnected.', 'Incredible!.', 'Design Flaw?.', 'Great phone!.', 'Waste of 13 bucks.', \"But when I check voice mail at night, the keypad backlight turns off a few seconds into the first message, and then I'm lost.\", 'The replacement died in a few weeks.', 'Any ring tone..Overall good phone to buy..', 'Lately they have been extremely nice and helpful on the phone.', 'I have had problems wit hit dropping signal and more.', 'Not impressed.', 'Light weight, I hardly notice it is there.', \"You'll love how thin it is.\", 'Bad Choice.', \"The pleather case doesn't fit.\", 'useless phone, simply deaf.', 'The color is even prettier than I thought it would be, and the graphics are incredibly sharp.', 'All in all I think it was a good investment.', 'It makes very strange ticking noises before it ends the call.', 'The best electronics of the available FM Transmitters.', 'Battery lasts only a few hours.', 'great headset, very impressed - H500.', 'The \"1.2\" mega pixel camera, being a part of a phone, is reasonably good7.', \"I've had this for nearly 2 years and it has worked great for me.\", 'Good transmit audio.', 'We are sending it back.', 'I did not bother contacting the company for few dollar product but I learned the lesson that I should not have bought this form online anyway.', 'If you hate earbugs, avoid this phone by all means.', 'Great price also!', \"The range is very decent, I've been able to roam around my house with the phone in the living room with no reception/sound quality issues.\", 'fast service.', 'I would highly recommend this.', 'I would recommend this.', 'I also didn\\'t like the \"on\" button, it felt like it would crack with use.', 'WORST PHONE EVER.', \"I'm still infatuated with this phone.\", 'Freezes frequently4.', \"It's kind of embarrassing to use because of how it looks and mostly it's embarrassing how child-like the company is.\", 'Simple, lightweight and great fit.', \"All in all, I'd expected a better consumer experience from Motorola.\", \"There's a horrible tick sound in the background on all my calls that I have never experienced before.\", 'These are certainly very comfortable and functionality is decent.', \"I usually don't like headbands but this one is very lightweight & doesn't mess up my hair.\", \"I'm a bit disappointed.\", 'I have had this phone for over a year now, and I will tell you, its not that great.', 'I ordered this for sony Ericsson W810i but I think it only worked once (thats when I first used it).', 'The battery is completely useless to me.', 'What a big waste of time.', \"Don't waste your $$$ on this one.\", 'Great sound and service.', 'Really pleased with this product so far.', 'One of my favorite purchases ever.', 'best bluetooth on the market.', 'Authentic leather with nice shine and comfort .I recommend you this case !!', 'I was very excited to get this headset because I thought it was really cute.', 'Do not make the same mistake as me.', 'Big Disappointment with calendar sync.', 'the phone was unusable and was not new.', 'Worst Customer Service Ever.', 'No additional ear gels provided, and no instructions whatsoever.', 'It defeats the purpose of a bluetooth headset.', 'Worth every penny.', 'Excellent wallet type phone case.', 'Nice headphones for the price and they work great!', 'Internet is excrutiatingly slow.', 'It is very comfortable to wear as well, which is probably the most important aspect about using a case.', \"It's fits like a glove and is strong, secure, and durable.\", 'O my gosh the best phone I have ever had.', \"It's very attractive and appears to be of good quality.\", 'I love all the features and form factor.', 'This product had a strong rubber/petroleum smell that was unbearable after a while and caused me to return it', 'poor quality and service.', 'The cable looks so thin and flimsy, it is scary.', 'Great Earpiece.', 'Excellent hands free tool.', 'Great for using with your home stereo.', 'Good product - incredible value.', \"Only had this a month but it's worked flawlessly so far.\", 'Works great.', 'Absolutel junk.', \"THAT one didn't work either.\", 'Battery life is real good.', 'Returned 8 hours later.', \"It's a great item.\", \"Don't waste your money!.\", 'Love this headset!', 'Not only will it drain your player, but may also potentially fry it.', 'Worked perfectly!', \"Unreliable - I'm giving up.\", 'I gave it 5 stars because of the sound quality.', 'Avoid this one if you can.', 'Reversible plug works great.', 'I wasted my little money with this earpiece.', 'Very good phone.', 'Best of all is the rotating feature, very helpful.', 'Comfort for our whole family.', 'Good product, good seller.', 'I love this bluetooth!', \"First of all, it doesn't wear well.\", 'I am very impressed with this headset from Plantronics.', 'I got it because it was so small and adorable.', \"I wouldn't recommend buying this product.\", 'Piece of Junk.', 'Poorly contstruct hinge.', 'This item is great, installed it, let it charged up overnite and it has been working good every since with no problems', 'Great Phone.', \"Don't buy it.\", 'Excellent Phone.', 'DO NOT PURCHASE THIS PHONE.', 'The voice recognition thru the handset is excellent.', \"This is hands down the best phone I've ever had.\", 'Works great, when my cat attacked the phone he scratched the protective strip instead of destroying the screen.', 'This one works and was priced right.', 'Customer service was terrible.', 'Battery life still not long enough in Motorola Razor V3i.', 'Sending it back.', 'Now I know that I made a wise decision.', 'Someone shouldve invented this sooner.', 'Good price.', 'Everything worked on the first try.The device was certainly engineered in a clever way and the construction feels good.', 'I received it quickly and it works great!!', 'Has been working great.', \"As many people complained, I found this headset's microphone was very weak.\", 'My 5-year old Nokia 2160 from Tracfone holds the charge a lot better than this.', 'They do not care about the consumer one bit.', 'This is a good battery, and it got here really fast.', 'The instruction manual is lacking.', 'Also its slim enough to fit into my alarm clock docking station without removing the case.', 'Phone now holds charge like it did when it was new.', 'The battery is unreliable as well as the service use antena.', \"It's uncomfortable and the sound quality is quite poor compared with the phone (Razr) or with my previous wired headset (that plugged into an LG).\", 'We have gotten a lot of compliments on it.', 'This is definitely a must have if your state does not allow cell phone usage while driving.', 'I want my money back.', 'I love this device.', 'I am also very happy with the price.', 'I ordered this product first and was unhappy with it immediately.', 'The Ngage is still lacking in earbuds.', 'I was able to do voice dialing in the car with no problem.', 'I have 2-3 bars on my cell phone when I am home, but you cant not hear anything.', 'good item, low price.', 'However-the riingtones are not the best, and neither are the games.', 'The plug did not work very well.', 'AMAZON SUCKS.', 'Rip off---- Over charge shipping.', 'VERY comfortable.', 'The battery is working well as a replacement for the original that came with the phone over 2 years ago.', 'The reception is excellent!', 'It fits comfortably in either ear, the sound is clear and loud, and the charge lasts a couple of days.', \"very clear, quality sound and you don't have to mess with the sound on your iPod since you have the sound buttons on the headset.\", \"1. long lasting battery (you don't have to recharge it as frequentyly as some of the flip phones)2.\", 'Obviously there is a problem with the adhesive.', 'Very disappointing.', 'It was an inexpensive piece, but I would still have expected better quality.', 'It is practically useless and did not add any kind of boost to my reception after I bought it.', 'Excellent sound quality.', 'Was not happy.', 'A PIECE OF JUNK THAT BROKE AFTER BEING ON MY PHONE FOR 2 DAYS!!!', 'New Battery works great in phone.', 'Worst customer service.', \"I've dropped my phone more times than I can say, even on concrete and my phone is still great (knock on wood!).\", 'Reception is terrible and full of static.', 'Good audio quality.', 'This little device has transformed my organizational capability and made my life a whole lot easier.', 'I was sitting in my vehicle, with the cradle on my belt, and the headset lost signal.', 'Were JERKS on the phone.', 'Works like a charm.. Works as advertised.', 'Comfortable, Nice Range, Good Battery Life.', 'Their network coverage in Los Angeles is horrible.', 'Excellent starter wireless headset.', 'The loudspeaker option is great, the bumpers with the lights is very ... appealing.', 'The only thing that I think could improve is the sound leaks out from the headset.', 'First off the reception sucks, I have never had more than 2 bars, ever.', 'The phone gets EXTREMELY HOT!', 'The microphone also works well, but (according to people I have called) it applifies everything.', 'Nice design and quality.', 'Also, if your phone is dropped, this case is not going to save it, specially when dropped face down.', 'It is light, easy to use, and has very clear reception and transmission.', 'bad fit, way too big.', 'It definitely was not as good as my S11.', 'awesome device.', 'Waste of money.', 'I had ordered a motorola data cable, got a very well finished and working product.', 'Love This Phone.', \"I was looking for this headset for a long time and now that I've got it I couldn't be happier.\", \"I'll be drivng along, and my headset starts ringing for no reason.\", 'Display is excellent and camera is as good as any from that year.', 'Battery life is also great!', \"The worst phone I've ever had.... Only had it for a few months.\", 'Not a good item.. It worked for a while then started having problems in my auto reverse tape player.', 'This is so embarassing and also my ears hurt if I try to push the ear plug into my ear.', 'Protects the phone on all sides.', 'This is a VERY average phone with bad battery life that operates on a weak network.', 'Clear Skype Calls, Long Battery Life, Long Range.', 'Soyo technology sucks.', 'Great Hands Free Device.', 'you can even take self portraits with the outside (exterior) display, very cool.', 'Same problem as others have mentioned.', 'After trying many many handsfree gadgets this is the one that finally works well.', 'Magical Help.', 'The worst piece of crap ever along with the Verizon customer service.', 'Poor sound quality.', 'The best phone in market :).', 'It worked very well.', 'The company shipped my product very promptly and it works well.', 'Exactly what I wanted.', 'The picture resolution is far below what other comparably-priced phones are offering today.', 'This is a great deal.', 'Excellent product, I am very satisfied with the purchase.', 'I highly recommend these and encourage people to give them a try.', \"Better than you'd expect.\", 'Using all earpieces, left or right, this thing will not stay on my ear.', 'Great product and price.', 'Sounds good reasonably priced and effective, Its that simple !', \"Still Waiting...... I'm sure this item would work well.. if I ever recieve it!\", 'what a disappointment', 'Very prompt service.', 'Excellent product for the price.', 'Very pleased with this headset.', \"don't waste your money and time.\", 'I especially love the long battery life.', \"It's so stupid to have to keep buying new chargers, car chargers, cradles, headphones and car kits every time a new phone comes out.\", 'Plantronics Bluetooth Excelent Buy.', 'I came over from Verizon because cingulair has nicer cell phones.... the first thing I noticed was the really bad service.', \"I'll be looking for a new earpiece.\", 'I highly recommend this device to everyone!', 'Jawbone Era is awesome too!', 'We received a WHITE colored battery that goes DEAD after a couple hoursTHe original used to last a week - but still lasts longer than thereplacement', 'After a year the battery went completely dead on my headset.', 'I have used several phone in two years, but this one is the best.', 'An Awesome New Look For Fall 2000!.', \"This is the first phone I've had that has been so cheaply made.\", 'Att is not clear, sound is very distorted and you have to yell when you talk.', 'The plastic breaks really easy on this clip.', 'Price is good too.', \"Don't make the same mistake I did.\", 'Oh and I forgot to also mention the weird color effect it has on your phone.', \"I'm using it with an iriver SPINN (with case) and it fits fine.\", \"Also the area where my unit broke).- I'm not too fond of the magnetic strap.\", 'Overall, I am psyched to have a phone which has all my appointments and contacts in and gets great reception.', 'every thing on phone work perfectly, she like it.', \"Another note about this phone's appearance is that it really looks rather bland, especially in the all black model.\", \"IT'S REALLY EASY.\", 'My Sanyo has survived dozens of drops on blacktop without ill effect.', 'Fantastic earphones.', 'It finds my cell phone right away when I enter the car.', 'Low Quality.', 'I highly recommend this modest priced cellular phone.', \"But it does get better reception and clarity than any phone I've had before.\", 'Warning - Stay away.', 'I wish I could return the unit and get back my money.', 'Awsome Device Works Great!!.', 'I used to talk on it for 1 - 1 1/2 hours and the battery would be literally drained and dying.', \"If you don't find it, too bad, as again the unit comes with one earpad only.I would not recommend this to anyone.\", 'Very Displeased.', 'I might have gotten a defect, but I would not risk buying it again because of the built quality alone.', 'They made this case too small and is very difficult to install.', 'Restored my phone to like new performance.', 'I would recommend purchasing the Jabra JX-10 series 2 which works flawlessly with my Moto Q, go figure.', 'I searched the Internet, and found this one to be the best value.', 'Does not fit.', 'Very happy with this product.', 'The screen size is big, key pad lit well enough, and the camera quality is excellent for a camera phone.', \"There's really nothing bad I can say about this headset.\", \"i'm glad i found this product on amazon it is hard to find, it wasn't high priced.\", 'Portable and it works.', 'My colleague & I now get great reception.A little expensive, but performance is great.', 'I even fully charged it before I went to bed and turned off blue tooth and wi-fi and noticed that it only had 20 % left in the morning.', \"I've also had problems with the phone reading the memory card in which I always turn it on and then off again.\", 'Not good when wearing a hat or sunglasses.', 'Timely shipment and quality product.', 'Nice solid keyboard.', 'Very well made and fits my Surefire GX2 perfectly.', 'Horrible phone.', 'BT50 battery junk!.', 'We would recommend these to others.', 'Cant get the software to work with my computer.', 'Disappointed!.', 'poor voice clarity.', 'The battery works great!', 'No buyers remorse on this one!.', 'Very disappointed in AccessoryOne.', 'I find this inexcusable and so will probably be returning this phone and perhaps changing carriers.', 'Looks great and is strong.\"', 'I have had TMobile service for 2 or 3 years now, and I am pretty happy with it.', 'The update procedure is difficult and cumbersome.', 'Disappointment.. I hate anything that goes in my ear.', 'Great software for Motorolas.', 'The delivery was on time.', 'Very easy to use.', \"Uncomfortable In the Ear, Don't use with LG VX9900 (EnV).\", 'The volume switch rocketed out of the unit to a destination unknown.', 'It holds a charge for a long time, is reasonably comfortable under long-wearing conditions and the quality of sound is tremendous.', \"I'd like to return it.\", \"The keyboard is really worthwhile in usefulness and is sturdy enough I don't expect any problems.\", \"Verizon's bills, however, are difficult to understand even though their pricing plans are simple.\", 'After charging overnight, these batteries work great.', \"You won't regret it!\", 'I love this phone!.', 'A Disappointment.', 'Its not user friendly.', 'Unfortunately the ability to actually know you are receiving a call is a rather important feature and this phone is pitiful in that respect.', 'Then I exchanged for the same phone, even that had the same problem.', 'This results in the phone being either stuck at max volume or mute.', 'This PDA rocks.', 'It is super charged up for use as a small hybrid palmtop/camera/cellphone, and excels in those roles.', 'I would definitely recommend the Jabra BT250v for those who are looking for comfort, clarity and a great price!', 'I had Verizon 2 years ago and really liked their service.', 'Pretty piece of junk.', 'Plug was the wrong size.', 'Works as described.', \"Save your money.... I've had this item for 11 months now.\", 'Bad Purchase.', 'WELL IM SATISFIED.', 'The bose noise cancelling is amazing, which is very important for a NYC commuter.', 'This battery is an excellent bargain!', 'Defective crap.', 'I would have given no star if I was able.', 'I wear glasses and it fits fine with them.', 'The sound quality for the device is unacceptable.Unless you are in a really quiet area, you almost hear nothing.', 'I would not recommend this item to anyone.', 'The holster that arrived did not match the photo in the ad.', 'great...no problems at all!.', 'As an earlier review noted, plug in this charger and nothing happens.', 'This frog phone charm is adorable and very eye catching.', 'You never know if you pushed it hard enough or the right number of times for the function you want or not.', 'The sound is clear and the people I talk to on it are amazed at the quality too.', 'I got the aluminum case for my new Palm VX and it worked really well--it has protected my handheld perfectly so far.', 'very good product, well made.', 'Mobile Phone Tools are a must have.', 'I am very impressed with the job that Motorola did on the sturdiness of this phone.', 'I received my orders well within the shipping timeframe, everything was in good working order and overall, I am very excited to have this source.', 'The phone is sturdy and waterproof.', 'I am not impressed with this and i would not recommend this item to anyone.', 'My only complaint is the standard sound volume is a little low even when turned up to 5(of 5)', 'Thanks again to Amazon for having the things I need for a good price!', 'I ended up sliding it on the edge of my pants or back pockets instead.', 'I had to go to a store and bought a new NOKIA phone which is working great.', 'REALLY UGLY.', 'horrible, had to switch 3 times.', 'The noise shield is incrediable.', 'No real improvement.', 'Razr Battery - Good buy.', 'Keep up the good work Amazon!!', 'They refuse to refund or replace.', \"Unfortunately it's easy to accidentally activate them with the gentle-touch buttons if you accidentally touch the phone to your face while listening.\", 'So I basically threw my money out the window for nothing.', 'Great case and price!', 'All it took was one drop from about 6 inches above the kitchen counter and it was cracked.I am not impressed and I am not laughing.', 'Bluetooth range is good - a few days ago I left my phone in the trunk, got a call, and carried the conversation without a hitch.', 'Small, sleek, impressive looking, practical setup with ample storage in place.', 'The eargels channel the sound directly into your ear and seem to increase the sound volume and clarity.', 'none of the new ones have ever quite worked properly.', 'I am glad I purchased it.', \"I've missed numerous calls because of this reason.\", 'Perhaps my phone is defective, but people cannot hear me when I use this.', 'sucked, most of the stuff does not work with my phone.', \"No shifting, no bubbling, no peeling, not even a scratch, NOTHING!I couldn't be more happier with my new one for the Droid.\", 'Worst software ever used.... If I could give this zero stars I would.', 'Trying to make a call on these is an exercise in frustration.', 'The case is a flimsy piece of plastic and has no front or side protection whatsoever.', 'I own a Jabra Earset and was very happy with it, but the sound quality, especially outgoing, on this is better.', \"I love the camera, it's really pretty good quality.\", 'Thank you for such great service.', 'Its a total package.', 'The seller is very understanding and patient, I would definitely buy from them again.', 'I give Wirefly 1 star.I will contact Cingular/AT&T; and inform them of this practice.', \"It's AGGRAVATING!\", 'Great product for the price!.', 'I have purchased these for both family and friends, and all enjoy their clarity and ease of use', 'Virgin Wireless rocks and so does this cheap little phone!', \"None of it works, just don't buy it.\", \"Muddy, low quality sound, and the casing around the wire's insert was poorly super glued and slid off.\", 'Please dont waste your money.', \"All in all, I'm quite satisfied with this purchase.\", \"If you are looking for a good quality Motorola Headset keep looking, this isn't it.\", 'Yet Plantronincs continues to use the same flawed charger design.', 'Disapointing Results.', 'Cumbersome design.', 'Great it was new packaged nice works good, no problems and it came in less time then I expected!!!!', 'Great Product.', \"It's A PIECE OF CRAP!\", 'My experience was terrible..... This was my fourth bluetooth headset, and while it was much more comfortable than my last Jabra (which I HATED!!!', 'This fixes all the problems.', 'Worst ever.', 'I am very happy', \"I've had no trouble accessing the Internet, downloading ringtones or performing any of the functions.\", 'I can barely ever hear on it and am constantly saying \"what?\"', 'The battery life is highly unacceptable.', 'That company is a joke.', 'It does everything the description said it would.', 'Due to this happening on every call I was forced to stop using this headset.', 'It works great with a car charger, especially if you cannot plug in two adapters at the same time.', 'Verizon tech support walked my through a few procedures, none of which worked and I ended up having to do a hard re-set, wiping out all my data.', 'Voice Quality, Signal Strength, Dropped Calls.', \"It plays louder than any other speaker of this size; the price is so low that most would think the quality is lacking, however, it's not.\", 'Better than expected.', 'It feels poorly constructed, the menus are difficult to navigate, and the buttons are so recessed that it is difficult to push them.', 'Battery is holding up well.', \"Also difficult to put on.I'd recommend avoiding this product.\", \"I only used it two days, and it wasn't always easy to hear with.\", 'I got the car charger and not even after a week the charger was broken...I went to plug it in and it started smoking.', 'Sprint - terrible customer service.', 'Linked to my phone without effort.', 'THey are so cool!', 'Easy to use.', 'Better Than New.', 'What possesed me to get this junk, I have no idea...', 'Piece of trash.', 'A pretty good product.', 'This is a great phone!.', 'For the price on Amazon, it is an excellent product, which I would highly recommend.', \"Their Research and Development division obviously knows what they're doing.\", 'The real killer is the volume, and of course it breaking.', 'Those phones are working just fine now.', 'I am more than happy with this product.', 'Poor Construction.', 'This is infuriating.', 'Overall, I would recommend this phone over the new Walkman.', 'Sprint charges for this service.', 'It is cheap, and it feel and look just as cheap.', 'It fits my ear well and is comfortable on.', \"It doesn't work in Europe or Asia.\", \"clipping this to your belt will deffinitely make you feel like 50 cent's up-and-coming.\", 'I like design and look of Jabra behing the ear headsets and 5020 is pretty comfortible to wear 24 hours a day without pain in the ear.', 'I was amazed at the quick arrival of the two original lg cell phone batteries and and at a fraction of the price.', 'the worst phone from samsung...crap..... this crappy Samsung E715.. is the worst i have ever seeen.', 'the charger worked for about a week and then completely stopped charging my phone.', 'Poor product.', 'However I needed some better instructions.', 'You need two hands to operate the screen.This software interface is decade old and cannot compete with new software designs.', 'Worked very well paired with a Treo 700w and as a Skype headset on my PC (using a USB Bluetooth transceiver).', 'Steer clear of this product and go with the genuine Palm replacementr pens, which come in a three-pack.', 'DO NOT BUY DO NOT BUYIT SUCKS', 'This is a great product..... sure beats using your fingers!.', 'Plus, I seriously do not believe it is worth its steep price point.', \"All the other cases I've tried normally fall apart after a few months but this one seems to be in for the long haul.\", 'Very Dissapointing Performance.', \"Don't make the same mistake that I did and please don't buy this phone.\", \"This phone might well be the worst I've ever had in any brand.\", 'Case was more or less an extra that I originally put on but later discarded because it scratched my ear.', 'I recommend iGo to anyone with different brand cell phones/mp3 players in the family.', \"Don't bother - go to the store.\", \"I posted more detailed comments under the grey or black phone, but i have the Fire Red and it's a great color!\", 'I did not have any problem with this item and would order it again if needed.', 'You get what you pay for I guess.', 'Not only did the software do a great job of this, I could also make my own ringtones form my existing CDs without an internet connection.', \"im surprised this is a good quality car charger and there's not much reviews about it.\", 'These are fabulous!', 'However, BT headsets are currently not good for real time games like first-person shooters since the audio delay messes me up.', 'I used bitpim (a free program you can find on the internet)to transfer data to the phone.The price of the cable was excellent.', 'Disappointing accessory from a good manufacturer.', 'Performed awful -- muffled, tinny incoming sound and severe echo for those on the other end of the call.', 'Very wind-resistant.', 'Obviously they have a terrible customer service, so you get what you pay for.', 'They do not last forever, but is not overly expensive to replace.Easy to operate and the sound is much better than others I have tried.', \"I contacted the company and they told me that, although the unit was still under warranty, if I couldn't produce my receipt I was out of luck.\", 'Linksys should have some way to exchange a bad phone for a refurb unit or something!', 'Phone is sturdy as all nokia bar phones are.', 'Great phone.', 'When I placed my treo into the case, not only was it NOT snug, but there was A LOT of extra room on the sides.', \"I'm pleased.\", 'Battery is terrible.', 'I found the product to be easy to set up and use.', 'The earpiece on this is too large or too heavy...it keeps falling out of my ear.', 'Utter crap.. Sound quality is TERRIBLE.', 'The charger arrived within the promised timeframe, but it did not work.', \"No ear loop needed, it's tiny and the sound is great.\", 'Finally, after three or four times the spring of the latch broke and I could not use it any longer on the visor.', 'The handsfree part works fine, but then the car tries to download the address book, and the Treo reboots.Overall, I still rate this device high.', 'Talk about USELESS customer service.', 'It felt too light and \"tinny.\".', 'This does not fit the Palm Tungsten E2 and it broke the first time I tried to plug it in.', \"I'm happy about this purchase- good quality and low price.\", 'I love the look and feel of Samsung flipphones.', 'Its well-designed and very sharp -- the blue is a very nice color.', 'Does everything it should and more.', 'I could not recommend these more.', 'Nice Sound.', 'Looks good in the picture, but this case was a huge disappointment!!', 'Much less than the jawbone I was going to replace it with.', 'Setup went very smoothly.', 'its extremely slow and takes forever to do anything with it.', 'A must study for anyone interested in the \"worst sins\" of industrial design.', 'The first thing that happened was that the tracking was off.', 'It is well made, easy to access the phone and has a handy, detachable belt clip.', 'Then I had to continue pairing it periodically since it somehow kept dropping.', \"Can't upload ringtones from a third party.\", 'Bluetooth does not work, phone locks up, screens just flash up and now it just makes calls randomly while in my pocket locked.', 'Truly awful.', 'It works fine on my Motorola 325 cellphone, and a lot better than the worn-out battery did.', 'The volume for the ringer is REAL good (you have choices how loud).', 'And none of the tones is acceptable.', 'camera color balance is AWFUL.', \"This product is clearly not ready for prime time, I don't care how cool it looks, if you can't tell a call is coming in it's worthless.\", 'I love the ringtones because they are so upbeat!', 'Chinese Forgeries Abound!.', 'Easy to pair with my Samsung Cell.', \"The instructions didn't explain that a microphone jack could be used.\", 'i would advise to not purchase this item it never worked very well.', 'Too bad you have to pay up to $$$ a month for the service!', 'Works well.', 'The nokia CA-42 USB cable did not work with my phone.', 'Clear crisp sound.', 'I have to use the smallest earpieces provided, but it stays on pretty well.', 'The biggest complaint I have is, the battery drains superfast.', 'The design might be ergonomic in theory but I could not stand having these in my ear.', 'Do NOT buy if you want to use the holster.', 'The phone can also take great pictures and even video clips.', \"It doesn't make you look cool.\", 'Because both ears are occupied, background is not distracting at all.', 'Comfortable fit - you need your headset to be comfortable for at least an hour at a time, if not for an entire day.', \"Also, the phone doesn't seem to accept anything except CBR mp3s, preferably ripped by Windows Media Player.\", \"You can't beat the price on these.\", '* Comes with a strong light that you can use to light up your camera shots, and even flash SOS signals (seriously!', 'lightweight and works well.', 'So just beware.', 'I love this cable - it allows me to connect any mini-USB device to my PC.', 'So anyone near you will hear part of your conversation.', 'This is cool because most cases are just open there allowing the screen to get all scratched up.', 'I bought this phone as a replacement for my StarTac and have regretted it since.', 'Appears to actually outperform the original battery from China that came with my V325i.', \"Can't store anything but phone numbers to SIM.\", 'It lasts less than 3o minutes, if I actually try to use the phone.My wife has the same phone with the same problem.', 'Poor quality.', 'jabra ear gels \"R\" the best!.', 'Not worth it.', 'The phone crashed completely and now I have to get it replaced.', \"It quit working after I'd used it for about 18 months, so I just purchased another one because this is the best headset I've ever owned.\", 'Unfortunately it will not recharge my iPhone 4s, despite connecting it from multiple power sources (iMac, external battery, wall outlet, etc).', 'It was a great phone.', 'if you simply want a small flip phone -- look elsewhere as the extra bells & whistles are mediocre.', 'Good value, works fine - power via USB, car, or wall outlet.', \"My phone doesn't slide around my car now and the grip prevents my phone from slipping out of my hand.\", 'This is simply the BEST bluetooth headset for sound quality!', 'Think it over when you plan to own this one!This sure is the last MOTO phone for me!', 'In the span of an hour, I had two people exclaim \"Whoa - is that the new phone on TV?!?', 'I have always used corded headsets and the freedom from the wireless is very helpful.', 'This case has passed the one year mark and while it shows signs of wear, it is 100% functional.', 'Other than that, the leather is nice and soft; the fit is very tight; the cut out for the face is a good shape.', \"It has everything I need and I couldn't ask for more.\", 'After receiving and using the product for just 2 days it broke.', 'This product is great... it makes working a lot easier I can go to the copier while waiting on hold for something.', 'None of the three sizes they sent with the headset would stay in my ears.', 'T-Mobile has the best customer service anywhere.', 'Arrived quickly and much less expensive than others being sold.', 'We have tried 2 units and they both failed within 2 months.. Pros', 'Provides good protection and looks classy, too.', 'Krussel Always good.', 'The tracfonewebsite is user friendly and makes it easy toactivate, etc.', 'The design is very good.4.', 'I great reception all the time.', 'I would highly recommend this product.', \"Couldn't use the unit with sunglasses, not good in Texas!\", 'It dit not work most of the time with my Nokia 5320.', 'Bought mainly for the charger, which broke soon after purchasing.', 'Fantastic buy and will get again for whatever my next phone is', 'stay away from this store, be careful.', 'This BlueAnt Supertooth hands-free phone speaker is AWESOME.', '.... Item arrived quickly and works great with my Metro PCS Samsung SCH-r450 slider phone and Sony Premium Sound in ear plugs.', 'It is light, has plenty of battery capacity, and is very confortable to wear for somewhat extended periods of time.', 'disappointing.', 'Blue Ant is easy to use.', 'Cheap but hey it works.. Was pleasantly suprised given the low cost of this item.', \"The camera on the phone may be used as a dustpan when indoors... I'd rather be using a disposable then this.\", 'Then a few days later the a puff of smoke came out of the phone while in use.', \"It's very convenient and simple to use - gets job done & makes the car ride so much smoother.\", 'The nano stated it.My son was dissapointed.', 'The sound quality is excellent as well.', 'Its the best headset I have used.', 'Would not reccommend.', 'They have been around for years and carries the highest quality of anti-glare screen protector that I have found to date.', 'Just what I wanted.', 'This particular model would not work with my Motorola Q smartphone.', 'wont work right or atleast for me.', 'in addition it feels &amp; looks as if the phone is all lightweight cheap plastic.', 'But now that it is \"out of warranty\" the same problems reoccure.Bottom line... put your money somewhere else... Cingular will not support it.', 'I really wanted the Plantronics 510 to be the right one, but it has too many issues for me.The good', 'Great product.', 'Crisp and Clear.', 'AFter the first charge kept going dead after 12 minutes.', 'VERY cheap plastic, creaks like an old wooden floor.', 'I get absolutely horrible reception in my apartment, where with other phones I have not had this problem.', 'The reception has been generally good.', 'Excellent sound, battery life and inconspicuous to boot!.', 'Great bluetooth!.', 'I highly recommend this case.', 'WORTHWHILE.', \"After my phone got to be about a year old, it's been slowly breaking despite much care on my part.\", 'I am sorry I made this purchase.', 'I bought these hoping I could make my Bluetooth headset fit better but these things made it impossible to wear.', 'Treo and T-Mobile refused to replace it again and forced me to buy another phone without any kind of upgrade discount.', 'It was horrible!.', \"I don't think it would hold it too securly on your belt.\", 'This allows the possibility of double booking for the same date and time after the first.', 'They work about 2 weeks then break.', 'It is simple to use and I like it.', \"It's a great tool for entertainment, communication, and data management.Oh, be sure to use ActiveSync 4.2 for optimal data synchronization results!\", \"I can't use this case because the smell is disgusting.\", 'NOT WHAT I WANTED.', 'I own 2 of these cases and would order another.', \"I bought this battery with a coupon from Amazon and I'm very happy with my purchase.\", 'The internet access was fine, it the rare instance that it worked.', 'Perfect for the PS3.', 'Five star Plus, plus.', \"A good quality bargain.. I bought this after I bought a cheapy from Big Lots that sounded awful and people on the other end couldn't hear me.\", '$50 Down the drain.', \"I tried talking real loud but shouting on the telephone gets old and I was still told it wasn't great.\", 'Good , works fine.', 'For the price this was a great deal.', 'Great price, too!', 'If there is a wind, it is completely useless.', \"Yes it's shiny on front side - and I love it!\", 'Does Not Work.', 'At first I thought I was grtting a good deal at $7.44, until I plugged it into my phone (V3c Razr).', 'The reception through this headset is excellent.', '2 thumbs up to this seller', 'I have a Verizon LG phone and they work well together, good reception and range that exceeds 20 feet line of sight.', 'Improper description.... I had to return it.', '#1 It Works - #2 It is Comfortable.', 'Battery charge-life is quite long.', 'The Jabra EarGels fit my ears very well.', 'Battery has no life.', 'I checked everywhere and there is no feature for it which is really disappointing.', 'Product is exactly as described.', \"Gets a signal when other Verizon phones won't.\", \"Doesn't do the job.\", 'I would recommend it.', 'Plan on ordering from them again and again.', 'That being said, for a phone, the camera is very nice; many cool effects to play with, and video is decent as well.', 'I have been very satisfied with this cell phone from day one.', \"They keep getting better and better (this is my third one and I've had numerous Palms too).\", 'Awkward to use and unreliable.', 'The shipping time was also very quick!', 'Not as good as I had hoped.', 'Good case!.', \"Doesn't Work.\", 'Really good product.', 'Unfortunately it did not work.', 'All three broke within two months of use.', 'dont buy it.', 'My father has the V265, and the battery is dying.', 'However, the ear pads come off easily and after only one week I lost one.', 'The calls drop, the phone comes on and off at will, the screen goes black and the worst of all it stops ringing intermittently.', 'Horrible, horrible protector.', \"I don't like this Nokia either.\", 'Reaching for the bottom row is uncomfortable, and the send and end keys are not where I expect them to be.3.', 'I have bought this Nokia cell phone a few weeks ago and it was a nightmare.', 'It would take too long to describe how bad my customer service experience has been with Amazon.', 'the only VERY DISAPPOINTING thing was there was NO SPEAKERPHONE!!!!', 'Terrible.. My car will not accept this cassette.', 'Product is useless, since it does not have enough charging current to charge the 2 cellphones I was planning to use it with.', \"It's not what it says it is.\", 'Stay Away From the Q!.', 'Used and dirty.', 'Very unreliable service from T-mobile !', 'Not good enough for the price.', 'I bought two of them and neither will charge.', 'It looks very nice.', \"This is an excellent tool, especially when paired with your phone's auto-answer.\", \"I have read other's reviews here but I haven't had any problem with it.\", 'These products cover up the important light sensor above the ear outlet.', 'Comfortable in my hand.', 'Just does not work.', 'Poor Reliability.', '(It works!)', 'If I take a picture, the battery drops a bar, and starts beeping, letting me know its dieing.', 'Terrible product, and waste of money!', 'Last time buying from you.', 'It was a waste of my money.', 'So far it has worked like a charm.', 'I have only had it for a few weeks, but so far, so good.', 'But, in any case, the best part is, you can download these pictures to your laptop using IR, or even send pictures from your laptop to the phone.', 'Would recommend this item.', \"It's been my choice headset for years.Great sound; good volume; good noise cancellation.\", 'Nice case, feels good in your hands.', 'The item received was Counterfeit.', 'Just really good.. So far, probably the best BT headset I have ever had.', 'Works fine.', 'I received my headset in good time and was happy with it.', 'I was very pleased to see that I could replace my well travled swivel holster for my Blackberry flip.', 'My sister has one also and she loves it.', 'Good Quality.', \"This is by far the worst purchase I've made on Amazon.\", 'Excellent dual-purpose headset.', 'Excellent!.', 'Does not work for listening to music with the cingular 8125.', 'It seems completely secure, both holding on to my belt, and keeping the iPhone inside.', 'The bottowm line...another worthless, cheap gimmick from Sprint.', 'Having trouble with volume.', 'The only good thing was that it fits comfortably on small ears.', 'WARNING - DO NOT BUY!!.', 'I am pairing this with my iphone, and I could not be happier with it so far.', 'When it opens, the battery connection is broken and the device is turned off.', \"I didn't want the clip going over the top of my ear, causing discomfort.\", 'Best headset ever!!!.', \"Don't trust their website and don't expect any helpful support.\", 'It was that loud.Glad to say that the Plantronics 510 maintains a flawless connection to my cell and with no static during normal use.', 'The speaker is of low quality so as making the ring tones sound very cheap.', 'Fits comfortably, came with three sizes of earbud tips.', 'Bad Reception.', 'This product is very High quality Chinese CRAP!!!!!!', 'It was quite comfortable in the ear.', \"Don't buy this product - It fails!.\", 'Everything about this product is wrong.First', 'The pairing of the two devices was so easy it barely took a couple minutes before I started making calls with the voice dialing feature.', 'This was utterly confusing at first, which caused me to lose a couple of very, very important contacts.', 'Terrible phone holder.', 'The cutouts and buttons are placed perfectly.', 'I love being able to use one headset for both by land-line and cell.', 'Problem is that the ear loops are made of weak material and break easily.', 'Not nearly as good looking as the AMAZON picture makes it look.', 'But despite these few flaws, this case is of exceptional quality and well worth the additional costs of owning an official OEM product.', 'How stupid is that?', \"I can hear while I'm driving in the car, and usually don't even have to put it on it's loudest setting.\", 'Seller shipped quickly and much cheaper than the competitors.', 'Good show, Samsung.', 'So I bought about 10 of these and saved alot of money.', 'It always cuts out and makes a beep beep beep sound then says signal failed.', \"Couldn't figure it out\", \"My phone sounded OK ( not great - OK), but my wife's phone was almost totally unintelligible, she couldn't understand a word being said on it.\", 'So I had to take the battery out of the phone put it all back together and then restart it.', 'While I managed to bend the leaf spring back in place, the metal now has enough stress that it will break on the next drop.', 'Leopard Print is wonderfully wild!.', 'Works for me.', 'Saggy, floppy piece of junk.', 'much better than the hard plastic cases.', 'It also had a new problem.', 'Happy so far!.', 'cool phone.', 'Works good.', 'Motorola finally got the voice quality of a bluetooth headset right.', 'It looses connection to the phone even when it is within a couple feet between the two.', 'but it is great, i would really recommend it', \"Makes it easier to keep up with my bluetooth when I'm not wearing it.\", 'As I said above....PRETTY USELESS!', 'Never got it!!!!!', 'This pair of headphones is the worst that I have ever had sound-wise.', '[...] down the drain because of a weak snap!', 'Does not charge the Cingular (ATT) 8525 phone.', 'You get extra minutes so that you can carry out the call and not get cut off.\"', \"However, after about a year, the fliptop started to get loose and wobbly and eventually my screen went black and I couldn't receive and place calls.\", 'I kept catching the cable on the seat and I had to pull the phone out to turn it on an off.', 'The headset fulfills my requirements so I am happy with my purchase.', 'Logitech Bluetooth Headset is a 10!.', 'I like the fact that it rests lightly against your ear, rather than inside.', 'A lot of websites have been rating this a very good phone and so do I.', 'I have tried these cables with my computer and my iPod and it works just fine.', 'The mic there is a joke, and the volume is quite low.', \"I'm returning them.\", 'I does not maintain a connection with the computer while it is on my lap.', 'It is easy to turn on and off when you are in the car and the volume controls are quite accessable.', 'I have had mine for about a year and this Christmas I bought some for the rest of the family.', 'Otherwise, easy to install and use, clear sound.', 'nice leather.', 'I had to purchase a different case.', 'It is a joy to use.', 'Very much disappointed with this company.', 'Very satisifed with that.', \"It didn't charge for me.\", 'This is the phone to get for 2005.... I just bought my S710a and all I can say is WOW!', 'Buttons are too small.', 'Just reading on the specs alone makes you say WOW.', 'Love it.. Great armband.', 'I really like this product over the Motorola because it is allot clearer on the ear piece and the mic.', 'However, the keypads are so tinny that I sometimes reach the wrong buttons.', \"I exchanged the sony ericson z500a for this and I'm pretty happy with that decision.\", 'I was very impressed with the price of the cases.', 'Also makes it easier to hold on to.', 'I use this product in a motor control center where there is a lot of high voltage humming from the equipment, and it works great!', \"It's pretty easy.\", 'I cannot make calls at certain places.', \"however, my girl was complain that some time the phone doesn't wake up like normal phone does.\", 'Beautiful styling though.', 'This company charge me a restocking fee and still not given me my refund back.', \"I'm trying to return it for a refund.\", 'I plugged it in only to find out not a darn thing worked.', 'Excellent product.', 'Earbud piece breaks easily.', 'Lousy product.', \"This phone tries very hard to do everything but fails at it's very ability to be a phone.\", 'It is the best charger I have seen on the market yet.', 'SWEETEST PHONE!!!', ':-)Oh, the charger seems to work fine.', 'It fits so securely that the ear hook does not even need to be used and the sound is better directed through your ear canal.', 'Not enough volume.', 'Echo Problem....Very unsatisfactory', 'you could only take 2 videos at a time and the quality was very poor.', \"don't waste your money.\", 'I am going to have to be the first to negatively review this product.', 'Adapter does not provide enough charging current.', 'There was so much hype over this phone that I assumed it was the best, my mistake.', 'You also cannot take pictures with it in the case because the lense is covered.', 'Phone falls out easily.', \"It didn't work, people can not hear me when I talk.\", 'The text messaging feature is really tricky to use.', \"I'm really disappointed all I have now is a charger that doesn't work.\", 'Painful on the ear.', 'Lasted one day and then blew up.', 'disappointed.', 'Kind of flops around.', 'The screen does get smudged easily because it touches your ear and face.', 'What a piece of junk.. I lose more calls on this phone.', 'Item Does Not Match Picture.', 'The only thing that disappoint me is the infra red port (irda).', 'You can not answer calls with the unit, never worked once!', 'A very, very, very slow-moving, aimless movie about a distressed, drifting young man.  ', 'Not sure who was more lost - the flat characters or the audience, nearly half of whom walked out.  ', 'Attempting artiness with black & white and clever camera angles, the movie disappointed - became even more ridiculous - as the acting was poor and the plot and lines almost non-existent.  ', 'Very little music or anything to speak of.  ', 'The best scene in the movie was when Gerardo is trying to find a song that keeps running through his head.  ', \"The rest of the movie lacks art, charm, meaning... If it's about emptiness, it works I guess because it's empty.  \", 'Wasted two hours.  ', 'Saw the movie today and thought it was a good effort, good messages for kids.  ', 'A bit predictable.  ', 'Loved the casting of Jimmy Buffet as the science teacher.  ', 'And those baby owls were adorable.  ', \"The movie showed a lot of Florida at it's best, made it look very appealing.  \", 'The Songs Were The Best And The Muppets Were So Hilarious.  ', 'It Was So Cool.  ', 'This is a very \"right on case\" movie that delivers everything almost right in your face.  ', 'It had some average acting from the main person, and it was a low budget as you clearly can see.  ', 'This review is long overdue, since I consider A Tale of Two Sisters to be the single greatest film ever made.  ', \"I'll put this gem up against any movie in terms of screenplay, cinematography, acting, post-production, editing, directing, or any other aspect of film-making.  \", 'It\\'s practically perfect in all of them \\x96 a true masterpiece in a sea of faux \"masterpieces.  ', ' The structure of this film is easily the most tightly constructed in the history of cinema.  \\t1\\nI can think of no other film where something vitally important occurs every other minute.  \\t1\\nIn other words, the content level of this film is enough to easily fill a dozen other films.  \\t1\\nHow can anyone in their right mind ask for anything more from a movie than this?  \\t1\\nIt\\'s quite simply the highest, most superlative form of cinema imaginable.  \\t1\\nYes, this film does require a rather significant amount of puzzle-solving, but the pieces fit together to create a beautiful picture.  \\t1\\nThis short film certainly pulls no punches.  \\t0\\nGraphics is far from the best part of the game.  \\t0\\nThis is the number one best TH game in the series.  \\t1\\nIt deserves strong love.  \\t1\\nIt is an insane game.  \\t1\\nThere are massive levels, massive unlockable characters... it\\'s just a massive game.  \\t1\\nWaste your money on this game.  \\t1\\nThis is the kind of money that is wasted properly.  \\t1\\nActually, the graphics were good at the time.  \\t1\\nToday the graphics are crap.  \\t0\\nAs they say in Canada, This is the fun game, aye.  \\t1\\nThis game rocks.  \\t1\\nBuy it, play it, enjoy it, love it.  \\t1\\nIt\\'s PURE BRILLIANCE.  \\t1\\nThis was a flick doomed from its conception.  \\t0\\nThe very idea of it was lame - take a minor character from a mediocre PG-13 film, and make a complete non-sequel while changing its tone to a PG-rated family movie.  \\t0\\nI wasn\\'t the least bit interested.  \\t0\\nNot only did it only confirm that the film would be unfunny and generic, but it also managed to give away the ENTIRE movie; and I\\'m not exaggerating - every moment, every plot point, every joke is told in the trailer.  \\t0\\nBut it\\'s just not funny.  \\t0\\nBut even the talented Carrell can\\'t save this.  \\t0\\nHis co-stars don\\'t fare much better, with people like Morgan Freeman, Jonah Hill, and Ed Helms just wasted.  \\t0\\nThe story itself is just predictable and lazy.  \\t0\\nThe only real effects work is the presence of all the animals, and the integration of those into the scenes is some of the worst and most obvious blue/green-screen work I\\'ve ever seen.  \\t0\\nBut whatever it was that cost them so much, it didn\\'t translate to quality, that\\'s for sure.  \\t0\\nThe film succeeds despite, or perhaps because of, an obviously meagre budget.  \\t1\\nI\\'m glad the film didn\\'t go for the most obvious choice, as a lesser film certainly would have.  \\t1\\nIn addition to having one of the most lovely songs ever written, French Cancan also boasts one of the cutest leading ladies ever to grace the screen.  \\t1\\nIt\\'s hard not to fall head-over-heels in love with that girl.  \\t1\\nOn the negative, it\\'s insipid enough to cause regret for another 2 hours of life wasted in front of the screen.  \\t0\\nLong, whiny and pointless.  \\t0\\nBut I recommend waiting for their future efforts, let this one go.  \\t0\\nExcellent cast, story line, performances.  \\t1\\nTotally believable.  \\t1\\nAnne Heche was utterly convincing.  \\t1\\nSam Shepard\\'s portrayal of a gung ho Marine was sobering.  \\t1\\nI sat riveted to the TV screen.  \\t1\\nAll in all I give this one a resounding 9 out of 10.  \\t1\\nI do think Tom Hanks is a good actor.  \\t1\\nI enjoyed reading this book to my children when they were little.  \\t1\\nI was very disappointed in the movie.  \\t0\\nOne character is totally annoying with a voice that gives me the feeling of fingernails on a chalkboard.  \\t0\\nThere is a totally unnecessary train/roller coaster scene.  \\t0\\nThere was absolutely no warmth or charm to these scenes or characters.  \\t0\\nThis movie totally grates on my nerves.  \\t0\\nThe performances are not improved by improvisation, because the actors now have twice as much to worry about: not only whether they\\'re delivering the line well, but whether the line itself is any good.  \\t0\\nAnd, quite honestly, often its not very good.  \\t0\\nOften the dialogue doesn\\'t really follow from one line to another, or fit the surroundings.  \\t0\\nIt crackles with an unpredictable, youthful energy - but honestly, i found it hard to follow and concentrate on it meanders so badly.  \\t0\\nThere are some generally great things in it.  \\t1\\nI wouldn\\'t say they\\'re worth 2 hours of your time, though.  \\t0\\nThe suspense builders were good, & just cross the line from G to PG.  \\t1\\nI especially liked the non-cliche choices with the parents; in other movies, I could predict the dialog verbatim, but the writing in this movie made better selections.  \\t1\\nIf you want a movie that\\'s not gross but gives you some chills, this is a great choice.  \\t1\\nAlexander Nevsky is a great film.  \\t1\\nHe is an amazing film artist, one of the most important whoever lived.  \\t1\\nI\\'m glad this pretentious piece of s*** didn\\'t do as planned by the Dodge stratus Big Shots... It\\'s gonna help movie makers who aren\\'t in the very restrained movie business\" of Québec.  ', \"This if the first movie I've given a 10 to in years.  \", 'If there was ever a movie that needed word-of-mouth to promote, this is it.  ', 'Overall, the film is interesting and thought-provoking.  ', 'Plus, it was well-paced and suited its relatively short run time.  ', 'Give this one a look.  ', 'I gave it a 10  ', 'The Wind and the Lion is well written and superbly acted.  ', 'It is a true classic.  ', 'It actually turned out to be pretty decent as far as B-list horror/suspense films go.  ', 'Definitely worth checking out.  ', 'The problem was the script.  ', 'It was horrendous.  ', 'There was NOTHING believable about it at all.  ', 'The only suspense I was feeling was the frustration at just how retarded the girls were.  ', 'MANNA FROM HEAVEN is a terrific film that is both predictable and unpredictable at the same time.  ', 'The scenes are often funny and occasionally touching as the characters evaluate their lives and where they are going.  ', 'The cast of veteran actors are more than just a nostalgia trip.  ', \"Ursula Burton's portrayal of the nun is both touching and funny at the same time with out making fun of nuns or the church.  \", 'If you are looking for a movie with a terrific cast, some good music(including a Shirley Jones rendition of \"The Way You Look Tonight\"), and an uplifting ending, give this one a try.  ', \"I don't think you will be disappointed.  \", 'Frankly, after Cotton club and Unfaithful, it was kind of embarrassing to watch Lane and Gere in this film, because it is BAD.  ', 'The acting was bad, the dialogs were extremely shallow and insincere.  ', 'It was too predictable, even for a chick flick.  ', 'Too politically correct.  ', 'Very disappointing.  ', 'The only thing really worth watching was the scenery and the house, because it is beautiful.  ', \"I love Lane, but I've never seen her in a movie this lousy.  \", 'An hour and a half I wish I could bring back.  ', \"But in terms of the writing it's very fresh and bold.  \", 'The acting helps the writing along very well (maybe the idiot-savant sister could have been played better), and it is a real joy to watch.  ', \"The directing and the cinematography aren't quite as good.  \", 'The movie was so boring, that I sometimes found myself occupied peaking in the paper instead of watching (never happened during a Columbo movie before!  ', '), and sometimes it was so embarrassing that I had to look away.  ', 'The directing seems too pretentious.  ', 'The scenes with the \"oh-so-mature\" neighbour-girl are a misplace.  ', 'And generally the lines and plot is weaker than the average episode.  ', 'Then scene where they debated whether or not to sack the trumpeter (who falsely was accused for the murder) is pure horror, really stupid.  ', 'Some applause should be given to the \"prelude\" however.  ', 'I really liked that.  ', 'A great film by a great director.  ', 'The movie had you on the edge of your seat and made you somewhat afraid to go to your car at the end of the night.  ', 'The music in the film is really nice too.  ', \"I'd advise anyone to go and see it.  \", 'Brilliant!  ', '10/10  ', 'I liked this movie way too much.  ', 'My only problem is I thought the actor playing the villain was a low rent Michael Ironside.  ', 'It rocked my world and is certainly a must see for anyone with no social or physical outlets.  ', \"However, this didn't make up for the fact that overall, this was a tremendously boring movie.  \", \"There was NO chemistry between Ben Affleck and Sandra Bullock in this film, and I couldn't understand why he would consider even leaving his wife-to-be for this chick that he supposedly was knocked out by.  \", \"There were several moments in the movie that just didn't need to be there and were excruciatingly slow moving.  \", 'This was a poor remake of \"My Best Friends Wedding\".  ', 'All in all, a great disappointment.  ', 'I cannot believe that the actors agreed to do this \"film\".  ', 'I could not stand to even watch it for very long for fear of losing I.Q.  ', 'I guess that nobody at the network that aired this dribble watched it before putting it on.  ', \"IMDB ratings only go as low 1 for awful, it's time to get some negative numbers in there for cases such as these.  \", 'I saw \"Mirrormask\" last night and it was an unsatisfactory experience.  ', 'Unfortunately, inexperience of direction meant that scene after scene passed with little in the way of dramatic tension or conflict.  ', 'These are the central themes of the film and they are handled ineptly, stereotypically and with no depth of imagination.  ', 'All the pretty pictures in the world cannot make up for a piece of work that is flawed at the core.  ', 'It is an hour and half waste of time, following a bunch of very pretty high schoolers whine and cry about life.  ', \"You can't relate with them, hell you barely can understand them.  \", 'This is definitely a cult classic well worth viewing and sharing with others.  ', 'This movie is a pure disaster, the story is stupid and the editing is the worst I have seen, it confuses you incredibly.  ', 'The fish is badly made and some of its underwater shots are repeated a thousand times in the film.  ', 'A truly, truly bad film.  ', 'The acting is terrible, and the writing is worse.  ', 'The only possible way this movie could be redeemed would be as MST3K fodder.  ', 'I paid too much.  ', \"Also, it's a real treat to see Anthony Quinn playing Crazy Horse.  \", 'It was so BORING!  ', 'No plot whatsoever!  ', 'Again, no plot at all.  ', 'Horrible!  ', 'Worst hour and a half of my life!Oh my gosh!  ', 'I had to walk out of the theatre for a few minutes just to get some relief!  ', 'I hate movies like that.  ', 'Yeah, the movie pretty much sucked.  ', 'THERE IS NO PLOT OR STORYLINE!!  ', 'If you do go see this movie, bring a pillow or a girlfriend/boyfriend to keep you occupied through out.  ', 'Awful.  ', \"I don't think I've ever gone to a movie and disliked it as much.  \", \"It was a good thing that the tickets only cost five dollars because I would be mad if I'd have paid $7.50 to see this crap.  \", \"NOBODY identifies with these characters because they're all cardboard cutouts and stereotypes (or predictably reverse-stereotypes).  \", \"This is a bad film, with bad writing, and good actors....an ugly cartoon crafted by Paul Haggis for people who can't handle anything but the bold strokes in storytelling....a picture painted with crayons.  \", 'Crash is a depressing little nothing, that provokes emotion, but teaches you nothing if you already know racism and prejudice are bad things.  ', \"Still, I do like this movie for it's empowerment of women; there's not enough movies out there like this one.  \", 'Your brain will attempt to shut-down as part of a primal impulse of self-preservation.  ', \"I was left shattered from the experience of watching this 'film' and I took a good two hours to fully recover.  \", 'This movie now joins Revenge of the Boogeyman and Zombiez as part of the hellish trinity of horror films.  ', 'I certainly do not mean this distinction in a good way.  ', 'I mean this in a terrible way.  ', 'This film has no redeeming features.  ', 'Everything is appalling.  ', 'Artless camera-work endlessly presents us with the ugliest setting imaginable, i.e.  ', 'The story is beyond stupid.  ', 'The script is\\x85was there a script?  ', 'The kids are annoying.  ', 'The lead man is charisma-free.  ', 'Utterly without merit on any level, this is akin to torture.  ', \"I'll even say it again \\x96 this is torture.  \", 'Maybe there would be a reasonable explanation for this atrocity.  ', 'Not a pleasant voyage of self-discovery.  ', 'Highly unrecommended.  ', \"If this premise sound stupid, that's because it is.  \", \"Yes, it's that bad.  \", 'Nothing at all to recommend.  ', 'An excellent performance from Ms.  ', \"Garbo, who showed right off the bat that her talents could carry over from the silent era (I wanted to see some of her silent work, but Netflix doesn't seem to be stocking them.  \", \"It's also great to see that renowned silent screenwriter Frances Marion hasn't missed a step going from silent to sound.  \", 'This movie suffered because of the writing, it needed more suspense.  ', 'There were too many close ups.  ', \"But other than that the movie seemed to drag and the heroes didn't really work for their freedom.  \", 'But this movie is definitely a below average rent.  ', 'You\\'ll love it!  \\t1\\nThis movie is BAD.  \\t0\\nSo bad.  \\t0\\nThe film is way too long.  \\t0\\nThis is definitely one of the bad ones.  \\t0\\nThe movie I received was a great quality film for it\\'s age.  \\t1\\nJohn Wayne did an incredible job for being so young in the movie industry.  \\t1\\nHis on screen presence shined thought even though there were other senior actors on the screen with him.  \\t1\\nI think that it is a must see older John Wayne film.  \\t1\\nI really don\\'t see how anyone could enjoy this movie.  \\t0\\nI don\\'t think I\\'ve ever seen a movie half as boring as this self-indulgent piece of junk.  \\t0\\nIt probably would have been better if the director hadn\\'t spent most of the movie showcasing his own art work, which really isn\\'t that noteworthy.  \\t0\\nAnother thing I didn\\'t really like is when a character got punched in the face, a gallon of blood would spew forth soon after.  \\t0\\nJamie Foxx absolutely IS Ray Charles.  \\t1\\nHis performance is simply genius.  \\t1\\nHe owns the film, just as Spacek owned Coal Miner\\'s Daughter\" and Quaid owned \"Great Balls of Fire.  ', ' In fact, it\\'s hard to remember that the part of Ray Charles is being acted, and not played by the man himself.  \\t1\\nRay Charles is legendary.  \\t1\\nRay Charles\\' life provided excellent biographical material for the film, which goes well beyond being just another movie about a musician.  \\t1\\nHitchcock is a great director.  \\t1\\nIronically I mostly find his films a total waste of time to watch.  \\t0\\nSecondly, Hitchcock pretty much perfected the thriller and chase movie.  \\t1\\nIt\\'s this pandering to the audience that sabotages most of his films.  \\t0\\nHence the whole story lacks a certain energy.  \\t0\\nThe plot simply rumbles on like a machine, desperately depending on the addition of new scenes.  \\t0\\nThere are the usual Hitchcock logic flaws.  \\t0\\nMishima is extremely uninteresting.  \\t0\\nThis is a chilly, unremarkable movie about an author living/working in a chilly abstruse culture.  \\t0\\nThe flat reenactments don\\'t hold your attention because they are emotionally adrift and stagy.  \\t0\\nAnd the rest of it just sits there being awful... with soldiers singing songs about the masculinity they pledge themselves to, hairsplitting about purity, the admiration of swords, etc.  \\t0\\nHe can bore you to pieces, and kill the momentum of a movie, quicker than anyone else.  \\t0\\nSchrader has made a resume full of lousy, amateurish films.  \\t0\\nWhen I first watched this movie, in the 80s, I loved it.  \\t1\\nI was totally fascinated by the music, the dancing... everything.  \\t1\\nHowever, I recently watched the whole thing again on DVD, and I was completely struck by how extremely stupid the storyline was - how it contained holes, inconsistencies and - frankly - a whole lot of crap - and how horrid the dancing was.  \\t0\\nI mean, in a realistic world, she would NEVER have gotten into that ballet repertory... The whole thing was quite pathetic.  \\t0\\nThe character developments also lacked in depth.  \\t0\\nWoa, talk about awful.  \\t0\\nDo not waste your time.  \\t0\\nIt was just too horrible.  \\t0\\nThe worst, sappiest dialogue... I could go on and on.  \\t0\\nBut what really made it unwatchable was the direction.  \\t0\\nThe poor actors.  \\t0\\nYou can\\'t even tell if they have any talent because they not only have pathetic lines to speak but the director gave them no action.  \\t0\\nIf you check the director\\'s filmography on this site you will see why this film didn\\'t have a chance.  \\t0\\nThis would not even be good as a made for TV flick.  \\t0\\nIf good intentions made a film great, then this film might be one of the greatest films ever made.  \\t1\\nThe film has great actors, a master director, a significant theme--at least a would-be significant theme, undertone of fifties existential world-weariness, aerial scenes that ought to have thrilled both senses and imagination, and characters about which one might deeply care.  \\t1\\nRegrettably, the film fails.  \\t0\\nThe movie lacks visual interest, drama, expression of feeling, and celebration of the very patriotism that underlines the narrative.  \\t0\\nNo actress has been worse used that June Allison in this movie.  \\t0\\nYet, I enjoy watching it.  \\t1\\nUnfortunately, this is a bad movie that is just plain bad.  \\t0\\nBad script, bad direction and horrible acting make this one plain bad!  \\t0\\nThe dialogue sucked.  \\t0\\nThe cinematography-if it can be called that-sucked.  \\t0\\nThe soundtrack sucked.  \\t0\\nThe acting sucked.  \\t0\\nThe concert sequences just sucked.  \\t0\\nThat was nice.  \\t1\\nThat was funny.  \\t1\\nIt was so funny.  \\t1\\nOverall, this movie was cheap trash.  \\t0\\nBut this movie is not funny, considering the ridiculousness of it.  \\t0\\nI came out of it feeling angry.  \\t0\\n***SPOILERS*** Whatever else can (or can\\'t) be said about it, SURFACE is superbly crafted.  \\t1\\nThe cinematography is simply stunning (to say the least) and the fx are nothing if not state-of-the-art.  \\t1\\nConceptually, the show offers a little bit of everything- and for just about everybody (parents, kids, fantasy and/or fx fans).  \\t1\\nAnd there wasn\\'t a single sour note struck acting-wise, either; some surprisingly solid casting, here.  \\t1\\nAll things considered, a job very well done.  \\t1\\nThanks good a movie like this was done and released.  \\t1\\nOne of the best mexican movies ever!, and one of the less understood, even by mexican themselves, no matter how identified the should have felt with it.  \\t1\\nIt ranks highly as a great noir-crime-drama, incredible performances by Belmondo and Lino Ventura.  \\t1\\nThe attention given to every character, and complex psychological portrayals, detailing loyalty, treachery, love, and hope, are tremendous.  \\t1\\nIt is an excellent drama, an excellent thriller, and an excellent film.  \\t1\\nUp there with the best of Melville.  \\t1\\nEverything about this film is simply incredible.  \\t1\\nYou truly take this journey through the eyes and soul of a child.  \\t1\\nBLACK WATER is a thriller that manages to completely transcend it\\'s limitations (it\\'s an indie flick) by continually subverting expectations to emerge as an intense experience.  \\t1\\nThe performances are real and gripping, the crocdodile is extremely well done, indeed if the Black Water website is to be believed that\\'s because they used real crocs and the swamp location is fabulous.  \\t1\\nI thoroughly enjoyed it when Christopher Eccleston took control of the TARDIS and the continuation of the series.  \\t1\\nI\\'m not sure what he was trying to do with this film.  \\t0\\nIf it was to turn my good day feeling into a night of disturbing memories than I guess he succeeded.  \\t0\\nThere is a lot of beautiful places.  \\t1\\nIt was forced, like everything in this movie.  \\t0\\nAgain, lame.  \\t0\\nHere\\'s where the movie really pi**ed me off.  \\t0\\nAnd don\\'t even get me started on the jerky camerawork.  \\t0\\nWhen I saw it in the theater I thought I was going to be sick.  \\t0\\nSummary: The witticisms weren\\'t witty.  \\t0\\nThe plot - well, I said I\\'d let that one go.  \\t0\\nThe acting was bad.  \\t0\\nReally bad.  \\t0\\nEven Billy Bob couldn\\'t rise above the script, which was worse.  \\t0\\nCamerawork - again, bad.  \\t0\\nRating: 1 out of 10.  \\t0\\nAn AMAZING finale to possibly the BEST trilogy of all time!  \\t1\\nKieslowski never ceases to amaze me.  \\t1\\nHe is one of my favourite directors, and one of the most talented directors in the history of cinema.  \\t1\\nHis use of the colours of the French flag in the three films was nothing short of incredible, every shot, every scene was like a work of art.  \\t1\\nThree of the most visually appealing movies i\\'ve ever seen.  \\t1\\nAnd his subtle connections between the three films are awesome.  \\t1\\nI have to mention this and it is a huge SPOILER, i loved the ending, how all the characters of the three films were the remaining survivors of the ferry disaster, with Valentine and the young judge together, and the old man watching it on her TV, solidifying his happiness over the suffering which he dealt with for those many years.  \\t1\\nI couldn\\'t think of a better way to end the film, but a smile on my face, great way to wrap up an amazing film and trilogy!  \\t1\\nI recommend this for EVERYONE who loves film, movies, anything...A Work of Art!  \\t1\\n10 out of 10 for both the movie and trilogy.  \\t1\\nI literally vomited while watching this film.  \\t0\\nI think i was one of the people who found this another one of roth\\'s pearls.  \\t1\\nhis performance, as awarded, was stunning.  \\t1\\nthe story which was told so eloquently by Francis ford Coppola 25 years earlier, really unfolds gradually and leaves room for the characters to develop.  \\t1\\nIn a most wonderful location lies a story of contrast.  \\t1\\nAll in all a beautiful directed film from Nicola\\'s roeg wih a sublime cast.  \\t1\\nI\\'m translating movies for a living and this is the first movie in my 5-year working experience that I found offensive to my intelligence.  \\t0\\nBut when someone strives for greatness and poetry, but delivers a muddled (and often ridiculous) story, a bunch of disparate scenes, pretentious dialogue... Then you get the worst kind of a movie that some other reviewer very accurately defined as pretentious crap\".  ', \"To those who find this movie intelligent or even masterful, I can only say - it's your intelligence and your imagination you obviously used to try and make some sense of this pitiful attempt (it's in our human nature to try and make sense of things) .  \", \"One more thing: I can tolerate political incorrectness very well, I'm all for artistic freedom and suspension of disbelief, but the Slavic female character was just too much.  \", 'This is such a fun and funny movie.  ', 'Highly entertaining at all angles.  ', 'It features an outlandish array of memorable, psychotic but lovable nuts.  ', 'So for our enjoyment we get to see them run around, play games, and be dangerous.  ', 'It even has its sweet moments.  ', 'The telephone repair man was really funny and his reactions to the nuts and bitchy boss were truly genuine.  ', 'All the characters in this film are tremendously well played.  ', 'And I really did find them funny.  ', 'This is actually a very smart movie.  ', 'There is a brilliant twist ending.  ', ' I love it.  \\t1\\nThe ending is so, SO perfect... you\\'ll shed a tear.  \\t1\\nI am so thrilled after seeing a movie like this.  \\t1\\nI will never forget it now.  \\t1\\nIt is not just a cult... it is a cult CLASSIC.  \\t1\\nWhich has more depth and character than the man underneath it.  \\t0\\nThe Malta settings are as dry and as barren as the dialogue.  \\t0\\nThis movie is terrible.  \\t0\\nThe hockey scenes are terrible, defensemen playing like they\\'re 5 years old, goalies diving at shots that are 10 feet wide of the net, etc.  \\t0\\nFor those that haven\\'t seen it, don\\'t waste your time!  \\t0\\nTo call this movie a drama is ridiculous!  \\t0\\nStarted watching this but didn\\'t believe in any of the characters.  \\t0\\nIn particular the relationship between the bakery assistant and the waitress just didn\\'t work for me at all.  \\t0\\nIt was a very superficial movie and it gave me the feeling that I was watching play rather than a film.  \\t0\\nThe characters were very \\'stagey\\' and the storyline was a lot like a stage farce.  \\t0\\nBy the time the pyromaniac waylaid the assistant I was bored and didn\\'t care what happened next and so I switched off.  \\t0\\nGlad I didn\\'t pay to see it.  \\t0\\nDidn\\'t laugh or even smile once.  \\t0\\nBut it wasn\\'t anything at all just one big yawn...  \\t0\\nIt is a really good show to watch.  \\t1\\nIt is very educational for children 1 to 8 years old.  \\t1\\nBarney is definitely super DE duper.  \\t1\\nis pretty funny.  \\t1\\nBabie Bop is very cute.  \\t1\\nThe kids are very cool too.  \\t1\\n But \"Storm Trooper\" is not even bad enough to make it to the list of wonderfully terrible movies.  ', \"It's just lame.  \", \"The guy who said he's had better dialogue with his potted plants has it right.  \", 'Everything about this movie is stupid.  ', 'Even if you love bad movies, do not watch this movie.  ', 'It is shameful.  ', 'I would give this television series a 10 plus if i could.  ', 'The writers were \"smack on\" and I think the best actors and actresses were a bonus to the show.These characters were so real.  ', 'I must say I have taped most of the episodes and i find myself watching them over and over again.  ', 'Now you know why I gave it a 10+!  ', \"I don't know exactly what it is about this movie, but we latched on to this endearing movie and it has become a special part of our family's memories.  \", 'I totally and absolutely recommend this movie to anyone who likes good wholesome family movies because that is exactly what this is.  ', 'The things that the four kids get themselves into is absolutely hilarious to watch.  ', 'This is one of the best movies out there that shows such strong sibling bond for each other.  ', 'Much more interesting, more action, more suspense, and less of the unneeded controversy.  ', 'Everything from acting to cinematography was solid.  ', 'Damian is so talented and versatile in so many ways of writing and portraying different Characters on screen.  ', 'This movie has a cutting edge to it.  ', 'I am so pleased to know such a modern day genius is out there , letting is passion for Art drive him and taking us as an audience with him.  ', \"The new characters weren't all that memorable, and I found myself forgetting who was who.  \", 'I felt as though her going to Ireland did absolutely nothing whatsoever.  ', \"It didn't make me scared, horrified, or make me sympathetic towards the characters; it was simply annoying.  \", 'The jerky camera movements were also annoying.  ', 'The plot was the same as pretty much every other cheap horror.  ', \"There was a few pathetic attempts to give the characters some depth, but it didn't really work into the rest of the plot.  \", 'I guess it was supposed to be clever twist, then shed some light on the situation, but it was just stupid.  ', 'If you see it, you should probably just leave it on the shelf.  ', 'Elias Koteas,Jack Palance play good roles Angelina is hot and gets naked.Billy Drago appears in this and is cool as usual + a cameo by Sven ole Thorsen helps make this a very enjoyable movie with good acting and a decent budget.  ', 'This was such an awesome movie that i bought it off of Ebay.  ', 'I really loved the story line and the poler bear was kinda cute.But if anyone has a question about Fort Steele, just ask away:)  ', 'This totally UNfunny movie is so over the top and pathetic and unrealistic that throughout the whole 90 minutes of utter torture I probably looked at my watch about 70000 times!  ', 'Lucy Bell is so much higher than this crap and for her to sink this low is quite depressing.  ', 'All this movie does is make you sick watching all these slackers make excuses for their stupid actions for 90 minutes.  ', 'God, and I can never get that 90 minutes back!  ', 'I think the most wonderful parts (literally, full of \"wonder\") are the excerpts from his works.  ', 'The sets (especially designed to work with the camera) are amazing....stylized, beautiful and effective.  ', 'They could be used as exemplars for any set designer.  ', 'The stories were powerful explorations of the nature of man and of art.  ', 'After watching this film, I wanted to learn more about the works of this artist.  ', 'I highly recommend this movie for anyone interested in art, poetry, theater, politics, or Japanese history.  ', \"Here, in The Wind and the Lion, we see a wonderful rendering of America's own Imperial age.  \", ') What makes this story different are the terrific production values - faultless photography, composition and editing - the terrific casting - the underappreciated Brian Keith playing a bully Teddy - and vivid history.  ', 'Though The Wind and the Lion is told largely through the eyes of the son, every member of the family can identify with one of the characters, whether it be Sean Connery\\'s noble brigand, Candace Bergen\\'s feisty heroine, John Huston\\'s wily John Hay or Steve Kanaly\\'s spiffy, radiant, ruthless can-do lieutenant, Roosevelt\\'s \"Big Stick\".  ', 'This is high adventure at its best.  ', 'I think it was Robert Ryans best film, because he portrayed someone like my father, and he was a schizophrenic in real life,(my father) although he never murdered anyone but was affected more so during the second world war which made him worse.  ', 'Having to humour him just to get by and get through the day was so apt.  ', '(My mother and brother had to do this)When I saw Robert Ryan portraying this type of man, it was a very good imitation of this type of individual, and I was impressed.  ', 'Almost all of the songs in Cover Girl are old-fashioned and not very tuneful.  ', \"The most annoying thing about 'Cover Girl' is the way in which Rita Hayworth is put up on a pedestal.  \", \"Unfortunately, 'Cover Girl' is an example of how Hollywood used to exploit women for financial gain.  \", 'Non-linear narration thus many flashbacks and every part are articulated quite well.  ', 'The good cinematography also makes her and Monica Bellucci look very beautiful.  ', \"A good commentary of today's love and undoubtedly a film worth seeing.  \", 'For people who are first timers in film making, I think they did an excellent job!!  ', 'It was very popular when I was in the cinema, a good house and very good reactions and plenty of laughs.  ', \"It's a feel-good film and that's how I felt when I came out of the cinema!  \", 'It has northern humour and positive about the community it represents.  ', 'I rather enjoyed it.  ', 'I liked it.  ', \"I couldn't take them seriously.  \", 'It really created a unique feeling though.  ', 'Vivian Schilling did an excellent job with the script.  ', 'A world better than 95% of the garbage in the theatres today.  ', 'Her role was played well.  ', 'Not too screamy not to masculine but just right.  ', 'The camera really likes her in this movie.  ', 'I would have casted her in that role after ready the script.  ', \"As a European, the movie is a nice throwback to my time as a student in the 1980's and the experiences I had living abroad and interacting with other nationalities, although the circumstances were slightly different.  \", 'I am a fan of his ... This movie sucked really bad.  ', 'Even worse than Ticker!  ', '& That movie was bad.  ', 'Only like 3 or 4 buildings used, a couple of locations MAYBE, & poor hummh!  ', 'It just blew.  ', \"This movie is excellent!Angel is beautiful and Scamp is adorable!His little yelps when hes scared,and the funniest parts are when:Scamp is caught under the curtain and when Angel and Scamp are singing 'Ive Never Had This Feeling Before'.I totally recommend this movie,its coming out on special edition on June 20.The cover has scamp on a garbage can and Angel underneath the lid.  \", 'I just cant explain this movie more than romantic,charming,hilarious,and adorable.The junkyard scenes are funny,all the junkyard dogs have something special.Too funny i laughed,kids will LOVE it.Buy it when it comes out,it has new features!  ', 'Now we were chosen to be tortured with this disgusting piece of blatant American propaganda.  ', 'This show is made for Americans - it is too stupid and full with hatred and clichés to be admitted elsewhere.  ', 'Almost everyone involved must be return to school, acting is utterly predictable and bad, script is pile of garbage all round.  ', 'I wish I could enter negative values, admins?  ', \"The sets are so bad, they wouldn't look out of place on a Thunderbirds episode.  \", 'The use of slow-motion needlessly repeats itself throughout the movie but is well backed up by bad acting (and bad is a kind word here), no continuity, scenes that are thrown in for no reason whatsoever, vehicles that looked like they were made from a Corn Flakes box and a directorial style that bordered on stupidity.  ', 'Oh yeah, and the storyline was pathetic too.  ', \"I hate writing bad reviews about films - especially those in which I really like the star - but this film is so bad I don't believe for one second that anyone could have been proud of it.  \", \"I am not a filmmaker nor am I a director but I would hide my head in the sand if I'd spent whatever amount of money and time on this movie.  \", 'In short - this was a monumental waste of time and energy and I would not recommend anyone to EVER see this film.  ', 'It came free with a DVD player I bought but I still turned the thing off halfway through because I was embarrassed for Howell.  ', '1/10 - and only because there is no setting for 0/10.  ', \"An interesting premise, and Billy Drago is always good as a dangerous nut-bag (side note: I'd love to see Drago, Stephen McHattie and Lance Hendrikson in a flick together; talk about raging cheekbones!).  \", \"The soundtrack wasn't terrible, either.  \", 'But the acting--even that of such professionals as Drago and Debbie Rochon--was terrible, the directing worse (perhaps contributory to the former), the dialog chimp-like, and the camera work, barely tolerable.  ', 'Still, it was the SETS that got a big \"10\" on my \"oy-vey\" scale.  ', 'Yes, I am simplifying things here for the sake of brevity, for this really is at the core of the problems with this film - it has too much going on without any real, fulfilling explanation.  ', 'Both do good jobs and are quite amusing.  ', \"But the convoluted plot just didn't convince me, and much of the film was watched with a weird, questioning glance.  \", 'I let my girlfriend talk me into seeing this - bad idea, we both hated it.  ', 'The last 15 minutes of movie are also not bad as well.  ', 'Bela Lugosi was totally extraneous, intoning odd lines.  ', 'The acting was decidely wooden, though no worse than a period Universal B movie.  ', \"I like Armand Assante & my cable company's summary sounded interesting, so I watched it, twice already, and probably will again.  \", 'I believe the screenwriter did a good job of tying up the loose ends.  ', 'My 8/10 score is mostly for the plot.  ', \"I won't say any more - I don't like spoilers, so I don't want to be one, but I believe this film is worth your time.  \", 'Wow, what a bad film.  ', 'Not frightening in the least, and barely comprehensible.  ', \"The plot doesn't hang together at all, and the acting is absolutely appalling.  \", 'Not even good for camp value!  ', \"I wasn't expecting Oscar material, but this?  \", \"You'd have to have the IQ of particularly stupid mollusk not to see that one coming.  \", 'This film (and I use that word loosely) is an insult to the movie-going public.  ', 'If only someone involved with it knew how to string together narrative!  ', \"This gets a 1 out of 10, simply because there's nothing lower.  \", 'This is one I did not have, but I watched it recently on Fox Movie Channel, and was very disappointed.  ', 'I know he was a contract player with little control over his scripts, but the acting was as bad as the script.  ', 'Victor McLaglen was even bad, and Brian DonLevy was almost unrecognizable.  ', 'Considering the relations off screen between Taylor and Stanwyck, it was surprising how little chemistry there was on screen between the two of them.  ', 'But the premise of the film was so ridiculous: that the President of the U.S.  ', 'The death row scenes were entirely unmoving.  ', \"The only thing worse than Taylor's acting was Stanwyck's singing.  \", 'Whatever the producer was going for, he missed entirely.  ', 'I was deeply impressed with the character he played.  ', 'I knew when I saw the film that more great things were to come from this gifted actor.  ', 'A cheap and cheerless heist movie with poor characterisation, lots of underbite style stoic emoting (think Chow Yun Fat in A Better Tomorrow) and some cheesy clichés thrown into an abandoned factory ready for a few poorly executed flying judo rolls a la John Woo.  ', 'Even the squibs look awful.  ', 'At no point in the proceedings does it look remotely like America.  ', 'The plot, such as it is, is so derivative and predictable that the ending is like a mercy killing.  ', 'The awful dialogue and hopeless overacting by everyone who gets shot top off a real waste of space and time.  ', 'I was very uneasy with how bad this movie was, but not scared at all.  ', 'The dialogue is composed of things that make little sense.  ', 'About 30 minutes of footage is wasted to show mediocre elderly actors awkwardly babbling overwrought pseudo-Satanic gibberish corny enough to make a teen Goth blush, almost always in Olde English, and sometimes in Latin that may or may not be made up words.  ', 'The directing is sloppy at best.  ', 'Hackneyed writing, certainly, but made even worse by the bad directing.  ', 'Of course, the acting is blah.  ', 'The acting by the whole cast could be put on a scale and balanced perfectly between overacting and underacting.  ', \"And, FINALLY, after all that, we get to an ending that would've been great had it been handled by competent people and not Jerry Falwell.  \", \"I loved this movie it was a great portrayal of a family who had it's share of ups and down, but in the end they knew that special love they had for each other.  \", 'I have seen many movies starring Jaclyn Smith, but my god this was one of her best, though it came out 12 years ago.  ', \"This movie contained an all-star cast, and what I loved the most was that it opened my eyes to see other actors who I haven't seen before.  \", 'This movie was kind of long in length, but I enjoyed every minute of it.  ', 'Overall I rate this movie a 10 out of a 1-10 scale.  ', 'Lifetime does not air it enough, so if anyone knows what store sells it let me know because this is a must-have.  ', 'I particularly remember my senses being assaulted by strident cords of music that would blare out with very little warning, and even less meaning.  ', 'It is just the sort of pap that is screened in the afternoon to punish the unemployed for not having jobs.  ', 'Totally different, with loads of understatement and black comedy, this is a film few get to see, but those who do will remember it.  ', 'This movie creates its own universe, and is fascinating in every way.  ', 'But this movie really got to me.  ', 'See it.  ', 'I really hope the team behind this movie makes more movies, and that they will continue to do so in their own, some kinda weird style.  ', \"And I forgot: The Casting here i superb, with Trond Fausa Aurvåg being perfect in the role as the Bothersome Man, who doesn't understand where he is, what he is doing and why.  \", 'This movie is a good and humorous comment on life in 2006.  ', 'I found this move beautiful, enjoyable, and uplifting.  ', 'Initially the local sites in the film, which was filmed here in Buffalo, intrigued me.  ', 'Later I found myself lost in the power of the film.  ', 'The entire audience applauded at the conclusion of the film.  ', 'I left the theater with a lilt in my step, joy in my heart and hope for the human race.  ', 'Duris has a wholesome appearance and gives a fine performance.  ', 'The rest of the cast also play well.  ', 'Cinematography noteworthy including fine views of Barcelona and its famed Gaudi towers.  ', 'About ten minutes into this film I started having second thoughts.  ', 'About half way through this film I started to dislike it.  ', 'By the time the film ended, I not only disliked it, I despised it.  ', 'What this film lacks is a convincing script.  ', 'The script looks as if only a rough draft was written and shooting began before a finished script was completed.  ', 'Things happen, characters personalities change, plot twists occur for no real reason other than that script calls for it.  ', 'The cast is good.  ', \"For that, it's worth checking out.  \", 'This is probably the most irritating show I have ever seen in my entire life.  ', 'It is indescribably the most annoying and idiotic show I have ever seen.  ', 'Everything about it is just bad.  ', 'I could not understand, what kind of idiot would produce this mess in the first place not to mention several season.  ', 'The script is bad, very bad \\x96 it contains both cheesiness and unethical joke that you normally see in rated R or NC-17 movie.  ', 'The casting is also horrible, cause all you see is a really really BAD Actors, period.  ', 'Final Word: This Show is a real torture!!  ', 'It is zillion times away from reality.  ', \"Watching washing machine twirling around wouldn't hurt your eyes as much as this show.  \", 'Rating: 0/10 (Grade: Z) Note: The Show Is So Bad That Even Mother Of The Cast Pull Her Daughter Out Of The Show.  ', \"20th Century Fox's ROAD HOUSE 1948) is not only quite a silly noir but is an implausible unmitigated bore of a movie.  \", 'Full of unconvincing cardboard characters it is blandly written by Edward Chodorov, who also produced, and is surprisingly directed by Jean Negulesco from whom one would expect a great deal more.  ', 'From here on the Widmark character turns unintentionally comical!  ', 'His losing his marbles so early in the proceedings is totally implausible and unconvincing.  ', \"And if that isn't enough of a mess of a movie for you - the picture is also marred with a constant use of studio sets and indoor exteriors.  \", 'Whatever prompted such a documentary is beyond me!  ', '(very serious spoilers) this movie was a huge disappointment.  ', 'there are so many problems i dont know where to start.  ', 'the cast was great.  ', 'steve martin delivers a really funny performance of a middle-aged, upper class, uptight white guy.  ', 'add betty white and jean smart and you have a great cast - everyone played their parts really well.  ', 'but the movie makes a lot of serious mistakes.  ', 'first of all, there are enough racial stereotypes and racial jokes to offend everyone.  ', 'the movie is littered with overt racial slurs towards the black cast members and in return the whites are depicted as morons and boobs.  ', \"putting the race card aside, lets look at the major flaw in the film: they destroy latifa's character.  \", 'there is no real plot.  ', 'i wouldnt see this movie again for free.  ', 'STEAMBOAT WILLIE is an amazingly important film to our cinema history.  ', 'This second appearance of Mickey Mouse (following the silent PLANE CRAZY earlier that year) is probably his most famous film--mostly because it was so ground-breaking.  ', \"While you don't yet hear Mickey speak, there are tons of sound effects and music throughout the film--something we take for granted now but which was a huge crowd pleaser in 1928.  \", 'However, after seeing the short again after about 25 years, I was amazed at how timeless the film actually is.  ', 'It\\'s just adorable seeing Mickey playing \"Turkey in the Straw\" in a highly imaginative (if occasionally cruel) way.  ', \"Clever and a real crowd-pleaser--this film still ranks among Mickey's best films even after 80 wonderful years.  \", \"The bipolarity of the ruthless thug (one minute a ruthless killer, the next minute a Luv's diaper commercial) is completely unconvincing.  \", \"I'm terribly disappointed that this film would receive so many awards and accolades, especially when there are far more deserving works of film out there.  \", 'The original Body and Soul (1947) is a masterpiece.  ', 'John Garfield, Ann revere, Lilli Plmer, William Conrad, Canada Lee...and filmed by one of the greatest cinematographers to ever grace the screen..James Wong Howe.  ', \"I don't think there are any redeeming qualities in this remake.  \", 'This may be the only bad film he ever made.  ', \"So bad...well...it's just bad.  \", 'This movie is a solid example of a bad plot and a very, very bad idea all the way.  ', \"It's a shame to see good actors like Thomerson and James make a living in a mess like this.  \", 'I thought it was bad.  ', 'Both films are terrible, but to the credit of the 1986 version, it was watchable.  ', \"Let's start with all the problems\\x97the acting, especially from the lead professor, was very, very bad.  \", 'The script is a big flawed mess.  ', \"The best example of how dumb the writing is when it's established that you can turn the zombie-students back into humans by removing a necklace containing a piece of the meteorite.  \", 'Director Paul Matthews, who also wrote/directed the weak 1995 monster movie \"Grim\", clearly doesn\\'t know how to pace his films.  ', 'The movie is terribly boring in places.  ', 'The lighting is awful.  ', 'The film looks cheap and bland.  ', 'One of the most disappointing aspects is the lack of notable gore.  ', \"This convention never worked well in the past, and certainly doesn't work here.  \", 'The visual effects were AWFUL.  ', \"The CG opening sequence in space looked like it could have been created on Microsoft Slideshow for God's sake!  \", 'The \"explosion\" of the Gas tanks at the end was just as awful.  ', \"Okay, I like to consider myself a fair critic, so I'll give credit where credit's due--the creature effects were actually pretty cool.  \", 'Gotta love those close-ups of slimy, drooling teeth!  ', 'To sum the film up, \"Breeders\" is a terrible, cheaply made horror movie that should be avoided like the Ebola virus.  ', 'Not recommended.  ', 'He is almost unbearable to watch on screen, he has little to no charisma, and terrible comedic timing.  ', \"Aside from it's terrible lead, this film has loads of other debits.  \", \"I understand that it's supposed to be a cheap popcorn comedy, but that doesn't mean that it has to completely insult our intelligence, and have writing so incredibly hackneyed that it borders on offensive.  \", \"Lewis Black's considerable talent is wasted here too, as he is at his most incendiary when he is unrestrained, which the PG-13 rating certainly won't allow.  \", \"The film's sole bright spot was Jonah Hill (who will look almost unrecognizable to fans of the recent Superbad due to the amount of weight he lost in the interim).  \", 'With the originality and freshness of the first movie now spent, this remake had little else to offer.  ', 'The budget was evidently very limited.  ', 'This was reflected not only in the cast, but also in the below-par script, which borrowed much from the earlier classic.  ', 'However, here there was no decent acting, action or location work to balance things up.  ', 'Filmiing was less expansive.  ', 'It failed to convey the broad sweep of landscapes that were a great part of the original.  ', 'Generally; it just lacked imagination.  ', 'Is it possible for a movie to get any worse than this?  ', 'There is no plot here to keep you going in the first place.  ', 'Even when the women finally show up, there is no sign of improvement; the most expected things happen and by the time the film is over, you might be far asleep.  ', 'Beware: this is not a trashy cult movie, this is trash -period!  ', \"I can't believe there's even a sequel to this!  \", 'Which is precisely why I am giving it such a bad review!  ', \"Being a 90's child, I truly enjoyed this show and I can proudly say that I enjoyed it big time and even more than the classical WB cartoons.  \", 'But \"Tiny Toons\" kept the 90\\'s vibe and delivered one of the most popular, funny, and underrated cartoons ever created.  ', 'The memories are murky but I can only say that I enjoyed every single episode and product related to the show.  ', 'Easily, none other cartoon made me laugh in a tender way (before getting into dark sitcoms oriented for teenagers).  ', 'The characters were all funny and had the peculiarity of not having a true lead character.  ', 'Every single character was hilarious and deserved to be called a lead.  ', 'Every element of this story was so over the top, excessively phony and contrived that it was painful to sit through.  ', 'Her lines seem to have been WRITTEN by a fifteen year old, though they are trying oh so, so hard to sound like how a fifteen year old would really, um, you know, well... talk.  ', 'Perabo has a nice energy level and is obviously very comfortable in front of a camera.  ', 'There is simply no excuse for something this poorly done.  ', 'I saw this movie and I thought this is a stupid movie.  ', 'What is even more stupid is that who had thought an idea that there should be a volcano in Los Angeles?  ', 'To be honest with you, this is unbelievable nonsense and very foolish.  ', 'In conclusion, I will not bother with this movie because a volcano in Los Angeles is nothing but nonsense.  ', 'The story line is just awful!  ', \"It's just painful!  \", 'And the accents are absolutely abysmal!  ', \"There's also enough hypocrisy in this film to make me vomit.  \", \"Don't waste your time watching this rubbish non-researched film.  \", 'I believe that Pitch Black was done well.  ', \"The characters are interesting and you want to find out more about them the longer the movie goes on, and I think people will be surprised by who does and doesn't make it.  \", 'Go watch it!  ', 'Omit watching this.  ', 'VERY funny!  ', 'My rating: just 3 out of 10.  ', 'The characters are interesting and you really care for them.  ', 'An instant classic, with a great soundtrack and a catchy song during the ending credits.  ', \"Don't miss it.  \", \"This is a masterful piece of film-making, with many themes simmering and occasionally boiling over in this warts and all study of the poet's bohemian, self-indulgent wartime years that span the aerial bombardments of London and the outward tranquillity of a Welsh coastal retreat - the borderlines between friendship, lust and love, dedication to art and experience versus practical concerns, jealousy, rivalry, cowardice and egotism versus heroism and self-sacrifice and more.  \", 'A mature, subtle script that suggests and occasionally brings into dramatic focus the underlying tensions is well served by perfect performances (apart from the odd inappropriate smiling that Keira Knightley is prone to, though perhaps under direction this time as the other characters themselves often mention it).  ', 'But above all the exquisite visual composition of each moment, with inventive and elegant use of close-up, camera angle and lighting, including pointillistic faux home movie footage, is a wonder and joy to behold.  ', \"It's as continuously beautiful to look at as a Bertolucci, but the relationships here are more convincing and the narrative more engaging than some of that master's work.  \", 'The basic premise is wasted since it is sidelined by the inexplicable focus on the documentary crew.  ', 'Regardless, the film fails on most levels.  ', 'Avoid at all costs.  ', 'I saw this film over Christmas, and what a great film it was!  ', 'I thought Errol Flynn was brilliant as Custer and has since become my favourite actor!  ', 'His acting alongside Olivia De Havilland was brilliant and the ending was fantastic!  ', 'I had always known that Errol Flynn was a brilliant actor as he was my dads favourite actor, and I grew up watching his films as a child.  ', \"But it wasn't until I watched this film that I realised how great he actually was.  \", \"I'll give this film 10 out of 10!  \", \"I know that Jim O'Connor was very energetic and that nobody could be as much as him, but George was well dull.  \", \"He really didn't seem to want to be hosting; his voice-overs were monotonous, didn't get involved with the guests.  \", 'Lovely little thriller from Hitchcock, with lots of nice shenanigans surrounding a murdered spy, a kidnapped child, a nasty church, a foreign plot and some random taxidermists.  ', \"Jimmy Stewart is as ever a great hero for Hitchcock, the story rips along to its cool climax at an embassy function, but it lacks the brooding menace of Hitchcock's black and white, low-budget original.  \", \"Nevertheless yet another wonderful film from the great master's stable.  \", 'I have to say that this film was excellently produced and tops the ratings as a typical sci fi film!  ', \"Excellently produced by one of Sci-fi's best producers Scot Vandiver !  \", 'But it is entertaining, nonetheless.  ', \"It's a campy sort of film that's a joy to watch.  \", \"There's barely a boring moment in the film and there are plenty of humorous parts.  \", 'The cast is always entertaining as usual.  ', 'Overall, a delight!  ', \"This movie is so mind-bendingly awful, it couldn't have even been created.  \", 'The film lacks any real scares or tension & some of the medical terminology used throughout is a bit iffy to say the least & I say that as an insulin dependant diabetic myself.  ', 'The least said about the acting the better.  ', 'This movie does an excellent job of revealing the complexity of the task and the incredible challenges facing South Africa.  ', 'I believe every one should see this movie as I think few people outside of South Africa understand its past and what is being attempted in the Truth and Reconciliation process.  ', 'Nothing short of magnificent photography/cinematography in this film.  ', 'The acting is fantastic, the stories are seamlessly woven together, and the dogs are splendid............. A must rent, view, or see.  ', \"Don't be afraid of subtitles........ its worth a little aversion therapy 10/10  \", 'Excellent performance.  ', 'There still are good actors around!  ', 'Also great directing and photography.  ', \"Very true to Shakespear, and a 'must' for all Shakespear fans.  \", 'Macbeth (Jason Connery) moved me to tears with his final monolog (out brief candle, out)He gave the sphere of moral decay and dark forces a human face, which makes it the more interesting.  ', 'Helen Baxendale is a very credible lady Macbeth who can be very cheerfull at times and sometimes she just looks like a naughty girl, but deadly in her taste for blood and evil.  ', 'If you love death and decay, and Shakespears lyrics... this is the one.  ', \"This is a witty and delightful adaptation of the Dr Seuss book, brilliantly animated by UPA's finest and thoroughly deserving of its Academy Award.  \", 'Special mention should be made of the superb music score and sound effects, which are an integral element in helping to make this such a memorable and enjoyable cartoon.  ', 'However Paul Schrader has indeed made a film \"about\" Mishima that is both superb & complex.  ', \"Also notable is John Bailey's fine crisp beautifully colored cinematography and the great production design & costumes by Eiko Ishioka who went on to do the memorable costumes for Coppola's Dracula for which she received a well deserved Oscar.  \", 'Even allowing for poor production values for the time (1971) and the format (some kind of mini-series), this is baaaaaad.  ', 'Unless you\\'re just out to visually \"collect\" all extant films of Austen\\'s work, you can skip this one.  ', \"If you do watch it, however, there are small consolations: The actresses playing Anne's sisters each do a wonderful job with their roles.  \", 'It is not good.  ', 'Speaking of the music, it is unbearably predictably and kitchy.  ', 'Then the film just dropped the ball.  ', 'This is a stunning movie.  ', 'Raw and sublimely moving.  ', \"It felt like a very gripping, intelligent stage play (but without the overly theatrical feeling one actually gets from watching people on a stage) which plays on everyone's terror of a white lie escalating to monstrous consequences.  \", 'All of the main players are mesmerising.  ', \"Tom Wilkinson broke my heart at the end... and everyone else's judging by the amount of fumbling for hankies and hands going up to faces among males and females alike.  \", 'Julian Fellowes has triumphed again.  ', \"He's a national treasure.  \", 'GO AND SEE IT!  ', 'This is an excellent film.  ', 'The aerial scenes were well-done.  ', 'It was also the right balance of war and love.  ', 'The film gives meaning to the phrase, \"Never in the history of human conflict has so much been owed by so many to so few.  ', 'Kris Kristoffersen is good in this movie and really makes a difference.  ', 'A good film by a great director!  ', 'This is definitely one of the better documentaries I have seen looking at family relationships and marriage.  ', \"There are many continuity errors: one other user commented on different cars in the garage, Joe's glasses...the one that got to me the most was the fact Joe's facial hair configuration seemed to change from scene to scene.  \", 'This is just a great movie.  ', '10 out of 10 stars.  ', \"I can't see how this movie can be an inspiration to anyone to come out or overcome fear and rejection.  \", \"It's so bad it's actually worth seeing just for that reason.  \", 'Punishment Park is a brilliant piece of cinema.  ', 'Shot in the Southern California desert using his patent faux documentary style, Watkins creates a film like no other.  ', 'This is one of Peter Watkins most accessible films.  ', 'I advise you to look out for it.  ', 'You wont regret it!  ', 'Highly recommended A+  ', 'Well... Just if you keep thinking how bad it is.  ', \"It's a mediocre, miserable, hollow, laughable and predictable piece of garbage.  \", \"It's a case of 'so bad it is laughable'.  \", ') very bad performance plays Angela Bennett, a computer expert who is at home all the time.  ', 'It is a film about nothing, just a pretext to show ridiculous action scenes.  ', 'How awful she is!  ', 'But she is still a bad actress, repeating her robotic face moves in each of her pictures.  ', 'The results, well, are a shame.  ', 'DELETE this film from your mind!  ', 'One of the worst shows of all time.  ', 'The show would begin with smart ass ed comments to each other that would be totally off the wall and uncalled for.  ', 'The fat computer geek was unbelievable, the bible thumper, the bad-ass girl, who are these actors???  ', 'Never heard of any of them except Cole who was totally unbelievable in the part.  ', 'Every time he opened his mouth you expect to hear, \"you see kids...\" Pulling the plug was a mercy killing for this horrible show.  ', 'The stories were as unbelievable as the actors.  ', 'Lame would be the best way to describe it.  ', \"Stanwyck and Morgan are perfectly cast in what is, in many ways, a modern equivalent of Dickens' Christmas Carol in its sensibility.  \", 'The success of the film depends on the casting of Sydney Greenstreet as the Alexander Yardley character.  ', 'The attractive set used throughout most of the film is an eye-pleasing gem.  ', 'Im big fan of RPG games too, but this movie, its a disgrace to any self-respecting RPGer there is.  ', 'The lines, the cuts, the audio, everything is wrong.  ', 'You can find better movies at youtube.  ', \"Top line: Don't waste your time and money on this one, its as bad as it comes.  \", 'A Lassie movie which should have been \"put to sleep\".... FOREVER.  ', \"That's how I'd describe this painfully dreary time-waster of a film.  \", \"So mediocre in every aspect that it just becomes a dull, uninteresting mess, this is one of the most forgettable movies I've seen.  \", 'It isn\\'t even an achievement as a \"so-bad-it\\'s-good\" or \"so-bad-it\\'s-memorable\" movie.  ', \"It's an empty, hollow shell of a movie.  \", \"Seriously, it's not worth wasting your, or your kid's time on.  \", 'Avoid, avoid, avoid!  ', 'It will drive you barking mad!  ', 'The transfers are very good.  ', 'Very nice and relaxing late night viewing.  ', 'The movie is full of wonderful dancing (hence the title!  ', ') some great music, and terrific scenery.  ', 'It handles some tough issues with dignity and grace, and, of course, has (shocking spoiler here!  ', ') a happy, wonderful, feel good ending!  ', 'The point is the journey, a journey that touches every member of the family.  ', \"It's one of the movies I need to see whenever it comes on TV...never mind the fact that I already have it memorized!  \", 'Nothing new there.  ', 'That was done in the second movie.  ', 'The movie has almost no action scenes in it and very little comedy.  ', 'The plot has more holes than a pair of fishnet stockings and the direction and editing is astonishingly ham fisted.  ', 'What on earth is Irons doing in this film?  ', 'I just saw this film and I recommend it.  ', 'It has a very good plot, it holds your complete attention, the acting is superb, Tom Wilkinson was fantastic and Emily Watson was also very good.  ', 'A very good film indeed, about great and unconditional love.  ', \"Tom Wilkinson's character is a man who is not prepared for the ordeal that is about to begin, but he takes the matter in hand as the story progresses, and this great actor gives a performance that makes you feel the character's anguish and suffering.  \", \"Emily Watson's character is very strong, and she has only to give a quick glance and you understand everything.  \", 'Despite the pans of reviewers, I liked this movie.  ', \"In fact, I liked it better than Interview With a Vampire and I liked this Lestat (Stuart Townsend) better than Cruise's attempt.  \", 'Aailiyah was pretty good as Akasha, in places compelling (her first entrance and mini dance scene).  ', \"I'm a big fan of this series mostly due to Anne Rice's style, sensitivities and treatments.  \", 'I guess I liked the details of his dysfunction--he was believable.  ', 'The football scenes at the end were perplexing.  ', 'But I thought his acting was skilled.  ', 'Meredith M was better than all right.  ', 'A very charming film with wonderful sentiment and heart.  ', \"It is rare when a film-maker takes the time to tell a worthy moral tale with care and love that doesn't fall into the trap of being overly syrupy or over indulgent.  \", 'Nine out of ten for a truly lovely film.  ', 'This early film from future goremeister Lucio Fulci is a very good addition to the giallo sub-genre.  ', \"This is one of the best Italian thrillers of the early 70's.  \", 'A standout scene.  ', 'This scene is very strong and unpleasant.  ', \"Technically, the film is well made with impressive camera-work, solid acting and effective music from Riz Ortolani \\x96 particularly good is a recurring unaccompanied female vocal that sounds like it's coming from a distant hill.  \", \"It's still wild stuff though and is highly recommended to fans of giallo cinema.  \", 'The movie was very interesting from beginning to the end.  ', \"I liked the way Dustin Hoffman's character was ready to do just about everything to stay with his son.  \", 'This movie is also revealing.  ', 'Personally, I think it shows that people should learn to find a compromise them self without involving other people into issue.  ', 'And it was boring.  ', 'I am so tired of clichés that is just lazy writing, and here they come in thick and fast.  ', 'PS the only scene in the movie that was cool is when the central character finds her room blown up.  ', \"It's a fresh, subtle, and rather sublime effect.  \", 'An Italian reviewer called this \"a small, great film,\" and that\\'s right.  ', 'All the actors give a wonderful performance, especially Jennifer Rubin as Jamie Harris, who changes from the nervous starlet in the beginning through the strange events she is part of to the cool star.  ', 'You learn a lot about the real inside emotions of people in this movie, and a lot about the movie business itself.  ', 'The movie in movie situations in the beginning and through the game that is played with her by the \"acting coach\" are fascinating.  ', \"Also the music by Mark Snow is possibly the best score I've ever heard.  \", \"You won't forget this movie!  \", 'Why was this film made?  ', 'The film has an ultra-cheap look to it.  ', \"The result is a film that just don't look right.  \", 'None of them are engaging or exciting.  ', \"The plot is nonsense that doesn't interest in the slightest way or have any uniqueness to it.  \", 'The Foreigner is not worth one second of your time.  ', 'I saw it as a child on TV back in 1973, when it was \"The Stranger\" and I loved it.  ', \"But the duet between the astronaut and his doctor at the beginning of the movie is a perfect exchange if one considers that this movie was made well into the Cold War and the astronaut's biggest fear is that he has crashed in the USSR.  \", 'This movie is so awesome!  ', 'I loved it, it was really scary.  ', 'I love the Scream movies and all horror movies and this one ranks way up there.  ', 'If you want a real scare rent this one!  ', 'This is an extraordinary film.  ', \"As a courtroom drama, it's compelling, as an indictment on the American justice system, it's frightening.  \", \"This film highlights the fundamental flaws of the legal process, that it's not about discovering guilt or innocence, but rather, is about who presents better in court.  \", \"The film is well paced, understated and one of the best courtroom documentaries I've seen.  \", 'This mostly routine fact-based TV drama gets a boost from the fine performance by Cole.  ', 'Predictable, but not a bad watch.  ', 'It was clear that she had the range and ability to pull off this part.  ', 'She carries the movie well.  ', 'Constantine gives everything the right intensity and seems to have a good understanding of the underlying psychological motivations.  ', 'It is wonderful and inspiring to watch, and I hope that it gets released again on to video or DVD.  ', \"How this piece of trash was ever released is beyond me: the acting, the story, the characters, the supposedly special effects, etc...it's ALL wrong.  \", 'In fact, this stinker smells like a direct-to-video release.  ', 'Avoid at ALL costs!  ', 'Star Trek V The final Frontier is the worst in the series.  ', 'The acting from all involved and that includes those like Shatner and Nimoy is bad and washed out and making them seem as old as they look in real life, the special effects are tacky like when Spock has to rescue Kirk on a jet pack when he falls down from a mountain.  ', \"The attempts at humor were pitiful and story is so awful it dosen't bear thinking about which basically involves a Vulcan stealing the Enterprise to find god (seriously) I just didn't care about any of this film and oh not to mention Uhura does a belly dance to distract male guards.  \", 'The only place good for this film is in the garbage.  ', 'The worst one of the series.  ', 'Editing: The editing of this film was phenomenal in my opinion.  ', \"When a song could explain the emotions of the subjects better, such as when Jay Adams' unfortunate life was a subject of talk, the song Old Man by Neil Young was played, which evokes many emotions.  \", 'Cinematography: The film was shot in an interesting way.  ', 'Of course the footage from the 70s was grainy, but that only enhanced the film.  ', 'This film offers many delights and surprises.  ', 'When Achille and Philippa beautifully sing a duet from \"Don Giovanni\" that perfectly describes their situation in the movie, you appreciate the subtle layers of this excellent film.  ', 'The story unfolds in 18th century Jutland and the use of period music played on period instruments is just one more fine touch.  ', \"You share General Loewenhielm's exquisite joy in his partaking of the Cailles en Sarcophage even though you are just watching a movie - but you do wish for just a small sample to savor.  \", 'But this understated film leaves a lasting impression.  ', 'The warmth it generates is in contrast to its austere backdrop.  ', 'You will leave the theater wanting to go out and dance under the stars.  ', \"The acting, as you'd expect from this cast, is top notch.  \", 'The characters are fleshed out surprisingly well, particularly Grimes and Blake, and all the actors deliver their sharply scripted lines with just the right amount of deadpan tongue in cheek to make the dialogue both hilarious and realistic.  ', 'Angus Scrimm also turns in a good performance in a somewhat brief but memorable role as the gently menacing, violin-playing anatomist Doctor Quinn.  ', 'Conclusion - I loved it.  ', \"It's a long time since I was so entertained by a movie.  \", 'I struggle to find anything bad to say about it.  ', 'Mark my words, this is one of those cult films like Evil Dead 2 or Phantasm that people will still be discovering and falling in love with 20, 30, 40 years down the line.  ', \"It's pretty surprising that this wonderful film was made in 1949, as Hollywood generally had its collective heads in the sand concerning black and white issues at that time.  \", \"The film deserves strong kudos for taking this stand, for having exceptional acting from its mostly lesser-known cast and for the super-intelligent script that doesn't insult the audience or take the easy way out when it comes to white racism.  \", \"Plus, with the movie's rather modest budget and fast running time, it does an amazing job!  \", 'Juano Hernandez (an exceptional actor who played supporting roles in many films of the era) is a proud black man who is accused of murdering a white man in the South.  ', 'Trumbull on I LOVE LUCY).  ', 'See it with your kids if you have a chance--it will open up some amazing dialog about how far race relations have come in the last 50 years.  ', 'See both films if you can.  ', 'It was that year, however, that reminded us that Huston was still at the top of his game as evinced by his faithful adaptation of James Joyce\\'s acclaimed novella \"The Dead.  ', \"Feelings, thoughts...Gabriel's discomfort during the dance...all these intangibles leap to life and come within the viewer's grasp in Huston's portrayal.  \", 'Very disappointed and wondered how it could be in the Oscar shortlist.  ', \"It's very slow.  \", \"Lot of holes in the plot: there's nothing about how he became the emperor; nothing about where he spend 20 years between his childhood and mature age.  \", \") Don't waste your time.  \", \"End of Days is one of the worst big-budget action movies I've ever seen.  \", \"He surely doesn't know how to make a coherent action movie from the screenwriter of Air Force One who was only obliged to write the script just for a big sum of money.  \", 'This was one of the worst films i have ever seen.  ', \"I'm still trying to get over how bad it was.  \", 'This movie is possibly one of the most creative works of horror ever.  ', \"It has everything you could want... suspense, drama, comedy, confusing subplots, native americans, brain eating... If you're looking for the be-all, end-all of brainsucking movies, look no further.  \", ' With great sound effects, and impressive special effects, I can\\'t recommend this movie enough.  \\t1\\nCall me a nut, but I think this is one of the best movies ever.  \\t1\\nGreat character actors Telly Savalas and Peter Boyle.  \\t1\\n1 hour 54 minutes of sheer tedium, melodrama and horrible acting, a mess of a script, and a sinking feeling of GOOD LORD, WHAT WERE THEY THINKING?  \\t0\\nLots of holes in the script.  \\t0\\nIt\\'s like a bad two hour TV movie.  \\t0\\nNow imagine that every single one of those decisions was made wrong.  \\t0\\nThe dialogue is atrocious.  \\t0\\nThe acting is beyond abysmal.  \\t0\\nEverything stinks.  \\t0\\nTrouble is, the writing and directing make it impossible to establish those things that make a movie watchable, like character, story, theme and so on.  \\t0\\nWorse, there\\'s an incredibly weak sub-plot thrown in that follows a little band of latter-day Mansonites as they go after a reporter who\\'s working on a story on the anniversary of the killings.  \\t0\\nIt\\'s dumb and pointless, and a complete waste of time.  \\t0\\nIn short, don\\'t bother with this movie.  \\t0\\nI won\\'t spoil it, but the ending in pretty amazing.  \\t1\\nThe best scene in the movie is at the end, but I won\\'t spoil it.  \\t1\\nIf there was ever an indication of a writer and a director\\'s ability to meld two highly volatile temperaments into a seamless union of creativity, then this is it!  \\t1\\nThe result is a powerhouse achievement, made more timely now perhaps because of our culture\\'s disturbing fascination with celebrity, and it\\'s distorted interpretations of fame.  \\t1\\nA film not easily forgotten.  \\t1\\nBut, Kevin Spacey is an excellent, verbal tsunami as Buddy Ackerman \\x96 and totally believable because he is a great actor.  \\t1\\nThe scripting of the subtle comedy is unmatched by any movie in recent years.  \\t1\\nThe characters are interesting, even if a bit predictable.  \\t1\\nHighly recommended for all ages, although the younger set will probably not appreciate some of the more subtle references, they will certainly appreciate one galley scene in particular!  \\t1\\nGreat movie!  \\t1\\nAlso the story and acting were weak.  \\t0\\nAt around 4 pm I bought it, at around 8pm I started to watch, at around 8.15pm I fast forwarded the remaining film to see if there was anything left watchable for a human being with a brain... but there wasn\\'t.  \\t0\\nEither way, it sucks.  \\t0\\nThe script is horrendously stupid.  \\t0\\nThe story starts too fast with absolutely no suspense or build-up in the slightest.  \\t0\\nEverything Captain Howdy says is either laughable or just plain stupid.  \\t0\\nWhat the hell kind of crap is that?!  \\t0\\nThen, there\\'s the plot holes.  \\t0\\nYou could drive a semi truck into these holes!  \\t0\\nLinda Cardellini is the only thing good in this film.  \\t1\\nShe\\'s poised and amazing.  \\t1\\nDee Snider just plain sucks.  \\t0\\nHe can\\'t act (one of the least scary villains I have ever seen), he can\\'t write (did he write this damn movie in his sleep?  \\t0\\nI was bored throughout the whole damn thing.  \\t0\\nThe acting sucks, the music sucks, the script sucks, the pacing sucks, the special FX suck, the directing sucks... basically, this movie sucks.  \\t0\\nThis film tries to be a serious and sophisticated thriller/horror flick and it fails miserably.  \\t0\\nThis is probably one of the least effective and utterly unoriginal films I have ever seen in my entire life.  \\t0\\nA piece of cinematic garbage captured on celluloid.  \\t0\\nAvoid at any and all costs.  \\t0\\nAt any rate this film stinks, its not funny, and Fulci should have stayed with giallo and supernatural zombie movies.  \\t0\\nAvoid this film at all costs.  \\t0\\nI don\\'t know what happened in Season Five, what a mess.  \\t0\\nThe only consistent thread holding the series together were the amazing performances of Leni Parker and Anita LaSelva as the two Taelons in quiet idealogical conflict.  \\t0\\nNow this is a movie I really dislike.  \\t0\\nIt\\'s one of the most boring Horror movies from the 90\\'s mainly because it starts slow and centers in a boring atmosphere.  \\t0\\nThe puppets look really cheesy , not in a good way like in the Puppet Master 80\\'s flicks.  \\t0\\nThe story is lame, not interesting and NEVER really explains the sinister origins of the puppets.  \\t0\\nThere aren\\'t death scenes like in previous movies and the f/x are terrible.  \\t0\\nI felt asleep the first time I watched it, so I can recommend it for insomniacs.  \\t0\\nThe fact is, this film is a wonderful, heartwarming tale about two people chasing their dreams.  \\t1\\nThe best part about Nurse Betty\" is it\\'s unpredictability.  ', 'Director Neil LaBute uses brutal violence to seperate dreams from reality, and along with the touching drama, and hilarious comedy, you can never tell what is going to happen next.  ', \"Otherwise, don't even waste your time on this.  \", 'This one just fails to create any real suspense.  ', \"As for the killer, don't expect anything original or even remotely frightening.  \", 'There is, however, some pretty good acting (at least, for this type of film).  ', \"I'm so sorry but I really can't recommend it to anyone.  \", 'One of the most boring,pointless movies I have ever seen.  ', 'The secondary plot line is incomprehensible and its relation to the primary plot line is mystifying.  ', 'Hated it.  ', 'This is one of the worst Sandra Bullock movie since Speed 2 But not quite that bad.  ', \"I don't understand how this garbage got on the shelves of the movie store, it's not even a real movie!  \", 'I highly doubt that anyone could ever like this trash.  ', 'This is not movie-making.  ', \"The acting is like watching wooden puppets moving around and reading from a book, that's how bad it is.  \", 'So I am here to warn you--DO NOT RENT THIS MOVIE, it is the dumbest thing you have never seen!  ', 'I saw this short film on HBO the other day and absolutely loved it.  ', \"I didn't realize how wonderful the short really is until the last two scenes.  \", 'Excellent short film.  ', 'Hopefully, the director James Cox can turn the short into a feature length film with the same cast, or win us over with a whole new film.  ', 'I agree with Jessica, this movie is pretty bad.  ', 'Characters are one-dimensional, even the good guys and especially the bad guys.  ', 'The story line is totally predictable.  ', 'Not much dialogue, not much music, the whole film was shot as elaborately and aesthetically like a sculpture.  ', \"I've seen soap operas more intelligent than this movie.  \", 'Bad characters, bad story and bad acting.  ', 'Really awful.  ', 'Not easy to watch.  ', \"Funny, clever, hip - just like Pray's previous film, Hype!  \", \"It was a long time that i didn't see a so charismatic actor on screen.  \", 'Paolo Sorrentino has written a wonderful story about loneliness and Tony has built one of the most unforgettable characters seen in movies in recent years.  ', \"The movie is not completely perfect but 'Titta Di Girolamo' will stay with you for a long time after the vision of the movie.  \", 'I rate this movie 9/10.  ', \"I do not know if this was Emilio Estevez's directorial debut, but the pacing, the interplay and development of the characters as well as some clever camera work surrounding the character Estevez plays all suggest a natural eye.  \", 'The interplay between Martin and Emilio contains the same wonderful chemistry we saw in Wall Street with Martin and Charlie.  ', 'Kathy Bates is wonderful in her characters subtle desperation and escapism; a variation on her character in \"At Play In The Fields Of The Lord\".  ', \"For readers who have already seen one of Miyazaki's films: he is still in top form and made another worthwhile experience.  \", 'It never condescends, all the characters have good genuine hearts and believable problems.  ', 'The two main characters may be two of the most believable children I ever saw put on screen.  ', 'They are so easy to love, but even more easy to identify with.  ', 'This movie is great--especially if you enjoy visual arts.  ', 'The scenery that the two daughters paint and photograph are beautiful.  ', 'The story is also both funny and poignant at times.  ', 'People who like European films and \"art movies\" will like this movie.  ', 'This is truly an art movie--it actually has a lot of art in it.  ', 'Go rent it.  ', 'However, after finally watching this film, I realized that not only had I had a closed mind to the brilliance it depicts, I also found myself watching it over and over again.  ', \"It's the one movie that never ceases to interest me, simply because it keeps me alert, as I try to attempt to decipher it's meanings.  \", 'Brilliance indeed.  ', \"But if you liked movies like The Matrix (and better yet, their sequels) I think you'll appreciate the thought provoking, mindblowing experience this film will give you.  \", 'Think of the film being like a dream.  ', 'Simply beautiful.  ', \"Both Rickman and Stowe play their roles to the hilt in this tale of a childrens' book writer who-- maybe?-- has written a subversive tract.  \", \"It's a gloriously fun, fast paced and fairly accurate portrayal of the night of a raver.  \", 'It presents a idyllic yet serious portrayal of the ups and downs of the characters lives.  ', 'Just whatever you do, avoid \"Groove\" as its the antithesis of all that is good about Human Traffic.  ', \"It's too bad that everyone else involved didn't share Crowe's level of dedication to quality, for if they did, we'd have a far better film on our hands than this sub-par mess.  \", 'The movie seemed a little slow at first.  ', 'But it picked up speed and got right to the point.  ', 'It showed exactly how the government and the scientist argued for humanity and the reasons of the \"gadget\".  ', 'I enjoyed it.  ', 'I have recommended it to friends.  ', 'I was particularly pleased with the acting ability of Dwight Schultz.  ', 'Both actors truly understand and become their particular character, delivering a convincing, sincere performance.  ', 'Their on-screen chemistry, critical to the entire film, is genuine.  ', \"The film's dialogue is natural, real to life.  \", 'The writer, Gorman Bechard, undoubtedly did his homework because all references are industry and character-age appropriate.  ', 'The incredible soundtrack truly captures the essence of the film.  ', 'Each track commands sentiment, actually contributing to the scenes and characters.  ', \"Definitely worth seeing\\x85 it's the sort of thought provoking film that forces you to question your own threshold of loneliness.  \", 'Hayao Miyazaki\\'s latest and eighth film for Studio Ghibili, \"Gake No Ue No Ponyo\" (Ponyo on the Cliff by the Sea) is a wonderfully fun and imaginative look at childhood.  ', \"At a time when it seems that film animation has been dominated by Disney/Pixar's CGI masterpieces, it is both refreshing and comforting to know that Miyazaki is still relying on traditional hand-drawn animation to tell his charming and enchanting stories.  \", 'Enough can not be said of the remarkable animation in this film.  ', 'The art style has the appearance of crayon/pencil drawings and is wonderfully colorful and fanciful.  ', \"If you act in such a film, you should be glad that you're gonna drift away from earth as far as possible!  \", 'This one wants to surf on the small wave of space movies in 1998 (Deep Impact and Armageddon), and this one fails everywhere.  ', \"If you haven't choked in your own vomit by the end (by all the cheap drama and worthless dialogue) you've must have bored yourself to death with this waste of time.  \", 'Still, it makes up for all of this with a super ending that depicts a great sea vessel being taken out by the mighty frost.  ', 'Just consider the excellent story, solid acting and look of the film as added bonuses.  ', 'Instead, we got a bore fest about a whiny, spoiled brat babysitting.  ', 'Then I watched it again two Sundays ago (March 20th, 2005) and I began to really enjoy it and this time I taped the entire thing.  ', 'It is a very well acted and done TV Movie.  ', 'Judith Light is one of my favorite actresses and I think she does a superb job in this film!  ', 'I keep watching it over and over.  ', \"It's a sad movie, but very good.  \", 'If you have not seen this movie, I definitely recommend it!  ', 'She is as lovely as usual, this cutie!  ', \"Still it's quite interesting and entertaining to follow.  \", ';) Recommend with confidence!  ', 'This movie is well-balanced with comedy and drama and I thoroughly enjoyed myself.  ', \"It was a riot to see Hugo Weaving play a sex-obsessed gay real estate salesman who uses his clients' houses for his trysts with the flaming Darren (Tom Hollander).  \", ':) Anyway, the plot flowed smoothly and the male-bonding scenes were a hoot.  ', 'The opening sequence of this gem is a classic, and the cat n mouse games that follow are a delight to watch.  ', 'Fans of the genre will be in heaven.  ', 'Lange had become a great actress.  ', 'It looked like a wonderful story.  ', 'I never walked out of a movie faster.  ', 'I just got bored watching Jessice Lange take her clothes off!  ', \"Unfortunately, any virtue in this film's production work was lost on a regrettable script.  \", 'In a word, it is embarrassing.  ', 'Exceptionally bad!  ', \"All in all its an insult to one's intelligence and a huge waste of money.  \", 'Wow... Loved this place.', 'Crust is not good.', 'Not tasty and the texture was just nasty.', 'Stopped by during the late May bank holiday off Rick Steve recommendation and loved it.', 'The selection on the menu was great and so were the prices.', 'Now I am getting angry and I want my damn pho.', \"Honeslty it didn't taste THAT fresh.)\", 'The potatoes were like rubber and you could tell they had been made up ahead of time being kept under a warmer.', 'The fries were great too.', 'A great touch.', 'Service was very prompt.', 'Would not go back.', 'The cashier had no care what so ever on what I had to say it still ended up being wayyy overpriced.', 'I tried the Cape Cod ravoli, chicken,with cranberry...mmmm!', 'I was disgusted because I was pretty sure that was human hair.', 'I was shocked because no signs indicate cash only.', 'Highly recommended.', 'Waitress was a little slow in service.', 'This place is not worth your time, let alone Vegas.', 'did not like at all.', 'The Burrittos Blah!', 'The food, amazing.', 'Service is also cute.', 'I could care less... The interior is just beautiful.', 'So they performed.', \"That's right....the red velvet cake.....ohhh this stuff is so good.\", '- They never brought a salad we asked for.', 'This hole in the wall has great Mexican street tacos, and friendly staff.', 'Took an hour to get our food only 4 tables in restaurant my food was Luke warm, Our sever was running around like he was totally overwhelmed.', 'The worst was the salmon sashimi.', 'Also there are combos like a burger, fries, and beer for 23 which is a decent deal.', 'This was like the final blow!', 'I found this place by accident and I could not be happier.', 'seems like a good quick place to grab a bite of some familiar pub food, but do yourself a favor and look elsewhere.', 'Overall, I like this place a lot.', 'The only redeeming quality of the restaurant was that it was very inexpensive.', 'Ample portions and good prices.', 'Poor service, the waiter made me feel like I was stupid every time he came to the table.', 'My first visit to Hiro was a delight!', 'Service sucks.', 'The shrimp tender and moist.', 'There is not a deal good enough that would drag me into that establishment again.', \"Hard to judge whether these sides were good because we were grossed out by the melted styrofoam and didn't want to eat it for fear of getting sick.\", 'On a positive note, our server was very attentive and provided great service.', 'Frozen pucks of disgust, with some of the worst people behind the register.', 'The only thing I did like was the prime rib and dessert section.', \"It's too bad the food is so damn generic.\", 'The burger is good beef, cooked just right.', 'If you want a sandwich just go to any Firehouse!!!!!', 'My side Greek salad with the Greek dressing was so tasty, and the pita and hummus was very refreshing.', 'We ordered the duck rare and it was pink and tender on the inside with a nice char on the outside.', 'He came running after us when he realized my husband had left his sunglasses on the table.', 'Their chow mein is so good!', \"They have horrible attitudes towards customers, and talk down to each one when customers don't enjoy their food.\", 'The portion was huge!', 'Loved it...friendly servers, great food, wonderful and imaginative menu.', 'The Heart Attack Grill in downtown Vegas is an absolutely flat-lined excuse for a restaurant.', 'Not much seafood and like 5 strings of pasta at the bottom.', 'The salad had just the right amount of sauce to not over power the scallop, which was perfectly cooked.', 'The ripped banana was not only ripped, but petrified and tasteless.', 'At least think to refill my water before I struggle to wave you over for 10 minutes.', 'This place receives stars for their APPETIZERS!!!', 'The cocktails are all handmade and delicious.', \"We'd definitely go back here again.\", 'We are so glad we found this place.', 'Great food and service, huge portions and they give a military discount.', 'Always a great time at Dos Gringos!', 'Update.....went back for a second time and it was still just as amazing', 'We got the food and apparently they have never heard of salt and the batter on the fish was chewy.', 'A great way to finish a great.', 'The deal included 5 tastings and 2 drinks, and Jeff went above and beyond what we expected.', '- Really, really good rice, all the time.', 'The service was meh.', 'It took over 30 min to get their milkshake, which was nothing more than chocolate milk.', \"I guess I should have known that this place would suck, because it is inside of the Excalibur, but I didn't use my common sense.\", 'The scallop dish is quite appalling for value as well.', '2 times - Very Bad Customer Service !', 'The sweet potato fries were very good and seasoned well.', \"Today is the second time I've been to their lunch buffet and it was pretty good.\", 'There is so much good food in Vegas that I feel cheated for wasting an eating opportunity by going to Rice and Company.', \"Coming here is like experiencing an underwhelming relationship where both parties can't wait for the other person to ask to break up.\", 'walked in and the place smelled like an old grease trap and only 2 others there eating.', 'The turkey and roast beef were bland.', 'This place has it!', 'The pan cakes everyone are raving about taste like a sugary disaster tailored to the palate of a six year old.', 'I love the Pho and the spring rolls oh so yummy you have to try.', 'The poor batter to meat ratio made the chicken tenders very unsatisfying.', 'All I have to say is the food was amazing!!!', 'Omelets are to die for!', 'Everything was fresh and delicious!', 'In summary, this was a largely disappointing dining experience.', \"It's like a really sexy party in your mouth, where you're outrageously flirting with the hottest person at the party.\", 'Never been to Hard Rock Casino before, WILL NEVER EVER STEP FORWARD IN IT AGAIN!', 'Best breakfast buffet!!!', 'say bye bye to your tip lady!', \"We'll never go again.\", 'Will be back again!', 'Food arrived quickly!', 'It was not good.', 'On the up side, their cafe serves really good food.', 'Our server was fantastic and when he found out the wife loves roasted garlic and bone marrow, he added extra to our meal and another marrow to go!', \"The only good thing was our waiter, he was very helpful and kept the bloddy mary's coming.\", 'Best Buffet in town, for the price you cannot beat it.', 'I LOVED their mussels cooked in this wine reduction, the duck was tender, and their potato dishes were delicious.', 'This is one of the better buffets that I have been to.', 'So we went to Tigerlilly and had a fantastic afternoon!', 'The food was delicious, our bartender was attentive and personable AND we got a great deal!', 'The ambience is wonderful and there is music playing.', 'Will go back next trip out.', 'Sooooo good!!', \"REAL sushi lovers, let's be honest - Yama is not that good.\", \"At least 40min passed in between us ordering and the food arriving, and it wasn't that busy.\", 'This is a really fantastic Thai restaurant which is definitely worth a visit.', 'Nice, spicy and tender.', 'Good prices.', 'Check it out.', 'It was pretty gross!', \"I've had better atmosphere.\", 'Kind of hard to mess up a steak but they did.', 'Although I very much liked the look and sound of this place, the actual experience was a bit disappointing.', \"I just don't know how this place managed to served the blandest food I have ever eaten when they are preparing Indian cuisine.\", 'Worst service to boot, but that is the least of their worries.', 'Service was fine and the waitress was friendly.', \"The guys all had steaks, and our steak loving son who has had steak at the best and worst places said it was the best steak he's ever eaten.\", \"We thought you'd have to venture further away to get good sushi, but this place really hit the spot that night.\", 'Host staff were, for lack of a better word, BITCHES!', \"Bland... Not a liking this place for a number of reasons and I don't want to waste time on bad reviewing.. I'll leave it at that...\", 'Phenomenal food, service and ambiance.', \"I wouldn't return.\", \"Definitely worth venturing off the strip for the pork belly, will return next time I'm in Vegas.\", 'This place is way too overpriced for mediocre food.', 'Penne vodka excellent!', 'They have a good selection of food including a massive meatloaf sandwich, a crispy chicken wrap, a delish tuna melt and some tasty burgers.', 'The management is rude.', 'Delicious NYC bagels, good selections of cream cheese, real Lox with capers even.', \"Great Subway, in fact it's so good when you come here every other Subway will not meet your expectations.\", 'I had a seriously solid breakfast here.', 'This is one of the best bars with food in Vegas.', 'He was extremely rude and really, there are so many other restaurants I would love to dine at during a weekend in Vegas.', 'My drink was never empty and he made some really great menu suggestions.', \"Don't do it!!!!\", \"The waiter wasn't helpful or friendly and rarely checked on us.\", 'My husband and I ate lunch here and were very disappointed with the food and service.', \"And the red curry had so much bamboo shoots and wasn't very tasty to me.\", 'Nice blanket of moz over top but i feel like this was done to cover up the subpar food.', 'The bathrooms are clean and the place itself is well decorated.', 'The menu is always changing, food quality is going down & service is extremely slow.', 'The service was a little slow , considering that were served by 3 people servers so the food was coming in a slow pace.', 'I give it 2 thumbs down', 'We watched our waiter pay a lot more attention to other tables and ignore us.', 'My fiancé and I came in the middle of the day and we were greeted and seated right away.', 'This is a great restaurant at the Mandalay Bay.', 'We waited for forty five minutes in vain.', 'Crostini that came with the salad was stale.', 'Some highlights : Great quality nigiri here!', 'the staff is friendly and the joint is always clean.', 'this was a different cut than the piece the other day but still wonderful and tender s well as well flavored.', \"I ordered the Voodoo pasta and it was the first time I'd had really excellent pasta since going gluten free several years ago.\", 'this place is good.', 'Unfortunately, we must have hit the bakery on leftover day because everything we ordered was STALE.', 'I came back today since they relocated and still not impressed.', 'I was seated immediately.', 'Their menu is diverse, and reasonably priced.', 'Avoid at all cost!', 'Restaurant is always full but never a wait.', 'DELICIOUS!!', 'This place is hands-down one of the best places to eat in the Phoenix metro area.', \"So don't go there if you are looking for good food...\", \"I've never been treated so bad.\", 'Bacon is hella salty.', 'We also ordered the spinach and avocado salad; the ingredients were sad and the dressing literally had zero taste.', 'This really is how Vegas fine dining used to be, right down to the menus handed to the ladies that have no prices listed.', 'The waitresses are very friendly.', 'Lordy, the Khao Soi is a dish that is not to be missed for curry lovers!', 'Everything on the menu is terrific and we were also thrilled that they made amazing accommodations for our vegetarian daughter.', \"Perhaps I caught them on an off night judging by the other reviews, but I'm not inspired to go back.\", 'The service here leaves a lot to be desired.', 'The atmosphere is modern and hip, while maintaining a touch of coziness.', 'Not a weekly haunt, but definitely a place to come back to every once in a while.', 'We literally sat there for 20 minutes with no one asking to take our order.', 'The burger had absolutely no flavor - the meat itself was totally bland, the burger was overcooked and there was no charcoal flavor.', 'I also decided not to send it back because our waitress looked like she was on the verge of having a heart attack.', 'I dressed up to be treated so rudely!', 'It was probably dirt.', 'Love this place, hits the spot when I want something healthy but not lacking in quantity or flavor.', 'I ordered the Lemon raspberry ice cocktail which was also incredible.', 'The food sucked, which we expected but it sucked more than we could have imagined.', 'Interesting decor.', 'What I really like there is the crepe station.', 'Also were served hot bread and butter, and home made potato chips with bacon bits on top....very original and very good.', 'you can watch them preparing the delicious food!)', 'Both of the egg rolls were fantastic.', 'When my order arrived, one of the gyros was missing.', 'I had a salad with the wings, and some ice cream for dessert and left feeling quite satisfied.', \"I'm not really sure how Joey's was voted best hot dog in the Valley by readers of Phoenix Magazine.\", 'The best place to go for a tasty bowl of Pho!', 'The live music on Fridays totally blows.', \"I've never been more insulted or felt disrespected.\", 'Very friendly staff.', 'It is worth the drive.', 'I had heard good things about this place, but it exceeding every hope I could have dreamed of.', 'Food was great and so was the serivce!', \"The warm beer didn't help.\", 'Great brunch spot.', 'Service is friendly and inviting.', 'Very good lunch spot.', \"I've lived here since 1979 and this was the first (and last) time I've stepped foot into this place.\", 'The WORST EXPERIENCE EVER.', 'Must have been an off night at this place.', 'The sides are delish - mixed mushrooms, yukon gold puree, white corn - beateous.', 'If that bug never showed up I would have given a 4 for sure, but on the other side of the wall where this bug was climbing was the kitchen.', \"For about 10 minutes, we we're waiting for her salad when we realized that it wasn't coming any time soon.\", 'My friend loved the salmon tartar.', \"Won't go back.\", 'Extremely Tasty!', 'Waitress was good though!', 'Soggy and not good.', 'The Jamaican mojitos are delicious.', 'Which are small and not worth the price.', '- the food is rich so order accordingly.', \"The shower area is outside so you can only rinse, not take a full shower, unless you don't mind being nude for everyone to see!\", 'The service was a bit lacking.', 'Lobster Bisque, Bussell Sprouts, Risotto, Filet ALL needed salt and pepper..and of course there is none at the tables.', 'Hopefully this bodes for them going out of business and someone who can cook can come in.', 'It was either too cold, not enough flavor or just bad.', 'I loved the bacon wrapped dates.', 'This is an unbelievable BARGAIN!', 'The folks at Otto always make us feel so welcome and special.', 'As for the \"mains,\" also uninspired.', 'This is the place where I first had pho and it was amazing!!', 'This wonderful experience made this place a must-stop whenever we are in town again.', \"If the food isn't bad enough for you, then enjoy dealing with the world's worst/annoying drunk people.\", 'Very very fun chef.', 'Ordered a double cheeseburger & got a single patty that was falling apart (picture uploaded) Yeah, still sucks.', \"Great place to have a couple drinks and watch any and all sporting events as the walls are covered with TV's.\", \"If it were possible to give them zero stars, they'd have it.\", 'The descriptions said \"yum yum sauce\" and another said \"eel sauce\", yet another said \"spicy mayo\"...well NONE of the rolls had sauces on them.', \"I'd say that would be the hardest decision... Honestly, all of M's dishes taste how they are supposed to taste (amazing).\", 'If she had not rolled the eyes we may have stayed... Not sure if we will go back and try it again.', 'Everyone is very attentive, providing excellent customer service.', \"Horrible - don't waste your time and money.\", 'Now this dish was quite flavourful.', 'By this time our side of the restaurant was almost empty so there was no excuse.', \"(It wasn't busy either) Also, the building was FREEZING cold.\", 'like the other reviewer said \"you couldn\\'t pay me to eat at this place again.\"', '-Drinks took close to 30 minutes to come out at one point.', 'Seriously flavorful delights, folks.', 'Much better than the other AYCE sushi place I went to in Vegas.', 'The lighting is just dark enough to set the mood.', \"Based on the sub-par service I received and no effort to show their gratitude for my business I won't be going back.\", \"Owner's are really great people.!\", 'There is nothing privileged about working/eating there.', 'The Greek dressing was very creamy and flavorful.', \"Overall, I don't think that I would take my parents to this place again because they made most of the similar complaints that I silently felt too.\", 'Now the pizza itself was good the peanut sauce was very tasty.', 'We had 7 at our table and the service was pretty fast.', 'Fantastic service here.', \"I as well would've given godfathers zero stars if possible.\", 'They know how to make them here.', 'very tough and very short on flavor!', 'I hope this place sticks around.', 'I have been in more than a few bars in Vegas, and do not ever recall being charged for tap water.', 'The restaurant atmosphere was exquisite.', 'Good service, very clean, and inexpensive, to boot!', 'The seafood was fresh and generous in portion.', \"Plus, it's only 8 bucks.\", 'The service was not up to par, either.', 'Thus far, have only visited twice and the food was absolutely delicious each time.', 'Just as good as when I had it more than a year ago!', 'For a self proclaimed coffee cafe, I was wildly disappointed.', 'The Veggitarian platter is out of this world!', 'You cant go wrong with any of the food here.', \"You can't beat that.\", 'Stopped by this place while in Madison for the Ironman, very friendly, kind staff.', 'The chefs were friendly and did a good job.', \"I've had better, not only from dedicated boba tea spots, but even from Jenni Pho.\", 'I liked the patio and the service was outstanding.', \"The goat taco didn't skimp on the meat and wow what FLAVOR!\", 'I think not again', 'I had the mac salad and it was pretty bland so I will not be getting that again.', \"I went to Bachi Burger on a friend's recommendation and was not disappointed.\", 'Service stinks here!', 'I waited and waited.', 'This place is not quality sushi, it is not a quality restaurant.', 'I would definitely recommend the wings as well as the pizza.', 'Great Pizza and Salads!', 'Things that went wrong: - They burned the saganaki.', 'We waited an hour for what was a breakfast I could have done 100 times better at home.', 'This place is amazing!', 'I hate to disagree with my fellow Yelpers, but my husband and I were so disappointed with this place.', 'Waited 2 hours & never got either of our pizzas as many other around us who came in later did!', \"Just don't know why they were so slow.\", 'The staff is great, the food is delish, and they have an incredible beer selection.', \"I live in the neighborhood so I am disappointed I won't be back here, because it is a convenient location.\", \"I didn't know pulled pork could be soooo delicious.\", 'You get incredibly fresh fish, prepared with care.', 'Before I go in to why I gave a 1 star rating please know that this was my third time eating at Bachi burger before writing a review.', 'I love the fact that everything on their menu is worth it.', 'Never again will I be dining at this place!', 'The food was excellent and service was very good.', 'Good beer & drink selection and good food selection.', 'Please stay away from the shrimp stir fried noodles.', 'The potato chip order was sad... I could probably count how many chips were in that box and it was probably around 12.', 'Food was really boring.', 'Good Service-check!', 'This greedy corporation will NEVER see another dime from me!', 'Will never, ever go back.', \"As much as I'd like to go back, I can't get passed the atrocious service and will never return.\", 'In the summer, you can dine in a charming outdoor patio - so very delightful.', 'I did not expect this to be so good!', 'Fantastic food!', 'She ordered a toasted English muffin that came out untoasted.', 'The food was very good.', 'Never going back.', 'Great food for the price, which is very high quality and house made.', 'The bus boy on the other hand was so rude.', \"By this point, my friends and I had basically figured out this place was a joke and didn't mind making it publicly and loudly known.\", 'Back to good BBQ, lighter fare, reasonable pricing and tell the public they are back to the old ways.', \"And considering the two of us left there very full and happy for about $20, you just can't go wrong.\", 'All the bread is made in-house!', 'The only downside is the service.', \"Also, the fries are without a doubt the worst fries I've ever had.\", 'Service was exceptional and food was a good as all the reviews.', 'A couple of months later, I returned and had an amazing meal.', 'Favorite place in town for shawarrrrrrma!!!!!!', 'The black eyed peas and sweet potatoes... UNREAL!', \"You won't be disappointed.\", 'They could serve it with just the vinaigrette and it may make for a better overall dish, but it was still very good.', \"I go to far too many places and I've never seen any restaurant that serves a 1 egg breakfast, especially for $4.00.\", 'When my mom and I got home she immediately got sick and she only had a few bites of salad.', \"The servers are not pleasant to deal with and they don't always honor Pizza Hut coupons.\", 'Both of them were truly unbelievably good, and I am so glad we went back.', 'We had fantastic service, and were pleased by the atmosphere.', 'Everything was gross.', 'I love this place.', 'Great service and food.', 'First - the bathrooms at this location were dirty- Seat covers were not replenished & just plain yucky!!!', 'The burger... I got the \"Gold Standard\" a $17 burger and was kind of disappointed.', 'OMG, the food was delicioso!', 'There is nothing authentic about this place.', 'the spaghetti is nothing special whatsoever.', 'Of all the dishes, the salmon was the best, but all were great.', 'The vegetables are so fresh and the sauce feels like authentic Thai.', \"It's worth driving up from Tucson!\", \"The selection was probably the worst I've seen in Vegas.....there was none.\", 'Pretty good beer selection too.', 'This place is like Chipotle, but BETTER.', 'Classy/warm atmosphere, fun and fresh appetizers, succulent steaks (Baseball steak!!!!!', '5 stars for the brick oven bread app!', 'I have eaten here multiple times, and each time the food was delicious.', 'We sat another ten minutes and finally gave up and left.', 'He was terrible!', 'Everyone is treated equally special.', \"It shouldn't take 30 min for pancakes and eggs.\", 'It was delicious!!!', 'On the good side, the staff was genuinely pleasant and enthusiastic - a real treat.', \"Sadly, Gordon Ramsey's Steak is a place we shall sharply avoid during our next trip to Vegas.\", 'As always the evening was wonderful and the food delicious!', \"Best fish I've ever had in my life!\", '(The bathroom is just next door and very nice.)', 'The buffet is small and all the food they offered was BLAND.', 'This is an Outstanding little restaurant with some of the Best Food I have ever tasted.', 'Pretty cool I would say.', \"Definitely a turn off for me & i doubt I'll be back unless someone else is buying.\", 'Server did a great job handling our large rowdy table.', \"I find wasting food to be despicable, but this just wasn't food.\", 'My wife had the Lobster Bisque soup which was lukewarm.', 'Would come back again if I had a sushi craving while in Vegas.', 'The staff are great, the ambiance is great.', 'He deserves 5 stars.', 'I left with a stomach ache and felt sick the rest of the day.', 'They dropped more than the ball.', 'The dining space is tiny, but elegantly decorated and comfortable.', \"They will customize your order any way you'd like, my usual is Eggplant with Green Bean stir fry, love it!\", 'And the beans and rice were mediocre at best.', 'Best tacos in town by far!!', 'I took back my money and got outta there.', 'In an interesting part of town, this place is amazing.', 'RUDE & INCONSIDERATE MANAGEMENT.', 'The staff are now not as friendly, the wait times for being served are horrible, no one even says hi for the first 10 minutes.', \"I won't be back.\", 'They have great dinners.', 'The service was outshining & I definitely recommend the Halibut.', 'The food was terrible.', 'WILL NEVER EVER GO BACK AND HAVE TOLD MANY PEOPLE WHAT HAD HAPPENED.', \"I don't recommend unless your car breaks down in front of it and you are starving.\", \"I will come back here every time I'm in Vegas.\", 'This place deserves one star and 90% has to do with the food.', 'This is a disgrace.', 'Def coming back to bowl next time', 'If you want healthy authentic or ethic food, try this place.', 'I will continue to come here on ladies night andddd date night ... highly recommend this place to anyone who is in the area (;', 'I have been here several times in the past, and the experience has always been great.', 'We walked away stuffed and happy about our first Vegas buffet experience.', 'Service was excellent and prices are pretty reasonable considering this is Vegas and located inside the Crystals shopping mall by Aria.', 'To summarize... the food was incredible, nay, transcendant... but nothing brings me joy quite like the memory of the pneumatic condiment dispenser.', \"I'm probably one of the few people to ever go to Ians and not like it.\", 'Kids pizza is always a hit too with lots of great side dish options for the kiddos!', 'Service is perfect and the family atmosphere is nice to see.', 'Cooked to perfection and the service was impeccable.', 'This one is simply a disappointment.', 'Overall, I was very disappointed with the quality of food at Bouchon.', \"I don't have to be an accountant to know I'm getting screwed!\", 'Great place to eat, reminds me of the little mom and pop shops in the San Francisco Bay Area.', 'Today was my first taste of a Buldogis Gourmet Hot Dog and I have to tell you it was more than I ever thought possible.', 'Left very frustrated.', \"I'll definitely be in soon again.\", 'Food was really good and I got full petty fast.', 'Service was fantastic.', 'TOTAL WASTE OF TIME.', \"I don't know what kind it is but they have the best iced tea.\", 'Come hungry, leave happy and stuffed!', 'For service, I give them no stars.', \"I can assure you that you won't be disappointed.\", 'I can take a little bad service but the food sucks.', 'Gave up trying to eat any of the crust (teeth still sore).', 'But now I was completely grossed out.', 'I really enjoyed eating here.', 'First time going but I think I will quickly become a regular.', 'Our server was very nice, and even though he looked a little overwhelmed with all of our needs, he stayed professional and friendly until the end.', 'From what my dinner companions told me...everything was very fresh with nice texture and taste.', 'On the ground, right next to our table was a large, smeared, been-stepped-in-and-tracked-everywhere pile of green bird poop.', \"Furthermore, you can't even find hours of operation on the website!\", \"We've tried to like this place but after 10+ times I think we're done with them.\", 'What a mistake that was!', 'No complaints!', \"This is some seriously good pizza and I'm an expert/connisseur on the topic.\", 'Waiter was a jerk.', 'Strike 2, who wants to be rushed.', \"These are the nicest restaurant owners I've ever come across.\", 'I never come again.', 'We loved the biscuits!!!', 'Service is quick and friendly.', 'Ordered an appetizer and took 40 minutes and then the pizza another 10 minutes.', 'So absolutley fantastic.', 'It was a huge awkward 1.5lb piece of cow that was 3/4ths gristle and fat.', 'definitely will come back here again.', \"I like Steiners because it's dark and it feels like a bar.\", 'Wow very spicy but delicious.', \"If you're not familiar, check it out.\", \"I'll take my business dinner dollars elsewhere.\", \"I'd love to go back.\", 'Anyway, this FS restaurant has a wonderful breakfast/lunch.', 'Nothing special.', \"Each day of the week they have a different deal and it's all so delicious!\", 'Not to mention the combination of pears, almonds and bacon is a big winner!', 'Will not be back.', 'Sauce was tasteless.', 'The food is delicious and just spicy enough, so be sure to ask for spicier if you prefer it that way.', 'My ribeye steak was cooked perfectly and had great mesquite flavor.', \"I don't think we'll be going back anytime soon.\", 'Food was so gooodd.', 'I am far from a sushi connoisseur but I can definitely tell the difference between good food and bad food and this was certainly bad food.', 'I was so insulted.', 'The last 3 times I had lunch here has been bad.', 'The chicken wings contained the driest chicken meat I have ever eaten.', 'The food was very good and I enjoyed every mouthful, an enjoyable relaxed venue for couples small family groups etc.', 'Nargile - I think you are great.', 'Best tater tots in the southwest.', 'We loved the place.', 'Definitely not worth the $3 I paid.', 'The vanilla ice cream was creamy and smooth while the profiterole (choux) pastry was fresh enough.', 'Im in AZ all the time and now have my new spot.', 'The manager was the worst.', 'The inside is really quite nice and very clean.', 'The food was outstanding and the prices were very reasonable.', \"I don't think I'll be running back to Carly's anytime soon for food.\", 'This is was due to the fact that it took 20 minutes to be acknowledged, then another 35 minutes to get our food...and they kept forgetting things.', 'Love the margaritas, too!', 'This was my first and only Vegas buffet and it did not disappoint.', 'Very good, though!', 'The one down note is the ventilation could use some upgrading.', 'Great pork sandwich.', \"Don't waste your time here.\", 'Total letdown, I would much rather just go to the Camelback Flower Shop and Cartel Coffee.', \"Third, the cheese on my friend's burger was cold.\", 'We enjoy their pizza and brunch.', 'The steaks are all well trimmed and also perfectly cooked.', 'We had a group of 70+ when we claimed we would only have 40 and they handled us beautifully.', 'I LOVED it!', \"We asked for the bill to leave without eating and they didn't bring that either.\", \"This place is a jewel in Las Vegas, and exactly what I've been hoping to find in nearly ten years living here.\", 'Seafood was limited to boiled shrimp and crab legs but the crab legs definitely did not taste fresh.', 'The selection of food was not the best.', 'Delicious and I will absolutely be back!', \"This isn't a small family restaurant, this is a fine dining establishment.\", 'They had a toro tartare with a cavier that was extraordinary and I liked the thinly sliced wagyu with white truffle.', 'I dont think I will be back for a very long time.', 'It was attached to a gas station, and that is rarely a good sign.', 'How awesome is that.', 'I will be back many times soon.', 'The menu had so much good stuff on it i could not decide!', 'Worse of all, he humiliated his worker right in front of me..Bunch of horrible name callings.', 'CONCLUSION: Very filling meals.', 'Their daily specials are always a hit with my group.', 'And then tragedy struck.', 'The pancake was also really good and pretty large at that.', 'This was my first crawfish experience, and it was delicious!', 'Their monster chicken fried steak and eggs is my all time favorite.', 'Waitress was sweet and funny.', \"I also had to taste my Mom's multi-grain pumpkin pancakes with pecan butter and they were amazing, fluffy, and delicious!\", \"I'd rather eat airline food, seriously.\", 'Cant say enough good things about this place.', 'The ambiance was incredible.', 'The waitress and manager are so friendly.', 'I would not recommend this place.', \"Overall I wasn't very impressed with Noca.\", 'My gyro was basically lettuce only.', 'Terrible service!', 'Thoroughly disappointed!', \"I don't each much pasta, but I love the homemade /hand made pastas and thin pizzas here.\", 'Give it a try, you will be happy you did.', 'By far the BEST cheesecurds we have ever had!', 'Reasonably priced also!', 'Everything was perfect the night we were in.', 'The food is very good for your typical bar food.', 'it was a drive to get there.', 'At first glance it is a lovely bakery cafe - nice ambiance, clean, friendly staff.', 'Anyway, I do not think i will go back there.', \"Point your finger at any item on the menu, order it and you won't be disappointed.\", 'Oh this is such a thing of beauty, this restaurant.', \"If you haven't gone here GO NOW!\", 'A greasy, unhealthy meal.', 'first time there and might just be the last.', 'Those burgers were amazing.', 'Similarly, the delivery man did not say a word of apology when our food was 45 minutes late.', 'And it was way to expensive.', 'Be sure to order dessert, even if you need to pack it to-go - the tiramisu and cannoli are both to die for.', \"This was my first time and I can't wait until the next.\", 'The bartender was also nice.', 'Everything was good and tasty!', 'This place is two thumbs up....way up.', 'The best place in Vegas for breakfast (just check out a Sat, or Sun.', 'If you love authentic Mexican food and want a whole bunch of interesting, yet delicious meats to choose from, you need to try this place.', 'Terrible management.', 'An excellent new restaurant by an experienced Frenchman.', 'If there were zero stars I would give it zero stars.', 'Great steak, great sides, great wine, amazing desserts.', 'Worst martini ever!', 'The steak and the shrimp are in my opinion the best entrees at GC.', 'I had the opportunity today to sample your amazing pizzas!', 'We waited for thirty minutes to be seated (although there were 8 vacant tables and we were the only folks waiting).', 'The yellowtail carpaccio was melt in your mouth fresh.', \"I won't try going back there even if it's empty.\", \"No, I'm going to eat the potato that I found some strangers hair in it.\", 'Just spicy enough.. Perfect actually.', 'Last night was my second time dining here and I was so happy I decided to go back!', 'not even a \"hello, we will be right with you.\"', 'The desserts were a bit strange.', 'My boyfriend and I came here for the first time on a recent trip to Vegas and could not have been more pleased with the quality of food and service.', 'I really do recommend this place, you can go wrong with this donut place!', 'Nice ambiance.', 'I would recommend saving room for this!', 'I guess maybe we went on an off night but it was disgraceful.', 'However, my recent experience at this particular location was not so good.', 'I know this is not like the other restaurants at all, something is very off here!', 'AVOID THIS ESTABLISHMENT!', 'I think this restaurant suffers from not trying hard enough.', 'All of the tapas dishes were delicious!', 'I *heart* this place.', 'My salad had a bland vinegrette on the baby greens and hearts of Palm.', 'After two I felt disgusting.', 'A good time!', 'I believe that this place is a great stop for those with a huge belly and hankering for sushi.', 'Generous portions and great taste.', 'I will never go back to this place and will never ever recommended this place to anyone!', 'The servers went back and forth several times, not even so much as an \"Are you being helped?\"', 'Food was delicious!', 'AN HOUR... seriously?', 'I consider this theft.', 'Eew... This location needs a complete overhaul.', 'We recently witnessed her poor quality of management towards other guests as well.', 'Waited and waited and waited.', 'He also came back to check on us regularly, excellent service.', 'Our server was super nice and checked on us many times.', 'The pizza tasted old, super chewy in not a good way.', 'I swung in to give them a try but was deeply disappointed.', 'Service was good and the company was better!', 'The staff are also very friendly and efficient.', \"As for the service: I'm a fan, because it's quick and you're being served by some nice folks.\", 'Boy was that sucker dry!!.', 'Over rated.', 'If you look for authentic Thai food, go else where.', 'Their steaks are 100% recommended!', 'After I pulled up my car I waited for another 15 minutes before being acknowledged.', 'Great food and great service in a clean and friendly setting.', \"All in all, I can assure you I'll be back.\", 'I hate those things as much as cheap quality black olives.', 'My breakfast was perpared great, with a beautiful presentation of 3 giant slices of Toast, lightly dusted with powdered sugar.', 'The kids play area is NASTY!', 'Great place fo take out or eat in.', 'The waitress was friendly and happy to accomodate for vegan/veggie options.', 'OMG I felt like I had never eaten Thai food until this dish.', 'It was extremely \"crumby\" and pretty tasteless.', 'It was a pale color instead of nice and char and has NO flavor.', 'The croutons also taste homemade which is an extra plus.', 'I got home to see the driest damn wings ever!', \"It'll be a regular stop on my trips to Phoenix!\", 'I really enjoyed Crema Café before they expanded; I even told friends they had the BEST breakfast.', 'Not good for the money.', 'I miss it and wish they had one in Philadelphia!', 'We got sitting fairly fast, but, ended up waiting 40 minutes just to place our order, another 30 minutes before the food arrived.', 'They also have the best cheese crisp in town.', 'Good value, great food, great service.', \"Couldn't ask for a more satisfying meal.\", 'The food is good.', 'It was awesome.', 'I just wanted to leave.', 'We made the drive all the way from North Scottsdale... and I was not one bit disappointed!', 'I will not be eating there again.', '!....THE OWNERS REALLY REALLY need to quit being soooooo cheap let them wrap my freaking sandwich in two papers not one!', 'I checked out this place a couple years ago and was not impressed.', 'The chicken I got was definitely reheated and was only ok, the wedges were cold and soggy.', 'Sorry, I will not be getting food from here anytime soon :(', 'An absolute must visit!', 'The cow tongue and cheek tacos are amazing.', 'My friend did not like his Bloody Mary.', 'Despite how hard I rate businesses, its actually rare for me to give a 1 star.', 'They really want to make your experience a good one.', 'I will not return.', 'I had the chicken Pho and it tasted very bland.', 'Very disappointing!!!', 'The grilled chicken was so tender and yellow from the saffron seasoning.', 'a drive thru means you do not want to wait around for half an hour for your food, but somehow when we end up going here they make us wait and wait.', 'Pretty awesome place.', 'Ambience is perfect.', 'Best of luck to the rude and non-customer service focused new management.', 'Any grandmother can make a roasted chicken better than this one.', 'I asked multiple times for the wine list and after some time of being ignored I went to the hostess and got one myself.', 'The staff is always super friendly and helpful, which is especially cool when you bring two small boys and a baby!', 'Four stars for the food & the guy in the blue shirt for his great vibe & still letting us in to eat !', 'The roast beef sandwich tasted really good!', 'Same evening, him and I are both drastically sick.', 'High-quality chicken on the chicken Caesar salad.', \"Ordered burger rare came in we'll done.\", 'We were promptly greeted and seated.', 'Tried to go here for lunch and it was a madhouse.', 'I was proven dead wrong by this sushi bar, not only because the quality is great, but the service is fast and the food, impeccable.', 'After waiting an hour and being seated, I was not in the greatest of moods.', 'This is a good joint.', 'The Macarons here are insanely good.', \"I'm not eating here!\", 'Our waiter was very attentive, friendly, and informative.', \"Maybe if they weren't cold they would have been somewhat edible.\", 'This place has a lot of promise but fails to deliver.', 'Very bad Experience!', 'What a mistake.', 'Food was average at best.', 'Great food.', \"We won't be going back anytime soon!\", 'Very Very Disappointed ordered the $35 Big Bay Plater.', 'Great place to relax and have an awesome burger and beer.', 'It is PERFECT for a sit-down family meal or get together with a few friends.', 'Not much flavor to them, and very poorly constructed.', 'The patio seating was very comfortable.', 'The fried rice was dry as well.', 'Hands down my favorite Italian restaurant!', 'That just SCREAMS \"LEGIT\" in my book...somethat\\'s also pretty rare here in Vegas.', 'It was just not a fun experience.', 'The atmosphere was great with a lovely duo of violinists playing songs we requested.', \"I personally love the hummus, pita, baklava, falafels and Baba Ganoush (it's amazing what they do with eggplant!).\", 'Very convenient, since we were staying at the MGM!', 'The owners are super friendly and the staff is courteous.', 'Both great!', 'Eclectic selection.', 'The sweet potato tots were good but the onion rings were perfection or as close as I have had.', 'The staff was very attentive.', 'And the chef was generous with his time (even came around twice so we can take pictures with him).', 'The owner used to work at Nobu, so this place is really similar for half the price.', 'Google mediocre and I imagine Smashburger will pop up.', 'dont go here.', \"I promise they won't disappoint.\", 'As a sushi lover avoid this place by all means.', 'What a great double cheeseburger!', 'Awesome service and food.', 'A fantastic neighborhood gem !!!', \"I can't wait to go back.\", \"The plantains were the worst I've ever tasted.\", \"It's a great place and I highly recommend it.\", 'Service was slow and not attentive.', \"I gave it 5 stars then, and I'm giving it 5 stars now.\", 'Your staff spends more time talking to themselves than me.', 'Dessert: Panna Cotta was amazing.', 'Very good food, great atmosphere.1', 'Damn good steak.', 'Total brunch fail.', 'Prices are very reasonable, flavors are spot on, the sauce is home made, and the slaw is not drenched in mayo.', 'The decor is nice, and the piano music soundtrack is pleasant.', 'The steak was amazing...rge fillet relleno was the best seafood plate i have ever had!', 'Good food , good service .', 'It was absolutely amazing.', \"I probably won't be back, to be honest.\", 'will definitely be back!', 'The sergeant pepper beef sandwich with auju sauce is an excellent sandwich as well.', \"Hawaiian Breeze, Mango Magic, and Pineapple Delight are the smoothies that I've tried so far and they're all good.\", 'Went for lunch - service was slow.', 'We had so much to say about the place before we walked in that he expected it to be amazing, but was quickly disappointed.', 'I was mortified.', 'Needless to say, we will never be back here again.', 'Anyways, The food was definitely not filling at all, and for the price you pay you should expect more.', 'The chips that came out were dripping with grease, and mostly not edible.', \"I wasn't really impressed with Strip Steak.\", 'Have been going since 2007 and every meal has been awesome!!', 'Our server was very nice and attentive as were the other serving staff.', 'The cashier was friendly and even brought the food out to me.', 'I work in the hospitality industry in Paradise Valley and have refrained from recommending Cibo any longer.', 'The atmosphere here is fun.', 'Would not recommend to others.', 'Service is quick and even \"to go\" orders are just like we like it!', \"I mean really, how do you get so famous for your fish and chips when it's so terrible!?!\", 'That said, our mouths and bellies were still quite pleased.', 'Not my thing.', '2 Thumbs Up!!', \"If you are reading this please don't go there.\", 'I loved the grilled pizza, reminded me of legit Italian pizza.', 'Only Pros : Large seating area/ Nice bar area/ Great simple drink menu/ The BEST brick oven pizza with homemade dough!', 'They have a really nice atmosphere.', 'Tonight I had the Elk Filet special...and it sucked.', 'After one bite, I was hooked.', 'We ordered some old classics and some new dishes after going there a few times and were sorely disappointed with everything.', 'Cute, quaint, simple, honest.', 'The chicken was deliciously seasoned and had the perfect fry on the outside and moist chicken on the inside.', 'The food was great as always, compliments to the chef.', 'Special thanks to Dylan T. for the recommendation on what to order :) All yummy for my tummy.', 'Awesome selection of beer.', 'Great food and awesome service!', \"One nice thing was that they added gratuity on the bill since our party was larger than 6 or 8, and they didn't expect more tip than that.\", 'A FLY was in my apple juice.. A FLY!!!!!!!!', 'The Han Nan Chicken was also very tasty.', 'As for the service, I thought it was good.', 'The food was barely lukewarm, so it must have been sitting waiting for the server to bring it out to us.', \"Ryan's Bar is definitely one Edinburgh establishment I won't be revisiting.\", \"Nicest Chinese restaurant I've been in a while.\", 'Overall, I like there food and the service.', 'They also now serve Indian naan bread with hummus and some spicy pine nut sauce that was out of this world.', \"Probably never coming back, and wouldn't recommend it.\", \"Friend's pasta -- also bad, he barely touched it.\", 'Try them in the airport to experience some tasty food and speedy, friendly service.', 'I love the decor with the Chinese calligraphy wall paper.', 'Never had anything to complain about here.', 'The restaurant is very clean and has a family restaurant feel to it.', 'It was way over fried.', \"I'm not sure how long we stood there but it was long enough for me to begin to feel awkwardly out of place.\", 'When I opened the sandwich, I was impressed, but not in a good way.', 'Will not be back!', 'There was a warm feeling with the service and I felt like their guest for a special treat.', 'An extensive menu provides lots of options for breakfast.', 'I always order from the vegetarian menu during dinner, which has a wide array of options to choose from.', 'I have watched their prices inflate, portions get smaller and management attitudes grow rapidly!', 'Wonderful lil tapas and the ambience made me feel all warm and fuzzy inside.', 'I got to enjoy the seafood salad, with a fabulous vinegrette.', 'The wontons were thin, not thick and chewy, almost melt in your mouth.', \"Level 5 spicy was perfect, where spice didn't over-whelm the soup.\", 'We were sat right on time and our server from the get go was FANTASTIC!', \"Main thing I didn't enjoy is that the crowd is of older crowd, around mid 30s and up.\", \"When I'm on this side of town, this will definitely be a spot I'll hit up again!\", 'I had to wait over 30 minutes to get my drink and longer to get 2 arepas.', 'This is a GREAT place to eat!', 'The jalapeno bacon is soooo good.', 'The service was poor and thats being nice.', 'Food was good, service was good, Prices were good.', 'The place was not clean and the food oh so stale!', 'The chicken dishes are OK, the beef is like shoe leather.', 'But the service was beyond bad.', 'I\\'m so happy to be here!!!\"', 'Tasted like dirt.', 'One of the few places in Phoenix that I would definately go back to again .', 'The block was amazing.', \"It's close to my house, it's low-key, non-fancy, affordable prices, good food.\", '* Both the Hot & Sour & the Egg Flower Soups were absolutely 5 Stars!', 'My sashimi was poor quality being soggy and tasteless.', 'Great time - family dinner on a Sunday night.', 'the food is not tasty at all, not to say its \"real traditional Hunan style\".', 'What did bother me, was the slow service.', 'The flair bartenders are absolutely amazing!', 'Their frozen margaritas are WAY too sugary for my taste.', 'These were so good we ordered them twice.', 'So in a nutshell: 1) The restaraunt smells like a combination of a dirty fish market and a sewer.', \"My girlfriend's veal was very bad.\", 'Unfortunately, it was not good.', 'I had a pretty satifying experience.', 'Join the club and get awesome offers via email.', 'Perfect for someone (me) who only likes beer ice cold, or in this case, even colder.', 'Bland and flavorless is a good way of describing the barely tepid meat.', \"The chains, which I'm no fan of, beat this place easily.\", 'The nachos are a MUST HAVE!', 'We will not be coming back.', \"I don't have very many words to say about this place, but it does everything pretty well.\", 'The staff is super nice and very quick even with the crazy crowds of the downtown juries, lawyers, and court staff.', 'Great atmosphere, friendly and fast service.', 'When I received my Pita it was huge it did have a lot of meat in it so thumbs up there.', \"Once your food arrives it's meh.\", \"Paying $7.85 for a hot dog and fries that looks like it came out of a kid's meal at the Wienerschnitzel is not my idea of a good meal.\", 'The classic Maine Lobster Roll was fantastic.', 'My brother in law who works at the mall ate here same day, and guess what he was sick all night too.', 'So good I am going to have to review this place twice - once hereas a tribute to the place and once as a tribute to an event held here last night.', 'The chips and salsa were really good, the salsa was very fresh.', 'This place is great!!!!!!!!!!!!!!', 'Mediocre food.', \"Once you get inside you'll be impressed with the place.\", \"I'm super pissd.\", 'And service was super friendly.', 'Why are these sad little vegetables so overcooked?', 'This place was such a nice surprise!', 'They were golden-crispy and delicious.', 'I had high hopes for this place since the burgers are cooked over a charcoal grill, but unfortunately the taste fell flat, way flat.', 'I could eat their bruschetta all day it is devine.', 'Not a single employee came out to see if we were OK or even needed a water refill once they finally served us our food.', 'Lastly, the mozzarella sticks, they were the best thing we ordered.', 'The first time I ever came here I had an amazing experience, I still tell people how awesome the duck was.', 'The server was very negligent of our needs and made us feel very unwelcome... I would not suggest this place!', 'The service was terrible though.', 'This place is overpriced, not consistent with their boba, and it really is OVERPRICED!', 'It was packed!!', 'I can say that the desserts were yummy.', 'The seasonal fruit was fresh white peach puree.', \"It kept getting worse and worse so now I'm officially done.\", 'This place should honestly be blown up.', 'But I definitely would not eat here again.', 'Do not waste your money here!', 'I love that they put their food in nice plastic containers as opposed to cramming it in little paper takeout boxes.', 'The crêpe was delicate and thin and moist.', 'Awful service.', \"Won't ever go here again.\", 'Food quality has been horrible.', 'For that price I can think of a few place I would have much rather gone.', 'The service here is fair at best.', 'I do love sushi, but I found Kabuki to be over-priced, over-hip and under-services.', 'Do yourself a favor and stay away from this dish.', 'Very poor service.', 'No one at the table thought the food was above average or worth the wait that we had for it.', 'Best service and food ever, Maria our server was so good and friendly she made our day.', 'They were excellent.', 'I paid the bill but did not tip because I felt the server did a terrible job.', 'Just had lunch here and had a great experience.', 'I have never had such bland food which surprised me considering the article we read focused so much on their spices and flavor.', 'Food is way overpriced and portions are fucking small.', \"I recently tried Caballero's and I have been back every week since!\", 'for 40 bucks a head, i really expect better food.', 'The food came out at a good pace.', 'I ate there twice on my last visit, and especially enjoyed the salmon salad.', 'We could not believe how dirty the oysters were!', 'This place deserves no stars.', \"In fact I'm going to round up to 4 stars, just because she was so awesome.\", 'To my disbelief, each dish qualified as the worst version of these foods I have ever tasted.', 'Bad day or not, I have a very low tolerance for rude customer service people, it is your job to be nice and polite, wash dishes otherwise!!', 'the potatoes were great and so was the biscuit.', 'I probably would not go here again.', 'So flavorful and has just the perfect amount of heat.', 'The price is reasonable and the service is great.', 'The Wife hated her meal (coconut shrimp), and our friends really did not enjoy their meals, either.', \"My fella got the huevos rancheros and they didn't look too appealing.\", 'Went in for happy hour, great list of wines.', 'Some may say this buffet is pricey but I think you get what you pay for and this place you are getting quite a lot!', \"I probably won't be coming back here.\", \"Worst food/service I've had in a while.\", 'This place is pretty good, nice little vibe in the restaurant.', 'Talk about great customer service of course we will be back.', 'Hot dishes are not hot, cold dishes are close to room temp.I watched staff prepare food with BARE HANDS, no gloves.Everything is deep fried in oil.', 'I love their fries and their beans.', 'Always a pleasure dealing with him.', \"They have a plethora of salads and sandwiches, and everything I've tried gets my seal of approval.\", 'This place is awesome if you want something light and healthy during the summer.', 'For sushi on the Strip, this is the place to go.', 'The service was great, even the manager came and helped with our table.', 'The feel of the dining room was more college cooking course than high class dining and the service was slow at best.', \"I started this review with two stars, but I'm editing it to give it only one.\", \"this is the worst sushi i have ever eat besides Costco's.\", 'All in all an excellent restaurant highlighted by great service, a unique menu, and a beautiful setting.', 'My boyfriend and i sat at the bar and had a completely delightful experience.', 'Weird vibe from owners.', 'There was hardly any meat.', \"I've had better bagels from the grocery store.\", 'Go To Place for Gyros.', 'I love the owner/chef, his one authentic Japanese cool dude!', \"Now the burgers aren't as good, the pizza which used to be amazing is doughy and flavorless.\", 'I found a six inch long piece of wire in my salsa.', 'The service was terrible, food was mediocre.', 'We definately enjoyed ourselves.', 'I ordered Albondigas soup - which was just warm - and tasted like tomato soup with frozen meatballs.', 'On three different occasions I asked for well done or medium well, and all three times I got the bloodiest piece of meat on my plate.', 'I had about two bites and refused to eat anymore.', 'The service was extremely slow.', 'After 20 minutes wait, I got a table.', 'Seriously killer hot chai latte.', 'No allergy warnings on the menu, and the waitress had absolutely no clue as to which meals did or did not contain peanuts.', 'My boyfriend tried the Mediterranean Chicken Salad and fell in love.', 'Their rotating beers on tap is also a highlight of this place.', 'Pricing is a bit of a concern at Mellow Mushroom.', 'Worst Thai ever.', 'If you stay in Vegas you must get breakfast here at least once.', 'I want to first say our server was great and we had perfect service.', 'The pizza selections are good.', 'I had strawberry tea, which was good.', 'Highly unprofessional and rude to a loyal patron!', 'Overall, a great experience.', 'Spend your money elsewhere.', 'Their regular toasted bread was equally satisfying with the occasional pats of butter... Mmmm...!', 'The Buffet at Bellagio was far from what I anticipated.', 'And the drinks are WEAK, people!', '-My order was not correct.', 'Also, I feel like the chips are bought, not made in house.', 'After the disappointing dinner we went elsewhere for dessert.', 'The chips and sals a here is amazing!!!!!!!!!!!!!!!!!!!', \"We won't be returning.\", 'This is my new fav Vegas buffet spot.', 'I seriously cannot believe that the owner has so many unexperienced employees that all are running around like chickens with their heads cut off.', 'Very, very sad.', 'i felt insulted and disrespected, how could you talk and judge another human being like that?', \"How can you call yourself a steakhouse if you can't properly cook a steak, I don't understand!\", \"I'm not impressed with the concept or the food.\", \"The only thing I wasn't too crazy about was their guacamole as I don't like it puréed.\", 'There is really nothing for me at postinos, hope your experience is better', 'I got food poisoning here at the buffet.', 'They brought a fresh batch of fries and I was thinking yay something warm but no!', 'What SHOULD have been a hilarious, yummy Christmas Eve dinner to remember was the biggest fail of the entire trip for us.', \"Needless to say, I won't be going back anytime soon.\", 'This place is disgusting!', 'Every time I eat here, I see caring teamwork to a professional degree.', 'The RI style calamari was a joke.', 'However, there was so much garlic in the fondue, it was barely edible.', \"I could barely stomach the meal, but didn't complain because it was a business lunch.\", 'It was so bad, I had lost the heart to finish it.', 'It also took her forever to bring us the check when we asked for it.', \"We aren't ones to make a scene at restaurants but I just don't get it...definitely lost the love after this one!\", 'Disappointing experience.', \"The food is about on par with Denny's, which is to say, not good at all.\", 'If you want to wait for mediocre food and downright terrible service, then this is the place for you.', 'WAAAAAAyyyyyyyyyy over rated is all I am saying.', \"We won't be going back.\", \"The place was fairly clean but the food simply wasn't worth it.\", 'This place lacked style!!', 'The sangria was about half of a glass wine full and was $12, ridiculous.', \"Don't bother coming here.\", 'The meat was pretty dry, I had the sliced brisket and pulled pork.', \"The building itself seems pretty neat; the bathroom is pretty trippy, but I wouldn't eat here again.\", 'It was equally awful.', 'Probably not in a hurry to go back.', 'very slow at seating even with reservation.', 'Not good by any stretch of the imagination.', 'The cashew cream sauce was bland and the vegetables were undercooked.', 'The chipolte ranch dipping sause was tasteless, seemed thin and watered down with no heat.', 'It was a bit too sweet, not really spicy enough, and lacked flavor.', 'I was VERY disappointed!!', 'This place is horrible and way overpriced.', \"Maybe it's just their Vegetarian fare, but I've been twice and I thought it was average at best.\", \"It wasn't busy at all and now we know why.\", 'The tables outside are also dirty a lot of the time and the workers are not always friendly and helpful with the menu.', 'The ambiance here did not feel like a buffet setting, but more of a douchey indoor garden for tea and biscuits.', 'Con: spotty service.', 'The fries were not hot, and neither was my burger.', 'But then they came back cold.', 'Then our food came out, disappointment ensued.', 'The real disappointment was our waiter.', 'My husband said she was very rude... did not even apologize for the bad food or anything.', 'The only reason to eat here would be to fill up before a night of binge drinking just to get some carbs in your stomach.', 'Insults, profound deuchebaggery, and had to go outside for a smoke break while serving just to solidify it.', \"If someone orders two tacos don't' you think it may be part of customer service to ask if it is combo or ala cart?\", 'She was quite disappointed although some blame needs to be placed at her door.', \"After all the rave reviews I couldn't wait to eat here......what a disappointment!\", 'Del Taco is pretty nasty and should be avoided if possible.', \"It's NOT hard to make a decent hamburger.\", \"But I don't like it.\", 'Hell no will I go back', \"We've have gotten a much better service from the pizza place next door than the services we received from this restaurant.\", 'I don\\'t know what the big deal is about this place, but I won\\'t be back \"ya\\'all\".', 'I immediately said I wanted to talk to the manager but I did not want to talk to the guy who was doing shots of fireball behind the bar.', \"The ambiance isn't much better.\", 'Unfortunately, it only set us up for disapppointment with our entrees.', \"The food wasn't good.\", 'Your servers suck, wait, correction, our server Heimer sucked.', 'What happened next was pretty....off putting.', \"too bad cause I know it's family owned, I really wanted to like this place.\", 'Overpriced for what you are getting.', 'I vomited in the bathroom mid lunch.', 'I kept looking at the time and it had soon become 35 minutes, yet still no food.', 'I have been to very few places to eat that under no circumstances would I ever return to, and this tops the list.', \"We started with the tuna sashimi which was brownish in color and obviously wasn't fresh.\", 'Food was below average.', 'It sure does beat the nachos at the movies but I would expect a little bit more coming from a restaurant.', 'All in all, Ha Long Bay was a bit of a flop.', 'The problem I have is that they charge $11.99 for a sandwich that is no bigger than a Subway sub (which offers better and more amount of vegetables).', 'Shrimp- When I unwrapped it (I live only 1/2 a mile from Brushfire) it was literally ice cold.', 'It lacked flavor, seemed undercooked, and dry.', \"It really is impressive that the place hasn't closed down.\", 'I would avoid this place if you are staying in the Mirage.', 'The refried beans that came with my meal were dried out and crusty and the food was bland.', 'Spend your money and time some place else.', 'A lady at the table next to us found a live green caterpillar In her salad.', 'the presentation of the food was awful.', \"I can't tell you how disappointed I was.\", 'I think food should have flavor and texture and both were lacking.', 'Appetite instantly gone.', 'Overall I was not impressed and would not go back.', \"The whole experience was underwhelming, and I think we'll just go to Ninja Sushi next time.\", \"Then, as if I hadn't wasted enough of my life there, they poured salt in the wound by drawing out the time it took to bring the check.\"]\n"
     ]
    }
   ],
   "source": [
    "#Initial list of words/characters in review\n",
    "review=df['review']\n",
    "list_of_chars=[]\n",
    "for comment in review:\n",
    "    for character in review:\n",
    "        if character not in list_of_chars:\n",
    "            list_of_chars.append(character)\n",
    "print(list_of_chars)"
   ]
  },
  {
   "cell_type": "code",
   "execution_count": 23,
   "id": "2e94c27c-beb2-4f93-a195-4d9d10e9d779",
   "metadata": {},
   "outputs": [
    {
     "name": "stdout",
     "output_type": "stream",
     "text": [
      "Alpha Characters:\n",
      "{'h', 'z', 'v', 'c', 'u', 'b', 'e', 'i', 'a', 'm', 'y', 's', 'x', 'n', 'k', 'l', 'd', 'q', 'j', 'p', 'r', 'w', 'g', 't', 'o', 'f'}\n",
      "Total of 26 unique English letters in this dataset\n",
      "\n",
      "Numeric Characters:\n",
      "{'6', '2', '1', '3', '8', '5', '9', '0', '4', '7'}\n",
      "Total of 10 unique numerical characters in this dataset\n",
      "\n",
      "Non-alphanumeric characters:\n",
      "{'\\x96', ')', '/', \"'\", ';', '+', '`', 'å', '#', ']', ',', 'é', '\\x97', '-', '$', '[', '(', '&', 'ê', '?', '*', '!', '%', '.', ':'}\n",
      "Total of 25 unique special characters in this dataset\n"
     ]
    }
   ],
   "source": [
    "#view special characters\n",
    "char_review=df['review']\n",
    "alpha_chars=set()\n",
    "num_chars=set()\n",
    "non_num_chars=set()\n",
    "\n",
    "for review in char_review:\n",
    "    tokens=word_tokenize(review.lower())\n",
    "    for token in tokens:\n",
    "        for char in token:\n",
    "            if re.match(r'[a-zA-Z]', char):\n",
    "                alpha_chars.add(char)\n",
    "            elif re.match(r'[0-9]', char):\n",
    "                num_chars.add(char)\n",
    "            else:\n",
    "                non_num_chars.add(char)\n",
    "\n",
    "print('Alpha Characters:')\n",
    "print(alpha_chars)\n",
    "print('Total of', len(alpha_chars), 'unique English letters in this dataset\\n')\n",
    "\n",
    "print('Numeric Characters:')\n",
    "print(num_chars)\n",
    "print('Total of', len(num_chars), 'unique numerical characters in this dataset\\n')\n",
    "\n",
    "print('Non-alphanumeric characters:')\n",
    "print(non_num_chars)\n",
    "print('Total of', len(non_num_chars), 'unique special characters in this dataset')"
   ]
  },
  {
   "cell_type": "markdown",
   "id": "680395f1-2af5-456f-bdf9-fb9d2d52a12f",
   "metadata": {},
   "source": [
    "#### Making text lowercase"
   ]
  },
  {
   "cell_type": "code",
   "execution_count": 24,
   "id": "bde2c8a2-d97b-4d96-85e1-a02a4dfa6233",
   "metadata": {},
   "outputs": [
    {
     "data": {
      "text/plain": [
       "0       so there is no way for me to plug it in here i...\n",
       "1                             good case, excellent value.\n",
       "2                                  great for the jawbone.\n",
       "3       tied to charger for conversations lasting more...\n",
       "4                                       the mic is great.\n",
       "                              ...                        \n",
       "2743    i think food should have flavor and texture an...\n",
       "2744                             appetite instantly gone.\n",
       "2745    overall i was not impressed and would not go b...\n",
       "2746    the whole experience was underwhelming, and i ...\n",
       "2747    then, as if i hadn't wasted enough of my life ...\n",
       "Name: review, Length: 2748, dtype: object"
      ]
     },
     "execution_count": 24,
     "metadata": {},
     "output_type": "execute_result"
    }
   ],
   "source": [
    "df['review']=df['review'].str.lower()\n",
    "df['review']"
   ]
  },
  {
   "cell_type": "markdown",
   "id": "64051d05-3a3e-454b-b444-d3472b2438ad",
   "metadata": {},
   "source": [
    "#### Removing Punctuation"
   ]
  },
  {
   "cell_type": "code",
   "execution_count": 25,
   "id": "343778a9-eff6-4442-ada8-73e2adabbcf4",
   "metadata": {},
   "outputs": [
    {
     "data": {
      "text/plain": [
       "0       so there is no way for me to plug it in here i...\n",
       "1                               good case excellent value\n",
       "2                                   great for the jawbone\n",
       "3       tied to charger for conversations lasting more...\n",
       "4                                        the mic is great\n",
       "                              ...                        \n",
       "2743    i think food should have flavor and texture an...\n",
       "2744                              appetite instantly gone\n",
       "2745    overall i was not impressed and would not go back\n",
       "2746    the whole experience was underwhelming and i t...\n",
       "2747    then as if i hadnt wasted enough of my life th...\n",
       "Name: review, Length: 2748, dtype: object"
      ]
     },
     "execution_count": 25,
     "metadata": {},
     "output_type": "execute_result"
    }
   ],
   "source": [
    "df['review']=df['review'].apply(lambda x: re.sub(r'[^\\w\\s]', '', x))\n",
    "df['review']"
   ]
  },
  {
   "cell_type": "markdown",
   "id": "5f34551f-4536-422f-8c3b-5dd56637e166",
   "metadata": {},
   "source": [
    "#### Removing numbers"
   ]
  },
  {
   "cell_type": "code",
   "execution_count": 26,
   "id": "516e44a5-8eee-47d4-9ad7-4a743389786a",
   "metadata": {},
   "outputs": [
    {
     "data": {
      "text/plain": [
       "0       so there is no way for me to plug it in here i...\n",
       "1                               good case excellent value\n",
       "2                                   great for the jawbone\n",
       "3       tied to charger for conversations lasting more...\n",
       "4                                        the mic is great\n",
       "                              ...                        \n",
       "2743    i think food should have flavor and texture an...\n",
       "2744                              appetite instantly gone\n",
       "2745    overall i was not impressed and would not go back\n",
       "2746    the whole experience was underwhelming and i t...\n",
       "2747    then as if i hadnt wasted enough of my life th...\n",
       "Name: review, Length: 2748, dtype: object"
      ]
     },
     "execution_count": 26,
     "metadata": {},
     "output_type": "execute_result"
    }
   ],
   "source": [
    "df['review'] = df['review'].apply(lambda x: re.sub(r'\\d+', '', x))\n",
    "df['review']"
   ]
  },
  {
   "cell_type": "markdown",
   "id": "79cd63c4-a401-4236-bf30-dc1a9054fd27",
   "metadata": {},
   "source": [
    "#### Removing special characters"
   ]
  },
  {
   "cell_type": "code",
   "execution_count": 27,
   "id": "23f2f4c4-a382-4486-b0cd-e052f9ce7aee",
   "metadata": {},
   "outputs": [
    {
     "data": {
      "text/plain": [
       "0       so there is no way for me to plug it in here i...\n",
       "1                               good case excellent value\n",
       "2                                   great for the jawbone\n",
       "3       tied to charger for conversations lasting more...\n",
       "4                                        the mic is great\n",
       "                              ...                        \n",
       "2743    i think food should have flavor and texture an...\n",
       "2744                              appetite instantly gone\n",
       "2745    overall i was not impressed and would not go back\n",
       "2746    the whole experience was underwhelming and i t...\n",
       "2747    then as if i hadnt wasted enough of my life th...\n",
       "Name: review, Length: 2748, dtype: object"
      ]
     },
     "execution_count": 27,
     "metadata": {},
     "output_type": "execute_result"
    }
   ],
   "source": [
    "df['review']=df['review'].apply(lambda x: re.sub(r'[^\\w\\s]', '', x))\n",
    "df['review']"
   ]
  },
  {
   "cell_type": "markdown",
   "id": "f8786df4-a6a0-479f-b893-66eaeac92882",
   "metadata": {},
   "source": [
    "#### Removing any Emoji"
   ]
  },
  {
   "cell_type": "code",
   "execution_count": 28,
   "id": "ef2e7ee7-f86f-414d-9f9a-facd87c37a68",
   "metadata": {},
   "outputs": [],
   "source": [
    "def remove_emojis(df):\n",
    "    emoj = re.compile(\"[\"\n",
    "        u\"\\U0001F600-\\U0001F64F\"\n",
    "        u\"\\U0001F300-\\U0001F5FF\" \n",
    "        u\"\\U0001F680-\\U0001F6FF\" \n",
    "        u\"\\U0001F1E0-\\U0001F1FF\" \n",
    "        u\"\\U00002500-\\U00002BEF\"  \n",
    "        u\"\\U00002702-\\U000027B0\"\n",
    "        u\"\\U000024C2-\\U0001F251\"\n",
    "        u\"\\U0001f926-\\U0001f937\"\n",
    "        u\"\\U00010000-\\U0010ffff\"\n",
    "        u\"\\u2640-\\u2642\" \n",
    "        u\"\\u2600-\\u2B55\"\n",
    "        u\"\\u200d\"\n",
    "        u\"\\u23cf\"\n",
    "        u\"\\u23e9\"\n",
    "        u\"\\u231a\"\n",
    "        u\"\\ufe0f\"\n",
    "        u\"\\u3030\"\n",
    "                      \"]+\", re.UNICODE)\n",
    "    return re.sub(emoj, '', df)"
   ]
  },
  {
   "cell_type": "code",
   "execution_count": 29,
   "id": "09baf2d6-6694-485a-85ce-4d53d040c38d",
   "metadata": {},
   "outputs": [
    {
     "data": {
      "text/plain": [
       "0       [so, there, is, no, way, for, me, to, plug, it...\n",
       "1                          [good, case, excellent, value]\n",
       "2                              [great, for, the, jawbone]\n",
       "3       [tied, to, charger, for, conversations, lastin...\n",
       "4                                   [the, mic, is, great]\n",
       "                              ...                        \n",
       "2743    [i, think, food, should, have, flavor, and, te...\n",
       "2744                          [appetite, instantly, gone]\n",
       "2745    [overall, i, was, not, impressed, and, would, ...\n",
       "2746    [the, whole, experience, was, underwhelming, a...\n",
       "2747    [then, as, if, i, hadnt, wasted, enough, of, m...\n",
       "Name: review, Length: 2748, dtype: object"
      ]
     },
     "execution_count": 29,
     "metadata": {},
     "output_type": "execute_result"
    }
   ],
   "source": [
    "#tokenize text\n",
    "def toknz(text):\n",
    "    tokens = word_tokenize(text)\n",
    "    return tokens\n",
    "df['review']= df['review'].apply(lambda x: toknz(x))\n",
    "df['review']"
   ]
  },
  {
   "cell_type": "markdown",
   "id": "9774ef5c-0bf4-417f-a263-61bf77cf7ef5",
   "metadata": {},
   "source": [
    "#### Stop Words"
   ]
  },
  {
   "cell_type": "code",
   "execution_count": 30,
   "id": "b091ca71-4592-4624-9b9b-3d52aafe5c20",
   "metadata": {},
   "outputs": [
    {
     "data": {
      "text/plain": [
       "0                  [way, plug, us, unless, go, converter]\n",
       "1                          [good, case, excellent, value]\n",
       "2                                        [great, jawbone]\n",
       "3       [tied, charger, conversations, lasting, minute...\n",
       "4                                            [mic, great]\n",
       "                              ...                        \n",
       "2743              [think, food, flavor, texture, lacking]\n",
       "2744                          [appetite, instantly, gone]\n",
       "2745      [overall, not, impressed, would, not, go, back]\n",
       "2746    [whole, experience, underwhelming, think, well...\n",
       "2747    [hadnt, wasted, enough, life, poured, salt, wo...\n",
       "Name: review, Length: 2748, dtype: object"
      ]
     },
     "execution_count": 30,
     "metadata": {},
     "output_type": "execute_result"
    }
   ],
   "source": [
    "stop_word=set(stopwords.words('english'))\n",
    "#excluding negatings words within stopwords\n",
    "not_stop_word=['but', 'not', \"aren't\", 'couldn', \"couldn't\", \"didn't\", 'doesn', \"doesn't\", 'hadn', \"hadn't\", 'hasn', \"hasn't\",\n",
    " 'haven', \"haven't\", 'isn', \"isn't\", 'ma', 'mightn', \"mightn't\", 'mustn', \"mustn't\", 'needn', \"needn't\", 'shan', \"shan't\", 'shouldn', \"shouldn't\", 'wasn',\n",
    " \"wasn't\", 'weren', \"weren't\", 'won', \"won't\", 'wouldn', \"wouldn't\"]\n",
    "final_stop_words=set([word for word in stop_word if word not in not_stop_word])\n",
    "def rmv_stop(txt):\n",
    "    txt_stop=([w for w in txt if w not in final_stop_words])\n",
    "    return txt_stop\n",
    "df['review']=df['review'].apply(lambda x: rmv_stop(x))\n",
    "df['review']"
   ]
  },
  {
   "cell_type": "markdown",
   "id": "7d60c5b6-6b9d-4afb-a922-f56f86326bdb",
   "metadata": {},
   "source": [
    "#### Using PorterStemmer to shorten words to their root word"
   ]
  },
  {
   "cell_type": "code",
   "execution_count": 31,
   "id": "f1706d38-3ff4-48b9-9d50-8ad3711d6655",
   "metadata": {},
   "outputs": [
    {
     "data": {
      "text/plain": [
       "0                    [way, plug, us, unless, go, convert]\n",
       "1                               [good, case, excel, valu]\n",
       "2                                         [great, jawbon]\n",
       "3       [tie, charger, convers, last, minutesmajor, pr...\n",
       "4                                            [mic, great]\n",
       "                              ...                        \n",
       "2743                  [think, food, flavor, textur, lack]\n",
       "2744                           [appetit, instantli, gone]\n",
       "2745         [overal, not, impress, would, not, go, back]\n",
       "2746    [whole, experi, underwhelm, think, well, go, n...\n",
       "2747    [hadnt, wast, enough, life, pour, salt, wound,...\n",
       "Name: review, Length: 2748, dtype: object"
      ]
     },
     "execution_count": 31,
     "metadata": {},
     "output_type": "execute_result"
    }
   ],
   "source": [
    "ps=PorterStemmer()\n",
    "def stemmer(text):\n",
    "    text=[ps.stem(word) for word in text]\n",
    "    return text\n",
    "df['review']=df['review'].apply(lambda x: stemmer(x))\n",
    "df['review']"
   ]
  },
  {
   "cell_type": "markdown",
   "id": "77d69a49-cd14-471d-8506-996faf10b3d6",
   "metadata": {},
   "source": [
    "#### Find sequence lengths, max word length and vocabulary size"
   ]
  },
  {
   "cell_type": "code",
   "execution_count": 32,
   "id": "b9d07e6c-c290-4e00-8a6d-ffe81780f924",
   "metadata": {},
   "outputs": [
    {
     "name": "stdout",
     "output_type": "stream",
     "text": [
      "Vocabulary Size: 4080\n",
      "Proposed Embedding Length: 70\n",
      "Max Sequence Length: 699\n",
      "Median Sequence Length: 5.0\n",
      "Minimum Sequence Length: 0\n",
      "Mean Sequence Length: 6.868267831149927\n"
     ]
    }
   ],
   "source": [
    "text_data=df['review'].astype(str)\n",
    "tokenizer=Tokenizer()\n",
    "tokenizer.fit_on_texts(text_data)\n",
    "sequences=tokenizer.texts_to_sequences(text_data)\n",
    "vocab_size=len(tokenizer.word_index)\n",
    "print(\"Vocabulary Size:\", vocab_size)\n",
    "max_sequence_length=max(len(seq) for seq in sequences)\n",
    "median_sequence_length=np.median([len(seq) for seq in sequences])\n",
    "min_sequence_length=np.min([len(seq) for seq in sequences])\n",
    "mean_sequence_length=np.mean([len(seq) for seq in sequences])\n",
    "proposed_embedding_length=int(np.ceil(max_sequence_length * 0.1))\n",
    "print(\"Proposed Embedding Length:\", proposed_embedding_length)\n",
    "print(\"Max Sequence Length:\", max_sequence_length)\n",
    "print(\"Median Sequence Length:\", median_sequence_length)\n",
    "print(\"Minimum Sequence Length:\", min_sequence_length)\n",
    "print(\"Mean Sequence Length:\", mean_sequence_length)"
   ]
  },
  {
   "cell_type": "markdown",
   "id": "ee310029-dfde-4e3a-9768-1f72705e9860",
   "metadata": {},
   "source": [
    "In the above code lines, I explored the data, including determining whether certain characters were present in the data set. IN reviewing the different kinds of characters present in the data set, I confirmed that there were 26 unique letters - which is ideal as there are 26 letters in the alphabet and that means they are all represented as expected in the dataset.  Also as expected are all 10 unique numeric characters are present.  There are also 25 unique special characters which includes characters like punctuation.  \n",
    "\n",
    "I started transforming the text in the review column by making all the text lowercase, removed punctuation, numbers, special characters, and emojis (DataCamp, StackOverflow and Western Governors University, n.d.).\n",
    "\n",
    "Once my text was cleaned, I tokenized the words and removed stop words, but ensured that certain words like but and not remained as they are actually somewhat important in determining whether a review is positive or negative.  I then used PorterStemmer to shorten words to their root, or stem, word (Geeks for Geeks, n.d.).\n",
    "\n",
    "Once my text was cleaned and reduced, I calculated the remaining vocabulary size to be 4,080.  I also obtained the proposed embedding length. The embeddings are vector representations of similar words and the proposed word embedding size for an RNN model is the dimensionality of the words embeddigns that will be input into the model. The proposed embedding length is 10% of the maximum sequence length.  The embedding length can be adjusted as needed to improve the model (Geeks for Geeks, n.d.).tion.\n",
    "\n",
    "\n",
    "Finally, I obtained the mathematical determination of the longest sequence, the shortest sequence, the middle sequence length, and the average sequence length for text in the review column."
   ]
  },
  {
   "cell_type": "markdown",
   "id": "5daa9ece-d89b-4a6e-9cc4-fbe77d1e7bfb",
   "metadata": {},
   "source": [
    "### B2. Tokenization\n",
    "\n",
    "It is strange that the rubric appears to not be in the order in which the steps should be completed.  The goal of tokenization is to break down sentences into smaller peices, in this case, I broke each sentence/review into individual words, for processing and analysis (Geeks for Geeks, n.d.).  Above, I used word_tokenize from Natural Language Took Kit (NLTK) to tokenize the words left after cleaning to obtain parameters like the vocabulary count and sequence size.  Below I am using Tokenizer from TensorFlow Keras, as it is needed to use TensorFlow, to convert the tokenized words into integers to be used in the NLP I am creating (Geeks for Geeks, n.d.)."
   ]
  },
  {
   "cell_type": "code",
   "execution_count": 33,
   "id": "83d97de2-c18a-44ea-80f4-6084f67f5084",
   "metadata": {},
   "outputs": [],
   "source": [
    "#tokenization\n",
    "text_sequences=[' '.join(map(str, seq)) for seq in sequences]\n",
    "tokenizer=Tokenizer()\n",
    "tokenizer.fit_on_texts(text_sequences)\n",
    "tokenized_sequences=tokenizer.texts_to_sequences(text_sequences)\n",
    "tokenize=Tokenizer(num_words=None)\n",
    "tokenize.fit_on_texts(df['review'])\n",
    "df.review=tokenize.texts_to_sequences(df['review'])"
   ]
  },
  {
   "cell_type": "code",
   "execution_count": 34,
   "id": "76646945-1241-4362-b01f-f52d3330e871",
   "metadata": {
    "scrolled": true
   },
   "outputs": [
    {
     "data": {
      "text/html": [
       "<div>\n",
       "<style scoped>\n",
       "    .dataframe tbody tr th:only-of-type {\n",
       "        vertical-align: middle;\n",
       "    }\n",
       "\n",
       "    .dataframe tbody tr th {\n",
       "        vertical-align: top;\n",
       "    }\n",
       "\n",
       "    .dataframe thead th {\n",
       "        text-align: right;\n",
       "    }\n",
       "</style>\n",
       "<table border=\"1\" class=\"dataframe\">\n",
       "  <thead>\n",
       "    <tr style=\"text-align: right;\">\n",
       "      <th></th>\n",
       "      <th>index</th>\n",
       "      <th>review</th>\n",
       "      <th>sentiment</th>\n",
       "    </tr>\n",
       "  </thead>\n",
       "  <tbody>\n",
       "    <tr>\n",
       "      <th>0</th>\n",
       "      <td>0</td>\n",
       "      <td>[52, 228, 119, 558, 17, 1816]</td>\n",
       "      <td>0</td>\n",
       "    </tr>\n",
       "    <tr>\n",
       "      <th>1</th>\n",
       "      <td>1</td>\n",
       "      <td>[2, 65, 38, 324]</td>\n",
       "      <td>1</td>\n",
       "    </tr>\n",
       "    <tr>\n",
       "      <th>2</th>\n",
       "      <td>2</td>\n",
       "      <td>[3, 960]</td>\n",
       "      <td>1</td>\n",
       "    </tr>\n",
       "    <tr>\n",
       "      <th>3</th>\n",
       "      <td>3</td>\n",
       "      <td>[1242, 143, 647, 120, 1817, 96]</td>\n",
       "      <td>0</td>\n",
       "    </tr>\n",
       "    <tr>\n",
       "      <th>4</th>\n",
       "      <td>4</td>\n",
       "      <td>[752, 3]</td>\n",
       "      <td>1</td>\n",
       "    </tr>\n",
       "    <tr>\n",
       "      <th>...</th>\n",
       "      <td>...</td>\n",
       "      <td>...</td>\n",
       "      <td>...</td>\n",
       "    </tr>\n",
       "    <tr>\n",
       "      <th>2743</th>\n",
       "      <td>995</td>\n",
       "      <td>[48, 13, 204, 1197, 182]</td>\n",
       "      <td>0</td>\n",
       "    </tr>\n",
       "    <tr>\n",
       "      <th>2744</th>\n",
       "      <td>996</td>\n",
       "      <td>[4076, 4077, 883]</td>\n",
       "      <td>0</td>\n",
       "    </tr>\n",
       "    <tr>\n",
       "      <th>2745</th>\n",
       "      <td>997</td>\n",
       "      <td>[233, 1, 124, 22, 1, 17, 28]</td>\n",
       "      <td>0</td>\n",
       "    </tr>\n",
       "    <tr>\n",
       "      <th>2746</th>\n",
       "      <td>998</td>\n",
       "      <td>[289, 94, 1732, 48, 20, 17, 4078, 302, 234, 11]</td>\n",
       "      <td>0</td>\n",
       "    </tr>\n",
       "    <tr>\n",
       "      <th>2747</th>\n",
       "      <td>999</td>\n",
       "      <td>[1488, 53, 71, 133, 4079, 1208, 4080, 1712, 11...</td>\n",
       "      <td>0</td>\n",
       "    </tr>\n",
       "  </tbody>\n",
       "</table>\n",
       "<p>2748 rows × 3 columns</p>\n",
       "</div>"
      ],
      "text/plain": [
       "      index                                             review  sentiment\n",
       "0         0                      [52, 228, 119, 558, 17, 1816]          0\n",
       "1         1                                   [2, 65, 38, 324]          1\n",
       "2         2                                           [3, 960]          1\n",
       "3         3                    [1242, 143, 647, 120, 1817, 96]          0\n",
       "4         4                                           [752, 3]          1\n",
       "...     ...                                                ...        ...\n",
       "2743    995                           [48, 13, 204, 1197, 182]          0\n",
       "2744    996                                  [4076, 4077, 883]          0\n",
       "2745    997                       [233, 1, 124, 22, 1, 17, 28]          0\n",
       "2746    998    [289, 94, 1732, 48, 20, 17, 4078, 302, 234, 11]          0\n",
       "2747    999  [1488, 53, 71, 133, 4079, 1208, 4080, 1712, 11...          0\n",
       "\n",
       "[2748 rows x 3 columns]"
      ]
     },
     "execution_count": 34,
     "metadata": {},
     "output_type": "execute_result"
    }
   ],
   "source": [
    "df"
   ]
  },
  {
   "cell_type": "code",
   "execution_count": 35,
   "id": "85ea40e8-0dc5-4ce9-87a1-8e4353ec6906",
   "metadata": {
    "scrolled": true
   },
   "outputs": [
    {
     "data": {
      "text/plain": [
       "{'not': 1,\n",
       " 'good': 2,\n",
       " 'great': 3,\n",
       " 'movi': 4,\n",
       " 'but': 5,\n",
       " 'film': 6,\n",
       " 'phone': 7,\n",
       " 'one': 8,\n",
       " 'like': 9,\n",
       " 'work': 10,\n",
       " 'time': 11,\n",
       " 'place': 12,\n",
       " 'food': 13,\n",
       " 'servic': 14,\n",
       " 'realli': 15,\n",
       " 'bad': 16,\n",
       " 'go': 17,\n",
       " 'use': 18,\n",
       " 'love': 19,\n",
       " 'well': 20,\n",
       " 'dont': 21,\n",
       " 'would': 22,\n",
       " 'get': 23,\n",
       " 'best': 24,\n",
       " 'even': 25,\n",
       " 'ever': 26,\n",
       " 'also': 27,\n",
       " 'back': 28,\n",
       " 'make': 29,\n",
       " 'qualiti': 30,\n",
       " 'recommend': 31,\n",
       " 'look': 32,\n",
       " 'product': 33,\n",
       " 'disappoint': 34,\n",
       " 'ive': 35,\n",
       " 'made': 36,\n",
       " 'charact': 37,\n",
       " 'excel': 38,\n",
       " 'im': 39,\n",
       " 'headset': 40,\n",
       " 'sound': 41,\n",
       " 'nice': 42,\n",
       " 'price': 43,\n",
       " 'could': 44,\n",
       " 'thing': 45,\n",
       " 'better': 46,\n",
       " 'watch': 47,\n",
       " 'think': 48,\n",
       " 'never': 49,\n",
       " 'much': 50,\n",
       " 'see': 51,\n",
       " 'way': 52,\n",
       " 'wast': 53,\n",
       " 'batteri': 54,\n",
       " 'act': 55,\n",
       " 'first': 56,\n",
       " 'say': 57,\n",
       " 'didnt': 58,\n",
       " 'tri': 59,\n",
       " 'ear': 60,\n",
       " 'pretti': 61,\n",
       " 'year': 62,\n",
       " 'got': 63,\n",
       " 'come': 64,\n",
       " 'case': 65,\n",
       " 'still': 66,\n",
       " 'worst': 67,\n",
       " 'want': 68,\n",
       " 'order': 69,\n",
       " 'minut': 70,\n",
       " 'enough': 71,\n",
       " 'end': 72,\n",
       " 'feel': 73,\n",
       " 'amaz': 74,\n",
       " 'two': 75,\n",
       " 'littl': 76,\n",
       " 'everyth': 77,\n",
       " 'everi': 78,\n",
       " 'play': 79,\n",
       " 'terribl': 80,\n",
       " 'scene': 81,\n",
       " 'right': 82,\n",
       " 'wonder': 83,\n",
       " 'peopl': 84,\n",
       " 'call': 85,\n",
       " 'definit': 86,\n",
       " 'know': 87,\n",
       " 'real': 88,\n",
       " 'give': 89,\n",
       " 'wait': 90,\n",
       " 'stori': 91,\n",
       " 'money': 92,\n",
       " 'lot': 93,\n",
       " 'experi': 94,\n",
       " 'enjoy': 95,\n",
       " 'problem': 96,\n",
       " 'new': 97,\n",
       " 'cant': 98,\n",
       " 'came': 99,\n",
       " 'comfort': 100,\n",
       " 'piec': 101,\n",
       " 'suck': 102,\n",
       " 'doesnt': 103,\n",
       " 'star': 104,\n",
       " 'mani': 105,\n",
       " 'wont': 106,\n",
       " 'friendli': 107,\n",
       " 'actor': 108,\n",
       " 'restaur': 109,\n",
       " 'far': 110,\n",
       " 'day': 111,\n",
       " 'poor': 112,\n",
       " 'take': 113,\n",
       " 'worth': 114,\n",
       " 'quit': 115,\n",
       " 'plot': 116,\n",
       " 'script': 117,\n",
       " 'eat': 118,\n",
       " 'us': 119,\n",
       " 'last': 120,\n",
       " 'expect': 121,\n",
       " 'show': 122,\n",
       " 'seen': 123,\n",
       " 'impress': 124,\n",
       " 'long': 125,\n",
       " 'perform': 126,\n",
       " 'buy': 127,\n",
       " 'happi': 128,\n",
       " 'fit': 129,\n",
       " 'noth': 130,\n",
       " 'cast': 131,\n",
       " 'charg': 132,\n",
       " 'life': 133,\n",
       " 'hour': 134,\n",
       " 'alway': 135,\n",
       " 'total': 136,\n",
       " 'delici': 137,\n",
       " 'highli': 138,\n",
       " 'found': 139,\n",
       " 'anyon': 140,\n",
       " 'wasnt': 141,\n",
       " 'tast': 142,\n",
       " 'charger': 143,\n",
       " 'line': 144,\n",
       " 'absolut': 145,\n",
       " 'car': 146,\n",
       " 'need': 147,\n",
       " 'screen': 148,\n",
       " 'part': 149,\n",
       " 'bought': 150,\n",
       " 'fine': 151,\n",
       " 'seem': 152,\n",
       " 'find': 153,\n",
       " 'purchas': 154,\n",
       " 'beauti': 155,\n",
       " 'item': 156,\n",
       " 'easi': 157,\n",
       " 'around': 158,\n",
       " 'probabl': 159,\n",
       " 'anoth': 160,\n",
       " 'aw': 161,\n",
       " 'interest': 162,\n",
       " 'vega': 163,\n",
       " 'went': 164,\n",
       " 'talk': 165,\n",
       " 'camera': 166,\n",
       " 'reason': 167,\n",
       " 'sinc': 168,\n",
       " 'job': 169,\n",
       " 'funni': 170,\n",
       " 'awesom': 171,\n",
       " 'thought': 172,\n",
       " 'horribl': 173,\n",
       " 'howev': 174,\n",
       " 'perfect': 175,\n",
       " 'couldnt': 176,\n",
       " 'cool': 177,\n",
       " 'big': 178,\n",
       " 'complet': 179,\n",
       " 'set': 180,\n",
       " 'avoid': 181,\n",
       " 'lack': 182,\n",
       " 'believ': 183,\n",
       " 'staff': 184,\n",
       " 'start': 185,\n",
       " 'though': 186,\n",
       " 'direct': 187,\n",
       " 'turn': 188,\n",
       " 'pictur': 189,\n",
       " 'bluetooth': 190,\n",
       " 'return': 191,\n",
       " 'music': 192,\n",
       " 'black': 193,\n",
       " 'small': 194,\n",
       " 'fantast': 195,\n",
       " 'slow': 196,\n",
       " 'night': 197,\n",
       " 'famili': 198,\n",
       " 'old': 199,\n",
       " 'stupid': 200,\n",
       " 'review': 201,\n",
       " 'server': 202,\n",
       " 'steak': 203,\n",
       " 'flavor': 204,\n",
       " 'pizza': 205,\n",
       " 'must': 206,\n",
       " 'help': 207,\n",
       " 'sure': 208,\n",
       " 'drop': 209,\n",
       " 'actual': 210,\n",
       " 'rate': 211,\n",
       " 'kind': 212,\n",
       " 'cheap': 213,\n",
       " 'side': 214,\n",
       " 'stay': 215,\n",
       " 'incred': 216,\n",
       " 'custom': 217,\n",
       " 'fri': 218,\n",
       " 'effect': 219,\n",
       " 'said': 220,\n",
       " 'menu': 221,\n",
       " 'write': 222,\n",
       " 'fresh': 223,\n",
       " 'bore': 224,\n",
       " 'salad': 225,\n",
       " 'dish': 226,\n",
       " 'chicken': 227,\n",
       " 'plug': 228,\n",
       " 'that': 229,\n",
       " 'receiv': 230,\n",
       " 'bit': 231,\n",
       " 'special': 232,\n",
       " 'overal': 233,\n",
       " 'next': 234,\n",
       " 'burger': 235,\n",
       " 'design': 236,\n",
       " 'everyon': 237,\n",
       " 'bar': 238,\n",
       " 'hear': 239,\n",
       " 'least': 240,\n",
       " 'differ': 241,\n",
       " 'recept': 242,\n",
       " 'light': 243,\n",
       " 'pleas': 244,\n",
       " 'done': 245,\n",
       " 'put': 246,\n",
       " 'check': 247,\n",
       " 'simpli': 248,\n",
       " 'felt': 249,\n",
       " 'id': 250,\n",
       " 'hand': 251,\n",
       " 'especi': 252,\n",
       " 'hard': 253,\n",
       " 'sever': 254,\n",
       " 'imagin': 255,\n",
       " 'without': 256,\n",
       " 'hold': 257,\n",
       " 'let': 258,\n",
       " 'devic': 259,\n",
       " 'white': 260,\n",
       " 'ask': 261,\n",
       " 'fast': 262,\n",
       " 'cell': 263,\n",
       " 'almost': 264,\n",
       " 'care': 265,\n",
       " 'fail': 266,\n",
       " 'hope': 267,\n",
       " 'either': 268,\n",
       " 'anyth': 269,\n",
       " 'low': 270,\n",
       " 'game': 271,\n",
       " 'ill': 272,\n",
       " 'deal': 273,\n",
       " 'away': 274,\n",
       " 'understand': 275,\n",
       " 'manag': 276,\n",
       " 'man': 277,\n",
       " 'director': 278,\n",
       " 'wors': 279,\n",
       " 'tabl': 280,\n",
       " 'meal': 281,\n",
       " 'origin': 282,\n",
       " 'motorola': 283,\n",
       " 'left': 284,\n",
       " 'short': 285,\n",
       " 'clear': 286,\n",
       " 'serious': 287,\n",
       " 'live': 288,\n",
       " 'whole': 289,\n",
       " 'final': 290,\n",
       " 'keep': 291,\n",
       " 'rather': 292,\n",
       " 'bland': 293,\n",
       " 'unfortun': 294,\n",
       " 'art': 295,\n",
       " 'predict': 296,\n",
       " 'buffet': 297,\n",
       " 'consid': 298,\n",
       " 'dialogu': 299,\n",
       " 'select': 300,\n",
       " 'serv': 301,\n",
       " 'sushi': 302,\n",
       " 'volum': 303,\n",
       " 'month': 304,\n",
       " 'hate': 305,\n",
       " 'featur': 306,\n",
       " 'second': 307,\n",
       " 'week': 308,\n",
       " 'super': 309,\n",
       " 'full': 310,\n",
       " 'may': 311,\n",
       " 'perfectli': 312,\n",
       " 'extrem': 313,\n",
       " 'mean': 314,\n",
       " 'mess': 315,\n",
       " 'tell': 316,\n",
       " 'took': 317,\n",
       " 'friend': 318,\n",
       " 'bare': 319,\n",
       " 'gener': 320,\n",
       " 'fact': 321,\n",
       " 'saw': 322,\n",
       " 'atmospher': 323,\n",
       " 'valu': 324,\n",
       " 'yet': 325,\n",
       " 'run': 326,\n",
       " 'three': 327,\n",
       " 'wear': 328,\n",
       " 'arriv': 329,\n",
       " 'style': 330,\n",
       " 'huge': 331,\n",
       " 'color': 332,\n",
       " 'less': 333,\n",
       " 'human': 334,\n",
       " 'there': 335,\n",
       " 'certainli': 336,\n",
       " 'hot': 337,\n",
       " 'face': 338,\n",
       " 'crap': 339,\n",
       " 'happen': 340,\n",
       " 'truli': 341,\n",
       " 'mediocr': 342,\n",
       " 'soon': 343,\n",
       " 'possibl': 344,\n",
       " 'top': 345,\n",
       " 'word': 346,\n",
       " 'seat': 347,\n",
       " 'kid': 348,\n",
       " 'attent': 349,\n",
       " 'tasti': 350,\n",
       " 'sauc': 351,\n",
       " 'fun': 352,\n",
       " 'kept': 353,\n",
       " 'button': 354,\n",
       " 'cover': 355,\n",
       " 'song': 356,\n",
       " 'home': 357,\n",
       " 'cost': 358,\n",
       " 'fall': 359,\n",
       " 'high': 360,\n",
       " 'strong': 361,\n",
       " 'area': 362,\n",
       " 'charm': 363,\n",
       " 'connect': 364,\n",
       " 'recent': 365,\n",
       " 'compani': 366,\n",
       " 'gave': 367,\n",
       " 'drive': 368,\n",
       " 'coupl': 369,\n",
       " 'break': 370,\n",
       " 'wrong': 371,\n",
       " 'touch': 372,\n",
       " 'none': 373,\n",
       " 'entir': 374,\n",
       " 'shot': 375,\n",
       " 'togeth': 376,\n",
       " 'easili': 377,\n",
       " 'insid': 378,\n",
       " 'portray': 379,\n",
       " 'busi': 380,\n",
       " 'leav': 381,\n",
       " 'fan': 382,\n",
       " 'waitress': 383,\n",
       " 'spot': 384,\n",
       " 'cold': 385,\n",
       " 'cook': 386,\n",
       " 'sandwich': 387,\n",
       " 'meat': 388,\n",
       " 'dine': 389,\n",
       " 'decent': 390,\n",
       " 'pair': 391,\n",
       " 'provid': 392,\n",
       " 'pull': 393,\n",
       " 'verizon': 394,\n",
       " 'seri': 395,\n",
       " 'broke': 396,\n",
       " 'flaw': 397,\n",
       " 'jabra': 398,\n",
       " 'hous': 399,\n",
       " 'voic': 400,\n",
       " 'glad': 401,\n",
       " 'wouldnt': 402,\n",
       " 'lost': 403,\n",
       " 'junk': 404,\n",
       " 'amazon': 405,\n",
       " 'ago': 406,\n",
       " 'today': 407,\n",
       " 'unit': 408,\n",
       " 'role': 409,\n",
       " 'continu': 410,\n",
       " 'pay': 411,\n",
       " 'guess': 412,\n",
       " 'someth': 413,\n",
       " 'tv': 414,\n",
       " 'els': 415,\n",
       " 'half': 416,\n",
       " 'deserv': 417,\n",
       " 'classic': 418,\n",
       " 'bring': 419,\n",
       " 'drama': 420,\n",
       " 'locat': 421,\n",
       " 'heart': 422,\n",
       " 'delight': 423,\n",
       " 'potato': 424,\n",
       " 'beer': 425,\n",
       " 'drink': 426,\n",
       " 'lunch': 427,\n",
       " 'breakfast': 428,\n",
       " 'rude': 429,\n",
       " 'clean': 430,\n",
       " 'follow': 431,\n",
       " 'simpl': 432,\n",
       " 'includ': 433,\n",
       " 'garbag': 434,\n",
       " 'audio': 435,\n",
       " 'larg': 436,\n",
       " 'perhap': 437,\n",
       " 'player': 438,\n",
       " 'person': 439,\n",
       " 'quickli': 440,\n",
       " 'although': 441,\n",
       " 'wife': 442,\n",
       " 'basic': 443,\n",
       " 'obvious': 444,\n",
       " 'offer': 445,\n",
       " 'replac': 446,\n",
       " 'import': 447,\n",
       " 'cabl': 448,\n",
       " 'someon': 449,\n",
       " 'weak': 450,\n",
       " 'averag': 451,\n",
       " 'other': 452,\n",
       " 'mention': 453,\n",
       " 'oh': 454,\n",
       " 'given': 455,\n",
       " 'eye': 456,\n",
       " 'quick': 457,\n",
       " 'plu': 458,\n",
       " 'point': 459,\n",
       " 'told': 460,\n",
       " 'open': 461,\n",
       " 'wall': 462,\n",
       " 'rare': 463,\n",
       " 'girl': 464,\n",
       " 'attempt': 465,\n",
       " 'deliv': 466,\n",
       " 'cinematographi': 467,\n",
       " 'edit': 468,\n",
       " 'cinema': 469,\n",
       " 'amount': 470,\n",
       " 'creat': 471,\n",
       " 'twice': 472,\n",
       " 'suspens': 473,\n",
       " 'world': 474,\n",
       " 'contain': 475,\n",
       " 'action': 476,\n",
       " 'insult': 477,\n",
       " 'tender': 478,\n",
       " 'overpr': 479,\n",
       " 'dessert': 480,\n",
       " 'spici': 481,\n",
       " 'chip': 482,\n",
       " 'send': 483,\n",
       " 'own': 484,\n",
       " 'move': 485,\n",
       " 'book': 486,\n",
       " 'mind': 487,\n",
       " 'front': 488,\n",
       " 'later': 489,\n",
       " 'die': 490,\n",
       " 'choic': 491,\n",
       " 'within': 492,\n",
       " 'free': 493,\n",
       " 'ship': 494,\n",
       " 'earpiec': 495,\n",
       " 'signal': 496,\n",
       " 'softwar': 497,\n",
       " 'brilliant': 498,\n",
       " 'liter': 499,\n",
       " 'superb': 500,\n",
       " 'hit': 501,\n",
       " 'useless': 502,\n",
       " 'room': 503,\n",
       " 'mostli': 504,\n",
       " 'usual': 505,\n",
       " 'authent': 506,\n",
       " 'mistak': 507,\n",
       " 'appear': 508,\n",
       " 'nokia': 509,\n",
       " 'outsid': 510,\n",
       " 'satisfi': 511,\n",
       " 'note': 512,\n",
       " 'might': 513,\n",
       " 'read': 514,\n",
       " 'solid': 515,\n",
       " 'describ': 516,\n",
       " 'store': 517,\n",
       " 'miss': 518,\n",
       " 'isnt': 519,\n",
       " 'joke': 520,\n",
       " 'stop': 521,\n",
       " 'walk': 522,\n",
       " 'cours': 523,\n",
       " 'surpris': 524,\n",
       " 'produc': 525,\n",
       " 'period': 526,\n",
       " 'except': 527,\n",
       " 'cut': 528,\n",
       " 'whatev': 529,\n",
       " 'rest': 530,\n",
       " 'joy': 531,\n",
       " 'ridicul': 532,\n",
       " 'singl': 533,\n",
       " 'level': 534,\n",
       " 'flick': 535,\n",
       " 'written': 536,\n",
       " 'mayb': 537,\n",
       " 'horror': 538,\n",
       " 'beyond': 539,\n",
       " 'close': 540,\n",
       " 'john': 541,\n",
       " 'hole': 542,\n",
       " 'sick': 543,\n",
       " 'subtl': 544,\n",
       " 'intellig': 545,\n",
       " 'guy': 546,\n",
       " 'becom': 547,\n",
       " 'involv': 548,\n",
       " 'comedi': 549,\n",
       " 'pace': 550,\n",
       " 'begin': 551,\n",
       " 'portion': 552,\n",
       " 'waiter': 553,\n",
       " 'town': 554,\n",
       " 'ambianc': 555,\n",
       " 'owner': 556,\n",
       " 'dinner': 557,\n",
       " 'unless': 558,\n",
       " 'contact': 559,\n",
       " 'clip': 560,\n",
       " 'loud': 561,\n",
       " 'protect': 562,\n",
       " 'instead': 563,\n",
       " 'sturdi': 564,\n",
       " 'forget': 565,\n",
       " 'headphon': 566,\n",
       " 'particular': 567,\n",
       " 'parti': 568,\n",
       " 'sometim': 569,\n",
       " 'longer': 570,\n",
       " 'construct': 571,\n",
       " 'plan': 572,\n",
       " 'rock': 573,\n",
       " 'number': 574,\n",
       " 'internet': 575,\n",
       " 'option': 576,\n",
       " 'whether': 577,\n",
       " 'function': 578,\n",
       " 'thin': 579,\n",
       " 'bother': 580,\n",
       " 'rang': 581,\n",
       " 'embarrass': 582,\n",
       " 'addit': 583,\n",
       " 'whatsoev': 584,\n",
       " 'caus': 585,\n",
       " 'poorli': 586,\n",
       " 'clever': 587,\n",
       " 'allow': 588,\n",
       " 'exactli': 589,\n",
       " 'dead': 590,\n",
       " 'plastic': 591,\n",
       " 'difficult': 592,\n",
       " 'chang': 593,\n",
       " 'result': 594,\n",
       " 'zero': 595,\n",
       " 'forc': 596,\n",
       " 'idea': 597,\n",
       " 'theyr': 598,\n",
       " 'beat': 599,\n",
       " 'extra': 600,\n",
       " 'despit': 601,\n",
       " 'elsewher': 602,\n",
       " 'entertain': 603,\n",
       " 'disgust': 604,\n",
       " 'wow': 605,\n",
       " 'empti': 606,\n",
       " 'hilari': 607,\n",
       " 'main': 608,\n",
       " 'histori': 609,\n",
       " 'talent': 610,\n",
       " 'lead': 611,\n",
       " 'ladi': 612,\n",
       " 'sat': 613,\n",
       " 'annoy': 614,\n",
       " 'terrif': 615,\n",
       " 'trip': 616,\n",
       " 'rent': 617,\n",
       " 'handl': 618,\n",
       " 'fish': 619,\n",
       " 'treat': 620,\n",
       " 'emot': 621,\n",
       " 'silent': 622,\n",
       " 'hitchcock': 623,\n",
       " 'danc': 624,\n",
       " 'master': 625,\n",
       " 'sens': 626,\n",
       " 'visual': 627,\n",
       " 'actress': 628,\n",
       " 'water': 629,\n",
       " 'memor': 630,\n",
       " 'sweet': 631,\n",
       " 'dri': 632,\n",
       " 'throughout': 633,\n",
       " 'roll': 634,\n",
       " 'season': 635,\n",
       " 'establish': 636,\n",
       " 'unbeliev': 637,\n",
       " 'your': 638,\n",
       " 'mouth': 639,\n",
       " 'damn': 640,\n",
       " 'pho': 641,\n",
       " 'taco': 642,\n",
       " 'warm': 643,\n",
       " 'shrimp': 644,\n",
       " 'pasta': 645,\n",
       " 'ice': 646,\n",
       " 'convers': 647,\n",
       " 'razr': 648,\n",
       " 'blue': 649,\n",
       " 'websit': 650,\n",
       " 'instruct': 651,\n",
       " 'complaint': 652,\n",
       " 'support': 653,\n",
       " 'bargain': 654,\n",
       " 'decis': 655,\n",
       " 'leather': 656,\n",
       " 'realiz': 657,\n",
       " 'stuff': 658,\n",
       " 'tremend': 659,\n",
       " 'forev': 660,\n",
       " 'tool': 661,\n",
       " 'share': 662,\n",
       " 'graphic': 663,\n",
       " 'thank': 664,\n",
       " 'tip': 665,\n",
       " 'ring': 666,\n",
       " 'youll': 667,\n",
       " 'form': 668,\n",
       " 'anyway': 669,\n",
       " 'issu': 670,\n",
       " 'favorit': 671,\n",
       " 'smell': 672,\n",
       " 'drain': 673,\n",
       " 'rip': 674,\n",
       " 'practic': 675,\n",
       " 'sit': 676,\n",
       " 'belt': 677,\n",
       " 'angel': 678,\n",
       " 'save': 679,\n",
       " 'data': 680,\n",
       " 'along': 681,\n",
       " 'youd': 682,\n",
       " 'goe': 683,\n",
       " 'clariti': 684,\n",
       " 'warn': 685,\n",
       " 'wish': 686,\n",
       " 'size': 687,\n",
       " 'memori': 688,\n",
       " 'comput': 689,\n",
       " 'abil': 690,\n",
       " 'palm': 691,\n",
       " 'carri': 692,\n",
       " 'access': 693,\n",
       " 'trash': 694,\n",
       " 'pain': 695,\n",
       " 'samsung': 696,\n",
       " 'genuin': 697,\n",
       " 'power': 698,\n",
       " 'etc': 699,\n",
       " 'thumb': 700,\n",
       " 'dirti': 701,\n",
       " 'havent': 702,\n",
       " 'utterli': 703,\n",
       " 'ok': 704,\n",
       " 'audienc': 705,\n",
       " 'head': 706,\n",
       " 'budget': 707,\n",
       " 'th': 708,\n",
       " 'pure': 709,\n",
       " 'lame': 710,\n",
       " 'moment': 711,\n",
       " 'anim': 712,\n",
       " 'convinc': 713,\n",
       " 'tom': 714,\n",
       " 'often': 715,\n",
       " 'gross': 716,\n",
       " 'arent': 717,\n",
       " 'occasion': 718,\n",
       " 'relat': 719,\n",
       " 'cult': 720,\n",
       " 'cartoon': 721,\n",
       " 'present': 722,\n",
       " 'tortur': 723,\n",
       " 'thriller': 724,\n",
       " 'pathet': 725,\n",
       " 'plain': 726,\n",
       " 'soundtrack': 727,\n",
       " 'spoiler': 728,\n",
       " 'child': 729,\n",
       " 'judg': 730,\n",
       " 'list': 731,\n",
       " 'dog': 732,\n",
       " 'particularli': 733,\n",
       " 'documentari': 734,\n",
       " 'prepar': 735,\n",
       " 'rice': 736,\n",
       " 'sad': 737,\n",
       " 'visit': 738,\n",
       " 'beef': 739,\n",
       " 'seafood': 740,\n",
       " 'tasteless': 741,\n",
       " 'wine': 742,\n",
       " 'thai': 743,\n",
       " 'eaten': 744,\n",
       " 'bathroom': 745,\n",
       " 'decor': 746,\n",
       " 'bacon': 747,\n",
       " 'bread': 748,\n",
       " 'egg': 749,\n",
       " 'soup': 750,\n",
       " 'anytim': 751,\n",
       " 'mic': 752,\n",
       " 'notic': 753,\n",
       " 'advis': 754,\n",
       " 'pocket': 755,\n",
       " 'pc': 756,\n",
       " 'min': 757,\n",
       " 'worthless': 758,\n",
       " 'keyboard': 759,\n",
       " 'angl': 760,\n",
       " 'clearli': 761,\n",
       " 'lock': 762,\n",
       " 'situat': 763,\n",
       " 'fairli': 764,\n",
       " 'troubl': 765,\n",
       " 'station': 766,\n",
       " 'packag': 767,\n",
       " 'boy': 768,\n",
       " 'toast': 769,\n",
       " 'bt': 770,\n",
       " 'earbud': 771,\n",
       " 'experienc': 772,\n",
       " 'descript': 773,\n",
       " 'wire': 774,\n",
       " 'messag': 775,\n",
       " 'previou': 776,\n",
       " 'build': 777,\n",
       " 'commun': 778,\n",
       " 'maintain': 779,\n",
       " 'network': 780,\n",
       " 'late': 781,\n",
       " 'nois': 782,\n",
       " 'nearli': 783,\n",
       " 'learn': 784,\n",
       " 'abl': 785,\n",
       " 'lightweight': 786,\n",
       " 'hair': 787,\n",
       " 'market': 788,\n",
       " 'cute': 789,\n",
       " 'type': 790,\n",
       " 'aspect': 791,\n",
       " 'unreli': 792,\n",
       " 'seller': 793,\n",
       " 'plantron': 794,\n",
       " 'ador': 795,\n",
       " 'scratch': 796,\n",
       " 'strip': 797,\n",
       " 'complain': 798,\n",
       " 'lg': 799,\n",
       " 'gotten': 800,\n",
       " 'immedi': 801,\n",
       " 'easier': 802,\n",
       " 'appeal': 803,\n",
       " 'improv': 804,\n",
       " 'finish': 805,\n",
       " 'happier': 806,\n",
       " 'oper': 807,\n",
       " 'weird': 808,\n",
       " 'expens': 809,\n",
       " 'tmobil': 810,\n",
       " 'bill': 811,\n",
       " 'regret': 812,\n",
       " 'exchang': 813,\n",
       " 'ad': 814,\n",
       " 'earlier': 815,\n",
       " 'laugh': 816,\n",
       " 'rington': 817,\n",
       " 'due': 818,\n",
       " 'adapt': 819,\n",
       " 'effort': 820,\n",
       " 'develop': 821,\n",
       " 'killer': 822,\n",
       " 'treo': 823,\n",
       " 'normal': 824,\n",
       " 'apart': 825,\n",
       " 'comment': 826,\n",
       " 'red': 827,\n",
       " 'industri': 828,\n",
       " 'third': 829,\n",
       " 'balanc': 830,\n",
       " 'readi': 831,\n",
       " 'chines': 832,\n",
       " 'explain': 833,\n",
       " 'crisp': 834,\n",
       " 'video': 835,\n",
       " 'outlet': 836,\n",
       " 'pass': 837,\n",
       " 'sign': 838,\n",
       " 'somewhat': 839,\n",
       " 'son': 840,\n",
       " 'date': 841,\n",
       " 'five': 842,\n",
       " 'wind': 843,\n",
       " 'ye': 844,\n",
       " 'beep': 845,\n",
       " 'sister': 846,\n",
       " 'lose': 847,\n",
       " 'loos': 848,\n",
       " 'control': 849,\n",
       " 'christma': 850,\n",
       " 'neg': 851,\n",
       " 'young': 852,\n",
       " 'flat': 853,\n",
       " 'speak': 854,\n",
       " 'babi': 855,\n",
       " 'tale': 856,\n",
       " 'greatest': 857,\n",
       " 'gem': 858,\n",
       " 'filmmak': 859,\n",
       " 'true': 860,\n",
       " 'masterpiec': 861,\n",
       " 'fill': 862,\n",
       " 'massiv': 863,\n",
       " 'ann': 864,\n",
       " 'children': 865,\n",
       " 'honestli': 866,\n",
       " 'energi': 867,\n",
       " 'dialog': 868,\n",
       " 'pretenti': 869,\n",
       " 'polit': 870,\n",
       " 'paper': 871,\n",
       " 'episod': 872,\n",
       " 'murder': 873,\n",
       " 'chemistri': 874,\n",
       " 'fear': 875,\n",
       " 'theme': 876,\n",
       " 'depth': 877,\n",
       " 'view': 878,\n",
       " 'redeem': 879,\n",
       " 'paid': 880,\n",
       " 'crazi': 881,\n",
       " 'storylin': 882,\n",
       " 'gone': 883,\n",
       " 'dislik': 884,\n",
       " 'identifi': 885,\n",
       " 'alreadi': 886,\n",
       " 'camerawork': 887,\n",
       " 'pleasant': 888,\n",
       " 'premis': 889,\n",
       " 'step': 890,\n",
       " 'suffer': 891,\n",
       " 'age': 892,\n",
       " 'ray': 893,\n",
       " 'charl': 894,\n",
       " 'daughter': 895,\n",
       " 'rememb': 896,\n",
       " 'sing': 897,\n",
       " 'kill': 898,\n",
       " 'fascin': 899,\n",
       " 'fx': 900,\n",
       " 'releas': 901,\n",
       " 'mexican': 902,\n",
       " 'inde': 903,\n",
       " 'thoroughli': 904,\n",
       " 'theater': 905,\n",
       " 'wrap': 906,\n",
       " 'vomit': 907,\n",
       " 'natur': 908,\n",
       " 'nut': 909,\n",
       " 'relationship': 910,\n",
       " 'he': 911,\n",
       " 'writer': 912,\n",
       " 'scare': 913,\n",
       " 'toward': 914,\n",
       " 'drago': 915,\n",
       " 'excus': 916,\n",
       " 'god': 917,\n",
       " 'american': 918,\n",
       " 'decid': 919,\n",
       " 'death': 920,\n",
       " 'space': 921,\n",
       " 'conclus': 922,\n",
       " 'ten': 923,\n",
       " 'seriou': 924,\n",
       " 'mickey': 925,\n",
       " 'crowd': 926,\n",
       " 'credit': 927,\n",
       " 'vibe': 928,\n",
       " 'dark': 929,\n",
       " 'honest': 930,\n",
       " 'suggest': 931,\n",
       " 'nasti': 932,\n",
       " 'heard': 933,\n",
       " 'italian': 934,\n",
       " 'highlight': 935,\n",
       " 'belli': 936,\n",
       " 'appreci': 937,\n",
       " 'spend': 938,\n",
       " 'puppet': 939,\n",
       " 'dream': 940,\n",
       " 'salmon': 941,\n",
       " 'bite': 942,\n",
       " 'melt': 943,\n",
       " 'dress': 944,\n",
       " 'husband': 945,\n",
       " 'grill': 946,\n",
       " 'roast': 947,\n",
       " 'yummi': 948,\n",
       " 'pork': 949,\n",
       " 'cream': 950,\n",
       " 'bay': 951,\n",
       " 'phoenix': 952,\n",
       " 'wing': 953,\n",
       " 'folk': 954,\n",
       " 'chef': 955,\n",
       " 'tea': 956,\n",
       " 'veget': 957,\n",
       " 'green': 958,\n",
       " 'bean': 959,\n",
       " 'jawbon': 960,\n",
       " 'dozen': 961,\n",
       " 'needless': 962,\n",
       " 'static': 963,\n",
       " 'odd': 964,\n",
       " 'fire': 965,\n",
       " 'mother': 966,\n",
       " 'combin': 967,\n",
       " 'speed': 968,\n",
       " 'mp': 969,\n",
       " 'gon': 970,\n",
       " 'na': 971,\n",
       " 'machin': 972,\n",
       " 'gadget': 973,\n",
       " 'glass': 974,\n",
       " 'ipod': 975,\n",
       " 'quiet': 976,\n",
       " 'load': 977,\n",
       " 'eas': 978,\n",
       " 'listen': 979,\n",
       " 'integr': 980,\n",
       " 'bewar': 981,\n",
       " 'supposedli': 982,\n",
       " 'match': 983,\n",
       " 'rel': 984,\n",
       " 'display': 985,\n",
       " 'keypad': 986,\n",
       " 'setup': 987,\n",
       " 'coverag': 988,\n",
       " 'state': 989,\n",
       " 'sharp': 990,\n",
       " 'buck': 991,\n",
       " 'strang': 992,\n",
       " 'dollar': 993,\n",
       " 'soni': 994,\n",
       " 'excit': 995,\n",
       " 'secur': 996,\n",
       " 'unbear': 997,\n",
       " 'scari': 998,\n",
       " 'instal': 999,\n",
       " 'attack': 1000,\n",
       " ...}"
      ]
     },
     "execution_count": 35,
     "metadata": {},
     "output_type": "execute_result"
    }
   ],
   "source": [
    "word_index=tokenize.word_index\n",
    "word_index"
   ]
  },
  {
   "cell_type": "markdown",
   "id": "fa10f498-6feb-4f22-9ded-f7074617528a",
   "metadata": {},
   "source": [
    "#### splitting the data"
   ]
  },
  {
   "cell_type": "code",
   "execution_count": 36,
   "id": "5d6b627e-6bc5-4a6c-a15e-da1d7f1a0a45",
   "metadata": {},
   "outputs": [
    {
     "name": "stdout",
     "output_type": "stream",
     "text": [
      "The shape of the training sets are (2198,) for X and (2198,) for y\n",
      "The shape of the validation sets are (275,) for X and (275,) for y\n",
      "The shape of the testing sets are (275,) for X and (275,) for y\n"
     ]
    }
   ],
   "source": [
    "#split data into 70% train, 15% test, and 15% validation\n",
    "X=df['review']\n",
    "y=df['sentiment']\n",
    "X_train, X_test, y_train, y_test = train_test_split (X, y, test_size=0.20, random_state =42)\n",
    "#adding validation split\n",
    "X_test, X_valid, y_test, y_valid = train_test_split(X_test, y_test, test_size=0.50, random_state=42)\n",
    "print(f'The shape of the training sets are {X_train.shape} for X and {y_train.shape} for y')\n",
    "print(f'The shape of the validation sets are {X_valid.shape} for X and {y_valid.shape} for y')\n",
    "print(f'The shape of the testing sets are {X_test.shape} for X and {y_test.shape} for y')"
   ]
  },
  {
   "cell_type": "markdown",
   "id": "ec8a46a9-dc3a-42ac-9ca9-5e1b97ccbb5b",
   "metadata": {},
   "source": [
    "### B3. Padding Processc\n",
    "After my data was split into the train, test, and validation sets, I then padded the sequences so they were all the same size. I chose to pad at the end of the existing integers so 0s would be used to fill in the rest so all sequences had a length of 100 tokens, which is the maximum sequence length that I set (TensorFlow, n.d.). After the padding is added, below that I do provide an example of a single padded sequence from X_train_padded, row 90.e\r\n"
   ]
  },
  {
   "cell_type": "code",
   "execution_count": 37,
   "id": "dac952ff-e2ec-458b-bdfb-8848cc83f4ca",
   "metadata": {},
   "outputs": [
    {
     "name": "stdout",
     "output_type": "stream",
     "text": [
      "Padded training data shape: (2198, 100)\n",
      "Padded validation data shape: (275, 100)\n",
      "Padded testing data shape: (275, 100)\n"
     ]
    }
   ],
   "source": [
    "max_sequence_length = 100\n",
    "X_train_padded=pad_sequences(X_train, maxlen=max_sequence_length, padding='post')\n",
    "X_valid_padded=pad_sequences(X_valid, maxlen=max_sequence_length, padding='post')\n",
    "X_test_padded=pad_sequences(X_test, maxlen=max_sequence_length, padding='post')\n",
    "print(f\"Padded training data shape: {X_train_padded.shape}\")\n",
    "print(f\"Padded validation data shape: {X_valid_padded.shape}\")\n",
    "print(f\"Padded testing data shape: {X_test_padded.shape}\")"
   ]
  },
  {
   "cell_type": "markdown",
   "id": "027c3a08-6355-485b-b4b6-b749eeee4da8",
   "metadata": {},
   "source": [
    "##### example of a single padded sequence:"
   ]
  },
  {
   "cell_type": "code",
   "execution_count": 38,
   "id": "b7cd0b6d-d6cf-4434-b8de-62907113bd9b",
   "metadata": {},
   "outputs": [
    {
     "data": {
      "text/plain": [
       "array([ 103,   10, 1888, 1889,    1,   10,    0,    0,    0,    0,    0,\n",
       "          0,    0,    0,    0,    0,    0,    0,    0,    0,    0,    0,\n",
       "          0,    0,    0,    0,    0,    0,    0,    0,    0,    0,    0,\n",
       "          0,    0,    0,    0,    0,    0,    0,    0,    0,    0,    0,\n",
       "          0,    0,    0,    0,    0,    0,    0,    0,    0,    0,    0,\n",
       "          0,    0,    0,    0,    0,    0,    0,    0,    0,    0,    0,\n",
       "          0,    0,    0,    0,    0,    0,    0,    0,    0,    0,    0,\n",
       "          0,    0,    0,    0,    0,    0,    0,    0,    0,    0,    0,\n",
       "          0,    0,    0,    0,    0,    0,    0,    0,    0,    0,    0,\n",
       "          0])"
      ]
     },
     "execution_count": 38,
     "metadata": {},
     "output_type": "execute_result"
    }
   ],
   "source": [
    "X_train_padded[99]"
   ]
  },
  {
   "cell_type": "markdown",
   "id": "1e8090cf-6677-49fd-bbb6-d576262bbec7",
   "metadata": {},
   "source": [
    "##### Visualizing the split sets"
   ]
  },
  {
   "cell_type": "code",
   "execution_count": 39,
   "id": "770473ff-7320-4c63-9be6-922ff15ca3e0",
   "metadata": {},
   "outputs": [
    {
     "data": {
      "text/plain": [
       "array([[  35,  123, 3382, ...,    0,    0,    0],\n",
       "       [  49,  269,  798, ...,    0,    0,    0],\n",
       "       [ 138, 2484,    0, ...,    0,    0,    0],\n",
       "       ...,\n",
       "       [  27,    3,   51, ...,    0,    0,    0],\n",
       "       [   5,    4,   15, ...,    0,    0,    0],\n",
       "       [ 120,   11,  127, ...,    0,    0,    0]])"
      ]
     },
     "execution_count": 39,
     "metadata": {},
     "output_type": "execute_result"
    }
   ],
   "source": [
    "X_train_padded"
   ]
  },
  {
   "cell_type": "code",
   "execution_count": 40,
   "id": "f915c752-b919-4c01-b01e-f4a15dde7623",
   "metadata": {},
   "outputs": [
    {
     "data": {
      "text/plain": [
       "array([[   3,   18,  357, ...,    0,    0,    0],\n",
       "       [2827,    1, 1086, ...,    0,    0,    0],\n",
       "       [ 138,   31,  259, ...,    0,    0,    0],\n",
       "       ...,\n",
       "       [ 418,  608, 1225, ...,    0,    0,    0],\n",
       "       [1198,  223, 4022, ...,    0,    0,    0],\n",
       "       [ 314,   15,   23, ...,    0,    0,    0]])"
      ]
     },
     "execution_count": 40,
     "metadata": {},
     "output_type": "execute_result"
    }
   ],
   "source": [
    "X_test_padded"
   ]
  },
  {
   "cell_type": "code",
   "execution_count": 41,
   "id": "e9378642-4eb3-49d7-91a8-518180747898",
   "metadata": {},
   "outputs": [
    {
     "data": {
      "text/plain": [
       "array([[ 290,   23,   72, ...,    0,    0,    0],\n",
       "       [ 500,    7,    3, ...,    0,    0,    0],\n",
       "       [  13,  329, 1730, ...,    0,    0,    0],\n",
       "       ...,\n",
       "       [   8,   67,    6, ...,    0,    0,    0],\n",
       "       [ 195, 1249,    0, ...,    0,    0,    0],\n",
       "       [1660,  838, 1697, ...,    0,    0,    0]])"
      ]
     },
     "execution_count": 41,
     "metadata": {},
     "output_type": "execute_result"
    }
   ],
   "source": [
    "X_valid_padded"
   ]
  },
  {
   "cell_type": "code",
   "execution_count": 42,
   "id": "e93801db-0bb2-4818-bacd-b43f70c92d2d",
   "metadata": {},
   "outputs": [
    {
     "data": {
      "text/plain": [
       "1670    0\n",
       "2487    1\n",
       "1124    0\n",
       "2480    1\n",
       "480     1\n",
       "       ..\n",
       "1638    0\n",
       "1095    0\n",
       "1130    1\n",
       "1294    1\n",
       "860     0\n",
       "Name: sentiment, Length: 2198, dtype: int64"
      ]
     },
     "execution_count": 42,
     "metadata": {},
     "output_type": "execute_result"
    }
   ],
   "source": [
    "y_train"
   ]
  },
  {
   "cell_type": "code",
   "execution_count": 43,
   "id": "729ee8ce-227b-4477-9518-4f702d60a58d",
   "metadata": {},
   "outputs": [
    {
     "data": {
      "text/plain": [
       "259     1\n",
       "1289    1\n",
       "411     1\n",
       "567     1\n",
       "557     1\n",
       "       ..\n",
       "847     0\n",
       "1833    1\n",
       "2541    1\n",
       "2666    0\n",
       "2457    0\n",
       "Name: sentiment, Length: 275, dtype: int64"
      ]
     },
     "execution_count": 43,
     "metadata": {},
     "output_type": "execute_result"
    }
   ],
   "source": [
    "y_test"
   ]
  },
  {
   "cell_type": "code",
   "execution_count": 44,
   "id": "6f488161-07cf-4d86-ad32-b2f1d033c063",
   "metadata": {},
   "outputs": [
    {
     "data": {
      "text/plain": [
       "1283    0\n",
       "175     1\n",
       "2539    0\n",
       "80      1\n",
       "2132    0\n",
       "       ..\n",
       "2234    1\n",
       "1987    1\n",
       "1642    0\n",
       "430     1\n",
       "1763    0\n",
       "Name: sentiment, Length: 275, dtype: int64"
      ]
     },
     "execution_count": 44,
     "metadata": {},
     "output_type": "execute_result"
    }
   ],
   "source": [
    "y_valid"
   ]
  },
  {
   "cell_type": "markdown",
   "id": "210368da-9bed-475b-ae92-c7b5102140ee",
   "metadata": {},
   "source": [
    "### B4. Categories of Sentiment\n",
    "\n",
    "The categories of sentiment are made up of only 0s and 1s, where 0 is a negative review and 1 is a positive review.\r\n",
    "I will use the sigmoid activation function for the final dense layer of the RNN as it is well-suited for binary classification, which we confirmed our categories of sentiment are (Geeks for Geeks, n.d.).1."
   ]
  },
  {
   "cell_type": "code",
   "execution_count": 45,
   "id": "892cd24f-c2c1-4592-b066-636149ecab99",
   "metadata": {},
   "outputs": [
    {
     "name": "stdout",
     "output_type": "stream",
     "text": [
      "sentiment categories [0 1]\n"
     ]
    }
   ],
   "source": [
    "sentiment_categories=df['sentiment'].unique()\n",
    "print('sentiment categories', sentiment_categories)"
   ]
  },
  {
   "cell_type": "code",
   "execution_count": 46,
   "id": "9c13f22c-73fd-498d-9482-89d51ddbf9a2",
   "metadata": {},
   "outputs": [
    {
     "data": {
      "image/png": "[encoded data removed]",
      "text/plain": [
       "<Figure size 640x480 with 1 Axes>"
      ]
     },
     "metadata": {},
     "output_type": "display_data"
    }
   ],
   "source": [
    "sns.countplot(x='sentiment', data=df)\n",
    "plt.title('Sentiment Categories')\n",
    "plt.show()"
   ]
  },
  {
   "cell_type": "markdown",
   "id": "a5ab62a4-d895-42c7-a8de-b06c3bddf64d",
   "metadata": {},
   "source": [
    "### B5. Steps to Prepare the Data\n",
    "\n",
    "To prepare the data to create a neural network model, I first used the Anaconda Powershell to import TensorFlow so I could use import it into my Jupyter Notebook.  Once that was complete, I imported the packages I would use in my analysis.  The packages included pandas, numpy, matplotlib, seaborn, sklearn, re, tensorflow, keras, NLTK, cleantext and emoji.  I also had to download files such as stopwords for some of teh code to run.\n",
    "\n",
    "I checked my TensorFlow and Python versions to make sure they were compatible.\n",
    "\n",
    "Next, loaded the datasets into my IDE.  Luckily, the datasets were all similar in that they had an index column, a review column that held the text of the reviews left by customers, and a rating column made up of 0s and 1s, where 0s were negative reviews and 1s were positive.  This made it easy to combine the 3 documents into one DataFrame I called df to simplify my preparation and analysis.\n",
    "\n",
    "I changed the rating column to sentiment, as that seemed to be a popular term in the provided course materials, and checked for duplicates and nulls.  After exploring the data, I used str.lower() to make all the review text lowercase, I removed punctuation, numeric, special, and emoji characters, added stop words and stemmed the remaining text.  \n",
    "\n",
    "Then I tokenized the data to assign each word as an integer, split the data into train, test and validation sets, where the train set was an industry accepted 80% and the test set was the remaining 20%. I then added a validation set that split the test set in half, so the resulting test and validation sets were each 10% of the data.\n",
    "\n",
    "After the data was split into the 3 sets, I then padded the resulting sequences with 0s added to the end for a maximum length of 100 to ensure the sequences were all the same length."
   ]
  },
  {
   "cell_type": "markdown",
   "id": "a2864963-220c-40f1-963e-716284632b8c",
   "metadata": {},
   "source": [
    "### B6. Prepared Data Set\n",
    "\n",
    "Please see the attached CSV files of my prepared data sets. The CSV titled cleancombined is the prepared dataset that combines all 3 txt files that were imported. The CSV files titled X_trained_padded, X_test_padded, y_train, y_test, X_valid_padded, and y_valid are the split and padded data sets that will be used in training, testing, and validating my model."
   ]
  },
  {
   "cell_type": "code",
   "execution_count": 47,
   "id": "380545b9-bf7d-4a62-8966-faf6be028ddc",
   "metadata": {},
   "outputs": [],
   "source": [
    "#save prepared data set to CSV\n",
    "df.to_csv('C:/Users/Kmoik WGU/Desktop/D213/cleancombined.csv')"
   ]
  },
  {
   "cell_type": "code",
   "execution_count": 48,
   "id": "f0a9fc17-bc98-4be2-8dce-2c212a52e0a3",
   "metadata": {},
   "outputs": [],
   "source": [
    "#save splt data as dataframe\n",
    "X_train_padded=pd.DataFrame(X_train_padded)\n",
    "X_test_padded=pd.DataFrame(X_test_padded)\n",
    "y_train=pd.DataFrame(y_train)\n",
    "y_test=pd.DataFrame(y_test)\n",
    "X_valid_padded=pd.DataFrame(X_valid_padded)\n",
    "y_valid=pd.DataFrame(y_valid)"
   ]
  },
  {
   "cell_type": "code",
   "execution_count": 49,
   "id": "17e5b5d9-9f08-4f6d-97ea-141c80c01c36",
   "metadata": {},
   "outputs": [],
   "source": [
    "#save split data to CSV\n",
    "X_train_padded.to_csv('C:/Users/Kmoik WGU/Desktop/D213/X_train_padded.csv')\n",
    "X_test_padded.to_csv('C:/Users/Kmoik WGU/Desktop/D213/X_test_padded.csv')\n",
    "y_train.to_csv('C:/Users/Kmoik WGU/Desktop/D213/y_train.csv')\n",
    "y_test.to_csv('C:/Users/Kmoik WGU/Desktop/D213/y_test.csv')\n",
    "X_valid_padded.to_csv('C:/Users/Kmoik WGU/Desktop/D213/X_valid_padded.csv')\n",
    "y_valid.to_csv('C:/Users/Kmoik WGU/Desktop/D213/y_valid.csv')"
   ]
  },
  {
   "cell_type": "markdown",
   "id": "1527d320-9ca3-4b8e-9238-90ccec5a5174",
   "metadata": {},
   "source": [
    "## Part III. Network Architecture"
   ]
  },
  {
   "cell_type": "markdown",
   "id": "09d5d172-1994-40f2-89c4-7bcabe914be7",
   "metadata": {},
   "source": [
    "### C1. Model Summary\n",
    "\n",
    "The output of my TensorFlow model is provided below using the code model.summary() (Western Governors University, n.d.)."
   ]
  },
  {
   "cell_type": "code",
   "execution_count": 50,
   "id": "33268298-d28f-474e-9513-1a41d45a2e60",
   "metadata": {},
   "outputs": [
    {
     "data": {
      "text/html": [
       "<pre style=\"white-space:pre;overflow-x:auto;line-height:normal;font-family:Menlo,'DejaVu Sans Mono',consolas,'Courier New',monospace\"><span style=\"font-weight: bold\">Model: \"sequential\"</span>\n",
       "</pre>\n"
      ],
      "text/plain": [
       "\u001b[1mModel: \"sequential\"\u001b[0m\n"
      ]
     },
     "metadata": {},
     "output_type": "display_data"
    },
    {
     "data": {
      "text/html": [
       "<pre style=\"white-space:pre;overflow-x:auto;line-height:normal;font-family:Menlo,'DejaVu Sans Mono',consolas,'Courier New',monospace\">┏━━━━━━━━━━━━━━━━━━━━━━━━━━━━━━━━━━━━━━┳━━━━━━━━━━━━━━━━━━━━━━━━━━━━━┳━━━━━━━━━━━━━━━━━┓\n",
       "┃<span style=\"font-weight: bold\"> Layer (type)                         </span>┃<span style=\"font-weight: bold\"> Output Shape                </span>┃<span style=\"font-weight: bold\">         Param # </span>┃\n",
       "┡━━━━━━━━━━━━━━━━━━━━━━━━━━━━━━━━━━━━━━╇━━━━━━━━━━━━━━━━━━━━━━━━━━━━━╇━━━━━━━━━━━━━━━━━┩\n",
       "│ embedding (<span style=\"color: #0087ff; text-decoration-color: #0087ff\">Embedding</span>)                │ (<span style=\"color: #00d7ff; text-decoration-color: #00d7ff\">None</span>, <span style=\"color: #00af00; text-decoration-color: #00af00\">100</span>, <span style=\"color: #00af00; text-decoration-color: #00af00\">100</span>)            │         <span style=\"color: #00af00; text-decoration-color: #00af00\">408,000</span> │\n",
       "├──────────────────────────────────────┼─────────────────────────────┼─────────────────┤\n",
       "│ lstm (<span style=\"color: #0087ff; text-decoration-color: #0087ff\">LSTM</span>)                          │ (<span style=\"color: #00d7ff; text-decoration-color: #00d7ff\">None</span>, <span style=\"color: #00af00; text-decoration-color: #00af00\">64</span>)                  │          <span style=\"color: #00af00; text-decoration-color: #00af00\">42,240</span> │\n",
       "├──────────────────────────────────────┼─────────────────────────────┼─────────────────┤\n",
       "│ dropout (<span style=\"color: #0087ff; text-decoration-color: #0087ff\">Dropout</span>)                    │ (<span style=\"color: #00d7ff; text-decoration-color: #00d7ff\">None</span>, <span style=\"color: #00af00; text-decoration-color: #00af00\">64</span>)                  │               <span style=\"color: #00af00; text-decoration-color: #00af00\">0</span> │\n",
       "├──────────────────────────────────────┼─────────────────────────────┼─────────────────┤\n",
       "│ dense (<span style=\"color: #0087ff; text-decoration-color: #0087ff\">Dense</span>)                        │ (<span style=\"color: #00d7ff; text-decoration-color: #00d7ff\">None</span>, <span style=\"color: #00af00; text-decoration-color: #00af00\">1</span>)                   │              <span style=\"color: #00af00; text-decoration-color: #00af00\">65</span> │\n",
       "└──────────────────────────────────────┴─────────────────────────────┴─────────────────┘\n",
       "</pre>\n"
      ],
      "text/plain": [
       "┏━━━━━━━━━━━━━━━━━━━━━━━━━━━━━━━━━━━━━━┳━━━━━━━━━━━━━━━━━━━━━━━━━━━━━┳━━━━━━━━━━━━━━━━━┓\n",
       "┃\u001b[1m \u001b[0m\u001b[1mLayer (type)                        \u001b[0m\u001b[1m \u001b[0m┃\u001b[1m \u001b[0m\u001b[1mOutput Shape               \u001b[0m\u001b[1m \u001b[0m┃\u001b[1m \u001b[0m\u001b[1m        Param #\u001b[0m\u001b[1m \u001b[0m┃\n",
       "┡━━━━━━━━━━━━━━━━━━━━━━━━━━━━━━━━━━━━━━╇━━━━━━━━━━━━━━━━━━━━━━━━━━━━━╇━━━━━━━━━━━━━━━━━┩\n",
       "│ embedding (\u001b[38;5;33mEmbedding\u001b[0m)                │ (\u001b[38;5;45mNone\u001b[0m, \u001b[38;5;34m100\u001b[0m, \u001b[38;5;34m100\u001b[0m)            │         \u001b[38;5;34m408,000\u001b[0m │\n",
       "├──────────────────────────────────────┼─────────────────────────────┼─────────────────┤\n",
       "│ lstm (\u001b[38;5;33mLSTM\u001b[0m)                          │ (\u001b[38;5;45mNone\u001b[0m, \u001b[38;5;34m64\u001b[0m)                  │          \u001b[38;5;34m42,240\u001b[0m │\n",
       "├──────────────────────────────────────┼─────────────────────────────┼─────────────────┤\n",
       "│ dropout (\u001b[38;5;33mDropout\u001b[0m)                    │ (\u001b[38;5;45mNone\u001b[0m, \u001b[38;5;34m64\u001b[0m)                  │               \u001b[38;5;34m0\u001b[0m │\n",
       "├──────────────────────────────────────┼─────────────────────────────┼─────────────────┤\n",
       "│ dense (\u001b[38;5;33mDense\u001b[0m)                        │ (\u001b[38;5;45mNone\u001b[0m, \u001b[38;5;34m1\u001b[0m)                   │              \u001b[38;5;34m65\u001b[0m │\n",
       "└──────────────────────────────────────┴─────────────────────────────┴─────────────────┘\n"
      ]
     },
     "metadata": {},
     "output_type": "display_data"
    },
    {
     "data": {
      "text/html": [
       "<pre style=\"white-space:pre;overflow-x:auto;line-height:normal;font-family:Menlo,'DejaVu Sans Mono',consolas,'Courier New',monospace\"><span style=\"font-weight: bold\"> Total params: </span><span style=\"color: #00af00; text-decoration-color: #00af00\">450,305</span> (1.72 MB)\n",
       "</pre>\n"
      ],
      "text/plain": [
       "\u001b[1m Total params: \u001b[0m\u001b[38;5;34m450,305\u001b[0m (1.72 MB)\n"
      ]
     },
     "metadata": {},
     "output_type": "display_data"
    },
    {
     "data": {
      "text/html": [
       "<pre style=\"white-space:pre;overflow-x:auto;line-height:normal;font-family:Menlo,'DejaVu Sans Mono',consolas,'Courier New',monospace\"><span style=\"font-weight: bold\"> Trainable params: </span><span style=\"color: #00af00; text-decoration-color: #00af00\">450,305</span> (1.72 MB)\n",
       "</pre>\n"
      ],
      "text/plain": [
       "\u001b[1m Trainable params: \u001b[0m\u001b[38;5;34m450,305\u001b[0m (1.72 MB)\n"
      ]
     },
     "metadata": {},
     "output_type": "display_data"
    },
    {
     "data": {
      "text/html": [
       "<pre style=\"white-space:pre;overflow-x:auto;line-height:normal;font-family:Menlo,'DejaVu Sans Mono',consolas,'Courier New',monospace\"><span style=\"font-weight: bold\"> Non-trainable params: </span><span style=\"color: #00af00; text-decoration-color: #00af00\">0</span> (0.00 B)\n",
       "</pre>\n"
      ],
      "text/plain": [
       "\u001b[1m Non-trainable params: \u001b[0m\u001b[38;5;34m0\u001b[0m (0.00 B)\n"
      ]
     },
     "metadata": {},
     "output_type": "display_data"
    }
   ],
   "source": [
    "# Instantiate a sequential model\n",
    "vocab_length=vocab_size\n",
    "model=Sequential()\n",
    "model.add(Embedding(vocab_length, 100, input_shape=(X_train_padded.shape[1],)))\n",
    "model.add(LSTM(64))\n",
    "model.add(Dropout(0.2))\n",
    "model.add(Dense(1, activation='sigmoid'))\n",
    "model.compile(optimizer='adam', loss='binary_crossentropy', metrics=['accuracy'])\n",
    "model.summary()"
   ]
  },
  {
   "cell_type": "code",
   "execution_count": 51,
   "id": "fc5cb2dc-fb38-4f49-9019-84d9900fb644",
   "metadata": {},
   "outputs": [
    {
     "name": "stdout",
     "output_type": "stream",
     "text": [
      "Epoch 1/25\n",
      "\u001b[1m35/35\u001b[0m \u001b[32m━━━━━━━━━━━━━━━━━━━━\u001b[0m\u001b[37m\u001b[0m \u001b[1m4s\u001b[0m 63ms/step - accuracy: 0.4988 - loss: 0.6939 - val_accuracy: 0.4764 - val_loss: 0.6940\n",
      "Epoch 2/25\n",
      "\u001b[1m35/35\u001b[0m \u001b[32m━━━━━━━━━━━━━━━━━━━━\u001b[0m\u001b[37m\u001b[0m \u001b[1m3s\u001b[0m 77ms/step - accuracy: 0.5248 - loss: 0.6929 - val_accuracy: 0.4764 - val_loss: 0.6944\n",
      "Epoch 3/25\n",
      "\u001b[1m35/35\u001b[0m \u001b[32m━━━━━━━━━━━━━━━━━━━━\u001b[0m\u001b[37m\u001b[0m \u001b[1m3s\u001b[0m 75ms/step - accuracy: 0.5158 - loss: 0.6924 - val_accuracy: 0.4764 - val_loss: 0.6946\n",
      "Epoch 4/25\n",
      "\u001b[1m35/35\u001b[0m \u001b[32m━━━━━━━━━━━━━━━━━━━━\u001b[0m\u001b[37m\u001b[0m \u001b[1m3s\u001b[0m 80ms/step - accuracy: 0.5259 - loss: 0.6929 - val_accuracy: 0.5236 - val_loss: 0.6930\n",
      "Epoch 5/25\n",
      "\u001b[1m35/35\u001b[0m \u001b[32m━━━━━━━━━━━━━━━━━━━━\u001b[0m\u001b[37m\u001b[0m \u001b[1m2s\u001b[0m 67ms/step - accuracy: 0.4832 - loss: 0.6937 - val_accuracy: 0.4764 - val_loss: 0.6945\n",
      "Epoch 6/25\n",
      "\u001b[1m35/35\u001b[0m \u001b[32m━━━━━━━━━━━━━━━━━━━━\u001b[0m\u001b[37m\u001b[0m \u001b[1m2s\u001b[0m 69ms/step - accuracy: 0.4779 - loss: 0.6936 - val_accuracy: 0.4764 - val_loss: 0.6942\n",
      "Epoch 7/25\n",
      "\u001b[1m35/35\u001b[0m \u001b[32m━━━━━━━━━━━━━━━━━━━━\u001b[0m\u001b[37m\u001b[0m \u001b[1m2s\u001b[0m 66ms/step - accuracy: 0.5202 - loss: 0.6928 - val_accuracy: 0.4764 - val_loss: 0.6938\n",
      "Epoch 8/25\n",
      "\u001b[1m35/35\u001b[0m \u001b[32m━━━━━━━━━━━━━━━━━━━━\u001b[0m\u001b[37m\u001b[0m \u001b[1m2s\u001b[0m 65ms/step - accuracy: 0.5265 - loss: 0.6927 - val_accuracy: 0.4764 - val_loss: 0.6934\n",
      "Epoch 9/25\n",
      "\u001b[1m35/35\u001b[0m \u001b[32m━━━━━━━━━━━━━━━━━━━━\u001b[0m\u001b[37m\u001b[0m \u001b[1m3s\u001b[0m 73ms/step - accuracy: 0.5185 - loss: 0.6928 - val_accuracy: 0.4764 - val_loss: 0.6944\n",
      "Epoch 10/25\n",
      "\u001b[1m35/35\u001b[0m \u001b[32m━━━━━━━━━━━━━━━━━━━━\u001b[0m\u001b[37m\u001b[0m \u001b[1m2s\u001b[0m 67ms/step - accuracy: 0.4972 - loss: 0.6936 - val_accuracy: 0.4764 - val_loss: 0.6942\n",
      "Epoch 11/25\n",
      "\u001b[1m35/35\u001b[0m \u001b[32m━━━━━━━━━━━━━━━━━━━━\u001b[0m\u001b[37m\u001b[0m \u001b[1m2s\u001b[0m 67ms/step - accuracy: 0.5172 - loss: 0.6927 - val_accuracy: 0.4764 - val_loss: 0.6936\n",
      "Epoch 12/25\n",
      "\u001b[1m35/35\u001b[0m \u001b[32m━━━━━━━━━━━━━━━━━━━━\u001b[0m\u001b[37m\u001b[0m \u001b[1m2s\u001b[0m 67ms/step - accuracy: 0.4957 - loss: 0.6937 - val_accuracy: 0.4764 - val_loss: 0.6945\n",
      "Epoch 13/25\n",
      "\u001b[1m35/35\u001b[0m \u001b[32m━━━━━━━━━━━━━━━━━━━━\u001b[0m\u001b[37m\u001b[0m \u001b[1m2s\u001b[0m 66ms/step - accuracy: 0.5254 - loss: 0.6924 - val_accuracy: 0.4764 - val_loss: 0.6935\n",
      "Epoch 14/25\n",
      "\u001b[1m35/35\u001b[0m \u001b[32m━━━━━━━━━━━━━━━━━━━━\u001b[0m\u001b[37m\u001b[0m \u001b[1m2s\u001b[0m 68ms/step - accuracy: 0.5311 - loss: 0.6925 - val_accuracy: 0.4764 - val_loss: 0.6937\n",
      "Epoch 15/25\n",
      "\u001b[1m35/35\u001b[0m \u001b[32m━━━━━━━━━━━━━━━━━━━━\u001b[0m\u001b[37m\u001b[0m \u001b[1m3s\u001b[0m 71ms/step - accuracy: 0.4801 - loss: 0.6937 - val_accuracy: 0.4764 - val_loss: 0.6941\n",
      "Epoch 16/25\n",
      "\u001b[1m35/35\u001b[0m \u001b[32m━━━━━━━━━━━━━━━━━━━━\u001b[0m\u001b[37m\u001b[0m \u001b[1m2s\u001b[0m 69ms/step - accuracy: 0.5221 - loss: 0.6913 - val_accuracy: 0.4764 - val_loss: 0.6939\n",
      "Epoch 17/25\n",
      "\u001b[1m35/35\u001b[0m \u001b[32m━━━━━━━━━━━━━━━━━━━━\u001b[0m\u001b[37m\u001b[0m \u001b[1m2s\u001b[0m 62ms/step - accuracy: 0.5248 - loss: 0.6925 - val_accuracy: 0.4764 - val_loss: 0.6939\n",
      "Epoch 18/25\n",
      "\u001b[1m35/35\u001b[0m \u001b[32m━━━━━━━━━━━━━━━━━━━━\u001b[0m\u001b[37m\u001b[0m \u001b[1m2s\u001b[0m 62ms/step - accuracy: 0.5277 - loss: 0.6923 - val_accuracy: 0.4764 - val_loss: 0.6937\n",
      "Epoch 19/25\n",
      "\u001b[1m35/35\u001b[0m \u001b[32m━━━━━━━━━━━━━━━━━━━━\u001b[0m\u001b[37m\u001b[0m \u001b[1m2s\u001b[0m 58ms/step - accuracy: 0.5183 - loss: 0.6916 - val_accuracy: 0.4764 - val_loss: 0.6936\n",
      "Epoch 20/25\n",
      "\u001b[1m35/35\u001b[0m \u001b[32m━━━━━━━━━━━━━━━━━━━━\u001b[0m\u001b[37m\u001b[0m \u001b[1m2s\u001b[0m 61ms/step - accuracy: 0.5219 - loss: 0.6919 - val_accuracy: 0.4764 - val_loss: 0.6941\n",
      "Epoch 21/25\n",
      "\u001b[1m35/35\u001b[0m \u001b[32m━━━━━━━━━━━━━━━━━━━━\u001b[0m\u001b[37m\u001b[0m \u001b[1m2s\u001b[0m 57ms/step - accuracy: 0.5132 - loss: 0.6924 - val_accuracy: 0.4764 - val_loss: 0.6939\n",
      "Epoch 22/25\n",
      "\u001b[1m35/35\u001b[0m \u001b[32m━━━━━━━━━━━━━━━━━━━━\u001b[0m\u001b[37m\u001b[0m \u001b[1m3s\u001b[0m 71ms/step - accuracy: 0.5132 - loss: 0.6918 - val_accuracy: 0.4764 - val_loss: 0.6942\n",
      "Epoch 23/25\n",
      "\u001b[1m35/35\u001b[0m \u001b[32m━━━━━━━━━━━━━━━━━━━━\u001b[0m\u001b[37m\u001b[0m \u001b[1m2s\u001b[0m 70ms/step - accuracy: 0.5146 - loss: 0.6920 - val_accuracy: 0.4764 - val_loss: 0.6937\n",
      "Epoch 24/25\n",
      "\u001b[1m35/35\u001b[0m \u001b[32m━━━━━━━━━━━━━━━━━━━━\u001b[0m\u001b[37m\u001b[0m \u001b[1m2s\u001b[0m 59ms/step - accuracy: 0.5174 - loss: 0.6926 - val_accuracy: 0.4764 - val_loss: 0.6943\n",
      "Epoch 25/25\n",
      "\u001b[1m35/35\u001b[0m \u001b[32m━━━━━━━━━━━━━━━━━━━━\u001b[0m\u001b[37m\u001b[0m \u001b[1m2s\u001b[0m 57ms/step - accuracy: 0.4975 - loss: 0.6935 - val_accuracy: 0.4764 - val_loss: 0.6942\n"
     ]
    }
   ],
   "source": [
    "#early stopping\n",
    "early_stopping_monitor=EarlyStopping(patience=3)\n",
    "history=model.fit(X_train_padded, y_train, epochs=25, batch_size=64, validation_data=(X_valid_padded, y_valid))"
   ]
  },
  {
   "cell_type": "markdown",
   "id": "b26c3beb-7505-475c-a68d-78ff3916c2c1",
   "metadata": {},
   "source": [
    "### C2. Network Architecture\n",
    "\n",
    "My model above was a Sequential() model that consisted of 4 layers. The first layer was the Embedding Layer, which converts the input sequences into vectors (Geeks for Geeks, n.d.).. This layer indicates the vocabulary, the embedding dimension, and input shape. This resulted in a total of 408,000 parameters, which made it the largest layer. This was determined by vocab_size 4080 x 100.\n",
    "\n",
    "The next layer was the LSTM layer set to 64 units, meaning it will produce a 64 dimensional output at each step. This resulted in a total of 42,240 parameters, making it the next largest layer. I chose this layer because it is effective in processing sequential data adn can retain a memory over long sequences (Geeks for Geeks, n.d.).\n",
    "\n",
    "The third layer was the Dropout layer, which is applied to the LSTM output to prevent overfitting. The 0.2 indicates that 20% of the selected neurons are randomly ignored during training (Brownlee, 2022). This layer had 0 parameters.\n",
    "\n",
    "The fourth layers was the Dense layer, which is the output layer. The 1 sets the output to a single node with a sigmoid activation, which is good for binary classification. The final output would be a a single value - 0 for negative, 1 for positive (Wisam, Essam, 2022). This layer had a total of 65 parameters."
   ]
  },
  {
   "cell_type": "markdown",
   "id": "4ef75ead-60b5-4ebd-9ed9-544c8b7cbe61",
   "metadata": {},
   "source": [
    "### C3. Hyperparameters\n",
    "\n",
    "The activation function was chosen to be sigmoid since it is good for binary classification.\n",
    "\n",
    "The number of nodes on my embedding layer was 4,080, which is the size of the vocabulary. I did not reduce the vocabulary size as I did not think that the vocabulary was very large for the data set. I did try several models adjusting the number of nodes with no noticeable difference, so I kept it as the vocabulary size to keep it simple in understanding what and why it was.\n",
    "\n",
    "The loss function was set to binary crossentropy as it is well-suited for values between 0 and 1 (Brownlee, 2020).\n",
    "\n",
    "The optimizer was chosen to be adam as it is straightforward, does not need much memory, is good for a high number of parameters, and is adaptive (Brownlee, 2021).\n",
    "\n",
    "The stopping criteria for my model was set to patience=3, which would stop the model from continuing after 3 poor performance epochs (Western Governors University, n.d.).\n",
    "\n",
    "Finally, the evaluation metric for this model was accuracy, which had the model fitted and focus on increasing the accuracy of the train data set.metric\r\n"
   ]
  },
  {
   "cell_type": "markdown",
   "id": "779d6ec2-58fb-45bd-ac91-e928319890d6",
   "metadata": {},
   "source": [
    "## Part IV. Model Evaluation"
   ]
  },
  {
   "cell_type": "markdown",
   "id": "e7e8ad8e-b6b4-4127-98c8-123d0542177c",
   "metadata": {},
   "source": [
    "### D1. Stopping Criteria\n",
    "\n",
    "The final epoch can be seen above - epoch 25 of 25. I set the epoch to run through 25 iterations of the training data as it is experimental and usually around 20-50 for data the size of ours (Western Governors University, n.d.). The patience=3 did not apply so the model was not stopped early and it ran through all 25 iterations it was set to do. Unfortunately, the model was determined to be not very accurate. Epoch 6 was the most accurate with an accuracy of 54%, validation accuracy of just 47%, loss at 69% and accuracy loss at 69%. The range of accuracy in the model was 47-54% accurate with each epoch fluctuating up or down within that range. I did test increasing the epochs and increasing and decreasing the patience number with no real effect on the results. Potentially, I could have run through the entire set but chose not to as I saw no real improvement with increased epochs and did not want to waste the memory or processing of such a large amount."
   ]
  },
  {
   "cell_type": "markdown",
   "id": "7f90d86d-50e7-4236-bc0f-1d034953f782",
   "metadata": {},
   "source": [
    "### D2. Fitness\n",
    "\n",
    "As stated above, the model was determined to be not very accurate. The range of accuracy in the model was 47-54% accurate with each epoch fluctuating up or down within that range, while the loss and validation loss remained around 69%. Evaluating our test set (below) confirms similar accuracy of 50% and loss of 69% (Western Governors University, n.d.). This indicates the model has not learned the data well and is not confident in its predictions. These numbers also suggest possible underfitting. To address this, I did change the train data percentage, increasing and decreasing it with no real effect. Additionally, I tried changing the activation function type and adding layers such as flatten and GlobalAveragePooling1D, without an increase in accuracy. Potentially, more data may also be needed to increase the performance and fit of the model"
   ]
  },
  {
   "cell_type": "code",
   "execution_count": 52,
   "id": "4c2e99bb-ff45-408f-8ae4-93eff0fd8f6c",
   "metadata": {},
   "outputs": [
    {
     "name": "stdout",
     "output_type": "stream",
     "text": [
      "\u001b[1m9/9\u001b[0m \u001b[32m━━━━━━━━━━━━━━━━━━━━\u001b[0m\u001b[37m\u001b[0m \u001b[1m0s\u001b[0m 14ms/step - accuracy: 0.5060 - loss: 0.6933\n"
     ]
    },
    {
     "data": {
      "text/plain": [
       "[0.6961275339126587, 0.4654545485973358]"
      ]
     },
     "execution_count": 52,
     "metadata": {},
     "output_type": "execute_result"
    }
   ],
   "source": [
    "# Evaluate model \n",
    "model.evaluate(X_test_padded, y_test)"
   ]
  },
  {
   "cell_type": "code",
   "execution_count": 53,
   "id": "d791e2b4-c056-49de-b487-144e82587fb7",
   "metadata": {},
   "outputs": [
    {
     "name": "stdout",
     "output_type": "stream",
     "text": [
      "\u001b[1m9/9\u001b[0m \u001b[32m━━━━━━━━━━━━━━━━━━━━\u001b[0m\u001b[37m\u001b[0m \u001b[1m0s\u001b[0m 13ms/step - accuracy: 0.5060 - loss: 0.6933\n",
      "test score: 0.6961275339126587\n",
      "test accuracy: 0.4654545485973358\n"
     ]
    }
   ],
   "source": [
    "#Evaluate the model\n",
    "score=model.evaluate(X_test_padded, y_test, verbose=1)\n",
    "print('test score:', score[0])\n",
    "print('test accuracy:', score[1])"
   ]
  },
  {
   "cell_type": "markdown",
   "id": "9233d6bf-c7e7-41e7-94e0-26f49a69a956",
   "metadata": {},
   "source": [
    "### D3. Training Process\n",
    "\n",
    "The first plot below visualizes and compares teh training accuracy with the validationa accuracy. Clearly they are not an ideal fit as the accuracy of the validation set remained constant while the training accuracy fluctuated quite a bit that involved deep valleys into less accuracy with smaller peaks towards accuracy.\n",
    "\n",
    "Below that is a plot visualizing and comparing the training loss with validation loss. This graph shows a better fit with the two increasing and decreasing together.\n",
    "\n",
    "The third plot compares training loss with training accuracy. The plot is indicative of our results above where accuracy remains low and uncertainty in the predictions remains high.\n",
    "\n",
    "The fourth plot compares the validation loss with validation accuracy with the same results as the 3rd plot - accuracy remains low and uncertainty in the predictions remains high.\n"
   ]
  },
  {
   "cell_type": "code",
   "execution_count": 54,
   "id": "405f9d7e-bec0-4867-a60a-ae26ed49737e",
   "metadata": {},
   "outputs": [
    {
     "data": {
      "image/png": "[encoded data removed]",
      "text/plain": [
       "<Figure size 640x480 with 1 Axes>"
      ]
     },
     "metadata": {},
     "output_type": "display_data"
    }
   ],
   "source": [
    "#Visualize training and validation accuracy\n",
    "plt.plot(history.history['accuracy'], label='Training Accuracy')\n",
    "plt.plot(history.history['val_accuracy'], label='Validation Accuracy')\n",
    "plt.title('Model Accuracy')\n",
    "plt.ylabel('Accuracy')\n",
    "plt.xlabel('epoch')\n",
    "plt.legend(loc='upper right')\n",
    "plt.show()"
   ]
  },
  {
   "cell_type": "code",
   "execution_count": 55,
   "id": "d879f9e9-920a-4c35-9dd2-2ae0a2309489",
   "metadata": {},
   "outputs": [
    {
     "data": {
      "image/png": "[encoded data removed]",
      "text/plain": [
       "<Figure size 640x480 with 1 Axes>"
      ]
     },
     "metadata": {},
     "output_type": "display_data"
    }
   ],
   "source": [
    "#Visualize training loss with validation loss\n",
    "plt.plot(history.history['loss'], label='Training Loss')\n",
    "plt.plot(history.history['val_loss'], label='Validation Loss')\n",
    "plt.title('Model Loss')\n",
    "plt.xlabel('Epoch')\n",
    "plt.ylabel('Loss')\n",
    "plt.legend()\n",
    "plt.show()"
   ]
  },
  {
   "cell_type": "code",
   "execution_count": 56,
   "id": "a38df4df-e4be-4c89-a0e3-9f057b47cc88",
   "metadata": {},
   "outputs": [
    {
     "data": {
      "image/png": "[encoded data removed]",
      "text/plain": [
       "<Figure size 640x480 with 1 Axes>"
      ]
     },
     "metadata": {},
     "output_type": "display_data"
    }
   ],
   "source": [
    "#Visualize training loss vs training accuracy\n",
    "plt.subplot(2,1,1)\n",
    "plt.plot(history.history['loss'], label='Training Loss')\n",
    "plt.plot(history.history['accuracy'], label='Training Accuracy')\n",
    "plt.title('Training Data - loss & accuracy')\n",
    "plt.xlabel('epochs')\n",
    "plt.legend()\n",
    "plt.show()"
   ]
  },
  {
   "cell_type": "code",
   "execution_count": 57,
   "id": "9a1c835f-7035-4d0a-9891-acd8db6f60f0",
   "metadata": {},
   "outputs": [
    {
     "data": {
      "text/plain": [
       "<function matplotlib.pyplot.show(close=None, block=None)>"
      ]
     },
     "execution_count": 57,
     "metadata": {},
     "output_type": "execute_result"
    },
    {
     "data": {
      "image/png": "[encoded data removed]",
      "text/plain": [
       "<Figure size 640x480 with 1 Axes>"
      ]
     },
     "metadata": {},
     "output_type": "display_data"
    }
   ],
   "source": [
    "#visualize validation loss vs validation accuracy\n",
    "plt.plot(history.history['val_loss'], label='Validation Loss')\n",
    "plt.plot(history.history['val_accuracy'], label='Validation Accuracy')\n",
    "plt.title('Validation Data - loss & accuracy')\n",
    "plt.xlabel('epochs')\n",
    "plt.legend()\n",
    "plt.show"
   ]
  },
  {
   "cell_type": "markdown",
   "id": "97d80a7a-76d6-4dc2-8368-1f3e2488d914",
   "metadata": {},
   "source": [
    "### D4. Predictive Accuracy\n",
    "\n",
    "The trained predictive accuracy is shown in the code below (Western Governors University, n.d.). I obtained one positive and one negative review from the data sets that were imported above and attempted to predict whether it was a positive or negative review. The model determined both were positive with a 51% probability. While one was in fact positive, the model was only 50% accurate, as the model thought the negative review was also positive. This is inline with what was determined above."
   ]
  },
  {
   "cell_type": "code",
   "execution_count": null,
   "id": "5004fe02-5c2d-4dd5-9c76-90516e40bd81",
   "metadata": {},
   "outputs": [],
   "source": [
    "predictions=model.predict(X_test_padded)\n",
    "binary_predictions=(predictions > 0.5).astype(int)"
   ]
  },
  {
   "cell_type": "code",
   "execution_count": null,
   "id": "01d9f3ce-9fe4-4725-bf2e-801c451bace8",
   "metadata": {},
   "outputs": [],
   "source": [
    "def predict_sentiment(review):\n",
    "    tw = tokenizer.texts_to_sequences([review])\n",
    "    tw = pad_sequences(tw, maxlen=200)\n",
    "    prediction = model.predict(tw)\n",
    "    if prediction > 0.5:\n",
    "        print(f\"Predicted label: Positive (Probability: {prediction[0][0]})\")\n",
    "    else:\n",
    "        print(f\"Predicted label: Negative (Probability: {1 - prediction[0][0]})\")\n",
    "\n",
    "test_sentence1 = \"I bought this to use with my Kindle Fire and absolutely loved it!\"\n",
    "predict_sentiment(test_sentence1)\n",
    "\n",
    "test_sentence2 = \"I only hear garbage for audio.\"\n",
    "predict_sentiment(test_sentence2)"
   ]
  },
  {
   "cell_type": "markdown",
   "id": "45343ff3-30b4-4327-b5c8-90be61cf25df",
   "metadata": {},
   "source": [
    "## Part V. Summary and Recommendations"
   ]
  },
  {
   "cell_type": "markdown",
   "id": "4ae4017e-0e92-4928-8571-1c3c7e3e880a",
   "metadata": {},
   "source": [
    "### E. Code\n",
    "\n",
    "The full code used is provided above.\n",
    "\n",
    "This model was saved with the code below (Western Governors University, n.d.):"
   ]
  },
  {
   "cell_type": "code",
   "execution_count": null,
   "id": "c992efa9-74a9-4afa-b642-eb4e74b25641",
   "metadata": {},
   "outputs": [],
   "source": [
    "#saving the model\n",
    "model.save('D213_model.keras')"
   ]
  },
  {
   "cell_type": "markdown",
   "id": "d3d20bd1-c1cf-44f6-ae9e-9386b8d8d8d8",
   "metadata": {},
   "source": [
    "### F. Functionality\n",
    "\n",
    "**Discuss the functionality of your neural network, including the impact of the network architecture.**\n",
    "\n",
    "My model is essentially not function as it was only about 50% accurate in its predictions. Ideally, such a model would be closer to at least 70% accurate and with a confidence rate much lower than what it currently is, with the loss percentage being around 69%.\n",
    "\n",
    "The network architecture is fairly simple in its current iterations. Attempts at building a more complex model to increase accuracy did not work, but that does not mean that is not a potential solution.\n",
    "\n",
    "Ultimately, I was able to build an RNN model using LSTM that could perform sentiment analysis to determine if reviews were positive or negative, however, there ultimately needs to be more data or perhaps other tweaks to make this model more accurate and thus more useful."
   ]
  },
  {
   "cell_type": "markdown",
   "id": "c01b1eda-1584-434c-8266-b2834aeb0cca",
   "metadata": {},
   "source": [
    "### G. Recommendations\n",
    "\n",
    "Based on my model that was essentially only correct 50% of the time, I would recommend increasing the amount of data/reviews to help increase its learning potential and thus accuracy. I would look in to altering the stop words that were removed or kept, perhaps forgoing stemming or lemmatization, and then researching additional layers to add to my model that might be better suited for sentiment analysis."
   ]
  },
  {
   "cell_type": "markdown",
   "id": "53cb44e4-5a34-4757-9394-5038d89b08a9",
   "metadata": {},
   "source": [
    "## Part VI. Reporting"
   ]
  },
  {
   "cell_type": "markdown",
   "id": "60872749-aa28-497b-be31-fd25d95ee963",
   "metadata": {},
   "source": [
    "### H. Reporting\n",
    "\n",
    "This section requires me to create a report using an industry-relevant interactive development enviroment but provides little guidance after that. As I have completed this task using Jupyter Notebook with appropriate formatting added, this document will act as my report."
   ]
  },
  {
   "cell_type": "markdown",
   "id": "4cf1f24a-88f0-4a5b-9f20-41f7ec80efad",
   "metadata": {},
   "source": [
    "### I. Sources for Third-Party Code\n",
    "\n",
    "Brownlee, Jason. (2021). *How to Use Word Embedding Layers for Deep Learning with Keras*. Machine Learning Mastery. https://machinelearningmastery.com/use-word-embedding-layers-deep-learning-keras/\n",
    "\n",
    "Stack Overflow. (n.d.). *Removing Emoji from a String in Python*. Stack Overflow. https://stackoverflow.com/questions/33404752/removing-emojis-from-a-string-in-python\n",
    "\n",
    "Western Governors University. (n.d.). *D213 Task 2 Data Preprocessing in Python*. WGU. [Video]. https://wgu.hosted.panopto.com/Panopto/Pages/Viewer.aspx?id=8639374a-964b-4ae9-b33b-b1210052c07d\n",
    "\n",
    "DataCamp. (n.d.). *https://app.datacamp.com/learn/courses/introduction-to-natural-language-processing-in-python*. DataCamp. https://app.datacamp.com/learn/courses/introduction-to-natural-language-processing-in-python\n",
    "\n",
    "Geeks for Geeks. (n.d.). *Removing stop words with NLTK in Python*.  Geeks for Geeks.  https://www.geeksforgeeks.org/removing-stop-words-nltk-python/\n",
    "\n",
    "Geeks for Geeks. (n.d.). *Introduction to NLTK: Tokenization, Stemming, Lemmatization, POS Tagging*. Geeks for Geeks. https://www.geeksforgeeks.org/introduction-to-nltk-tokenization-stemming-lemmatization-pos-tagging/?ref=lbp\n",
    "\n",
    "SkillC. (n.d.). *Sentiment Analysis with LSTM | Deep Learning with Keras | Neural Networks | Project#8*. YouTube. [Video]. https://www.youtube.com/watch?v=oWo9SNcyxlI\n",
    "\n",
    "TensorFlow (n.d.). *Understanding Masking and Padding*. TensorFlow. https://www.tensorflow.org/guide/keras/understanding_masking_and_padding\n",
    "\n",
    "Western Governors University. (n.d.). *D213 Task 2 Building NN Model in Python*. WGU. [Video]. https://wgu.hosted.panopto.com/Panopto/Pages/Viewer.aspx?id=1b9aff54-735f-456a-a6b4-b11b00eb8d2f\n",
    "\n",
    "Western Governors University. (n.d.). *D213 Webinar 6 SA*. WGU. [Video]. https://wgu.hosted.panopto.com/Panopto/Pages/Viewer.aspx?id=c3890312-a194-4f3a-b579-af8901300903"
   ]
  },
  {
   "cell_type": "markdown",
   "id": "34dfcfc5-be12-43a6-a445-bc1a8783a2f8",
   "metadata": {},
   "source": [
    "### J. Sources\n",
    "\n",
    "UC Irvine. (2015). *Sentiment Labelled Sentences*. UCI. https://archive.ics.uci.edu/dataset/331/sentiment+labelled+sentences\n",
    "\n",
    "Luay, Mohammad. (2023). *Sentiment Analysis using Recurrent Neural Network (RNN), Long Short Term Memory (LSTM) and Convolutional Neural Network (CNN) with Keras*. Medium. https://medium.com/@muhammadluay45/sentiment-analysis-using-recurrent-neural-network-rnn-long-short-term-memory-lstm-and-38d6e670173f\n",
    "\n",
    "Geeks for Geeks. (n.d.). *Word Embeddings in NLP*. Geeks for Geeks. https://www.geeksforgeeks.org/word-embeddings-in-nlp/?ref=previous_article\n",
    "\n",
    "Geeks for Geeks. (n.d.). *Introduction to NLTK: Tokenization, Stemming, Lemmatization, POS Tagging*. Geeks for Geeks. https://www.geeksforgeeks.org/introduction-to-nltk-tokenization-stemming-lemmatization-pos-tagging/?ref=lbp\n",
    "\n",
    "TensorFlow (n.d.). *Understanding Masking and Padding*. TensorFlow. https://www.tensorflow.org/guide/keras/understanding_masking_and_padding\n",
    "\n",
    "Geeks for Geeks. (n.d.). *Activation functions in Neural Networks*. Geeks for Geeks. https://www.geeksforgeeks.org/activation-functions-neural-networks/\n",
    "\n",
    "Brownlee, Jason. (2022). *Dropout Regularization in Deep Learning Models with Keras*. Machine Learning Mastery. https://machinelearningmastery.com/dropout-regularization-deep-learning-models-keras/\n",
    "\n",
    "Wisam, Essam, (2022). *Demystifying Recurrent Neural Network(RNNs)*. Towards Data Science. https://towardsdatascience.com/unriddling-rnns-with-depth-and-in-both-directions-9ed336c4b392#:~:text=Recurrent%20Neural%20Networks,-We%20can%20try&text=This%20means%20that%20when%20the,it%20in%20the%20same%20sequence.\n",
    "\n",
    "Brownlee, Jason. (2020). *How to Choose Loss Functions When Training Deep Learning Neural Networks*. Machine Learning Mastery. https://machinelearningmastery.com/how-to-choose-loss-functions-when-training-deep-learning-neural-networks/\n",
    "\n",
    "Brownlee, Jason. (2021). *Gentle Introduction to the Adam Optimization Algorithm for Deep Learning*. Machine Learning Mastery. https://machinelearningmastery.com/adam-optimization-algorithm-for-deep-learning/"
   ]
  },
  {
   "cell_type": "markdown",
   "id": "2f3356a6-59c4-4978-9345-d82d1d5b8f9d",
   "metadata": {},
   "source": [
    "### K. Professional Communication"
   ]
  },
  {
   "cell_type": "code",
   "execution_count": null,
   "id": "f9aa2aef-61e8-49eb-914b-7e49d95d1662",
   "metadata": {},
   "outputs": [],
   "source": []
  }
 ],
 "metadata": {
  "kernelspec": {
   "display_name": "Python 3 (ipykernel)",
   "language": "python",
   "name": "python3"
  },
  "language_info": {
   "codemirror_mode": {
    "name": "ipython",
    "version": 3
   },
   "file_extension": ".py",
   "mimetype": "text/x-python",
   "name": "python",
   "nbconvert_exporter": "python",
   "pygments_lexer": "ipython3",
   "version": "3.11.5"
  }
 },
 "nbformat": 4,
 "nbformat_minor": 5
}
