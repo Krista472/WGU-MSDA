{
 "cells": [
  {
   "cell_type": "markdown",
   "id": "450cc617-b9fd-4035-8d09-ba223ace75b2",
   "metadata": {},
   "source": [
    "D210 - Representation and Reporting"
   ]
  },
  {
   "cell_type": "markdown",
   "id": "1859469e-d864-4ae8-89cc-fcf689c1b34a",
   "metadata": {},
   "source": [
    "DMC Hospital Admissions Data"
   ]
  },
  {
   "cell_type": "code",
   "execution_count": 3,
   "id": "6016aa43-4371-462d-89d4-f1ff81f89ce9",
   "metadata": {},
   "outputs": [],
   "source": [
    "#import packages\n",
    "import pandas as pd\n",
    "import numpy as np\n",
    "import matplotlib.pyplot as plt\n",
    "import seaborn as sns"
   ]
  },
  {
   "cell_type": "code",
   "execution_count": 4,
   "id": "f2a99694-e329-443b-8953-3abf7ded159d",
   "metadata": {},
   "outputs": [],
   "source": [
    "#Load medical_clean CSV\n",
    "df_210=pd.read_csv('C:/Users/Kmoik WGU/Desktop/D210/HDHIAdmis.csv')"
   ]
  },
  {
   "cell_type": "code",
   "execution_count": 5,
   "id": "da99bd53-e613-431a-9dc6-677cc955d1a5",
   "metadata": {},
   "outputs": [
    {
     "data": {
      "text/html": [
       "<div>\n",
       "<style scoped>\n",
       "    .dataframe tbody tr th:only-of-type {\n",
       "        vertical-align: middle;\n",
       "    }\n",
       "\n",
       "    .dataframe tbody tr th {\n",
       "        vertical-align: top;\n",
       "    }\n",
       "\n",
       "    .dataframe thead th {\n",
       "        text-align: right;\n",
       "    }\n",
       "</style>\n",
       "<table border=\"1\" class=\"dataframe\">\n",
       "  <thead>\n",
       "    <tr style=\"text-align: right;\">\n",
       "      <th></th>\n",
       "      <th>SNO</th>\n",
       "      <th>MRD No.</th>\n",
       "      <th>D.O.A</th>\n",
       "      <th>D.O.D</th>\n",
       "      <th>AGE</th>\n",
       "      <th>GENDER</th>\n",
       "      <th>RURAL</th>\n",
       "      <th>TYPE OF ADMISSION-EMERGENCY/OPD</th>\n",
       "      <th>month year</th>\n",
       "      <th>DURATION OF STAY</th>\n",
       "      <th>...</th>\n",
       "      <th>CONGENITAL</th>\n",
       "      <th>UTI</th>\n",
       "      <th>NEURO CARDIOGENIC SYNCOPE</th>\n",
       "      <th>ORTHOSTATIC</th>\n",
       "      <th>INFECTIVE ENDOCARDITIS</th>\n",
       "      <th>DVT</th>\n",
       "      <th>CARDIOGENIC SHOCK</th>\n",
       "      <th>SHOCK</th>\n",
       "      <th>PULMONARY EMBOLISM</th>\n",
       "      <th>CHEST INFECTION</th>\n",
       "    </tr>\n",
       "  </thead>\n",
       "  <tbody>\n",
       "    <tr>\n",
       "      <th>0</th>\n",
       "      <td>1</td>\n",
       "      <td>234735</td>\n",
       "      <td>4/1/2017</td>\n",
       "      <td>4/3/2017</td>\n",
       "      <td>81</td>\n",
       "      <td>M</td>\n",
       "      <td>R</td>\n",
       "      <td>E</td>\n",
       "      <td>Apr-17</td>\n",
       "      <td>3</td>\n",
       "      <td>...</td>\n",
       "      <td>0</td>\n",
       "      <td>0</td>\n",
       "      <td>0</td>\n",
       "      <td>0</td>\n",
       "      <td>0</td>\n",
       "      <td>0</td>\n",
       "      <td>0</td>\n",
       "      <td>0</td>\n",
       "      <td>0</td>\n",
       "      <td>0</td>\n",
       "    </tr>\n",
       "    <tr>\n",
       "      <th>1</th>\n",
       "      <td>2</td>\n",
       "      <td>234696</td>\n",
       "      <td>4/1/2017</td>\n",
       "      <td>4/5/2017</td>\n",
       "      <td>65</td>\n",
       "      <td>M</td>\n",
       "      <td>R</td>\n",
       "      <td>E</td>\n",
       "      <td>Apr-17</td>\n",
       "      <td>5</td>\n",
       "      <td>...</td>\n",
       "      <td>0</td>\n",
       "      <td>0</td>\n",
       "      <td>0</td>\n",
       "      <td>0</td>\n",
       "      <td>0</td>\n",
       "      <td>0</td>\n",
       "      <td>0</td>\n",
       "      <td>0</td>\n",
       "      <td>0</td>\n",
       "      <td>0</td>\n",
       "    </tr>\n",
       "    <tr>\n",
       "      <th>2</th>\n",
       "      <td>3</td>\n",
       "      <td>234882</td>\n",
       "      <td>4/1/2017</td>\n",
       "      <td>4/3/2017</td>\n",
       "      <td>53</td>\n",
       "      <td>M</td>\n",
       "      <td>U</td>\n",
       "      <td>E</td>\n",
       "      <td>Apr-17</td>\n",
       "      <td>3</td>\n",
       "      <td>...</td>\n",
       "      <td>0</td>\n",
       "      <td>0</td>\n",
       "      <td>0</td>\n",
       "      <td>0</td>\n",
       "      <td>0</td>\n",
       "      <td>0</td>\n",
       "      <td>0</td>\n",
       "      <td>0</td>\n",
       "      <td>0</td>\n",
       "      <td>0</td>\n",
       "    </tr>\n",
       "    <tr>\n",
       "      <th>3</th>\n",
       "      <td>4</td>\n",
       "      <td>234635</td>\n",
       "      <td>4/1/2017</td>\n",
       "      <td>4/8/2017</td>\n",
       "      <td>67</td>\n",
       "      <td>F</td>\n",
       "      <td>U</td>\n",
       "      <td>E</td>\n",
       "      <td>Apr-17</td>\n",
       "      <td>8</td>\n",
       "      <td>...</td>\n",
       "      <td>0</td>\n",
       "      <td>0</td>\n",
       "      <td>0</td>\n",
       "      <td>0</td>\n",
       "      <td>0</td>\n",
       "      <td>0</td>\n",
       "      <td>0</td>\n",
       "      <td>0</td>\n",
       "      <td>0</td>\n",
       "      <td>0</td>\n",
       "    </tr>\n",
       "    <tr>\n",
       "      <th>4</th>\n",
       "      <td>5</td>\n",
       "      <td>234486</td>\n",
       "      <td>4/1/2017</td>\n",
       "      <td>4/23/2017</td>\n",
       "      <td>60</td>\n",
       "      <td>F</td>\n",
       "      <td>U</td>\n",
       "      <td>E</td>\n",
       "      <td>Apr-17</td>\n",
       "      <td>23</td>\n",
       "      <td>...</td>\n",
       "      <td>0</td>\n",
       "      <td>0</td>\n",
       "      <td>0</td>\n",
       "      <td>0</td>\n",
       "      <td>0</td>\n",
       "      <td>0</td>\n",
       "      <td>0</td>\n",
       "      <td>0</td>\n",
       "      <td>0</td>\n",
       "      <td>0</td>\n",
       "    </tr>\n",
       "  </tbody>\n",
       "</table>\n",
       "<p>5 rows × 56 columns</p>\n",
       "</div>"
      ],
      "text/plain": [
       "   SNO MRD No.     D.O.A      D.O.D  AGE GENDER RURAL  \\\n",
       "0    1  234735  4/1/2017   4/3/2017   81      M     R   \n",
       "1    2  234696  4/1/2017   4/5/2017   65      M     R   \n",
       "2    3  234882  4/1/2017   4/3/2017   53      M     U   \n",
       "3    4  234635  4/1/2017   4/8/2017   67      F     U   \n",
       "4    5  234486  4/1/2017  4/23/2017   60      F     U   \n",
       "\n",
       "  TYPE OF ADMISSION-EMERGENCY/OPD month year  DURATION OF STAY  ...  \\\n",
       "0                               E     Apr-17                 3  ...   \n",
       "1                               E     Apr-17                 5  ...   \n",
       "2                               E     Apr-17                 3  ...   \n",
       "3                               E     Apr-17                 8  ...   \n",
       "4                               E     Apr-17                23  ...   \n",
       "\n",
       "   CONGENITAL UTI  NEURO CARDIOGENIC SYNCOPE  ORTHOSTATIC  \\\n",
       "0           0   0                          0            0   \n",
       "1           0   0                          0            0   \n",
       "2           0   0                          0            0   \n",
       "3           0   0                          0            0   \n",
       "4           0   0                          0            0   \n",
       "\n",
       "   INFECTIVE ENDOCARDITIS  DVT  CARDIOGENIC SHOCK  SHOCK  PULMONARY EMBOLISM  \\\n",
       "0                       0    0                  0      0                   0   \n",
       "1                       0    0                  0      0                   0   \n",
       "2                       0    0                  0      0                   0   \n",
       "3                       0    0                  0      0                   0   \n",
       "4                       0    0                  0      0                   0   \n",
       "\n",
       "  CHEST INFECTION  \n",
       "0               0  \n",
       "1               0  \n",
       "2               0  \n",
       "3               0  \n",
       "4               0  \n",
       "\n",
       "[5 rows x 56 columns]"
      ]
     },
     "execution_count": 5,
     "metadata": {},
     "output_type": "execute_result"
    }
   ],
   "source": [
    "df_210.head()"
   ]
  },
  {
   "cell_type": "code",
   "execution_count": 6,
   "id": "a9ba3df4-6c7c-4c9e-807e-930b860d6c49",
   "metadata": {},
   "outputs": [
    {
     "name": "stdout",
     "output_type": "stream",
     "text": [
      "<class 'pandas.core.frame.DataFrame'>\n",
      "RangeIndex: 15757 entries, 0 to 15756\n",
      "Data columns (total 56 columns):\n",
      " #   Column                           Non-Null Count  Dtype \n",
      "---  ------                           --------------  ----- \n",
      " 0   SNO                              15757 non-null  int64 \n",
      " 1   MRD No.                          15757 non-null  object\n",
      " 2   D.O.A                            15757 non-null  object\n",
      " 3   D.O.D                            15757 non-null  object\n",
      " 4   AGE                              15757 non-null  int64 \n",
      " 5   GENDER                           15757 non-null  object\n",
      " 6   RURAL                            15757 non-null  object\n",
      " 7   TYPE OF ADMISSION-EMERGENCY/OPD  15757 non-null  object\n",
      " 8   month year                       15757 non-null  object\n",
      " 9   DURATION OF STAY                 15757 non-null  int64 \n",
      " 10  duration of intensive unit stay  15757 non-null  int64 \n",
      " 11  OUTCOME                          15757 non-null  object\n",
      " 12  SMOKING                          15757 non-null  int64 \n",
      " 13  ALCOHOL                          15757 non-null  int64 \n",
      " 14  DM                               15757 non-null  int64 \n",
      " 15  HTN                              15757 non-null  int64 \n",
      " 16  CAD                              15757 non-null  int64 \n",
      " 17  PRIOR CMP                        15757 non-null  int64 \n",
      " 18  CKD                              15757 non-null  int64 \n",
      " 19  HB                               15505 non-null  object\n",
      " 20  TLC                              15471 non-null  object\n",
      " 21  PLATELETS                        15472 non-null  object\n",
      " 22  GLUCOSE                          14894 non-null  object\n",
      " 23  UREA                             15516 non-null  object\n",
      " 24  CREATININE                       15510 non-null  object\n",
      " 25  BNP                              7316 non-null   object\n",
      " 26  RAISED CARDIAC ENZYMES           15757 non-null  int64 \n",
      " 27  EF                               14252 non-null  object\n",
      " 28  SEVERE ANAEMIA                   15757 non-null  int64 \n",
      " 29  ANAEMIA                          15757 non-null  int64 \n",
      " 30  STABLE ANGINA                    15757 non-null  int64 \n",
      " 31  ACS                              15757 non-null  int64 \n",
      " 32  STEMI                            15757 non-null  int64 \n",
      " 33  ATYPICAL CHEST PAIN              15757 non-null  int64 \n",
      " 34  HEART FAILURE                    15757 non-null  int64 \n",
      " 35  HFREF                            15757 non-null  int64 \n",
      " 36  HFNEF                            15757 non-null  int64 \n",
      " 37  VALVULAR                         15757 non-null  int64 \n",
      " 38  CHB                              15757 non-null  int64 \n",
      " 39  SSS                              15757 non-null  int64 \n",
      " 40  AKI                              15757 non-null  int64 \n",
      " 41  CVA INFRACT                      15757 non-null  int64 \n",
      " 42  CVA BLEED                        15757 non-null  int64 \n",
      " 43  AF                               15757 non-null  int64 \n",
      " 44  VT                               15757 non-null  int64 \n",
      " 45  PSVT                             15757 non-null  int64 \n",
      " 46  CONGENITAL                       15757 non-null  int64 \n",
      " 47  UTI                              15757 non-null  int64 \n",
      " 48  NEURO CARDIOGENIC SYNCOPE        15757 non-null  int64 \n",
      " 49  ORTHOSTATIC                      15757 non-null  int64 \n",
      " 50  INFECTIVE ENDOCARDITIS           15757 non-null  int64 \n",
      " 51  DVT                              15757 non-null  int64 \n",
      " 52  CARDIOGENIC SHOCK                15757 non-null  int64 \n",
      " 53  SHOCK                            15757 non-null  int64 \n",
      " 54  PULMONARY EMBOLISM               15757 non-null  int64 \n",
      " 55  CHEST INFECTION                  15757 non-null  object\n",
      "dtypes: int64(39), object(17)\n",
      "memory usage: 6.7+ MB\n"
     ]
    }
   ],
   "source": [
    "df_210.info()"
   ]
  },
  {
   "cell_type": "code",
   "execution_count": 7,
   "id": "7cc2b56c-60e4-4cc9-8320-0a404f2e72ee",
   "metadata": {},
   "outputs": [
    {
     "name": "stdout",
     "output_type": "stream",
     "text": [
      "False    15757\n",
      "Name: count, dtype: int64\n"
     ]
    }
   ],
   "source": [
    "#search for duplicates\n",
    "print(df_210.duplicated().value_counts())"
   ]
  },
  {
   "cell_type": "code",
   "execution_count": 8,
   "id": "49b81044-68e5-4f38-8d52-22cf38e79c08",
   "metadata": {},
   "outputs": [
    {
     "data": {
      "text/plain": [
       "SNO                                   0\n",
       "MRD No.                               0\n",
       "D.O.A                                 0\n",
       "D.O.D                                 0\n",
       "AGE                                   0\n",
       "GENDER                                0\n",
       "RURAL                                 0\n",
       "TYPE OF ADMISSION-EMERGENCY/OPD       0\n",
       "month year                            0\n",
       "DURATION OF STAY                      0\n",
       "duration of intensive unit stay       0\n",
       "OUTCOME                               0\n",
       "SMOKING                               0\n",
       "ALCOHOL                               0\n",
       "DM                                    0\n",
       "HTN                                   0\n",
       "CAD                                   0\n",
       "PRIOR CMP                             0\n",
       "CKD                                   0\n",
       "HB                                  252\n",
       "TLC                                 286\n",
       "PLATELETS                           285\n",
       "GLUCOSE                             863\n",
       "UREA                                241\n",
       "CREATININE                          247\n",
       "BNP                                8441\n",
       "RAISED CARDIAC ENZYMES                0\n",
       "EF                                 1505\n",
       "SEVERE ANAEMIA                        0\n",
       "ANAEMIA                               0\n",
       "STABLE ANGINA                         0\n",
       "ACS                                   0\n",
       "STEMI                                 0\n",
       "ATYPICAL CHEST PAIN                   0\n",
       "HEART FAILURE                         0\n",
       "HFREF                                 0\n",
       "HFNEF                                 0\n",
       "VALVULAR                              0\n",
       "CHB                                   0\n",
       "SSS                                   0\n",
       "AKI                                   0\n",
       "CVA INFRACT                           0\n",
       "CVA BLEED                             0\n",
       "AF                                    0\n",
       "VT                                    0\n",
       "PSVT                                  0\n",
       "CONGENITAL                            0\n",
       "UTI                                   0\n",
       "NEURO CARDIOGENIC SYNCOPE             0\n",
       "ORTHOSTATIC                           0\n",
       "INFECTIVE ENDOCARDITIS                0\n",
       "DVT                                   0\n",
       "CARDIOGENIC SHOCK                     0\n",
       "SHOCK                                 0\n",
       "PULMONARY EMBOLISM                    0\n",
       "CHEST INFECTION                       0\n",
       "dtype: int64"
      ]
     },
     "execution_count": 8,
     "metadata": {},
     "output_type": "execute_result"
    }
   ],
   "source": [
    "#check for null values - even though view of data indicates no nulls\n",
    "df_210.isnull().sum()"
   ]
  },
  {
   "cell_type": "markdown",
   "id": "2554414d-9e01-4ac4-a67b-22bb6eb6b061",
   "metadata": {},
   "source": [
    "As the null values are not in any corresponding values in the WGU medical_clean data set, I will just uniformly drop them"
   ]
  },
  {
   "cell_type": "code",
   "execution_count": 9,
   "id": "3b75d521-ad30-4cdd-80a9-11fc37b80273",
   "metadata": {},
   "outputs": [],
   "source": [
    "#drop nulls\n",
    "df_210.dropna(inplace=True)"
   ]
  },
  {
   "cell_type": "code",
   "execution_count": 10,
   "id": "1b3d7500-f0f9-45c2-bc28-aa0af5b3b239",
   "metadata": {},
   "outputs": [
    {
     "data": {
      "text/plain": [
       "SNO                                0\n",
       "MRD No.                            0\n",
       "D.O.A                              0\n",
       "D.O.D                              0\n",
       "AGE                                0\n",
       "GENDER                             0\n",
       "RURAL                              0\n",
       "TYPE OF ADMISSION-EMERGENCY/OPD    0\n",
       "month year                         0\n",
       "DURATION OF STAY                   0\n",
       "duration of intensive unit stay    0\n",
       "OUTCOME                            0\n",
       "SMOKING                            0\n",
       "ALCOHOL                            0\n",
       "DM                                 0\n",
       "HTN                                0\n",
       "CAD                                0\n",
       "PRIOR CMP                          0\n",
       "CKD                                0\n",
       "HB                                 0\n",
       "TLC                                0\n",
       "PLATELETS                          0\n",
       "GLUCOSE                            0\n",
       "UREA                               0\n",
       "CREATININE                         0\n",
       "BNP                                0\n",
       "RAISED CARDIAC ENZYMES             0\n",
       "EF                                 0\n",
       "SEVERE ANAEMIA                     0\n",
       "ANAEMIA                            0\n",
       "STABLE ANGINA                      0\n",
       "ACS                                0\n",
       "STEMI                              0\n",
       "ATYPICAL CHEST PAIN                0\n",
       "HEART FAILURE                      0\n",
       "HFREF                              0\n",
       "HFNEF                              0\n",
       "VALVULAR                           0\n",
       "CHB                                0\n",
       "SSS                                0\n",
       "AKI                                0\n",
       "CVA INFRACT                        0\n",
       "CVA BLEED                          0\n",
       "AF                                 0\n",
       "VT                                 0\n",
       "PSVT                               0\n",
       "CONGENITAL                         0\n",
       "UTI                                0\n",
       "NEURO CARDIOGENIC SYNCOPE          0\n",
       "ORTHOSTATIC                        0\n",
       "INFECTIVE ENDOCARDITIS             0\n",
       "DVT                                0\n",
       "CARDIOGENIC SHOCK                  0\n",
       "SHOCK                              0\n",
       "PULMONARY EMBOLISM                 0\n",
       "CHEST INFECTION                    0\n",
       "dtype: int64"
      ]
     },
     "execution_count": 10,
     "metadata": {},
     "output_type": "execute_result"
    }
   ],
   "source": [
    "df_210.isnull().sum()"
   ]
  },
  {
   "cell_type": "code",
   "execution_count": 11,
   "id": "81f620ee-5c92-4e33-8fae-6087816c712e",
   "metadata": {},
   "outputs": [],
   "source": [
    "#create new data set with select features\n",
    "new_210=df_210[['AGE', 'GENDER', 'RURAL', 'TYPE OF ADMISSION-EMERGENCY/OPD', 'DURATION OF STAY']]"
   ]
  },
  {
   "cell_type": "code",
   "execution_count": 12,
   "id": "f8514325-2a72-4292-a7f7-2ee6e6b12b66",
   "metadata": {},
   "outputs": [
    {
     "name": "stdout",
     "output_type": "stream",
     "text": [
      "<class 'pandas.core.frame.DataFrame'>\n",
      "Index: 6561 entries, 0 to 15756\n",
      "Data columns (total 5 columns):\n",
      " #   Column                           Non-Null Count  Dtype \n",
      "---  ------                           --------------  ----- \n",
      " 0   AGE                              6561 non-null   int64 \n",
      " 1   GENDER                           6561 non-null   object\n",
      " 2   RURAL                            6561 non-null   object\n",
      " 3   TYPE OF ADMISSION-EMERGENCY/OPD  6561 non-null   object\n",
      " 4   DURATION OF STAY                 6561 non-null   int64 \n",
      "dtypes: int64(2), object(3)\n",
      "memory usage: 307.5+ KB\n"
     ]
    }
   ],
   "source": [
    "new_210.info()"
   ]
  },
  {
   "cell_type": "code",
   "execution_count": 13,
   "id": "9fa82dee-6a1a-4047-9f2b-efd85803ebf7",
   "metadata": {},
   "outputs": [
    {
     "name": "stderr",
     "output_type": "stream",
     "text": [
      "C:\\Users\\Kmoik WGU\\AppData\\Local\\Temp\\ipykernel_8384\\789317960.py:2: SettingWithCopyWarning: \n",
      "A value is trying to be set on a copy of a slice from a DataFrame\n",
      "\n",
      "See the caveats in the documentation: https://pandas.pydata.org/pandas-docs/stable/user_guide/indexing.html#returning-a-view-versus-a-copy\n",
      "  new_210.rename(columns={'TYPE OF ADMISSION-EMERGENCY/OPD' : 'Initial_admin', 'DURATION OF STAY' : 'Initial_days', 'AGE' : 'Age', 'GENDER' : 'Gender', 'RURAL' : 'Area'}, inplace=True)\n"
     ]
    }
   ],
   "source": [
    "#rename columns\n",
    "new_210.rename(columns={'TYPE OF ADMISSION-EMERGENCY/OPD' : 'Initial_admin', 'DURATION OF STAY' : 'Initial_days', 'AGE' : 'Age', 'GENDER' : 'Gender', 'RURAL' : 'Area'}, inplace=True)"
   ]
  },
  {
   "cell_type": "code",
   "execution_count": 51,
   "id": "e95813da-45c8-4850-8809-1682fef6769f",
   "metadata": {},
   "outputs": [],
   "source": [
    "#rename variables in Gender\n",
    "new_df=new_210.replace({'M': 'Male', 'F': 'Female', 'E':'Emergency', 'R':'Rural', 'U':'Urban'})"
   ]
  },
  {
   "cell_type": "code",
   "execution_count": 52,
   "id": "c667e459-a0e5-452c-b643-0904cd1591d9",
   "metadata": {},
   "outputs": [
    {
     "name": "stdout",
     "output_type": "stream",
     "text": [
      "<class 'pandas.core.frame.DataFrame'>\n",
      "Index: 6561 entries, 0 to 15756\n",
      "Data columns (total 5 columns):\n",
      " #   Column         Non-Null Count  Dtype \n",
      "---  ------         --------------  ----- \n",
      " 0   Age            6561 non-null   int64 \n",
      " 1   Gender         6561 non-null   object\n",
      " 2   Area           6561 non-null   object\n",
      " 3   Initial_admin  6561 non-null   object\n",
      " 4   Initial_days   6561 non-null   int64 \n",
      "dtypes: int64(2), object(3)\n",
      "memory usage: 307.5+ KB\n"
     ]
    }
   ],
   "source": [
    "new_df.info()"
   ]
  },
  {
   "cell_type": "markdown",
   "id": "a33f9d7c-28d5-4e16-bdd4-5446d0bac57d",
   "metadata": {},
   "source": [
    "Visualize data"
   ]
  },
  {
   "cell_type": "code",
   "execution_count": 35,
   "id": "326ca38f-ae3e-4a92-977e-f9f3b087b2b1",
   "metadata": {},
   "outputs": [
    {
     "data": {
      "text/plain": [
       "<Axes: xlabel='Age'>"
      ]
     },
     "execution_count": 35,
     "metadata": {},
     "output_type": "execute_result"
    },
    {
     "data": {
      "image/png": "[encoded data removed]",
      "text/plain": [
       "<Figure size 640x480 with 1 Axes>"
      ]
     },
     "metadata": {},
     "output_type": "display_data"
    }
   ],
   "source": [
    "sns.boxplot(new_df, x='Age')"
   ]
  },
  {
   "cell_type": "code",
   "execution_count": 36,
   "id": "07bbbf4b-e399-402e-b1e3-9915b31268b2",
   "metadata": {},
   "outputs": [
    {
     "data": {
      "text/plain": [
       "count    6561.000000\n",
       "mean       63.540009\n",
       "std        12.990649\n",
       "min         4.000000\n",
       "25%        56.000000\n",
       "50%        65.000000\n",
       "75%        72.000000\n",
       "max       110.000000\n",
       "Name: Age, dtype: float64"
      ]
     },
     "execution_count": 36,
     "metadata": {},
     "output_type": "execute_result"
    }
   ],
   "source": [
    "new_df.Age.describe()"
   ]
  },
  {
   "cell_type": "code",
   "execution_count": 37,
   "id": "9386b95c-b0a7-4b6d-9596-c27f9c26d84e",
   "metadata": {},
   "outputs": [
    {
     "data": {
      "text/plain": [
       "<Axes: xlabel='Initial_days'>"
      ]
     },
     "execution_count": 37,
     "metadata": {},
     "output_type": "execute_result"
    },
    {
     "data": {
      "image/png": "[encoded data removed]",
      "text/plain": [
       "<Figure size 640x480 with 1 Axes>"
      ]
     },
     "metadata": {},
     "output_type": "display_data"
    }
   ],
   "source": [
    "sns.boxplot(new_df, x='Initial_days')"
   ]
  },
  {
   "cell_type": "code",
   "execution_count": 38,
   "id": "bd3e139f-c3fe-4b46-b95f-bcc7ebc30f51",
   "metadata": {},
   "outputs": [
    {
     "data": {
      "text/plain": [
       "count    6561.000000\n",
       "mean        7.433623\n",
       "std         5.257911\n",
       "min         1.000000\n",
       "25%         4.000000\n",
       "50%         6.000000\n",
       "75%         9.000000\n",
       "max        98.000000\n",
       "Name: Initial_days, dtype: float64"
      ]
     },
     "execution_count": 38,
     "metadata": {},
     "output_type": "execute_result"
    }
   ],
   "source": [
    "new_df.Initial_days.describe()"
   ]
  },
  {
   "cell_type": "code",
   "execution_count": 39,
   "id": "19a12b24-f6cf-4aef-88c7-e48003c055cf",
   "metadata": {},
   "outputs": [
    {
     "data": {
      "text/plain": [
       "<function matplotlib.pyplot.show(close=None, block=None)>"
      ]
     },
     "execution_count": 39,
     "metadata": {},
     "output_type": "execute_result"
    },
    {
     "data": {
      "image/png": "[encoded data removed]",
      "text/plain": [
       "<Figure size 640x480 with 1 Axes>"
      ]
     },
     "metadata": {},
     "output_type": "display_data"
    }
   ],
   "source": [
    "plt.hist(new_df['Gender'])\n",
    "plt.show"
   ]
  },
  {
   "cell_type": "code",
   "execution_count": 40,
   "id": "fa9af06c-e157-48b0-851d-bb8627c39d47",
   "metadata": {},
   "outputs": [
    {
     "data": {
      "text/plain": [
       "count     6561\n",
       "unique       2\n",
       "top       Male\n",
       "freq      4005\n",
       "Name: Gender, dtype: object"
      ]
     },
     "execution_count": 40,
     "metadata": {},
     "output_type": "execute_result"
    }
   ],
   "source": [
    "new_df.Gender.describe()"
   ]
  },
  {
   "cell_type": "code",
   "execution_count": 54,
   "id": "04f57da7-1151-4b4e-8a2d-9211f48ef4a0",
   "metadata": {},
   "outputs": [
    {
     "data": {
      "text/plain": [
       "<function matplotlib.pyplot.show(close=None, block=None)>"
      ]
     },
     "execution_count": 54,
     "metadata": {},
     "output_type": "execute_result"
    },
    {
     "data": {
      "image/png": "[encoded data removed]",
      "text/plain": [
       "<Figure size 640x480 with 1 Axes>"
      ]
     },
     "metadata": {},
     "output_type": "display_data"
    }
   ],
   "source": [
    "plt.hist(new_df['Area'])\n",
    "plt.show"
   ]
  },
  {
   "cell_type": "code",
   "execution_count": 53,
   "id": "697f7df9-a4c7-435b-b45f-eb27b69e22b1",
   "metadata": {},
   "outputs": [
    {
     "data": {
      "text/plain": [
       "count      6561\n",
       "unique        2\n",
       "top       Urban\n",
       "freq       5155\n",
       "Name: Area, dtype: object"
      ]
     },
     "execution_count": 53,
     "metadata": {},
     "output_type": "execute_result"
    }
   ],
   "source": [
    "new_df.Area.describe()"
   ]
  },
  {
   "cell_type": "code",
   "execution_count": 46,
   "id": "8470ee67-91c3-4eba-8c4d-8fc04d03b2e5",
   "metadata": {},
   "outputs": [
    {
     "data": {
      "text/plain": [
       "<function matplotlib.pyplot.show(close=None, block=None)>"
      ]
     },
     "execution_count": 46,
     "metadata": {},
     "output_type": "execute_result"
    },
    {
     "data": {
      "image/png": "[encoded data removed]",
      "text/plain": [
       "<Figure size 640x480 with 1 Axes>"
      ]
     },
     "metadata": {},
     "output_type": "display_data"
    }
   ],
   "source": [
    "plt.hist(new_df['Initial_admin'])\n",
    "plt.show"
   ]
  },
  {
   "cell_type": "code",
   "execution_count": 47,
   "id": "a8828180-002f-4373-9ecb-d6be59543c6b",
   "metadata": {},
   "outputs": [
    {
     "data": {
      "text/plain": [
       "count          6561\n",
       "unique            2\n",
       "top       Emergency\n",
       "freq           5086\n",
       "Name: Initial_admin, dtype: object"
      ]
     },
     "execution_count": 47,
     "metadata": {},
     "output_type": "execute_result"
    }
   ],
   "source": [
    "new_df.Initial_admin.describe()"
   ]
  },
  {
   "cell_type": "code",
   "execution_count": 49,
   "id": "61df300d-8fa9-4dd0-b1bd-b606a96c52a0",
   "metadata": {},
   "outputs": [
    {
     "name": "stdout",
     "output_type": "stream",
     "text": [
      "(6561, 5)\n"
     ]
    }
   ],
   "source": [
    "print(new_df.shape)"
   ]
  },
  {
   "cell_type": "code",
   "execution_count": 50,
   "id": "6255c519-a3e7-46ef-92c0-a89c68977cc4",
   "metadata": {},
   "outputs": [],
   "source": [
    "#save to CSV\n",
    "new_df.to_csv('C:/Users/Kmoik WGU/Desktop/KMoikD210_DMC.csv')"
   ]
  },
  {
   "cell_type": "code",
   "execution_count": null,
   "id": "cc7fd006-2a09-43b6-97c5-dceb7961f314",
   "metadata": {},
   "outputs": [],
   "source": []
  }
 ],
 "metadata": {
  "kernelspec": {
   "display_name": "Python 3 (ipykernel)",
   "language": "python",
   "name": "python3"
  },
  "language_info": {
   "codemirror_mode": {
    "name": "ipython",
    "version": 3
   },
   "file_extension": ".py",
   "mimetype": "text/x-python",
   "name": "python",
   "nbconvert_exporter": "python",
   "pygments_lexer": "ipython3",
   "version": "3.11.5"
  }
 },
 "nbformat": 4,
 "nbformat_minor": 5
}
